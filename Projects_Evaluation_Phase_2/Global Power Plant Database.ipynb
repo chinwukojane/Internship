{
 "cells": [
  {
   "cell_type": "markdown",
   "id": "b07382c6",
   "metadata": {},
   "source": [
    "# Jane Chinwuko\n",
    "# Batch number: DS2307"
   ]
  },
  {
   "cell_type": "markdown",
   "id": "39f682cd",
   "metadata": {},
   "source": [
    "### Project Description\n",
    "The Global Power Plant Database is a comprehensive, open source database of power plants around the world. It centralizes power plant data to make it easier to navigate, compare and draw insights for one’s own analysis. The database covers approximately 35,000 power plants from 167 countries and includes thermal plants (e.g. coal, gas, oil, nuclear, biomass, waste, geothermal) and renewables (e.g. hydro, wind, solar). Each power plant is geolocated and entries contain information on plant capacity, generation, ownership, and fuel type. It will be continuously updated as data becomes available.\n",
    "\n",
    "### Key attributes of the database\n",
    "The database includes the following indicators:\n",
    "\n",
    "##### •\t`country` (text): 3 character country code corresponding to the ISO 3166-1 alpha-3 specification [5]\n",
    "##### •\t`country_long` (text): longer form of the country designation\n",
    "##### •\t`name` (text): name or title of the power plant, generally in Romanized form\n",
    "##### •\t`gppd_idnr` (text): 10 or 12 character identifier for the power plant\n",
    "##### •\t`capacity_mw` (number): electrical generating capacity in megawatts\n",
    "##### •\t`latitude` (number): geolocation in decimal degrees; WGS84 (EPSG:4326)\n",
    "##### •\t`longitude` (number): geolocation in decimal degrees; WGS84 (EPSG:4326)\n",
    "##### •\t`primary_fuel` (text): energy source used in primary electricity generation or export\n",
    "##### •\t`other_fuel1` (text): energy source used in electricity generation or export\n",
    "##### •\t`other_fuel2` (text): energy source used in electricity generation or export\n",
    "##### •\t`other_fuel3` (text): energy source used in electricity generation or export\n",
    "##### •\t `commissioning_year` (number): year of plant operation, weighted by unit-capacity when data is available\n",
    "##### •\t`owner` (text): majority shareholder of the power plant, generally in Romanized form\n",
    "##### •\t`source` (text): entity reporting the data; could be an organization, report, or document, generally in Romanized form\n",
    "##### •\t`url` (text): web document corresponding to the `source` field\n",
    "##### •\t`geolocation_source` (text): attribution for geolocation information\n",
    "##### •\t`wepp_id` (text): a reference to a unique plant identifier in the widely-used PLATTS-WEPP database.\n",
    "##### •\t`year_of_capacity_data` (number): year the capacity information was reported\n",
    "##### •\t`generation_gwh_2013` (number): electricity generation in gigawatt-hours reported for the year 2013\n",
    "##### •\t`generation_gwh_2014` (number): electricity generation in gigawatt-hours reported for the year 2014\n",
    "##### •\t`generation_gwh_2015` (number): electricity generation in gigawatt-hours reported for the year 2015\n",
    "##### •\t`generation_gwh_2016` (number): electricity generation in gigawatt-hours reported for the year 2016\n",
    "##### •\t`generation_gwh_2017` (number): electricity generation in gigawatt-hours reported for the year 2017\n",
    "##### •\t`generation_gwh_2018` (number): electricity generation in gigawatt-hours reported for the year 2018\n",
    "##### •\t`generation_gwh_2019` (number): electricity generation in gigawatt-hours reported for the year 2019\n",
    "##### •\t`generation_data_source` (text): attribution for the reported generation information\n",
    "##### •\t`estimated_generation_gwh: estimated electricity generation in gigawatt-hours\n",
    "\n"
   ]
  },
  {
   "cell_type": "code",
   "execution_count": 2,
   "id": "784a2de4",
   "metadata": {},
   "outputs": [],
   "source": [
    "# Imported necessary libraries\n",
    "import numpy as np\n",
    "import pandas as pd\n",
    "import matplotlib.pyplot as plt\n",
    "import seaborn as sns\n",
    "from sklearn.tree import DecisionTreeClassifier\n",
    "from sklearn.ensemble import GradientBoostingRegressor\n",
    "from sklearn.ensemble import AdaBoostRegressor\n",
    "from sklearn.linear_model import Ridge\n",
    "from sklearn.ensemble import RandomForestRegressor\n",
    "from sklearn.ensemble import RandomForestClassifier\n",
    "from sklearn.ensemble import AdaBoostClassifier\n",
    "from sklearn.ensemble import GradientBoostingClassifier\n",
    "from sklearn.naive_bayes import GaussianNB\n",
    "from sklearn.metrics import accuracy_score\n",
    "from imblearn.over_sampling import SMOTE\n",
    "from sklearn.model_selection import train_test_split\n",
    "from sklearn.metrics import accuracy_score, classification_report, roc_curve, roc_auc_score, auc\n",
    "from sklearn.metrics import confusion_matrix, classification_report, accuracy_score, precision_score, recall_score, f1_score\n",
    "from sklearn.model_selection import cross_val_score\n",
    "from sklearn.model_selection import GridSearchCV\n",
    "from sklearn.preprocessing import LabelEncoder\n",
    "from sklearn import metrics"
   ]
  },
  {
   "cell_type": "code",
   "execution_count": 4,
   "id": "1a8cad96",
   "metadata": {},
   "outputs": [],
   "source": [
    "#loaded the dataset to a Pandas DataFrame\n",
    "power_plant = pd.read_csv('database_IND.csv')"
   ]
  },
  {
   "cell_type": "markdown",
   "id": "7fc94bd8",
   "metadata": {},
   "source": [
    "## Exploratory Data Analysis"
   ]
  },
  {
   "cell_type": "code",
   "execution_count": 5,
   "id": "075e13bb",
   "metadata": {},
   "outputs": [
    {
     "data": {
      "text/html": [
       "<div>\n",
       "<style scoped>\n",
       "    .dataframe tbody tr th:only-of-type {\n",
       "        vertical-align: middle;\n",
       "    }\n",
       "\n",
       "    .dataframe tbody tr th {\n",
       "        vertical-align: top;\n",
       "    }\n",
       "\n",
       "    .dataframe thead th {\n",
       "        text-align: right;\n",
       "    }\n",
       "</style>\n",
       "<table border=\"1\" class=\"dataframe\">\n",
       "  <thead>\n",
       "    <tr style=\"text-align: right;\">\n",
       "      <th></th>\n",
       "      <th>country</th>\n",
       "      <th>country_long</th>\n",
       "      <th>name</th>\n",
       "      <th>gppd_idnr</th>\n",
       "      <th>capacity_mw</th>\n",
       "      <th>latitude</th>\n",
       "      <th>longitude</th>\n",
       "      <th>primary_fuel</th>\n",
       "      <th>other_fuel1</th>\n",
       "      <th>other_fuel2</th>\n",
       "      <th>...</th>\n",
       "      <th>year_of_capacity_data</th>\n",
       "      <th>generation_gwh_2013</th>\n",
       "      <th>generation_gwh_2014</th>\n",
       "      <th>generation_gwh_2015</th>\n",
       "      <th>generation_gwh_2016</th>\n",
       "      <th>generation_gwh_2017</th>\n",
       "      <th>generation_gwh_2018</th>\n",
       "      <th>generation_gwh_2019</th>\n",
       "      <th>generation_data_source</th>\n",
       "      <th>estimated_generation_gwh</th>\n",
       "    </tr>\n",
       "  </thead>\n",
       "  <tbody>\n",
       "    <tr>\n",
       "      <th>0</th>\n",
       "      <td>IND</td>\n",
       "      <td>India</td>\n",
       "      <td>ACME Solar Tower</td>\n",
       "      <td>WRI1020239</td>\n",
       "      <td>2.5</td>\n",
       "      <td>28.1839</td>\n",
       "      <td>73.2407</td>\n",
       "      <td>Solar</td>\n",
       "      <td>NaN</td>\n",
       "      <td>NaN</td>\n",
       "      <td>...</td>\n",
       "      <td>NaN</td>\n",
       "      <td>NaN</td>\n",
       "      <td>NaN</td>\n",
       "      <td>NaN</td>\n",
       "      <td>NaN</td>\n",
       "      <td>NaN</td>\n",
       "      <td>NaN</td>\n",
       "      <td>NaN</td>\n",
       "      <td>NaN</td>\n",
       "      <td>NaN</td>\n",
       "    </tr>\n",
       "    <tr>\n",
       "      <th>1</th>\n",
       "      <td>IND</td>\n",
       "      <td>India</td>\n",
       "      <td>ADITYA CEMENT WORKS</td>\n",
       "      <td>WRI1019881</td>\n",
       "      <td>98.0</td>\n",
       "      <td>24.7663</td>\n",
       "      <td>74.6090</td>\n",
       "      <td>Coal</td>\n",
       "      <td>NaN</td>\n",
       "      <td>NaN</td>\n",
       "      <td>...</td>\n",
       "      <td>NaN</td>\n",
       "      <td>NaN</td>\n",
       "      <td>NaN</td>\n",
       "      <td>NaN</td>\n",
       "      <td>NaN</td>\n",
       "      <td>NaN</td>\n",
       "      <td>NaN</td>\n",
       "      <td>NaN</td>\n",
       "      <td>NaN</td>\n",
       "      <td>NaN</td>\n",
       "    </tr>\n",
       "    <tr>\n",
       "      <th>2</th>\n",
       "      <td>IND</td>\n",
       "      <td>India</td>\n",
       "      <td>AES Saurashtra Windfarms</td>\n",
       "      <td>WRI1026669</td>\n",
       "      <td>39.2</td>\n",
       "      <td>21.9038</td>\n",
       "      <td>69.3732</td>\n",
       "      <td>Wind</td>\n",
       "      <td>NaN</td>\n",
       "      <td>NaN</td>\n",
       "      <td>...</td>\n",
       "      <td>NaN</td>\n",
       "      <td>NaN</td>\n",
       "      <td>NaN</td>\n",
       "      <td>NaN</td>\n",
       "      <td>NaN</td>\n",
       "      <td>NaN</td>\n",
       "      <td>NaN</td>\n",
       "      <td>NaN</td>\n",
       "      <td>NaN</td>\n",
       "      <td>NaN</td>\n",
       "    </tr>\n",
       "    <tr>\n",
       "      <th>3</th>\n",
       "      <td>IND</td>\n",
       "      <td>India</td>\n",
       "      <td>AGARTALA GT</td>\n",
       "      <td>IND0000001</td>\n",
       "      <td>135.0</td>\n",
       "      <td>23.8712</td>\n",
       "      <td>91.3602</td>\n",
       "      <td>Gas</td>\n",
       "      <td>NaN</td>\n",
       "      <td>NaN</td>\n",
       "      <td>...</td>\n",
       "      <td>2019.0</td>\n",
       "      <td>NaN</td>\n",
       "      <td>617.789264</td>\n",
       "      <td>843.7470</td>\n",
       "      <td>886.004428</td>\n",
       "      <td>663.774500</td>\n",
       "      <td>626.239128</td>\n",
       "      <td>NaN</td>\n",
       "      <td>Central Electricity Authority</td>\n",
       "      <td>NaN</td>\n",
       "    </tr>\n",
       "    <tr>\n",
       "      <th>4</th>\n",
       "      <td>IND</td>\n",
       "      <td>India</td>\n",
       "      <td>AKALTARA TPP</td>\n",
       "      <td>IND0000002</td>\n",
       "      <td>1800.0</td>\n",
       "      <td>21.9603</td>\n",
       "      <td>82.4091</td>\n",
       "      <td>Coal</td>\n",
       "      <td>Oil</td>\n",
       "      <td>NaN</td>\n",
       "      <td>...</td>\n",
       "      <td>2019.0</td>\n",
       "      <td>NaN</td>\n",
       "      <td>3035.550000</td>\n",
       "      <td>5916.3700</td>\n",
       "      <td>6243.000000</td>\n",
       "      <td>5385.579736</td>\n",
       "      <td>7279.000000</td>\n",
       "      <td>NaN</td>\n",
       "      <td>Central Electricity Authority</td>\n",
       "      <td>NaN</td>\n",
       "    </tr>\n",
       "    <tr>\n",
       "      <th>5</th>\n",
       "      <td>IND</td>\n",
       "      <td>India</td>\n",
       "      <td>AKRIMOTA LIG</td>\n",
       "      <td>IND0000003</td>\n",
       "      <td>250.0</td>\n",
       "      <td>23.7689</td>\n",
       "      <td>68.6447</td>\n",
       "      <td>Coal</td>\n",
       "      <td>Oil</td>\n",
       "      <td>NaN</td>\n",
       "      <td>...</td>\n",
       "      <td>2019.0</td>\n",
       "      <td>NaN</td>\n",
       "      <td>1153.421000</td>\n",
       "      <td>1208.8520</td>\n",
       "      <td>1175.765000</td>\n",
       "      <td>1147.913000</td>\n",
       "      <td>976.655000</td>\n",
       "      <td>NaN</td>\n",
       "      <td>Central Electricity Authority</td>\n",
       "      <td>NaN</td>\n",
       "    </tr>\n",
       "    <tr>\n",
       "      <th>6</th>\n",
       "      <td>IND</td>\n",
       "      <td>India</td>\n",
       "      <td>ALIYAR</td>\n",
       "      <td>IND0000004</td>\n",
       "      <td>60.0</td>\n",
       "      <td>10.4547</td>\n",
       "      <td>77.0078</td>\n",
       "      <td>Hydro</td>\n",
       "      <td>NaN</td>\n",
       "      <td>NaN</td>\n",
       "      <td>...</td>\n",
       "      <td>2019.0</td>\n",
       "      <td>NaN</td>\n",
       "      <td>157.558250</td>\n",
       "      <td>152.1952</td>\n",
       "      <td>61.421350</td>\n",
       "      <td>89.629600</td>\n",
       "      <td>48.327150</td>\n",
       "      <td>NaN</td>\n",
       "      <td>Central Electricity Authority</td>\n",
       "      <td>NaN</td>\n",
       "    </tr>\n",
       "    <tr>\n",
       "      <th>7</th>\n",
       "      <td>IND</td>\n",
       "      <td>India</td>\n",
       "      <td>ALLAIN DUHANGAN</td>\n",
       "      <td>IND0000005</td>\n",
       "      <td>192.0</td>\n",
       "      <td>32.2258</td>\n",
       "      <td>77.2070</td>\n",
       "      <td>Hydro</td>\n",
       "      <td>NaN</td>\n",
       "      <td>NaN</td>\n",
       "      <td>...</td>\n",
       "      <td>2019.0</td>\n",
       "      <td>NaN</td>\n",
       "      <td>674.391100</td>\n",
       "      <td>721.3352</td>\n",
       "      <td>675.724400</td>\n",
       "      <td>679.594950</td>\n",
       "      <td>579.318850</td>\n",
       "      <td>NaN</td>\n",
       "      <td>Central Electricity Authority</td>\n",
       "      <td>NaN</td>\n",
       "    </tr>\n",
       "    <tr>\n",
       "      <th>8</th>\n",
       "      <td>IND</td>\n",
       "      <td>India</td>\n",
       "      <td>ALMATTI DAM</td>\n",
       "      <td>IND0000006</td>\n",
       "      <td>290.0</td>\n",
       "      <td>16.3300</td>\n",
       "      <td>75.8863</td>\n",
       "      <td>Hydro</td>\n",
       "      <td>NaN</td>\n",
       "      <td>NaN</td>\n",
       "      <td>...</td>\n",
       "      <td>2019.0</td>\n",
       "      <td>NaN</td>\n",
       "      <td>480.594950</td>\n",
       "      <td>144.4342</td>\n",
       "      <td>402.029750</td>\n",
       "      <td>439.372100</td>\n",
       "      <td>406.377900</td>\n",
       "      <td>NaN</td>\n",
       "      <td>Central Electricity Authority</td>\n",
       "      <td>NaN</td>\n",
       "    </tr>\n",
       "    <tr>\n",
       "      <th>9</th>\n",
       "      <td>IND</td>\n",
       "      <td>India</td>\n",
       "      <td>AMAR KANTAK</td>\n",
       "      <td>IND0000007</td>\n",
       "      <td>210.0</td>\n",
       "      <td>23.1642</td>\n",
       "      <td>81.6373</td>\n",
       "      <td>Coal</td>\n",
       "      <td>Oil</td>\n",
       "      <td>NaN</td>\n",
       "      <td>...</td>\n",
       "      <td>2019.0</td>\n",
       "      <td>NaN</td>\n",
       "      <td>1887.904000</td>\n",
       "      <td>1643.0460</td>\n",
       "      <td>1338.093000</td>\n",
       "      <td>1563.457000</td>\n",
       "      <td>1487.880000</td>\n",
       "      <td>NaN</td>\n",
       "      <td>Central Electricity Authority</td>\n",
       "      <td>NaN</td>\n",
       "    </tr>\n",
       "  </tbody>\n",
       "</table>\n",
       "<p>10 rows × 27 columns</p>\n",
       "</div>"
      ],
      "text/plain": [
       "  country country_long                      name   gppd_idnr  capacity_mw  \\\n",
       "0     IND        India          ACME Solar Tower  WRI1020239          2.5   \n",
       "1     IND        India       ADITYA CEMENT WORKS  WRI1019881         98.0   \n",
       "2     IND        India  AES Saurashtra Windfarms  WRI1026669         39.2   \n",
       "3     IND        India               AGARTALA GT  IND0000001        135.0   \n",
       "4     IND        India              AKALTARA TPP  IND0000002       1800.0   \n",
       "5     IND        India              AKRIMOTA LIG  IND0000003        250.0   \n",
       "6     IND        India                    ALIYAR  IND0000004         60.0   \n",
       "7     IND        India           ALLAIN DUHANGAN  IND0000005        192.0   \n",
       "8     IND        India               ALMATTI DAM  IND0000006        290.0   \n",
       "9     IND        India               AMAR KANTAK  IND0000007        210.0   \n",
       "\n",
       "   latitude  longitude primary_fuel other_fuel1 other_fuel2  ...  \\\n",
       "0   28.1839    73.2407        Solar         NaN         NaN  ...   \n",
       "1   24.7663    74.6090         Coal         NaN         NaN  ...   \n",
       "2   21.9038    69.3732         Wind         NaN         NaN  ...   \n",
       "3   23.8712    91.3602          Gas         NaN         NaN  ...   \n",
       "4   21.9603    82.4091         Coal         Oil         NaN  ...   \n",
       "5   23.7689    68.6447         Coal         Oil         NaN  ...   \n",
       "6   10.4547    77.0078        Hydro         NaN         NaN  ...   \n",
       "7   32.2258    77.2070        Hydro         NaN         NaN  ...   \n",
       "8   16.3300    75.8863        Hydro         NaN         NaN  ...   \n",
       "9   23.1642    81.6373         Coal         Oil         NaN  ...   \n",
       "\n",
       "   year_of_capacity_data  generation_gwh_2013 generation_gwh_2014  \\\n",
       "0                    NaN                  NaN                 NaN   \n",
       "1                    NaN                  NaN                 NaN   \n",
       "2                    NaN                  NaN                 NaN   \n",
       "3                 2019.0                  NaN          617.789264   \n",
       "4                 2019.0                  NaN         3035.550000   \n",
       "5                 2019.0                  NaN         1153.421000   \n",
       "6                 2019.0                  NaN          157.558250   \n",
       "7                 2019.0                  NaN          674.391100   \n",
       "8                 2019.0                  NaN          480.594950   \n",
       "9                 2019.0                  NaN         1887.904000   \n",
       "\n",
       "  generation_gwh_2015 generation_gwh_2016 generation_gwh_2017  \\\n",
       "0                 NaN                 NaN                 NaN   \n",
       "1                 NaN                 NaN                 NaN   \n",
       "2                 NaN                 NaN                 NaN   \n",
       "3            843.7470          886.004428          663.774500   \n",
       "4           5916.3700         6243.000000         5385.579736   \n",
       "5           1208.8520         1175.765000         1147.913000   \n",
       "6            152.1952           61.421350           89.629600   \n",
       "7            721.3352          675.724400          679.594950   \n",
       "8            144.4342          402.029750          439.372100   \n",
       "9           1643.0460         1338.093000         1563.457000   \n",
       "\n",
       "   generation_gwh_2018  generation_gwh_2019         generation_data_source  \\\n",
       "0                  NaN                  NaN                            NaN   \n",
       "1                  NaN                  NaN                            NaN   \n",
       "2                  NaN                  NaN                            NaN   \n",
       "3           626.239128                  NaN  Central Electricity Authority   \n",
       "4          7279.000000                  NaN  Central Electricity Authority   \n",
       "5           976.655000                  NaN  Central Electricity Authority   \n",
       "6            48.327150                  NaN  Central Electricity Authority   \n",
       "7           579.318850                  NaN  Central Electricity Authority   \n",
       "8           406.377900                  NaN  Central Electricity Authority   \n",
       "9          1487.880000                  NaN  Central Electricity Authority   \n",
       "\n",
       "   estimated_generation_gwh  \n",
       "0                       NaN  \n",
       "1                       NaN  \n",
       "2                       NaN  \n",
       "3                       NaN  \n",
       "4                       NaN  \n",
       "5                       NaN  \n",
       "6                       NaN  \n",
       "7                       NaN  \n",
       "8                       NaN  \n",
       "9                       NaN  \n",
       "\n",
       "[10 rows x 27 columns]"
      ]
     },
     "execution_count": 5,
     "metadata": {},
     "output_type": "execute_result"
    }
   ],
   "source": [
    "#Viewing the first 10 rows in our dataset\n",
    "power_plant.head(10)"
   ]
  },
  {
   "cell_type": "markdown",
   "id": "8863fa20",
   "metadata": {},
   "source": [
    "We have a lot of NaN in our data."
   ]
  },
  {
   "cell_type": "code",
   "execution_count": 4,
   "id": "b8cfd093",
   "metadata": {},
   "outputs": [
    {
     "data": {
      "text/html": [
       "<div>\n",
       "<style scoped>\n",
       "    .dataframe tbody tr th:only-of-type {\n",
       "        vertical-align: middle;\n",
       "    }\n",
       "\n",
       "    .dataframe tbody tr th {\n",
       "        vertical-align: top;\n",
       "    }\n",
       "\n",
       "    .dataframe thead th {\n",
       "        text-align: right;\n",
       "    }\n",
       "</style>\n",
       "<table border=\"1\" class=\"dataframe\">\n",
       "  <thead>\n",
       "    <tr style=\"text-align: right;\">\n",
       "      <th></th>\n",
       "      <th>country</th>\n",
       "      <th>country_long</th>\n",
       "      <th>name</th>\n",
       "      <th>gppd_idnr</th>\n",
       "      <th>capacity_mw</th>\n",
       "      <th>latitude</th>\n",
       "      <th>longitude</th>\n",
       "      <th>primary_fuel</th>\n",
       "      <th>other_fuel1</th>\n",
       "      <th>other_fuel2</th>\n",
       "      <th>...</th>\n",
       "      <th>year_of_capacity_data</th>\n",
       "      <th>generation_gwh_2013</th>\n",
       "      <th>generation_gwh_2014</th>\n",
       "      <th>generation_gwh_2015</th>\n",
       "      <th>generation_gwh_2016</th>\n",
       "      <th>generation_gwh_2017</th>\n",
       "      <th>generation_gwh_2018</th>\n",
       "      <th>generation_gwh_2019</th>\n",
       "      <th>generation_data_source</th>\n",
       "      <th>estimated_generation_gwh</th>\n",
       "    </tr>\n",
       "  </thead>\n",
       "  <tbody>\n",
       "    <tr>\n",
       "      <th>897</th>\n",
       "      <td>IND</td>\n",
       "      <td>India</td>\n",
       "      <td>Wind power project by Riddhi Siddhi Gluco Biol...</td>\n",
       "      <td>WRI1026753</td>\n",
       "      <td>34.65</td>\n",
       "      <td>8.8709</td>\n",
       "      <td>77.4466</td>\n",
       "      <td>Wind</td>\n",
       "      <td>NaN</td>\n",
       "      <td>NaN</td>\n",
       "      <td>...</td>\n",
       "      <td>NaN</td>\n",
       "      <td>NaN</td>\n",
       "      <td>NaN</td>\n",
       "      <td>NaN</td>\n",
       "      <td>NaN</td>\n",
       "      <td>NaN</td>\n",
       "      <td>NaN</td>\n",
       "      <td>NaN</td>\n",
       "      <td>NaN</td>\n",
       "      <td>NaN</td>\n",
       "    </tr>\n",
       "    <tr>\n",
       "      <th>898</th>\n",
       "      <td>IND</td>\n",
       "      <td>India</td>\n",
       "      <td>Wind power project in Rajasthan</td>\n",
       "      <td>WRI1026769</td>\n",
       "      <td>42.00</td>\n",
       "      <td>27.1715</td>\n",
       "      <td>70.6877</td>\n",
       "      <td>Wind</td>\n",
       "      <td>NaN</td>\n",
       "      <td>NaN</td>\n",
       "      <td>...</td>\n",
       "      <td>NaN</td>\n",
       "      <td>NaN</td>\n",
       "      <td>NaN</td>\n",
       "      <td>NaN</td>\n",
       "      <td>NaN</td>\n",
       "      <td>NaN</td>\n",
       "      <td>NaN</td>\n",
       "      <td>NaN</td>\n",
       "      <td>NaN</td>\n",
       "      <td>NaN</td>\n",
       "    </tr>\n",
       "    <tr>\n",
       "      <th>899</th>\n",
       "      <td>IND</td>\n",
       "      <td>India</td>\n",
       "      <td>YAMUNANAGAR TPP</td>\n",
       "      <td>IND0000511</td>\n",
       "      <td>600.00</td>\n",
       "      <td>30.1081</td>\n",
       "      <td>77.3257</td>\n",
       "      <td>Coal</td>\n",
       "      <td>Oil</td>\n",
       "      <td>NaN</td>\n",
       "      <td>...</td>\n",
       "      <td>2019.0</td>\n",
       "      <td>NaN</td>\n",
       "      <td>3194.35982</td>\n",
       "      <td>3709.552200</td>\n",
       "      <td>3123.572061</td>\n",
       "      <td>3156.053669</td>\n",
       "      <td>3039.66118</td>\n",
       "      <td>NaN</td>\n",
       "      <td>Central Electricity Authority</td>\n",
       "      <td>NaN</td>\n",
       "    </tr>\n",
       "    <tr>\n",
       "      <th>900</th>\n",
       "      <td>IND</td>\n",
       "      <td>India</td>\n",
       "      <td>YASHWANTRAO MOHITE</td>\n",
       "      <td>WRI1019995</td>\n",
       "      <td>16.00</td>\n",
       "      <td>17.1653</td>\n",
       "      <td>74.2456</td>\n",
       "      <td>Biomass</td>\n",
       "      <td>NaN</td>\n",
       "      <td>NaN</td>\n",
       "      <td>...</td>\n",
       "      <td>NaN</td>\n",
       "      <td>NaN</td>\n",
       "      <td>NaN</td>\n",
       "      <td>NaN</td>\n",
       "      <td>NaN</td>\n",
       "      <td>NaN</td>\n",
       "      <td>NaN</td>\n",
       "      <td>NaN</td>\n",
       "      <td>NaN</td>\n",
       "      <td>NaN</td>\n",
       "    </tr>\n",
       "    <tr>\n",
       "      <th>901</th>\n",
       "      <td>IND</td>\n",
       "      <td>India</td>\n",
       "      <td>YELHANKA (DG)</td>\n",
       "      <td>IND0000512</td>\n",
       "      <td>106.60</td>\n",
       "      <td>13.1156</td>\n",
       "      <td>77.5838</td>\n",
       "      <td>Oil</td>\n",
       "      <td>NaN</td>\n",
       "      <td>NaN</td>\n",
       "      <td>...</td>\n",
       "      <td>2019.0</td>\n",
       "      <td>NaN</td>\n",
       "      <td>0.00000</td>\n",
       "      <td>0.000000</td>\n",
       "      <td>0.000000</td>\n",
       "      <td>NaN</td>\n",
       "      <td>0.00000</td>\n",
       "      <td>NaN</td>\n",
       "      <td>Central Electricity Authority</td>\n",
       "      <td>NaN</td>\n",
       "    </tr>\n",
       "    <tr>\n",
       "      <th>902</th>\n",
       "      <td>IND</td>\n",
       "      <td>India</td>\n",
       "      <td>YERMARUS TPP</td>\n",
       "      <td>IND0000513</td>\n",
       "      <td>1600.00</td>\n",
       "      <td>16.2949</td>\n",
       "      <td>77.3568</td>\n",
       "      <td>Coal</td>\n",
       "      <td>Oil</td>\n",
       "      <td>NaN</td>\n",
       "      <td>...</td>\n",
       "      <td>2019.0</td>\n",
       "      <td>NaN</td>\n",
       "      <td>NaN</td>\n",
       "      <td>0.994875</td>\n",
       "      <td>233.596650</td>\n",
       "      <td>865.400000</td>\n",
       "      <td>686.50000</td>\n",
       "      <td>NaN</td>\n",
       "      <td>Central Electricity Authority</td>\n",
       "      <td>NaN</td>\n",
       "    </tr>\n",
       "    <tr>\n",
       "      <th>903</th>\n",
       "      <td>IND</td>\n",
       "      <td>India</td>\n",
       "      <td>Yelesandra Solar Power Plant</td>\n",
       "      <td>WRI1026222</td>\n",
       "      <td>3.00</td>\n",
       "      <td>12.8932</td>\n",
       "      <td>78.1654</td>\n",
       "      <td>Solar</td>\n",
       "      <td>NaN</td>\n",
       "      <td>NaN</td>\n",
       "      <td>...</td>\n",
       "      <td>NaN</td>\n",
       "      <td>NaN</td>\n",
       "      <td>NaN</td>\n",
       "      <td>NaN</td>\n",
       "      <td>NaN</td>\n",
       "      <td>NaN</td>\n",
       "      <td>NaN</td>\n",
       "      <td>NaN</td>\n",
       "      <td>NaN</td>\n",
       "      <td>NaN</td>\n",
       "    </tr>\n",
       "    <tr>\n",
       "      <th>904</th>\n",
       "      <td>IND</td>\n",
       "      <td>India</td>\n",
       "      <td>Yelisirur wind power project</td>\n",
       "      <td>WRI1026776</td>\n",
       "      <td>25.50</td>\n",
       "      <td>15.2758</td>\n",
       "      <td>75.5811</td>\n",
       "      <td>Wind</td>\n",
       "      <td>NaN</td>\n",
       "      <td>NaN</td>\n",
       "      <td>...</td>\n",
       "      <td>NaN</td>\n",
       "      <td>NaN</td>\n",
       "      <td>NaN</td>\n",
       "      <td>NaN</td>\n",
       "      <td>NaN</td>\n",
       "      <td>NaN</td>\n",
       "      <td>NaN</td>\n",
       "      <td>NaN</td>\n",
       "      <td>NaN</td>\n",
       "      <td>NaN</td>\n",
       "    </tr>\n",
       "    <tr>\n",
       "      <th>905</th>\n",
       "      <td>IND</td>\n",
       "      <td>India</td>\n",
       "      <td>ZAWAR MINES</td>\n",
       "      <td>WRI1019901</td>\n",
       "      <td>80.00</td>\n",
       "      <td>24.3500</td>\n",
       "      <td>73.7477</td>\n",
       "      <td>Coal</td>\n",
       "      <td>NaN</td>\n",
       "      <td>NaN</td>\n",
       "      <td>...</td>\n",
       "      <td>NaN</td>\n",
       "      <td>NaN</td>\n",
       "      <td>NaN</td>\n",
       "      <td>NaN</td>\n",
       "      <td>NaN</td>\n",
       "      <td>NaN</td>\n",
       "      <td>NaN</td>\n",
       "      <td>NaN</td>\n",
       "      <td>NaN</td>\n",
       "      <td>NaN</td>\n",
       "    </tr>\n",
       "    <tr>\n",
       "      <th>906</th>\n",
       "      <td>IND</td>\n",
       "      <td>India</td>\n",
       "      <td>iEnergy Theni Wind Farm</td>\n",
       "      <td>WRI1026761</td>\n",
       "      <td>16.50</td>\n",
       "      <td>9.9344</td>\n",
       "      <td>77.4768</td>\n",
       "      <td>Wind</td>\n",
       "      <td>NaN</td>\n",
       "      <td>NaN</td>\n",
       "      <td>...</td>\n",
       "      <td>NaN</td>\n",
       "      <td>NaN</td>\n",
       "      <td>NaN</td>\n",
       "      <td>NaN</td>\n",
       "      <td>NaN</td>\n",
       "      <td>NaN</td>\n",
       "      <td>NaN</td>\n",
       "      <td>NaN</td>\n",
       "      <td>NaN</td>\n",
       "      <td>NaN</td>\n",
       "    </tr>\n",
       "  </tbody>\n",
       "</table>\n",
       "<p>10 rows × 27 columns</p>\n",
       "</div>"
      ],
      "text/plain": [
       "    country country_long                                               name  \\\n",
       "897     IND        India  Wind power project by Riddhi Siddhi Gluco Biol...   \n",
       "898     IND        India                    Wind power project in Rajasthan   \n",
       "899     IND        India                                    YAMUNANAGAR TPP   \n",
       "900     IND        India                                 YASHWANTRAO MOHITE   \n",
       "901     IND        India                                      YELHANKA (DG)   \n",
       "902     IND        India                                       YERMARUS TPP   \n",
       "903     IND        India                       Yelesandra Solar Power Plant   \n",
       "904     IND        India                       Yelisirur wind power project   \n",
       "905     IND        India                                        ZAWAR MINES   \n",
       "906     IND        India                            iEnergy Theni Wind Farm   \n",
       "\n",
       "      gppd_idnr  capacity_mw  latitude  longitude primary_fuel other_fuel1  \\\n",
       "897  WRI1026753        34.65    8.8709    77.4466         Wind         NaN   \n",
       "898  WRI1026769        42.00   27.1715    70.6877         Wind         NaN   \n",
       "899  IND0000511       600.00   30.1081    77.3257         Coal         Oil   \n",
       "900  WRI1019995        16.00   17.1653    74.2456      Biomass         NaN   \n",
       "901  IND0000512       106.60   13.1156    77.5838          Oil         NaN   \n",
       "902  IND0000513      1600.00   16.2949    77.3568         Coal         Oil   \n",
       "903  WRI1026222         3.00   12.8932    78.1654        Solar         NaN   \n",
       "904  WRI1026776        25.50   15.2758    75.5811         Wind         NaN   \n",
       "905  WRI1019901        80.00   24.3500    73.7477         Coal         NaN   \n",
       "906  WRI1026761        16.50    9.9344    77.4768         Wind         NaN   \n",
       "\n",
       "    other_fuel2  ...  year_of_capacity_data  generation_gwh_2013  \\\n",
       "897         NaN  ...                    NaN                  NaN   \n",
       "898         NaN  ...                    NaN                  NaN   \n",
       "899         NaN  ...                 2019.0                  NaN   \n",
       "900         NaN  ...                    NaN                  NaN   \n",
       "901         NaN  ...                 2019.0                  NaN   \n",
       "902         NaN  ...                 2019.0                  NaN   \n",
       "903         NaN  ...                    NaN                  NaN   \n",
       "904         NaN  ...                    NaN                  NaN   \n",
       "905         NaN  ...                    NaN                  NaN   \n",
       "906         NaN  ...                    NaN                  NaN   \n",
       "\n",
       "    generation_gwh_2014 generation_gwh_2015 generation_gwh_2016  \\\n",
       "897                 NaN                 NaN                 NaN   \n",
       "898                 NaN                 NaN                 NaN   \n",
       "899          3194.35982         3709.552200         3123.572061   \n",
       "900                 NaN                 NaN                 NaN   \n",
       "901             0.00000            0.000000            0.000000   \n",
       "902                 NaN            0.994875          233.596650   \n",
       "903                 NaN                 NaN                 NaN   \n",
       "904                 NaN                 NaN                 NaN   \n",
       "905                 NaN                 NaN                 NaN   \n",
       "906                 NaN                 NaN                 NaN   \n",
       "\n",
       "    generation_gwh_2017  generation_gwh_2018  generation_gwh_2019  \\\n",
       "897                 NaN                  NaN                  NaN   \n",
       "898                 NaN                  NaN                  NaN   \n",
       "899         3156.053669           3039.66118                  NaN   \n",
       "900                 NaN                  NaN                  NaN   \n",
       "901                 NaN              0.00000                  NaN   \n",
       "902          865.400000            686.50000                  NaN   \n",
       "903                 NaN                  NaN                  NaN   \n",
       "904                 NaN                  NaN                  NaN   \n",
       "905                 NaN                  NaN                  NaN   \n",
       "906                 NaN                  NaN                  NaN   \n",
       "\n",
       "            generation_data_source  estimated_generation_gwh  \n",
       "897                            NaN                       NaN  \n",
       "898                            NaN                       NaN  \n",
       "899  Central Electricity Authority                       NaN  \n",
       "900                            NaN                       NaN  \n",
       "901  Central Electricity Authority                       NaN  \n",
       "902  Central Electricity Authority                       NaN  \n",
       "903                            NaN                       NaN  \n",
       "904                            NaN                       NaN  \n",
       "905                            NaN                       NaN  \n",
       "906                            NaN                       NaN  \n",
       "\n",
       "[10 rows x 27 columns]"
      ]
     },
     "execution_count": 4,
     "metadata": {},
     "output_type": "execute_result"
    }
   ],
   "source": [
    "#Viewing the last 10 rows in our dataset\n",
    "power_plant.tail(10)"
   ]
  },
  {
   "cell_type": "code",
   "execution_count": 5,
   "id": "4bdfc2cc",
   "metadata": {},
   "outputs": [
    {
     "data": {
      "text/plain": [
       "(907, 27)"
      ]
     },
     "execution_count": 5,
     "metadata": {},
     "output_type": "execute_result"
    }
   ],
   "source": [
    "# Viewing the dimensions of the array\n",
    "power_plant.shape"
   ]
  },
  {
   "cell_type": "markdown",
   "id": "e67e1bac",
   "metadata": {},
   "source": [
    "This dataset contains 907 rows and 27 columns (made up of the independent and target variables)"
   ]
  },
  {
   "cell_type": "code",
   "execution_count": 6,
   "id": "a09de9d6",
   "metadata": {},
   "outputs": [
    {
     "data": {
      "text/plain": [
       "Index(['country', 'country_long', 'name', 'gppd_idnr', 'capacity_mw',\n",
       "       'latitude', 'longitude', 'primary_fuel', 'other_fuel1', 'other_fuel2',\n",
       "       'other_fuel3', 'commissioning_year', 'owner', 'source', 'url',\n",
       "       'geolocation_source', 'wepp_id', 'year_of_capacity_data',\n",
       "       'generation_gwh_2013', 'generation_gwh_2014', 'generation_gwh_2015',\n",
       "       'generation_gwh_2016', 'generation_gwh_2017', 'generation_gwh_2018',\n",
       "       'generation_gwh_2019', 'generation_data_source',\n",
       "       'estimated_generation_gwh'],\n",
       "      dtype='object')"
      ]
     },
     "execution_count": 6,
     "metadata": {},
     "output_type": "execute_result"
    }
   ],
   "source": [
    "#Viewing the columns present in the dataset\n",
    "columns = power_plant.columns\n",
    "columns"
   ]
  },
  {
   "cell_type": "markdown",
   "id": "5e77f568",
   "metadata": {},
   "source": [
    "We have 27 columns in our dataset"
   ]
  },
  {
   "cell_type": "code",
   "execution_count": 7,
   "id": "f8323874",
   "metadata": {},
   "outputs": [
    {
     "data": {
      "text/html": [
       "<div>\n",
       "<style scoped>\n",
       "    .dataframe tbody tr th:only-of-type {\n",
       "        vertical-align: middle;\n",
       "    }\n",
       "\n",
       "    .dataframe tbody tr th {\n",
       "        vertical-align: top;\n",
       "    }\n",
       "\n",
       "    .dataframe thead th {\n",
       "        text-align: right;\n",
       "    }\n",
       "</style>\n",
       "<table border=\"1\" class=\"dataframe\">\n",
       "  <thead>\n",
       "    <tr style=\"text-align: right;\">\n",
       "      <th></th>\n",
       "      <th>capacity_mw</th>\n",
       "      <th>latitude</th>\n",
       "      <th>longitude</th>\n",
       "      <th>other_fuel3</th>\n",
       "      <th>commissioning_year</th>\n",
       "      <th>wepp_id</th>\n",
       "      <th>year_of_capacity_data</th>\n",
       "      <th>generation_gwh_2013</th>\n",
       "      <th>generation_gwh_2014</th>\n",
       "      <th>generation_gwh_2015</th>\n",
       "      <th>generation_gwh_2016</th>\n",
       "      <th>generation_gwh_2017</th>\n",
       "      <th>generation_gwh_2018</th>\n",
       "      <th>generation_gwh_2019</th>\n",
       "      <th>estimated_generation_gwh</th>\n",
       "    </tr>\n",
       "  </thead>\n",
       "  <tbody>\n",
       "    <tr>\n",
       "      <th>count</th>\n",
       "      <td>907.000000</td>\n",
       "      <td>861.000000</td>\n",
       "      <td>861.000000</td>\n",
       "      <td>0.0</td>\n",
       "      <td>527.000000</td>\n",
       "      <td>0.0</td>\n",
       "      <td>519.0</td>\n",
       "      <td>0.0</td>\n",
       "      <td>398.000000</td>\n",
       "      <td>422.000000</td>\n",
       "      <td>434.000000</td>\n",
       "      <td>440.000000</td>\n",
       "      <td>448.000000</td>\n",
       "      <td>0.0</td>\n",
       "      <td>0.0</td>\n",
       "    </tr>\n",
       "    <tr>\n",
       "      <th>mean</th>\n",
       "      <td>326.223755</td>\n",
       "      <td>21.197918</td>\n",
       "      <td>77.464907</td>\n",
       "      <td>NaN</td>\n",
       "      <td>1997.091082</td>\n",
       "      <td>NaN</td>\n",
       "      <td>2019.0</td>\n",
       "      <td>NaN</td>\n",
       "      <td>2431.823590</td>\n",
       "      <td>2428.226946</td>\n",
       "      <td>2467.936859</td>\n",
       "      <td>2547.759305</td>\n",
       "      <td>2600.804099</td>\n",
       "      <td>NaN</td>\n",
       "      <td>NaN</td>\n",
       "    </tr>\n",
       "    <tr>\n",
       "      <th>std</th>\n",
       "      <td>590.085456</td>\n",
       "      <td>6.239612</td>\n",
       "      <td>4.939316</td>\n",
       "      <td>NaN</td>\n",
       "      <td>17.082868</td>\n",
       "      <td>NaN</td>\n",
       "      <td>0.0</td>\n",
       "      <td>NaN</td>\n",
       "      <td>4026.440035</td>\n",
       "      <td>4194.596959</td>\n",
       "      <td>4162.884308</td>\n",
       "      <td>4196.991169</td>\n",
       "      <td>4314.880456</td>\n",
       "      <td>NaN</td>\n",
       "      <td>NaN</td>\n",
       "    </tr>\n",
       "    <tr>\n",
       "      <th>min</th>\n",
       "      <td>0.000000</td>\n",
       "      <td>8.168900</td>\n",
       "      <td>68.644700</td>\n",
       "      <td>NaN</td>\n",
       "      <td>1927.000000</td>\n",
       "      <td>NaN</td>\n",
       "      <td>2019.0</td>\n",
       "      <td>NaN</td>\n",
       "      <td>0.000000</td>\n",
       "      <td>0.000000</td>\n",
       "      <td>0.000000</td>\n",
       "      <td>0.000000</td>\n",
       "      <td>0.000000</td>\n",
       "      <td>NaN</td>\n",
       "      <td>NaN</td>\n",
       "    </tr>\n",
       "    <tr>\n",
       "      <th>25%</th>\n",
       "      <td>16.725000</td>\n",
       "      <td>16.773900</td>\n",
       "      <td>74.256200</td>\n",
       "      <td>NaN</td>\n",
       "      <td>1988.000000</td>\n",
       "      <td>NaN</td>\n",
       "      <td>2019.0</td>\n",
       "      <td>NaN</td>\n",
       "      <td>223.557672</td>\n",
       "      <td>176.381063</td>\n",
       "      <td>188.285252</td>\n",
       "      <td>177.874930</td>\n",
       "      <td>193.378250</td>\n",
       "      <td>NaN</td>\n",
       "      <td>NaN</td>\n",
       "    </tr>\n",
       "    <tr>\n",
       "      <th>50%</th>\n",
       "      <td>59.200000</td>\n",
       "      <td>21.780000</td>\n",
       "      <td>76.719500</td>\n",
       "      <td>NaN</td>\n",
       "      <td>2001.000000</td>\n",
       "      <td>NaN</td>\n",
       "      <td>2019.0</td>\n",
       "      <td>NaN</td>\n",
       "      <td>801.123775</td>\n",
       "      <td>711.181225</td>\n",
       "      <td>737.205450</td>\n",
       "      <td>817.977250</td>\n",
       "      <td>751.644375</td>\n",
       "      <td>NaN</td>\n",
       "      <td>NaN</td>\n",
       "    </tr>\n",
       "    <tr>\n",
       "      <th>75%</th>\n",
       "      <td>385.250000</td>\n",
       "      <td>25.512400</td>\n",
       "      <td>79.440800</td>\n",
       "      <td>NaN</td>\n",
       "      <td>2012.000000</td>\n",
       "      <td>NaN</td>\n",
       "      <td>2019.0</td>\n",
       "      <td>NaN</td>\n",
       "      <td>3035.306250</td>\n",
       "      <td>3084.121250</td>\n",
       "      <td>3282.861313</td>\n",
       "      <td>3275.690475</td>\n",
       "      <td>3143.535900</td>\n",
       "      <td>NaN</td>\n",
       "      <td>NaN</td>\n",
       "    </tr>\n",
       "    <tr>\n",
       "      <th>max</th>\n",
       "      <td>4760.000000</td>\n",
       "      <td>34.649000</td>\n",
       "      <td>95.408000</td>\n",
       "      <td>NaN</td>\n",
       "      <td>2018.000000</td>\n",
       "      <td>NaN</td>\n",
       "      <td>2019.0</td>\n",
       "      <td>NaN</td>\n",
       "      <td>28127.000000</td>\n",
       "      <td>30539.000000</td>\n",
       "      <td>30015.000000</td>\n",
       "      <td>35116.000000</td>\n",
       "      <td>35136.000000</td>\n",
       "      <td>NaN</td>\n",
       "      <td>NaN</td>\n",
       "    </tr>\n",
       "  </tbody>\n",
       "</table>\n",
       "</div>"
      ],
      "text/plain": [
       "       capacity_mw    latitude   longitude  other_fuel3  commissioning_year  \\\n",
       "count   907.000000  861.000000  861.000000          0.0          527.000000   \n",
       "mean    326.223755   21.197918   77.464907          NaN         1997.091082   \n",
       "std     590.085456    6.239612    4.939316          NaN           17.082868   \n",
       "min       0.000000    8.168900   68.644700          NaN         1927.000000   \n",
       "25%      16.725000   16.773900   74.256200          NaN         1988.000000   \n",
       "50%      59.200000   21.780000   76.719500          NaN         2001.000000   \n",
       "75%     385.250000   25.512400   79.440800          NaN         2012.000000   \n",
       "max    4760.000000   34.649000   95.408000          NaN         2018.000000   \n",
       "\n",
       "       wepp_id  year_of_capacity_data  generation_gwh_2013  \\\n",
       "count      0.0                  519.0                  0.0   \n",
       "mean       NaN                 2019.0                  NaN   \n",
       "std        NaN                    0.0                  NaN   \n",
       "min        NaN                 2019.0                  NaN   \n",
       "25%        NaN                 2019.0                  NaN   \n",
       "50%        NaN                 2019.0                  NaN   \n",
       "75%        NaN                 2019.0                  NaN   \n",
       "max        NaN                 2019.0                  NaN   \n",
       "\n",
       "       generation_gwh_2014  generation_gwh_2015  generation_gwh_2016  \\\n",
       "count           398.000000           422.000000           434.000000   \n",
       "mean           2431.823590          2428.226946          2467.936859   \n",
       "std            4026.440035          4194.596959          4162.884308   \n",
       "min               0.000000             0.000000             0.000000   \n",
       "25%             223.557672           176.381063           188.285252   \n",
       "50%             801.123775           711.181225           737.205450   \n",
       "75%            3035.306250          3084.121250          3282.861313   \n",
       "max           28127.000000         30539.000000         30015.000000   \n",
       "\n",
       "       generation_gwh_2017  generation_gwh_2018  generation_gwh_2019  \\\n",
       "count           440.000000           448.000000                  0.0   \n",
       "mean           2547.759305          2600.804099                  NaN   \n",
       "std            4196.991169          4314.880456                  NaN   \n",
       "min               0.000000             0.000000                  NaN   \n",
       "25%             177.874930           193.378250                  NaN   \n",
       "50%             817.977250           751.644375                  NaN   \n",
       "75%            3275.690475          3143.535900                  NaN   \n",
       "max           35116.000000         35136.000000                  NaN   \n",
       "\n",
       "       estimated_generation_gwh  \n",
       "count                       0.0  \n",
       "mean                        NaN  \n",
       "std                         NaN  \n",
       "min                         NaN  \n",
       "25%                         NaN  \n",
       "50%                         NaN  \n",
       "75%                         NaN  \n",
       "max                         NaN  "
      ]
     },
     "execution_count": 7,
     "metadata": {},
     "output_type": "execute_result"
    }
   ],
   "source": [
    "#Generating the descriptive statistics of all the features in the dataset\n",
    "power_plant.describe()"
   ]
  },
  {
   "cell_type": "markdown",
   "id": "bdf170ba",
   "metadata": {},
   "source": [
    "Some columns contains on NaNs and no other values. We dropped those columns because we do not have values to input."
   ]
  },
  {
   "cell_type": "code",
   "execution_count": 8,
   "id": "e8ca0b33",
   "metadata": {},
   "outputs": [
    {
     "data": {
      "text/html": [
       "<div>\n",
       "<style scoped>\n",
       "    .dataframe tbody tr th:only-of-type {\n",
       "        vertical-align: middle;\n",
       "    }\n",
       "\n",
       "    .dataframe tbody tr th {\n",
       "        vertical-align: top;\n",
       "    }\n",
       "\n",
       "    .dataframe thead th {\n",
       "        text-align: right;\n",
       "    }\n",
       "</style>\n",
       "<table border=\"1\" class=\"dataframe\">\n",
       "  <thead>\n",
       "    <tr style=\"text-align: right;\">\n",
       "      <th></th>\n",
       "      <th>country</th>\n",
       "      <th>country_long</th>\n",
       "      <th>name</th>\n",
       "      <th>gppd_idnr</th>\n",
       "      <th>primary_fuel</th>\n",
       "      <th>other_fuel1</th>\n",
       "      <th>other_fuel2</th>\n",
       "      <th>owner</th>\n",
       "      <th>source</th>\n",
       "      <th>url</th>\n",
       "      <th>geolocation_source</th>\n",
       "      <th>generation_data_source</th>\n",
       "    </tr>\n",
       "  </thead>\n",
       "  <tbody>\n",
       "    <tr>\n",
       "      <th>count</th>\n",
       "      <td>907</td>\n",
       "      <td>907</td>\n",
       "      <td>907</td>\n",
       "      <td>907</td>\n",
       "      <td>907</td>\n",
       "      <td>198</td>\n",
       "      <td>1</td>\n",
       "      <td>342</td>\n",
       "      <td>907</td>\n",
       "      <td>907</td>\n",
       "      <td>888</td>\n",
       "      <td>449</td>\n",
       "    </tr>\n",
       "    <tr>\n",
       "      <th>unique</th>\n",
       "      <td>1</td>\n",
       "      <td>1</td>\n",
       "      <td>907</td>\n",
       "      <td>907</td>\n",
       "      <td>8</td>\n",
       "      <td>3</td>\n",
       "      <td>1</td>\n",
       "      <td>280</td>\n",
       "      <td>191</td>\n",
       "      <td>304</td>\n",
       "      <td>3</td>\n",
       "      <td>1</td>\n",
       "    </tr>\n",
       "    <tr>\n",
       "      <th>top</th>\n",
       "      <td>IND</td>\n",
       "      <td>India</td>\n",
       "      <td>ACME Solar Tower</td>\n",
       "      <td>WRI1020239</td>\n",
       "      <td>Coal</td>\n",
       "      <td>Oil</td>\n",
       "      <td>Oil</td>\n",
       "      <td>Acc Acc ltd</td>\n",
       "      <td>Central Electricity Authority</td>\n",
       "      <td>http://www.cea.nic.in/</td>\n",
       "      <td>WRI</td>\n",
       "      <td>Central Electricity Authority</td>\n",
       "    </tr>\n",
       "    <tr>\n",
       "      <th>freq</th>\n",
       "      <td>907</td>\n",
       "      <td>907</td>\n",
       "      <td>1</td>\n",
       "      <td>1</td>\n",
       "      <td>258</td>\n",
       "      <td>195</td>\n",
       "      <td>1</td>\n",
       "      <td>4</td>\n",
       "      <td>519</td>\n",
       "      <td>519</td>\n",
       "      <td>765</td>\n",
       "      <td>449</td>\n",
       "    </tr>\n",
       "  </tbody>\n",
       "</table>\n",
       "</div>"
      ],
      "text/plain": [
       "       country country_long              name   gppd_idnr primary_fuel  \\\n",
       "count      907          907               907         907          907   \n",
       "unique       1            1               907         907            8   \n",
       "top        IND        India  ACME Solar Tower  WRI1020239         Coal   \n",
       "freq       907          907                 1           1          258   \n",
       "\n",
       "       other_fuel1 other_fuel2        owner                         source  \\\n",
       "count          198           1          342                            907   \n",
       "unique           3           1          280                            191   \n",
       "top            Oil         Oil  Acc Acc ltd  Central Electricity Authority   \n",
       "freq           195           1            4                            519   \n",
       "\n",
       "                           url geolocation_source  \\\n",
       "count                      907                888   \n",
       "unique                     304                  3   \n",
       "top     http://www.cea.nic.in/                WRI   \n",
       "freq                       519                765   \n",
       "\n",
       "               generation_data_source  \n",
       "count                             449  \n",
       "unique                              1  \n",
       "top     Central Electricity Authority  \n",
       "freq                              449  "
      ]
     },
     "execution_count": 8,
     "metadata": {},
     "output_type": "execute_result"
    }
   ],
   "source": [
    "#displaying the descriptive statistics of our categorical variables\n",
    "power_plant.describe(include='object')"
   ]
  },
  {
   "cell_type": "markdown",
   "id": "24013f91",
   "metadata": {},
   "source": [
    "We can see that the counts are not the same. So variables have missing values. "
   ]
  },
  {
   "cell_type": "code",
   "execution_count": 9,
   "id": "243f4b2f",
   "metadata": {},
   "outputs": [
    {
     "name": "stdout",
     "output_type": "stream",
     "text": [
      "<class 'pandas.core.frame.DataFrame'>\n",
      "RangeIndex: 907 entries, 0 to 906\n",
      "Data columns (total 27 columns):\n",
      " #   Column                    Non-Null Count  Dtype  \n",
      "---  ------                    --------------  -----  \n",
      " 0   country                   907 non-null    object \n",
      " 1   country_long              907 non-null    object \n",
      " 2   name                      907 non-null    object \n",
      " 3   gppd_idnr                 907 non-null    object \n",
      " 4   capacity_mw               907 non-null    float64\n",
      " 5   latitude                  861 non-null    float64\n",
      " 6   longitude                 861 non-null    float64\n",
      " 7   primary_fuel              907 non-null    object \n",
      " 8   other_fuel1               198 non-null    object \n",
      " 9   other_fuel2               1 non-null      object \n",
      " 10  other_fuel3               0 non-null      float64\n",
      " 11  commissioning_year        527 non-null    float64\n",
      " 12  owner                     342 non-null    object \n",
      " 13  source                    907 non-null    object \n",
      " 14  url                       907 non-null    object \n",
      " 15  geolocation_source        888 non-null    object \n",
      " 16  wepp_id                   0 non-null      float64\n",
      " 17  year_of_capacity_data     519 non-null    float64\n",
      " 18  generation_gwh_2013       0 non-null      float64\n",
      " 19  generation_gwh_2014       398 non-null    float64\n",
      " 20  generation_gwh_2015       422 non-null    float64\n",
      " 21  generation_gwh_2016       434 non-null    float64\n",
      " 22  generation_gwh_2017       440 non-null    float64\n",
      " 23  generation_gwh_2018       448 non-null    float64\n",
      " 24  generation_gwh_2019       0 non-null      float64\n",
      " 25  generation_data_source    449 non-null    object \n",
      " 26  estimated_generation_gwh  0 non-null      float64\n",
      "dtypes: float64(15), object(12)\n",
      "memory usage: 191.4+ KB\n"
     ]
    }
   ],
   "source": [
    "#Displays the basic information about the columns in the dataset\n",
    "power_plant.info()"
   ]
  },
  {
   "cell_type": "markdown",
   "id": "29a60a67",
   "metadata": {},
   "source": [
    "From the info displayed above, we can see that some columns have little or no data. We shall drop those columns."
   ]
  },
  {
   "cell_type": "code",
   "execution_count": 10,
   "id": "6e1c13f5",
   "metadata": {},
   "outputs": [],
   "source": [
    "#Drop the columns having only NaNs\n",
    "power_plant = power_plant.drop(['other_fuel1','other_fuel2','other_fuel3','wepp_id','generation_gwh_2013','generation_gwh_2019','estimated_generation_gwh'], axis=1) "
   ]
  },
  {
   "cell_type": "code",
   "execution_count": 11,
   "id": "b6809b90",
   "metadata": {},
   "outputs": [],
   "source": [
    "#create another column for the total generation of 2014 to 2019\n",
    "power_plant['total_generation_gwh'] = power_plant['generation_gwh_2014'] + power_plant['generation_gwh_2015'] + power_plant['generation_gwh_2016'] + power_plant['generation_gwh_2017'] + power_plant['generation_gwh_2018'] \n",
    "\n",
    "#Drop the columns not required for our model\n",
    "power_plant = power_plant.drop(['country','name','year_of_capacity_data','owner','url','generation_data_source','gppd_idnr','source','commissioning_year','geolocation_source','generation_gwh_2014','generation_gwh_2015','generation_gwh_2016','generation_gwh_2017','generation_gwh_2018'], axis=1) "
   ]
  },
  {
   "cell_type": "markdown",
   "id": "763ce43a",
   "metadata": {},
   "source": [
    "We have the figures of power generated from 2013 to 2019. We added up these columns to form only one column(total_generation_gwh).\n",
    "\n",
    "Some columns are not neccessary for our analysis and prediction. So we dropped them. We shall drop the country column since we have the country_long column."
   ]
  },
  {
   "cell_type": "code",
   "execution_count": 12,
   "id": "a1650cf9",
   "metadata": {},
   "outputs": [
    {
     "data": {
      "text/plain": [
       "country_long              1\n",
       "capacity_mw             361\n",
       "latitude                836\n",
       "longitude               827\n",
       "primary_fuel              8\n",
       "total_generation_gwh    381\n",
       "dtype: int64"
      ]
     },
     "execution_count": 12,
     "metadata": {},
     "output_type": "execute_result"
    }
   ],
   "source": [
    "#Displays the unique value for all features\n",
    "power_plant.nunique()"
   ]
  },
  {
   "cell_type": "markdown",
   "id": "55052f4c",
   "metadata": {},
   "source": [
    "We have only one country in our dataset"
   ]
  },
  {
   "cell_type": "code",
   "execution_count": 13,
   "id": "400ce9a4",
   "metadata": {},
   "outputs": [
    {
     "name": "stdout",
     "output_type": "stream",
     "text": [
      "India    907\n",
      "Name: country_long, dtype: int64\n",
      "\n",
      "\n",
      "5.0       39\n",
      "10.0      22\n",
      "600.0     20\n",
      "15.0      20\n",
      "1200.0    19\n",
      "          ..\n",
      "291.0      1\n",
      "645.0      1\n",
      "41.4       1\n",
      "17.5       1\n",
      "106.6      1\n",
      "Name: capacity_mw, Length: 361, dtype: int64\n",
      "\n",
      "\n",
      "19.0004    3\n",
      "24.1917    3\n",
      "24.8747    2\n",
      "13.2450    2\n",
      "11.5336    2\n",
      "          ..\n",
      "22.7554    1\n",
      "27.1598    1\n",
      "17.2970    1\n",
      "20.8772    1\n",
      "9.9344     1\n",
      "Name: latitude, Length: 836, dtype: int64\n",
      "\n",
      "\n",
      "71.6917    4\n",
      "75.8988    3\n",
      "71.6918    3\n",
      "72.8983    3\n",
      "81.2875    3\n",
      "          ..\n",
      "70.3961    1\n",
      "74.2393    1\n",
      "77.0435    1\n",
      "73.8254    1\n",
      "77.4768    1\n",
      "Name: longitude, Length: 827, dtype: int64\n",
      "\n",
      "\n",
      "Coal       258\n",
      "Hydro      251\n",
      "Solar      127\n",
      "Wind       123\n",
      "Gas         69\n",
      "Biomass     50\n",
      "Oil         20\n",
      "Nuclear      9\n",
      "Name: primary_fuel, dtype: int64\n",
      "\n",
      "\n",
      "0.000000        11\n",
      "3637.554320      1\n",
      "632.412050       1\n",
      "36157.280000     1\n",
      "1614.098950      1\n",
      "                ..\n",
      "5820.020000      1\n",
      "885.928100       1\n",
      "27973.059128     1\n",
      "32152.510000     1\n",
      "16223.198930     1\n",
      "Name: total_generation_gwh, Length: 381, dtype: int64\n",
      "\n",
      "\n"
     ]
    }
   ],
   "source": [
    "def columns_values(new_df):\n",
    "    for i in new_df.columns:\n",
    "        print(new_df[i].value_counts())\n",
    "        print('\\n')\n",
    "        \n",
    "columns_values(power_plant)"
   ]
  },
  {
   "cell_type": "code",
   "execution_count": 14,
   "id": "1d8f870f",
   "metadata": {},
   "outputs": [
    {
     "data": {
      "text/plain": [
       "Coal       258\n",
       "Hydro      251\n",
       "Solar      127\n",
       "Wind       123\n",
       "Gas         69\n",
       "Biomass     50\n",
       "Oil         20\n",
       "Nuclear      9\n",
       "Name: primary_fuel, dtype: int64"
      ]
     },
     "execution_count": 14,
     "metadata": {},
     "output_type": "execute_result"
    }
   ],
   "source": [
    "#This returns the count of unique occurrences in the primary_fuel column\n",
    "power_plant['primary_fuel'].value_counts()"
   ]
  },
  {
   "cell_type": "markdown",
   "id": "5a9e4a53",
   "metadata": {},
   "source": [
    "Coal is the highest energy source used in primary electricity generation in India. Followed by Hydro, Solar and others."
   ]
  },
  {
   "cell_type": "markdown",
   "id": "1159ab31",
   "metadata": {},
   "source": [
    "### Data Visualization"
   ]
  },
  {
   "cell_type": "code",
   "execution_count": 15,
   "id": "ca4028d0",
   "metadata": {},
   "outputs": [
    {
     "data": {
      "image/png": "[encoded data removed]",
      "text/plain": [
       "<Figure size 360x360 with 1 Axes>"
      ]
     },
     "metadata": {
      "needs_background": "light"
     },
     "output_type": "display_data"
    }
   ],
   "source": [
    "# This catplot shows the distribution of energy source used in primary electricity generation.\n",
    "sns.catplot(x ='primary_fuel', data = power_plant, kind = 'count')\n",
    "plt.title('The distribution of energy source used in primary electricity generation')\n",
    "plt.xlabel('primary_fuel')\n",
    "plt.ylabel('Count')\n",
    "plt.show()"
   ]
  },
  {
   "cell_type": "markdown",
   "id": "2fcc0a1f",
   "metadata": {},
   "source": [
    "Coal is the highest energy source used in primary electricity generation or export in India"
   ]
  },
  {
   "cell_type": "code",
   "execution_count": 16,
   "id": "e576e15b",
   "metadata": {},
   "outputs": [
    {
     "data": {
      "text/plain": [
       "5.0       39\n",
       "10.0      22\n",
       "600.0     20\n",
       "15.0      20\n",
       "1200.0    19\n",
       "          ..\n",
       "291.0      1\n",
       "645.0      1\n",
       "41.4       1\n",
       "17.5       1\n",
       "106.6      1\n",
       "Name: capacity_mw, Length: 361, dtype: int64"
      ]
     },
     "execution_count": 16,
     "metadata": {},
     "output_type": "execute_result"
    }
   ],
   "source": [
    "#This returns the count of unique occurrences in the capacity_mw column\n",
    "power_plant['capacity_mw'].value_counts()"
   ]
  },
  {
   "cell_type": "code",
   "execution_count": 7,
   "id": "21752dcc",
   "metadata": {},
   "outputs": [
    {
     "data": {
      "text/plain": [
       "<AxesSubplot:xlabel='capacity_mw', ylabel='Count'>"
      ]
     },
     "execution_count": 7,
     "metadata": {},
     "output_type": "execute_result"
    },
    {
     "data": {
      "image/png": "[encoded data removed]",
      "text/plain": [
       "<Figure size 432x288 with 1 Axes>"
      ]
     },
     "metadata": {
      "needs_background": "light"
     },
     "output_type": "display_data"
    }
   ],
   "source": [
    "# countplot showing the sex of the passengers(survived or did not survive)\n",
    "sns.histplot(power_plant['capacity_mw'],cumulative=True, kde=True)"
   ]
  },
  {
   "cell_type": "markdown",
   "id": "7b899376",
   "metadata": {},
   "source": [
    "The data distribution shows a steady increase in the capacity of electricity generated."
   ]
  },
  {
   "cell_type": "code",
   "execution_count": 17,
   "id": "6e89b735",
   "metadata": {},
   "outputs": [
    {
     "data": {
      "image/png": "[encoded data removed]",
      "text/plain": [
       "<Figure size 432x288 with 1 Axes>"
      ]
     },
     "metadata": {
      "needs_background": "light"
     },
     "output_type": "display_data"
    }
   ],
   "source": [
    "# countplot showing the distribution of energy source used in primary electricity generation across India\n",
    "sns.countplot(x='country_long', hue='primary_fuel', data=power_plant)\n",
    "plt.title('The distribution of energy source used in primary electricity generation across India')\n",
    "plt.show()"
   ]
  },
  {
   "cell_type": "markdown",
   "id": "b64383e3",
   "metadata": {},
   "source": [
    "India is heavily dependent on coal and Hydro. India's primary source of electricity is coal, although the amount of electricity produced by renewable sources is gradually increasing."
   ]
  },
  {
   "cell_type": "code",
   "execution_count": 20,
   "id": "4551c61f",
   "metadata": {},
   "outputs": [
    {
     "data": {
      "image/png": "[encoded data removed]",
      "text/plain": [
       "<Figure size 1080x432 with 1 Axes>"
      ]
     },
     "metadata": {
      "needs_background": "light"
     },
     "output_type": "display_data"
    }
   ],
   "source": [
    "# barplot showing the relationship between energy source used in primary electricity generation and electrical generating capacity\n",
    "plt.figure(figsize = (15,6))\n",
    "sns.barplot(x = 'primary_fuel',y='capacity_mw',data = power_plant)\n",
    "plt.xticks(rotation = 90)\n",
    "plt.show()"
   ]
  },
  {
   "cell_type": "markdown",
   "id": "30c0a9f4",
   "metadata": {},
   "source": [
    "From the barplot, we have about 1000 megawatts electricity generated from the Nuclear energy source in India as at 2019."
   ]
  },
  {
   "cell_type": "code",
   "execution_count": 21,
   "id": "34813d99",
   "metadata": {},
   "outputs": [
    {
     "data": {
      "image/png": "[encoded data removed]",
      "text/plain": [
       "<Figure size 1080x432 with 1 Axes>"
      ]
     },
     "metadata": {
      "needs_background": "light"
     },
     "output_type": "display_data"
    }
   ],
   "source": [
    "# barplot showing the relationship between energy source used in primary electricity generation and the total electricity generation\n",
    "plt.figure(figsize = (15,6))\n",
    "sns.barplot(x = 'primary_fuel',y='total_generation_gwh',data = power_plant)\n",
    "plt.xticks(rotation = 90)\n",
    "plt.show()"
   ]
  },
  {
   "cell_type": "markdown",
   "id": "2a30cbf7",
   "metadata": {},
   "source": [
    "Power is produced in India using both conventional (thermal, nuclear, and hydro) and renewable (wind, solar, biomass, etc.) sources. But the majority of electricity is produced in thermal power plants using coal, accounting for around 75% of all power generated."
   ]
  },
  {
   "cell_type": "code",
   "execution_count": 19,
   "id": "8386a2c9",
   "metadata": {},
   "outputs": [
    {
     "data": {
      "text/plain": [
       "<seaborn.axisgrid.PairGrid at 0x1d0959798b0>"
      ]
     },
     "execution_count": 19,
     "metadata": {},
     "output_type": "execute_result"
    },
    {
     "data": {
      "image/png": "[encoded data removed]",
      "text/plain": [
       "<Figure size 510x432 with 20 Axes>"
      ]
     },
     "metadata": {
      "needs_background": "light"
     },
     "output_type": "display_data"
    }
   ],
   "source": [
    "#pairplot showing the distribution of the variables\n",
    "sns.pairplot(power_plant, diag_kind=\"hist\", hue=\"primary_fuel\", height=1.5, palette = 'husl')"
   ]
  },
  {
   "cell_type": "markdown",
   "id": "c73a0360",
   "metadata": {},
   "source": [
    "There is a positive relation between the total electricity generated and the electrical generating capacity. The higher the plant power generating capacity the more electricity is generated."
   ]
  },
  {
   "cell_type": "markdown",
   "id": "8d4bf0dc",
   "metadata": {},
   "source": [
    "## Data Pre-Processing"
   ]
  },
  {
   "cell_type": "code",
   "execution_count": 22,
   "id": "7605ac2c",
   "metadata": {},
   "outputs": [],
   "source": [
    "#Drop the country_long columns\n",
    "power_plant = power_plant.drop(['country_long'], axis=1) "
   ]
  },
  {
   "cell_type": "markdown",
   "id": "59bde4a9",
   "metadata": {},
   "source": [
    "We have only India in our dataset. We dont need the country_long column anymore. We shall drop the column."
   ]
  },
  {
   "cell_type": "code",
   "execution_count": 23,
   "id": "2f48e3de",
   "metadata": {},
   "outputs": [
    {
     "data": {
      "text/plain": [
       "capacity_mw               0\n",
       "latitude                 46\n",
       "longitude                46\n",
       "primary_fuel              0\n",
       "total_generation_gwh    516\n",
       "dtype: int64"
      ]
     },
     "execution_count": 23,
     "metadata": {},
     "output_type": "execute_result"
    }
   ],
   "source": [
    "#checking for missing values\n",
    "power_plant.isna().sum()"
   ]
  },
  {
   "cell_type": "code",
   "execution_count": 24,
   "id": "65f06091",
   "metadata": {},
   "outputs": [
    {
     "data": {
      "text/plain": [
       "(907, 5)"
      ]
     },
     "execution_count": 24,
     "metadata": {},
     "output_type": "execute_result"
    }
   ],
   "source": [
    "#Size of dataset\n",
    "power_plant.shape"
   ]
  },
  {
   "cell_type": "code",
   "execution_count": 25,
   "id": "e08af588",
   "metadata": {},
   "outputs": [
    {
     "name": "stdout",
     "output_type": "stream",
     "text": [
      "The number of duplicates in the dataset is: 6\n"
     ]
    }
   ],
   "source": [
    "# Printing the total number of duplicates across all the columns\n",
    "duplicated = power_plant.duplicated()\n",
    "\n",
    "print(\"The number of duplicates in the dataset is:\", power_plant.duplicated().sum())"
   ]
  },
  {
   "cell_type": "code",
   "execution_count": 26,
   "id": "c0f6e3dc",
   "metadata": {},
   "outputs": [
    {
     "data": {
      "text/html": [
       "<div>\n",
       "<style scoped>\n",
       "    .dataframe tbody tr th:only-of-type {\n",
       "        vertical-align: middle;\n",
       "    }\n",
       "\n",
       "    .dataframe tbody tr th {\n",
       "        vertical-align: top;\n",
       "    }\n",
       "\n",
       "    .dataframe thead th {\n",
       "        text-align: right;\n",
       "    }\n",
       "</style>\n",
       "<table border=\"1\" class=\"dataframe\">\n",
       "  <thead>\n",
       "    <tr style=\"text-align: right;\">\n",
       "      <th></th>\n",
       "      <th>capacity_mw</th>\n",
       "      <th>latitude</th>\n",
       "      <th>longitude</th>\n",
       "      <th>primary_fuel</th>\n",
       "      <th>total_generation_gwh</th>\n",
       "    </tr>\n",
       "  </thead>\n",
       "  <tbody>\n",
       "    <tr>\n",
       "      <th>479</th>\n",
       "      <td>9.0</td>\n",
       "      <td>NaN</td>\n",
       "      <td>NaN</td>\n",
       "      <td>Hydro</td>\n",
       "      <td>NaN</td>\n",
       "    </tr>\n",
       "    <tr>\n",
       "      <th>502</th>\n",
       "      <td>50.0</td>\n",
       "      <td>NaN</td>\n",
       "      <td>NaN</td>\n",
       "      <td>Solar</td>\n",
       "      <td>NaN</td>\n",
       "    </tr>\n",
       "    <tr>\n",
       "      <th>538</th>\n",
       "      <td>5.0</td>\n",
       "      <td>NaN</td>\n",
       "      <td>NaN</td>\n",
       "      <td>Hydro</td>\n",
       "      <td>NaN</td>\n",
       "    </tr>\n",
       "    <tr>\n",
       "      <th>674</th>\n",
       "      <td>22.5</td>\n",
       "      <td>NaN</td>\n",
       "      <td>NaN</td>\n",
       "      <td>Wind</td>\n",
       "      <td>NaN</td>\n",
       "    </tr>\n",
       "    <tr>\n",
       "      <th>732</th>\n",
       "      <td>6.6</td>\n",
       "      <td>NaN</td>\n",
       "      <td>NaN</td>\n",
       "      <td>Hydro</td>\n",
       "      <td>NaN</td>\n",
       "    </tr>\n",
       "    <tr>\n",
       "      <th>741</th>\n",
       "      <td>4.0</td>\n",
       "      <td>NaN</td>\n",
       "      <td>NaN</td>\n",
       "      <td>Hydro</td>\n",
       "      <td>NaN</td>\n",
       "    </tr>\n",
       "  </tbody>\n",
       "</table>\n",
       "</div>"
      ],
      "text/plain": [
       "     capacity_mw  latitude  longitude primary_fuel  total_generation_gwh\n",
       "479          9.0       NaN        NaN        Hydro                   NaN\n",
       "502         50.0       NaN        NaN        Solar                   NaN\n",
       "538          5.0       NaN        NaN        Hydro                   NaN\n",
       "674         22.5       NaN        NaN         Wind                   NaN\n",
       "732          6.6       NaN        NaN        Hydro                   NaN\n",
       "741          4.0       NaN        NaN        Hydro                   NaN"
      ]
     },
     "execution_count": 26,
     "metadata": {},
     "output_type": "execute_result"
    }
   ],
   "source": [
    "#display the duplicates\n",
    "power_plant[duplicated]"
   ]
  },
  {
   "cell_type": "code",
   "execution_count": 27,
   "id": "83ad7d5a",
   "metadata": {},
   "outputs": [],
   "source": [
    "#Removing the duplicates\n",
    "power_plant.drop_duplicates(inplace=True)"
   ]
  },
  {
   "cell_type": "markdown",
   "id": "a381c4f9",
   "metadata": {},
   "source": [
    "We removed the duplicates in our dataset"
   ]
  },
  {
   "cell_type": "code",
   "execution_count": 28,
   "id": "1b3c8e49",
   "metadata": {},
   "outputs": [
    {
     "data": {
      "text/plain": [
       "(901, 5)"
      ]
     },
     "execution_count": 28,
     "metadata": {},
     "output_type": "execute_result"
    }
   ],
   "source": [
    "#dimension of the dataset after removing duplicates\n",
    "power_plant.shape"
   ]
  },
  {
   "cell_type": "code",
   "execution_count": 29,
   "id": "f68ec815",
   "metadata": {},
   "outputs": [],
   "source": [
    "power_plant['total_generation_gwh'].fillna((power_plant['total_generation_gwh'].mean()), inplace=True)"
   ]
  },
  {
   "cell_type": "markdown",
   "id": "8c878ed2",
   "metadata": {},
   "source": [
    "We have 516 missing values in our total_generation_gwh columns. We cannot drop as this will means us loosing a large part of our data. We shall fill the missing values with the mean value."
   ]
  },
  {
   "cell_type": "code",
   "execution_count": 30,
   "id": "3fc71228",
   "metadata": {},
   "outputs": [
    {
     "data": {
      "text/plain": [
       "capacity_mw              0\n",
       "latitude                40\n",
       "longitude               40\n",
       "primary_fuel             0\n",
       "total_generation_gwh     0\n",
       "dtype: int64"
      ]
     },
     "execution_count": 30,
     "metadata": {},
     "output_type": "execute_result"
    }
   ],
   "source": [
    "#checking for missing values after filling total generation with mean\n",
    "power_plant.isna().sum()"
   ]
  },
  {
   "cell_type": "code",
   "execution_count": 31,
   "id": "f3c6b9a5",
   "metadata": {},
   "outputs": [],
   "source": [
    "#Repalce NaN with zero on all columns \n",
    "power_plant = power_plant.fillna(0)"
   ]
  },
  {
   "cell_type": "markdown",
   "id": "47ac034c",
   "metadata": {},
   "source": [
    "We replaced the missing values in the latitude, longitude and total_generation_gwh column with 0 since the missing data is small. "
   ]
  },
  {
   "cell_type": "code",
   "execution_count": 32,
   "id": "7e01989d",
   "metadata": {},
   "outputs": [
    {
     "data": {
      "text/plain": [
       "capacity_mw             0\n",
       "latitude                0\n",
       "longitude               0\n",
       "primary_fuel            0\n",
       "total_generation_gwh    0\n",
       "dtype: int64"
      ]
     },
     "execution_count": 32,
     "metadata": {},
     "output_type": "execute_result"
    }
   ],
   "source": [
    "#checking for missing values after resolving missing values\n",
    "power_plant.isna().sum()"
   ]
  },
  {
   "cell_type": "code",
   "execution_count": 33,
   "id": "4cc732f1",
   "metadata": {},
   "outputs": [
    {
     "data": {
      "text/plain": [
       "capacity_mw             float64\n",
       "latitude                float64\n",
       "longitude               float64\n",
       "primary_fuel              int32\n",
       "total_generation_gwh    float64\n",
       "dtype: object"
      ]
     },
     "execution_count": 33,
     "metadata": {},
     "output_type": "execute_result"
    }
   ],
   "source": [
    "#import Label Encoder from sklearn\n",
    "from sklearn.preprocessing import LabelEncoder,OneHotEncoder,StandardScaler,MinMaxScaler\n",
    "\n",
    "#Converted all categorical values to number\n",
    "#Selects the columns that are not integer\n",
    "columns = list(power_plant.select_dtypes(exclude=['float64','int64']))\n",
    "le = LabelEncoder()\n",
    "for i in columns:\n",
    " #print(i)\n",
    " power_plant[i] = le.fit_transform(power_plant[i])\n",
    "power_plant.dtypes"
   ]
  },
  {
   "cell_type": "markdown",
   "id": "6c13033f",
   "metadata": {},
   "source": [
    "We converted all the categorical variables to numerical variables."
   ]
  },
  {
   "cell_type": "code",
   "execution_count": 34,
   "id": "7db20329",
   "metadata": {},
   "outputs": [
    {
     "data": {
      "image/png": "[encoded data removed]",
      "text/plain": [
       "<Figure size 720x504 with 2 Axes>"
      ]
     },
     "metadata": {
      "needs_background": "light"
     },
     "output_type": "display_data"
    }
   ],
   "source": [
    "# Using heatmap to visualize the correlation between the numerical features.\n",
    "plt.figure(figsize=(10,7))\n",
    "sns.heatmap(power_plant.corr(), annot=True, linewidths = 2, cmap='PiYG')\n",
    "plt.title('Correlation Heatmap')\n",
    "plt.show()"
   ]
  },
  {
   "cell_type": "markdown",
   "id": "a9d246d1",
   "metadata": {},
   "source": [
    "There is a strong positive correlation between electrical generating capacity and the total electricity generated. The higher the plant power generating capacity the more electricity is generated. There's a correlation between longitude and latitude. Latitude and longitude work together to help geographers, cartographers, and other researchers find locations across the world."
   ]
  },
  {
   "cell_type": "code",
   "execution_count": 35,
   "id": "57301a24",
   "metadata": {},
   "outputs": [
    {
     "data": {
      "text/html": [
       "<div>\n",
       "<style scoped>\n",
       "    .dataframe tbody tr th:only-of-type {\n",
       "        vertical-align: middle;\n",
       "    }\n",
       "\n",
       "    .dataframe tbody tr th {\n",
       "        vertical-align: top;\n",
       "    }\n",
       "\n",
       "    .dataframe thead th {\n",
       "        text-align: right;\n",
       "    }\n",
       "</style>\n",
       "<table border=\"1\" class=\"dataframe\">\n",
       "  <thead>\n",
       "    <tr style=\"text-align: right;\">\n",
       "      <th></th>\n",
       "      <th>capacity_mw</th>\n",
       "      <th>latitude</th>\n",
       "      <th>longitude</th>\n",
       "      <th>primary_fuel</th>\n",
       "      <th>total_generation_gwh</th>\n",
       "    </tr>\n",
       "  </thead>\n",
       "  <tbody>\n",
       "    <tr>\n",
       "      <th>0</th>\n",
       "      <td>2.5</td>\n",
       "      <td>28.1839</td>\n",
       "      <td>73.2407</td>\n",
       "      <td>6</td>\n",
       "      <td>13114.831488</td>\n",
       "    </tr>\n",
       "    <tr>\n",
       "      <th>1</th>\n",
       "      <td>98.0</td>\n",
       "      <td>24.7663</td>\n",
       "      <td>74.6090</td>\n",
       "      <td>1</td>\n",
       "      <td>13114.831488</td>\n",
       "    </tr>\n",
       "    <tr>\n",
       "      <th>2</th>\n",
       "      <td>39.2</td>\n",
       "      <td>21.9038</td>\n",
       "      <td>69.3732</td>\n",
       "      <td>7</td>\n",
       "      <td>13114.831488</td>\n",
       "    </tr>\n",
       "    <tr>\n",
       "      <th>3</th>\n",
       "      <td>135.0</td>\n",
       "      <td>23.8712</td>\n",
       "      <td>91.3602</td>\n",
       "      <td>2</td>\n",
       "      <td>3637.554320</td>\n",
       "    </tr>\n",
       "    <tr>\n",
       "      <th>4</th>\n",
       "      <td>1800.0</td>\n",
       "      <td>21.9603</td>\n",
       "      <td>82.4091</td>\n",
       "      <td>1</td>\n",
       "      <td>27859.499736</td>\n",
       "    </tr>\n",
       "    <tr>\n",
       "      <th>5</th>\n",
       "      <td>250.0</td>\n",
       "      <td>23.7689</td>\n",
       "      <td>68.6447</td>\n",
       "      <td>1</td>\n",
       "      <td>5662.606000</td>\n",
       "    </tr>\n",
       "    <tr>\n",
       "      <th>6</th>\n",
       "      <td>60.0</td>\n",
       "      <td>10.4547</td>\n",
       "      <td>77.0078</td>\n",
       "      <td>3</td>\n",
       "      <td>509.131550</td>\n",
       "    </tr>\n",
       "    <tr>\n",
       "      <th>7</th>\n",
       "      <td>192.0</td>\n",
       "      <td>32.2258</td>\n",
       "      <td>77.2070</td>\n",
       "      <td>3</td>\n",
       "      <td>3330.364500</td>\n",
       "    </tr>\n",
       "    <tr>\n",
       "      <th>8</th>\n",
       "      <td>290.0</td>\n",
       "      <td>16.3300</td>\n",
       "      <td>75.8863</td>\n",
       "      <td>3</td>\n",
       "      <td>1872.808900</td>\n",
       "    </tr>\n",
       "    <tr>\n",
       "      <th>9</th>\n",
       "      <td>210.0</td>\n",
       "      <td>23.1642</td>\n",
       "      <td>81.6373</td>\n",
       "      <td>1</td>\n",
       "      <td>7920.380000</td>\n",
       "    </tr>\n",
       "  </tbody>\n",
       "</table>\n",
       "</div>"
      ],
      "text/plain": [
       "   capacity_mw  latitude  longitude  primary_fuel  total_generation_gwh\n",
       "0          2.5   28.1839    73.2407             6          13114.831488\n",
       "1         98.0   24.7663    74.6090             1          13114.831488\n",
       "2         39.2   21.9038    69.3732             7          13114.831488\n",
       "3        135.0   23.8712    91.3602             2           3637.554320\n",
       "4       1800.0   21.9603    82.4091             1          27859.499736\n",
       "5        250.0   23.7689    68.6447             1           5662.606000\n",
       "6         60.0   10.4547    77.0078             3            509.131550\n",
       "7        192.0   32.2258    77.2070             3           3330.364500\n",
       "8        290.0   16.3300    75.8863             3           1872.808900\n",
       "9        210.0   23.1642    81.6373             1           7920.380000"
      ]
     },
     "execution_count": 35,
     "metadata": {},
     "output_type": "execute_result"
    }
   ],
   "source": [
    "#Viewing the first 10 rows in our dataset\n",
    "power_plant.head(10)"
   ]
  },
  {
   "cell_type": "code",
   "execution_count": 36,
   "id": "ff8f62ac",
   "metadata": {},
   "outputs": [
    {
     "data": {
      "text/html": [
       "<div>\n",
       "<style scoped>\n",
       "    .dataframe tbody tr th:only-of-type {\n",
       "        vertical-align: middle;\n",
       "    }\n",
       "\n",
       "    .dataframe tbody tr th {\n",
       "        vertical-align: top;\n",
       "    }\n",
       "\n",
       "    .dataframe thead th {\n",
       "        text-align: right;\n",
       "    }\n",
       "</style>\n",
       "<table border=\"1\" class=\"dataframe\">\n",
       "  <thead>\n",
       "    <tr style=\"text-align: right;\">\n",
       "      <th></th>\n",
       "      <th>capacity_mw</th>\n",
       "      <th>latitude</th>\n",
       "      <th>longitude</th>\n",
       "      <th>total_generation_gwh</th>\n",
       "    </tr>\n",
       "  </thead>\n",
       "  <tbody>\n",
       "    <tr>\n",
       "      <th>0</th>\n",
       "      <td>2.5</td>\n",
       "      <td>28.1839</td>\n",
       "      <td>73.2407</td>\n",
       "      <td>13114.831488</td>\n",
       "    </tr>\n",
       "    <tr>\n",
       "      <th>1</th>\n",
       "      <td>98.0</td>\n",
       "      <td>24.7663</td>\n",
       "      <td>74.6090</td>\n",
       "      <td>13114.831488</td>\n",
       "    </tr>\n",
       "    <tr>\n",
       "      <th>2</th>\n",
       "      <td>39.2</td>\n",
       "      <td>21.9038</td>\n",
       "      <td>69.3732</td>\n",
       "      <td>13114.831488</td>\n",
       "    </tr>\n",
       "    <tr>\n",
       "      <th>3</th>\n",
       "      <td>135.0</td>\n",
       "      <td>23.8712</td>\n",
       "      <td>91.3602</td>\n",
       "      <td>3637.554320</td>\n",
       "    </tr>\n",
       "    <tr>\n",
       "      <th>4</th>\n",
       "      <td>1800.0</td>\n",
       "      <td>21.9603</td>\n",
       "      <td>82.4091</td>\n",
       "      <td>27859.499736</td>\n",
       "    </tr>\n",
       "    <tr>\n",
       "      <th>...</th>\n",
       "      <td>...</td>\n",
       "      <td>...</td>\n",
       "      <td>...</td>\n",
       "      <td>...</td>\n",
       "    </tr>\n",
       "    <tr>\n",
       "      <th>902</th>\n",
       "      <td>1600.0</td>\n",
       "      <td>16.2949</td>\n",
       "      <td>77.3568</td>\n",
       "      <td>13114.831488</td>\n",
       "    </tr>\n",
       "    <tr>\n",
       "      <th>903</th>\n",
       "      <td>3.0</td>\n",
       "      <td>12.8932</td>\n",
       "      <td>78.1654</td>\n",
       "      <td>13114.831488</td>\n",
       "    </tr>\n",
       "    <tr>\n",
       "      <th>904</th>\n",
       "      <td>25.5</td>\n",
       "      <td>15.2758</td>\n",
       "      <td>75.5811</td>\n",
       "      <td>13114.831488</td>\n",
       "    </tr>\n",
       "    <tr>\n",
       "      <th>905</th>\n",
       "      <td>80.0</td>\n",
       "      <td>24.3500</td>\n",
       "      <td>73.7477</td>\n",
       "      <td>13114.831488</td>\n",
       "    </tr>\n",
       "    <tr>\n",
       "      <th>906</th>\n",
       "      <td>16.5</td>\n",
       "      <td>9.9344</td>\n",
       "      <td>77.4768</td>\n",
       "      <td>13114.831488</td>\n",
       "    </tr>\n",
       "  </tbody>\n",
       "</table>\n",
       "<p>901 rows × 4 columns</p>\n",
       "</div>"
      ],
      "text/plain": [
       "     capacity_mw  latitude  longitude  total_generation_gwh\n",
       "0            2.5   28.1839    73.2407          13114.831488\n",
       "1           98.0   24.7663    74.6090          13114.831488\n",
       "2           39.2   21.9038    69.3732          13114.831488\n",
       "3          135.0   23.8712    91.3602           3637.554320\n",
       "4         1800.0   21.9603    82.4091          27859.499736\n",
       "..           ...       ...        ...                   ...\n",
       "902       1600.0   16.2949    77.3568          13114.831488\n",
       "903          3.0   12.8932    78.1654          13114.831488\n",
       "904         25.5   15.2758    75.5811          13114.831488\n",
       "905         80.0   24.3500    73.7477          13114.831488\n",
       "906         16.5    9.9344    77.4768          13114.831488\n",
       "\n",
       "[901 rows x 4 columns]"
      ]
     },
     "execution_count": 36,
     "metadata": {},
     "output_type": "execute_result"
    }
   ],
   "source": [
    "# split data into x and y\n",
    "X = power_plant.drop('primary_fuel',axis =1)\n",
    "y = power_plant['primary_fuel']\n",
    "X"
   ]
  },
  {
   "cell_type": "code",
   "execution_count": 37,
   "id": "14775da1",
   "metadata": {},
   "outputs": [
    {
     "data": {
      "text/html": [
       "<div>\n",
       "<style scoped>\n",
       "    .dataframe tbody tr th:only-of-type {\n",
       "        vertical-align: middle;\n",
       "    }\n",
       "\n",
       "    .dataframe tbody tr th {\n",
       "        vertical-align: top;\n",
       "    }\n",
       "\n",
       "    .dataframe thead th {\n",
       "        text-align: right;\n",
       "    }\n",
       "</style>\n",
       "<table border=\"1\" class=\"dataframe\">\n",
       "  <thead>\n",
       "    <tr style=\"text-align: right;\">\n",
       "      <th></th>\n",
       "      <th>capacity_mw</th>\n",
       "      <th>latitude</th>\n",
       "      <th>longitude</th>\n",
       "      <th>total_generation_gwh</th>\n",
       "    </tr>\n",
       "  </thead>\n",
       "  <tbody>\n",
       "    <tr>\n",
       "      <th>0</th>\n",
       "      <td>-0.551087</td>\n",
       "      <td>1.057182</td>\n",
       "      <td>-0.047101</td>\n",
       "      <td>0.000000</td>\n",
       "    </tr>\n",
       "    <tr>\n",
       "      <th>1</th>\n",
       "      <td>-0.389544</td>\n",
       "      <td>0.601398</td>\n",
       "      <td>0.034984</td>\n",
       "      <td>0.000000</td>\n",
       "    </tr>\n",
       "    <tr>\n",
       "      <th>2</th>\n",
       "      <td>-0.489007</td>\n",
       "      <td>0.219645</td>\n",
       "      <td>-0.279114</td>\n",
       "      <td>0.000000</td>\n",
       "    </tr>\n",
       "    <tr>\n",
       "      <th>3</th>\n",
       "      <td>-0.326957</td>\n",
       "      <td>0.482025</td>\n",
       "      <td>1.039896</td>\n",
       "      <td>-0.680985</td>\n",
       "    </tr>\n",
       "    <tr>\n",
       "      <th>4</th>\n",
       "      <td>2.489472</td>\n",
       "      <td>0.227180</td>\n",
       "      <td>0.502915</td>\n",
       "      <td>1.059471</td>\n",
       "    </tr>\n",
       "    <tr>\n",
       "      <th>...</th>\n",
       "      <td>...</td>\n",
       "      <td>...</td>\n",
       "      <td>...</td>\n",
       "      <td>...</td>\n",
       "    </tr>\n",
       "    <tr>\n",
       "      <th>896</th>\n",
       "      <td>2.151162</td>\n",
       "      <td>-0.528378</td>\n",
       "      <td>0.199826</td>\n",
       "      <td>0.000000</td>\n",
       "    </tr>\n",
       "    <tr>\n",
       "      <th>897</th>\n",
       "      <td>-0.550241</td>\n",
       "      <td>-0.982040</td>\n",
       "      <td>0.248334</td>\n",
       "      <td>0.000000</td>\n",
       "    </tr>\n",
       "    <tr>\n",
       "      <th>898</th>\n",
       "      <td>-0.512181</td>\n",
       "      <td>-0.664288</td>\n",
       "      <td>0.093301</td>\n",
       "      <td>0.000000</td>\n",
       "    </tr>\n",
       "    <tr>\n",
       "      <th>899</th>\n",
       "      <td>-0.419992</td>\n",
       "      <td>0.545879</td>\n",
       "      <td>-0.016686</td>\n",
       "      <td>0.000000</td>\n",
       "    </tr>\n",
       "    <tr>\n",
       "      <th>900</th>\n",
       "      <td>-0.527405</td>\n",
       "      <td>-1.376636</td>\n",
       "      <td>0.207024</td>\n",
       "      <td>0.000000</td>\n",
       "    </tr>\n",
       "  </tbody>\n",
       "</table>\n",
       "<p>901 rows × 4 columns</p>\n",
       "</div>"
      ],
      "text/plain": [
       "     capacity_mw  latitude  longitude  total_generation_gwh\n",
       "0      -0.551087  1.057182  -0.047101              0.000000\n",
       "1      -0.389544  0.601398   0.034984              0.000000\n",
       "2      -0.489007  0.219645  -0.279114              0.000000\n",
       "3      -0.326957  0.482025   1.039896             -0.680985\n",
       "4       2.489472  0.227180   0.502915              1.059471\n",
       "..           ...       ...        ...                   ...\n",
       "896     2.151162 -0.528378   0.199826              0.000000\n",
       "897    -0.550241 -0.982040   0.248334              0.000000\n",
       "898    -0.512181 -0.664288   0.093301              0.000000\n",
       "899    -0.419992  0.545879  -0.016686              0.000000\n",
       "900    -0.527405 -1.376636   0.207024              0.000000\n",
       "\n",
       "[901 rows x 4 columns]"
      ]
     },
     "execution_count": 37,
     "metadata": {},
     "output_type": "execute_result"
    }
   ],
   "source": [
    "#Standardization of a dataset\n",
    "from sklearn.preprocessing import StandardScaler\n",
    "sc=StandardScaler()\n",
    "X_train=sc.fit_transform(X)\n",
    "X_test=sc.transform(X)\n",
    "tabel_col = X.columns\n",
    "x = pd.DataFrame(X_train, columns = tabel_col)\n",
    "x"
   ]
  },
  {
   "cell_type": "code",
   "execution_count": 38,
   "id": "f91b2392",
   "metadata": {},
   "outputs": [
    {
     "data": {
      "text/plain": [
       "6    258\n",
       "1    258\n",
       "7    258\n",
       "2    258\n",
       "3    258\n",
       "0    258\n",
       "5    258\n",
       "4    258\n",
       "Name: primary_fuel, dtype: int64"
      ]
     },
     "execution_count": 38,
     "metadata": {},
     "output_type": "execute_result"
    }
   ],
   "source": [
    "from imblearn.over_sampling import SMOTE\n",
    "#Used oversampling to handling imbalance in the Type of Glass column\n",
    "term_sm = SMOTE()\n",
    "X_res, y_res = term_sm.fit_resample(x, y)\n",
    "y_res.value_counts()"
   ]
  },
  {
   "cell_type": "markdown",
   "id": "3235a5f2",
   "metadata": {},
   "source": [
    "There was class imbalance in our primary_fuel column. So we used the SMOTE algorithm to balance the classes."
   ]
  },
  {
   "cell_type": "markdown",
   "id": "27349598",
   "metadata": {},
   "source": [
    "# Model Building for Primary Fuel Prediction"
   ]
  },
  {
   "cell_type": "code",
   "execution_count": 39,
   "id": "46449b27",
   "metadata": {},
   "outputs": [
    {
     "data": {
      "text/plain": [
       "((1651, 4), (413, 4), (1651,), (413,))"
      ]
     },
     "execution_count": 39,
     "metadata": {},
     "output_type": "execute_result"
    }
   ],
   "source": [
    "# splitting the features into train and test\n",
    "X_train, X_test, y_train, y_test = train_test_split(X_res, y_res, test_size = 0.20, random_state = 42)\n",
    "\n",
    "# Viewing the dimensions of our training and testing data\n",
    "X_train.shape,X_test.shape,y_train.shape,y_test.shape"
   ]
  },
  {
   "cell_type": "markdown",
   "id": "5637b548",
   "metadata": {},
   "source": [
    "We splitted our data in X_train, X_test, y_train and y_test. We shall be using the train variables for the purpose of training our model while the test variables will be used to validate the performance of our model. 80% of our data will be used to train the model while 20% will be used for model validation."
   ]
  },
  {
   "cell_type": "code",
   "execution_count": 40,
   "id": "9d668cdb",
   "metadata": {},
   "outputs": [
    {
     "name": "stdout",
     "output_type": "stream",
     "text": [
      "The Accuracy for Xgboost Classifier is:  0.8547215496368039\n",
      "\n",
      "\n",
      "[[45  0  0  0  0  0  1  1]\n",
      " [ 0 34  3  5  4  0  1  5]\n",
      " [ 0  2 37  2  1  1  0  0]\n",
      " [ 2  3  1 37  0  0  2  6]\n",
      " [ 0  1  2  0 49  0  0  0]\n",
      " [ 0  1  1  1  0 56  0  2]\n",
      " [ 0  0  1  1  0  0 45  2]\n",
      " [ 1  0  0  2  0  1  4 50]]\n",
      "\n",
      "\n",
      "Classification Report:\n",
      "              precision    recall  f1-score   support\n",
      "\n",
      "           0       0.94      0.96      0.95        47\n",
      "           1       0.83      0.65      0.73        52\n",
      "           2       0.82      0.86      0.84        43\n",
      "           3       0.77      0.73      0.75        51\n",
      "           4       0.91      0.94      0.92        52\n",
      "           5       0.97      0.92      0.94        61\n",
      "           6       0.85      0.92      0.88        49\n",
      "           7       0.76      0.86      0.81        58\n",
      "\n",
      "    accuracy                           0.85       413\n",
      "   macro avg       0.85      0.85      0.85       413\n",
      "weighted avg       0.86      0.85      0.85       413\n",
      "\n"
     ]
    }
   ],
   "source": [
    "# Create a Xgboost classifier\n",
    "from xgboost import XGBClassifier\n",
    "xgb = XGBClassifier()\n",
    "xgb.fit(X_train, y_train)\n",
    "\n",
    "y_pred_xgb = xgb.predict(X_test)\n",
    "# Evaluate the model's accuracy\n",
    "accuracy = accuracy_score(y_test, y_pred_xgb)\n",
    "print(f\"The Accuracy for Xgboost Classifier is: \",accuracy)\n",
    "print('\\n')\n",
    "\n",
    "# Display a classification report for more detailed metrics\n",
    "report = classification_report(y_test, y_pred_xgb)\n",
    "print(confusion_matrix(y_test, y_pred_xgb))\n",
    "print('\\n')\n",
    "print(\"Classification Report:\")\n",
    "print(report)"
   ]
  },
  {
   "cell_type": "code",
   "execution_count": 41,
   "id": "597efa24",
   "metadata": {},
   "outputs": [
    {
     "name": "stdout",
     "output_type": "stream",
     "text": [
      "Cross-validation scores: [0.85800604 0.85151515 0.81515152 0.84545455 0.83636364]\n",
      "Mean accuracy: 0.84\n",
      "\n",
      "\n",
      "The difference between the accuracy score and the cross validation score is: 0.013423371480619783\n"
     ]
    }
   ],
   "source": [
    "results = []\n",
    "scores = cross_val_score(xgb, X_train, y_train, cv=5) \n",
    "print(\"Cross-validation scores:\", scores)\n",
    "\n",
    "# Calculate and print the mean of the scores\n",
    "mean_score = scores.mean()\n",
    "\n",
    "print(f\"Mean accuracy: {mean_score:.2f}\")\n",
    "\n",
    "print('\\n')\n",
    "print(f'The difference between the accuracy score and the cross validation score is: {accuracy- mean_score}')\n",
    "\n",
    "\n",
    "diff = accuracy - mean_score\n",
    "results.append(['Xgboost Classifier', accuracy, mean_score, diff])"
   ]
  },
  {
   "cell_type": "code",
   "execution_count": 42,
   "id": "1ec9957d",
   "metadata": {},
   "outputs": [
    {
     "name": "stdout",
     "output_type": "stream",
     "text": [
      "The Accuracy for Gradient Boosting Classifier is:  0.8111380145278451\n",
      "\n",
      "\n",
      "[[41  0  0  0  0  0  3  3]\n",
      " [ 3 31  7  4  3  0  2  2]\n",
      " [ 0  3 37  1  0  2  0  0]\n",
      " [ 3  5  3 31  0  0  2  7]\n",
      " [ 0  1  0  0 51  0  0  0]\n",
      " [ 0  2  1  1  0 55  0  2]\n",
      " [ 1  1  1  1  0  0 42  3]\n",
      " [ 3  1  0  2  0  1  4 47]]\n",
      "\n",
      "\n",
      "Classification Report:\n",
      "              precision    recall  f1-score   support\n",
      "\n",
      "           0       0.80      0.87      0.84        47\n",
      "           1       0.70      0.60      0.65        52\n",
      "           2       0.76      0.86      0.80        43\n",
      "           3       0.78      0.61      0.68        51\n",
      "           4       0.94      0.98      0.96        52\n",
      "           5       0.95      0.90      0.92        61\n",
      "           6       0.79      0.86      0.82        49\n",
      "           7       0.73      0.81      0.77        58\n",
      "\n",
      "    accuracy                           0.81       413\n",
      "   macro avg       0.81      0.81      0.81       413\n",
      "weighted avg       0.81      0.81      0.81       413\n",
      "\n"
     ]
    }
   ],
   "source": [
    "# Create a Gradient Boosting Classifier\n",
    "gb = GradientBoostingClassifier()\n",
    "gb.fit(X_train, y_train)\n",
    "\n",
    "y_pred_gb = gb.predict(X_test)\n",
    "# Evaluate the model's accuracy\n",
    "accuracy = accuracy_score(y_test, y_pred_gb)\n",
    "print(f\"The Accuracy for Gradient Boosting Classifier is: \",accuracy)\n",
    "print('\\n')\n",
    "\n",
    "# Display a classification report for more detailed metrics\n",
    "report = classification_report(y_test, y_pred_gb)\n",
    "print(confusion_matrix(y_test, y_pred_gb))\n",
    "print('\\n')\n",
    "print(\"Classification Report:\")\n",
    "print(report)"
   ]
  },
  {
   "cell_type": "code",
   "execution_count": 43,
   "id": "4a9d8da1",
   "metadata": {},
   "outputs": [
    {
     "name": "stdout",
     "output_type": "stream",
     "text": [
      "Cross-validation scores: [0.81873112 0.80606061 0.77272727 0.77878788 0.81515152]\n",
      "Mean accuracy: 0.80\n",
      "\n",
      "\n",
      "The difference between the accuracy score and the cross validation score is: 0.012846336417435933\n"
     ]
    }
   ],
   "source": [
    "scores1 = cross_val_score(gb, X_train, y_train, cv=5) \n",
    "print(\"Cross-validation scores:\", scores1)\n",
    "\n",
    "# Calculate and print the mean of the scores\n",
    "mean_score = scores1.mean()\n",
    "\n",
    "print(f\"Mean accuracy: {mean_score:.2f}\")\n",
    "\n",
    "print('\\n')\n",
    "print(f'The difference between the accuracy score and the cross validation score is: {accuracy- mean_score}')\n",
    "\n",
    "\n",
    "diff = accuracy - mean_score\n",
    "results.append(['Gradient Boosting Classifier', accuracy, mean_score, diff])"
   ]
  },
  {
   "cell_type": "code",
   "execution_count": 44,
   "id": "386cff70",
   "metadata": {},
   "outputs": [
    {
     "name": "stdout",
     "output_type": "stream",
     "text": [
      "The Accuracy for Decision Tree: 0.83\n",
      "\n",
      "\n",
      "[[45  0  1  0  0  0  1  0]\n",
      " [ 2 32  3  5  3  0  3  4]\n",
      " [ 0  4 37  1  0  1  0  0]\n",
      " [ 4  3  2 33  0  1  3  5]\n",
      " [ 0  5  0  0 47  0  0  0]\n",
      " [ 0  1  2  2  0 53  0  3]\n",
      " [ 0  1  0  3  0  0 43  2]\n",
      " [ 0  0  0  2  0  1  2 53]]\n",
      "\n",
      "\n",
      "Classification Report:\n",
      "              precision    recall  f1-score   support\n",
      "\n",
      "           0       0.88      0.96      0.92        47\n",
      "           1       0.70      0.62      0.65        52\n",
      "           2       0.82      0.86      0.84        43\n",
      "           3       0.72      0.65      0.68        51\n",
      "           4       0.94      0.90      0.92        52\n",
      "           5       0.95      0.87      0.91        61\n",
      "           6       0.83      0.88      0.85        49\n",
      "           7       0.79      0.91      0.85        58\n",
      "\n",
      "    accuracy                           0.83       413\n",
      "   macro avg       0.83      0.83      0.83       413\n",
      "weighted avg       0.83      0.83      0.83       413\n",
      "\n"
     ]
    }
   ],
   "source": [
    "# Create a Decision Tree classifier\n",
    "dt = DecisionTreeClassifier()\n",
    "dt.fit(X_train, y_train)\n",
    "y_pred_dt = dt.predict(X_test)\n",
    "\n",
    "# Evaluate the model's accuracy\n",
    "accuracy = accuracy_score(y_test, y_pred_dt)\n",
    "print(f\"The Accuracy for Decision Tree: {accuracy:.2f}\")\n",
    "print('\\n')\n",
    "# Display a classification report for more detailed metrics\n",
    "report = classification_report(y_test, y_pred_dt)\n",
    "print(confusion_matrix(y_test, y_pred_dt))\n",
    "print('\\n')\n",
    "print(\"Classification Report:\")\n",
    "print(report)"
   ]
  },
  {
   "cell_type": "code",
   "execution_count": 45,
   "id": "d9fe0c0b",
   "metadata": {},
   "outputs": [
    {
     "name": "stdout",
     "output_type": "stream",
     "text": [
      "Cross-validation scores: [0.78247734 0.78484848 0.77878788 0.76363636 0.81515152]\n",
      "Mean accuracy: 0.78\n",
      "\n",
      "\n",
      "The difference between the accuracy score and the cross validation score is: 0.04552815781347708\n"
     ]
    }
   ],
   "source": [
    "scores2 = cross_val_score(dt, X_train, y_train,cv=5)\n",
    "print(\"Cross-validation scores:\", scores2)\n",
    "\n",
    "# Calculate and print the mean of the scores\n",
    "mean_score = scores2.mean()\n",
    "\n",
    "print(f\"Mean accuracy: {mean_score:.2f}\")\n",
    "print('\\n')\n",
    "print(f'The difference between the accuracy score and the cross validation score is: {accuracy- mean_score}')\n",
    "\n",
    "\n",
    "diff = accuracy - mean_score\n",
    "results.append(['Decision Tree',accuracy, mean_score, diff])"
   ]
  },
  {
   "cell_type": "code",
   "execution_count": 46,
   "id": "b7f83e52",
   "metadata": {},
   "outputs": [
    {
     "name": "stdout",
     "output_type": "stream",
     "text": [
      "The Accuracy for Random Forest is: 0.84\n",
      "\n",
      "\n",
      "[[44  0  1  0  0  0  1  1]\n",
      " [ 2 32  3  5  4  0  2  4]\n",
      " [ 0  2 39  0  0  2  0  0]\n",
      " [ 4  2  2 30  1  0  5  7]\n",
      " [ 0  1  1  0 50  0  0  0]\n",
      " [ 0  1  0  1  0 56  0  3]\n",
      " [ 1  1  0  1  0  0 45  1]\n",
      " [ 2  0  0  2  0  1  2 51]]\n",
      "\n",
      "\n",
      "Classification Report:\n",
      "              precision    recall  f1-score   support\n",
      "\n",
      "           0       0.83      0.94      0.88        47\n",
      "           1       0.82      0.62      0.70        52\n",
      "           2       0.85      0.91      0.88        43\n",
      "           3       0.77      0.59      0.67        51\n",
      "           4       0.91      0.96      0.93        52\n",
      "           5       0.95      0.92      0.93        61\n",
      "           6       0.82      0.92      0.87        49\n",
      "           7       0.76      0.88      0.82        58\n",
      "\n",
      "    accuracy                           0.84       413\n",
      "   macro avg       0.84      0.84      0.83       413\n",
      "weighted avg       0.84      0.84      0.84       413\n",
      "\n"
     ]
    }
   ],
   "source": [
    "# Create a Random Forest classifier\n",
    "rf = RandomForestClassifier()\n",
    "rf.fit(X_train, y_train)\n",
    "y_pred = rf.predict(X_test)\n",
    "\n",
    "# Evaluate the model's accuracy\n",
    "accuracy = accuracy_score(y_test, y_pred)\n",
    "print(f\"The Accuracy for Random Forest is: {accuracy:.2f}\")\n",
    "print('\\n')\n",
    "# Display a classification report for more detailed metrics\n",
    "report = classification_report(y_test, y_pred)\n",
    "print(confusion_matrix(y_test, y_pred))\n",
    "print('\\n')\n",
    "print(\"Classification Report:\")\n",
    "print(report)"
   ]
  },
  {
   "cell_type": "code",
   "execution_count": 47,
   "id": "d232fe90",
   "metadata": {},
   "outputs": [
    {
     "name": "stdout",
     "output_type": "stream",
     "text": [
      "Cross-validation scores: [0.85800604 0.85151515 0.83636364 0.83636364 0.82424242]\n",
      "Mean accuracy: 0.84\n",
      "\n",
      "\n",
      "The difference between the accuracy score and the cross validation score is: -0.0011044735557000918\n"
     ]
    }
   ],
   "source": [
    "scores3 = cross_val_score(rf, X_train, y_train,cv=5)  # You can choose a different scoring metric\n",
    "print(\"Cross-validation scores:\", scores3)\n",
    "\n",
    "# Calculate and print the mean of the scores\n",
    "mean_score = scores3.mean()\n",
    "\n",
    "print(f\"Mean accuracy: {mean_score:.2f}\")\n",
    "print('\\n')\n",
    "print(f'The difference between the accuracy score and the cross validation score is: {accuracy- mean_score}')\n",
    "\n",
    "\n",
    "diff = accuracy - mean_score\n",
    "results.append(['Random Forest',accuracy, mean_score, diff])"
   ]
  },
  {
   "cell_type": "code",
   "execution_count": 48,
   "id": "a6037f4c",
   "metadata": {},
   "outputs": [
    {
     "name": "stdout",
     "output_type": "stream",
     "text": [
      "The Accuracy for knn is:  0.7481840193704601\n",
      "\n",
      "\n",
      "[[44  0  0  0  0  0  3  0]\n",
      " [ 5 23  4  4 12  1  2  1]\n",
      " [ 0  2 35  2  1  3  0  0]\n",
      " [ 3  4  7 25  0  1  1 10]\n",
      " [ 0  2  2  0 47  1  0  0]\n",
      " [ 3  1  4  1  0 51  0  1]\n",
      " [ 6  0  1  1  1  1 37  2]\n",
      " [ 2  2  1  1  0  1  4 47]]\n",
      "              precision    recall  f1-score   support\n",
      "\n",
      "           0       0.70      0.94      0.80        47\n",
      "           1       0.68      0.44      0.53        52\n",
      "           2       0.65      0.81      0.72        43\n",
      "           3       0.74      0.49      0.59        51\n",
      "           4       0.77      0.90      0.83        52\n",
      "           5       0.86      0.84      0.85        61\n",
      "           6       0.79      0.76      0.77        49\n",
      "           7       0.77      0.81      0.79        58\n",
      "\n",
      "    accuracy                           0.75       413\n",
      "   macro avg       0.74      0.75      0.74       413\n",
      "weighted avg       0.75      0.75      0.74       413\n",
      "\n"
     ]
    }
   ],
   "source": [
    "from sklearn.neighbors import KNeighborsClassifier\n",
    "knn = KNeighborsClassifier()\n",
    "knn.fit(X_train, y_train)\n",
    "prediction_knn = knn.predict(X_test)\n",
    "accuracy = accuracy_score(y_test, prediction_knn)\n",
    "# Display a classification report for more detailed metrics\n",
    "print(f\"The Accuracy for knn is: \", accuracy)\n",
    "print('\\n')\n",
    "\n",
    "print(confusion_matrix(y_test, prediction_knn))\n",
    "print(classification_report(y_test, prediction_knn))"
   ]
  },
  {
   "cell_type": "code",
   "execution_count": 49,
   "id": "7a5510af",
   "metadata": {},
   "outputs": [
    {
     "name": "stdout",
     "output_type": "stream",
     "text": [
      "Cross-validation scores: [0.80362538 0.79393939 0.73939394 0.77272727 0.75757576]\n",
      "Mean accuracy: 0.77\n",
      "\n",
      "\n",
      "The difference between the accuracy score and the cross validation score is: -0.02526832888551367\n"
     ]
    }
   ],
   "source": [
    "scores4 = cross_val_score(knn, X_train, y_train,cv=5) \n",
    "print(\"Cross-validation scores:\", scores4)\n",
    "\n",
    "# Calculate and print the mean of the scores\n",
    "mean_score = scores4.mean()\n",
    "\n",
    "print(f\"Mean accuracy: {mean_score:.2f}\")\n",
    "\n",
    "print('\\n')\n",
    "print(f'The difference between the accuracy score and the cross validation score is: {accuracy- mean_score}')\n",
    "\n",
    "\n",
    "diff = accuracy - mean_score\n",
    "results.append(['k-Nearest Neighbors',accuracy, mean_score, diff])"
   ]
  },
  {
   "cell_type": "markdown",
   "id": "e86d29d2",
   "metadata": {},
   "source": [
    "#### Difference between accuracy and Cross Validtion Score"
   ]
  },
  {
   "cell_type": "code",
   "execution_count": 50,
   "id": "b64e8d70",
   "metadata": {},
   "outputs": [
    {
     "data": {
      "text/html": [
       "<div>\n",
       "<style scoped>\n",
       "    .dataframe tbody tr th:only-of-type {\n",
       "        vertical-align: middle;\n",
       "    }\n",
       "\n",
       "    .dataframe tbody tr th {\n",
       "        vertical-align: top;\n",
       "    }\n",
       "\n",
       "    .dataframe thead th {\n",
       "        text-align: right;\n",
       "    }\n",
       "</style>\n",
       "<table border=\"1\" class=\"dataframe\">\n",
       "  <thead>\n",
       "    <tr style=\"text-align: right;\">\n",
       "      <th></th>\n",
       "      <th>Algorithm</th>\n",
       "      <th>Accuracy Score</th>\n",
       "      <th>Cross Validation Score</th>\n",
       "      <th>Difference btw accuracy and Cross Validtion Score</th>\n",
       "    </tr>\n",
       "  </thead>\n",
       "  <tbody>\n",
       "    <tr>\n",
       "      <th>0</th>\n",
       "      <td>Xgboost Classifier</td>\n",
       "      <td>0.854722</td>\n",
       "      <td>0.841298</td>\n",
       "      <td>0.013423</td>\n",
       "    </tr>\n",
       "    <tr>\n",
       "      <th>1</th>\n",
       "      <td>Gradient Boosting Classifier</td>\n",
       "      <td>0.811138</td>\n",
       "      <td>0.798292</td>\n",
       "      <td>0.012846</td>\n",
       "    </tr>\n",
       "    <tr>\n",
       "      <th>2</th>\n",
       "      <td>Decision Tree</td>\n",
       "      <td>0.830508</td>\n",
       "      <td>0.784980</td>\n",
       "      <td>0.045528</td>\n",
       "    </tr>\n",
       "    <tr>\n",
       "      <th>3</th>\n",
       "      <td>Random Forest</td>\n",
       "      <td>0.840194</td>\n",
       "      <td>0.841298</td>\n",
       "      <td>-0.001104</td>\n",
       "    </tr>\n",
       "    <tr>\n",
       "      <th>4</th>\n",
       "      <td>k-Nearest Neighbors</td>\n",
       "      <td>0.748184</td>\n",
       "      <td>0.773452</td>\n",
       "      <td>-0.025268</td>\n",
       "    </tr>\n",
       "  </tbody>\n",
       "</table>\n",
       "</div>"
      ],
      "text/plain": [
       "                      Algorithm  Accuracy Score  Cross Validation Score  \\\n",
       "0            Xgboost Classifier        0.854722                0.841298   \n",
       "1  Gradient Boosting Classifier        0.811138                0.798292   \n",
       "2                 Decision Tree        0.830508                0.784980   \n",
       "3                 Random Forest        0.840194                0.841298   \n",
       "4           k-Nearest Neighbors        0.748184                0.773452   \n",
       "\n",
       "   Difference btw accuracy and Cross Validtion Score  \n",
       "0                                           0.013423  \n",
       "1                                           0.012846  \n",
       "2                                           0.045528  \n",
       "3                                          -0.001104  \n",
       "4                                          -0.025268  "
      ]
     },
     "execution_count": 50,
     "metadata": {},
     "output_type": "execute_result"
    }
   ],
   "source": [
    "# create dataframe for all the accuracy scores and cross validation score for the models used\n",
    "df = pd.DataFrame(results, columns=['Algorithm', 'Accuracy Score','Cross Validation Score', 'Difference btw accuracy and Cross Validtion Score'])\n",
    "df"
   ]
  },
  {
   "cell_type": "markdown",
   "id": "d829ecbc",
   "metadata": {},
   "source": [
    "#### Selection of the best model"
   ]
  },
  {
   "cell_type": "code",
   "execution_count": 51,
   "id": "62f6b224",
   "metadata": {},
   "outputs": [
    {
     "name": "stdout",
     "output_type": "stream",
     "text": [
      "From the table above, my best model is the k-Nearest Neighbors\n"
     ]
    }
   ],
   "source": [
    "#Selection of the best model based on the difference between the accuracy and cross validation score\n",
    "least_value = min(df['Difference btw accuracy and Cross Validtion Score'].tolist())\n",
    "best_model = df.loc[(df['Difference btw accuracy and Cross Validtion Score']) == least_value, 'Algorithm']\n",
    "best_model = ' '.join(str(best_model).split()[1:-4])\n",
    "print('From the table above, my best model is the', best_model)"
   ]
  },
  {
   "cell_type": "markdown",
   "id": "80e66b8b",
   "metadata": {},
   "source": [
    "### Model Selection\n",
    "\n",
    "For the primary_fuel prediction, we selected the k-Nearest Neighbors Classifier as our best model because it had the smallest value after the accuracy score was subtracted from the cross validation score."
   ]
  },
  {
   "cell_type": "code",
   "execution_count": 52,
   "id": "b124fc85",
   "metadata": {},
   "outputs": [],
   "source": [
    "from sklearn.model_selection import GridSearchCV\n",
    "\n",
    "model_best = KNeighborsClassifier()\n",
    "\n",
    "params_grid = {'n_neighbors' : [5,7,9,11,13,15],\n",
    "               'weights' : ['uniform','distance'],\n",
    "               'metric' : ['minkowski','euclidean','manhattan']}"
   ]
  },
  {
   "cell_type": "code",
   "execution_count": 53,
   "id": "a8617486",
   "metadata": {},
   "outputs": [
    {
     "data": {
      "text/plain": [
       "GridSearchCV(cv=5, estimator=KNeighborsClassifier(),\n",
       "             param_grid={'metric': ['minkowski', 'euclidean', 'manhattan'],\n",
       "                         'n_neighbors': [5, 7, 9, 11, 13, 15],\n",
       "                         'weights': ['uniform', 'distance']})"
      ]
     },
     "execution_count": 53,
     "metadata": {},
     "output_type": "execute_result"
    }
   ],
   "source": [
    "gd_search = GridSearchCV(model_best, params_grid, cv = 5)\n",
    "gd_search.fit(X_train, y_train)"
   ]
  },
  {
   "cell_type": "code",
   "execution_count": 54,
   "id": "df5c0620",
   "metadata": {},
   "outputs": [
    {
     "name": "stdout",
     "output_type": "stream",
     "text": [
      "The best n_neighbors is : 5 \n",
      "The best weights: distance \n",
      "The best metric: manhattan\n"
     ]
    }
   ],
   "source": [
    "#display the best parameters from the search\n",
    "\n",
    "print(\"The best n_neighbors is : \" + str(gd_search.best_params_[\"n_neighbors\"]),\n",
    "     \"\\nThe best weights: \" + str(gd_search.best_params_[\"weights\"]),\n",
    "     \"\\nThe best metric: \" + str(gd_search.best_params_[\"metric\"]))"
   ]
  },
  {
   "cell_type": "code",
   "execution_count": 55,
   "id": "de4f03d1",
   "metadata": {},
   "outputs": [
    {
     "data": {
      "text/plain": [
       "0.8256658595641646"
      ]
     },
     "execution_count": 55,
     "metadata": {},
     "output_type": "execute_result"
    }
   ],
   "source": [
    "# train the model with the selected parameter\n",
    "power_model = KNeighborsClassifier(n_neighbors  = 5, weights= 'distance', metric = 'manhattan')\n",
    "power_model.fit(X_train, y_train)\n",
    "y_pred = power_model.predict(X_test)\n",
    "\n",
    "accuracy = accuracy_score(y_test, y_pred)\n",
    "accuracy"
   ]
  },
  {
   "cell_type": "code",
   "execution_count": 56,
   "id": "ab6cee68",
   "metadata": {},
   "outputs": [],
   "source": [
    "import pickle\n",
    "# save the model to disk\n",
    "filename = 'power_plant.sav'\n",
    "pickle.dump(power_model, open(filename, 'wb'))"
   ]
  },
  {
   "cell_type": "code",
   "execution_count": 57,
   "id": "504a6e3f",
   "metadata": {},
   "outputs": [
    {
     "data": {
      "text/html": [
       "<div>\n",
       "<style scoped>\n",
       "    .dataframe tbody tr th:only-of-type {\n",
       "        vertical-align: middle;\n",
       "    }\n",
       "\n",
       "    .dataframe tbody tr th {\n",
       "        vertical-align: top;\n",
       "    }\n",
       "\n",
       "    .dataframe thead th {\n",
       "        text-align: right;\n",
       "    }\n",
       "</style>\n",
       "<table border=\"1\" class=\"dataframe\">\n",
       "  <thead>\n",
       "    <tr style=\"text-align: right;\">\n",
       "      <th></th>\n",
       "      <th>Actual</th>\n",
       "      <th>Predicted</th>\n",
       "    </tr>\n",
       "  </thead>\n",
       "  <tbody>\n",
       "    <tr>\n",
       "      <th>1667</th>\n",
       "      <td>5</td>\n",
       "      <td>5</td>\n",
       "    </tr>\n",
       "    <tr>\n",
       "      <th>480</th>\n",
       "      <td>1</td>\n",
       "      <td>7</td>\n",
       "    </tr>\n",
       "    <tr>\n",
       "      <th>905</th>\n",
       "      <td>0</td>\n",
       "      <td>0</td>\n",
       "    </tr>\n",
       "    <tr>\n",
       "      <th>1151</th>\n",
       "      <td>2</td>\n",
       "      <td>2</td>\n",
       "    </tr>\n",
       "    <tr>\n",
       "      <th>29</th>\n",
       "      <td>7</td>\n",
       "      <td>5</td>\n",
       "    </tr>\n",
       "    <tr>\n",
       "      <th>...</th>\n",
       "      <td>...</td>\n",
       "      <td>...</td>\n",
       "    </tr>\n",
       "    <tr>\n",
       "      <th>408</th>\n",
       "      <td>7</td>\n",
       "      <td>7</td>\n",
       "    </tr>\n",
       "    <tr>\n",
       "      <th>194</th>\n",
       "      <td>7</td>\n",
       "      <td>7</td>\n",
       "    </tr>\n",
       "    <tr>\n",
       "      <th>781</th>\n",
       "      <td>1</td>\n",
       "      <td>1</td>\n",
       "    </tr>\n",
       "    <tr>\n",
       "      <th>1981</th>\n",
       "      <td>7</td>\n",
       "      <td>7</td>\n",
       "    </tr>\n",
       "    <tr>\n",
       "      <th>1780</th>\n",
       "      <td>5</td>\n",
       "      <td>2</td>\n",
       "    </tr>\n",
       "  </tbody>\n",
       "</table>\n",
       "<p>413 rows × 2 columns</p>\n",
       "</div>"
      ],
      "text/plain": [
       "      Actual  Predicted\n",
       "1667       5          5\n",
       "480        1          7\n",
       "905        0          0\n",
       "1151       2          2\n",
       "29         7          5\n",
       "...      ...        ...\n",
       "408        7          7\n",
       "194        7          7\n",
       "781        1          1\n",
       "1981       7          7\n",
       "1780       5          2\n",
       "\n",
       "[413 rows x 2 columns]"
      ]
     },
     "execution_count": 57,
     "metadata": {},
     "output_type": "execute_result"
    }
   ],
   "source": [
    "#prediction using our saved model\n",
    "load_model = pickle.load(open(filename, 'rb'))\n",
    "accuracy_dataframe = pd.DataFrame({\"Actual\": y_test, \"Predicted\": y_pred})\n",
    "accuracy_dataframe"
   ]
  },
  {
   "cell_type": "code",
   "execution_count": 58,
   "id": "ef50395c",
   "metadata": {},
   "outputs": [
    {
     "data": {
      "text/html": [
       "<div>\n",
       "<style scoped>\n",
       "    .dataframe tbody tr th:only-of-type {\n",
       "        vertical-align: middle;\n",
       "    }\n",
       "\n",
       "    .dataframe tbody tr th {\n",
       "        vertical-align: top;\n",
       "    }\n",
       "\n",
       "    .dataframe thead th {\n",
       "        text-align: right;\n",
       "    }\n",
       "</style>\n",
       "<table border=\"1\" class=\"dataframe\">\n",
       "  <thead>\n",
       "    <tr style=\"text-align: right;\">\n",
       "      <th></th>\n",
       "      <th>Actual</th>\n",
       "      <th>Predicted</th>\n",
       "    </tr>\n",
       "  </thead>\n",
       "  <tbody>\n",
       "    <tr>\n",
       "      <th>1667</th>\n",
       "      <td>Oil</td>\n",
       "      <td>Oil</td>\n",
       "    </tr>\n",
       "    <tr>\n",
       "      <th>480</th>\n",
       "      <td>Coal</td>\n",
       "      <td>Wind</td>\n",
       "    </tr>\n",
       "    <tr>\n",
       "      <th>905</th>\n",
       "      <td>Biomass</td>\n",
       "      <td>Biomass</td>\n",
       "    </tr>\n",
       "    <tr>\n",
       "      <th>1151</th>\n",
       "      <td>Gas</td>\n",
       "      <td>Gas</td>\n",
       "    </tr>\n",
       "    <tr>\n",
       "      <th>29</th>\n",
       "      <td>Wind</td>\n",
       "      <td>Oil</td>\n",
       "    </tr>\n",
       "    <tr>\n",
       "      <th>...</th>\n",
       "      <td>...</td>\n",
       "      <td>...</td>\n",
       "    </tr>\n",
       "    <tr>\n",
       "      <th>408</th>\n",
       "      <td>Wind</td>\n",
       "      <td>Wind</td>\n",
       "    </tr>\n",
       "    <tr>\n",
       "      <th>194</th>\n",
       "      <td>Wind</td>\n",
       "      <td>Wind</td>\n",
       "    </tr>\n",
       "    <tr>\n",
       "      <th>781</th>\n",
       "      <td>Coal</td>\n",
       "      <td>Coal</td>\n",
       "    </tr>\n",
       "    <tr>\n",
       "      <th>1981</th>\n",
       "      <td>Wind</td>\n",
       "      <td>Wind</td>\n",
       "    </tr>\n",
       "    <tr>\n",
       "      <th>1780</th>\n",
       "      <td>Oil</td>\n",
       "      <td>Gas</td>\n",
       "    </tr>\n",
       "  </tbody>\n",
       "</table>\n",
       "<p>413 rows × 2 columns</p>\n",
       "</div>"
      ],
      "text/plain": [
       "       Actual Predicted\n",
       "1667      Oil       Oil\n",
       "480      Coal      Wind\n",
       "905   Biomass   Biomass\n",
       "1151      Gas       Gas\n",
       "29       Wind       Oil\n",
       "...       ...       ...\n",
       "408      Wind      Wind\n",
       "194      Wind      Wind\n",
       "781      Coal      Coal\n",
       "1981     Wind      Wind\n",
       "1780      Oil       Gas\n",
       "\n",
       "[413 rows x 2 columns]"
      ]
     },
     "execution_count": 58,
     "metadata": {},
     "output_type": "execute_result"
    }
   ],
   "source": [
    "#This will revert the encoding done for the primary_fuel column\n",
    "accuracy_dataframe['Actual']= le.inverse_transform(accuracy_dataframe['Actual'])\n",
    "accuracy_dataframe['Predicted']= le.inverse_transform(accuracy_dataframe['Predicted'])\n",
    "accuracy_dataframe"
   ]
  },
  {
   "cell_type": "markdown",
   "id": "f04a9441",
   "metadata": {},
   "source": [
    "# Model Building for capacity_mw  Prediction"
   ]
  },
  {
   "cell_type": "code",
   "execution_count": 87,
   "id": "6fdc1f5e",
   "metadata": {},
   "outputs": [
    {
     "data": {
      "text/html": [
       "<div>\n",
       "<style scoped>\n",
       "    .dataframe tbody tr th:only-of-type {\n",
       "        vertical-align: middle;\n",
       "    }\n",
       "\n",
       "    .dataframe tbody tr th {\n",
       "        vertical-align: top;\n",
       "    }\n",
       "\n",
       "    .dataframe thead th {\n",
       "        text-align: right;\n",
       "    }\n",
       "</style>\n",
       "<table border=\"1\" class=\"dataframe\">\n",
       "  <thead>\n",
       "    <tr style=\"text-align: right;\">\n",
       "      <th></th>\n",
       "      <th>capacity_mw</th>\n",
       "      <th>latitude</th>\n",
       "      <th>longitude</th>\n",
       "      <th>primary_fuel</th>\n",
       "      <th>total_generation_gwh</th>\n",
       "    </tr>\n",
       "  </thead>\n",
       "  <tbody>\n",
       "    <tr>\n",
       "      <th>0</th>\n",
       "      <td>2.5</td>\n",
       "      <td>28.1839</td>\n",
       "      <td>73.2407</td>\n",
       "      <td>6</td>\n",
       "      <td>13114.831488</td>\n",
       "    </tr>\n",
       "    <tr>\n",
       "      <th>1</th>\n",
       "      <td>98.0</td>\n",
       "      <td>24.7663</td>\n",
       "      <td>74.6090</td>\n",
       "      <td>1</td>\n",
       "      <td>13114.831488</td>\n",
       "    </tr>\n",
       "    <tr>\n",
       "      <th>2</th>\n",
       "      <td>39.2</td>\n",
       "      <td>21.9038</td>\n",
       "      <td>69.3732</td>\n",
       "      <td>7</td>\n",
       "      <td>13114.831488</td>\n",
       "    </tr>\n",
       "    <tr>\n",
       "      <th>3</th>\n",
       "      <td>135.0</td>\n",
       "      <td>23.8712</td>\n",
       "      <td>91.3602</td>\n",
       "      <td>2</td>\n",
       "      <td>3637.554320</td>\n",
       "    </tr>\n",
       "    <tr>\n",
       "      <th>4</th>\n",
       "      <td>1800.0</td>\n",
       "      <td>21.9603</td>\n",
       "      <td>82.4091</td>\n",
       "      <td>1</td>\n",
       "      <td>27859.499736</td>\n",
       "    </tr>\n",
       "    <tr>\n",
       "      <th>5</th>\n",
       "      <td>250.0</td>\n",
       "      <td>23.7689</td>\n",
       "      <td>68.6447</td>\n",
       "      <td>1</td>\n",
       "      <td>5662.606000</td>\n",
       "    </tr>\n",
       "    <tr>\n",
       "      <th>6</th>\n",
       "      <td>60.0</td>\n",
       "      <td>10.4547</td>\n",
       "      <td>77.0078</td>\n",
       "      <td>3</td>\n",
       "      <td>509.131550</td>\n",
       "    </tr>\n",
       "    <tr>\n",
       "      <th>7</th>\n",
       "      <td>192.0</td>\n",
       "      <td>32.2258</td>\n",
       "      <td>77.2070</td>\n",
       "      <td>3</td>\n",
       "      <td>3330.364500</td>\n",
       "    </tr>\n",
       "    <tr>\n",
       "      <th>8</th>\n",
       "      <td>290.0</td>\n",
       "      <td>16.3300</td>\n",
       "      <td>75.8863</td>\n",
       "      <td>3</td>\n",
       "      <td>1872.808900</td>\n",
       "    </tr>\n",
       "    <tr>\n",
       "      <th>9</th>\n",
       "      <td>210.0</td>\n",
       "      <td>23.1642</td>\n",
       "      <td>81.6373</td>\n",
       "      <td>1</td>\n",
       "      <td>7920.380000</td>\n",
       "    </tr>\n",
       "  </tbody>\n",
       "</table>\n",
       "</div>"
      ],
      "text/plain": [
       "   capacity_mw  latitude  longitude  primary_fuel  total_generation_gwh\n",
       "0          2.5   28.1839    73.2407             6          13114.831488\n",
       "1         98.0   24.7663    74.6090             1          13114.831488\n",
       "2         39.2   21.9038    69.3732             7          13114.831488\n",
       "3        135.0   23.8712    91.3602             2           3637.554320\n",
       "4       1800.0   21.9603    82.4091             1          27859.499736\n",
       "5        250.0   23.7689    68.6447             1           5662.606000\n",
       "6         60.0   10.4547    77.0078             3            509.131550\n",
       "7        192.0   32.2258    77.2070             3           3330.364500\n",
       "8        290.0   16.3300    75.8863             3           1872.808900\n",
       "9        210.0   23.1642    81.6373             1           7920.380000"
      ]
     },
     "execution_count": 87,
     "metadata": {},
     "output_type": "execute_result"
    }
   ],
   "source": [
    "#Viewing the first 10 rows in our dataset\n",
    "power_plant.head(10)"
   ]
  },
  {
   "cell_type": "code",
   "execution_count": 88,
   "id": "b729fc92",
   "metadata": {},
   "outputs": [
    {
     "data": {
      "text/html": [
       "<div>\n",
       "<style scoped>\n",
       "    .dataframe tbody tr th:only-of-type {\n",
       "        vertical-align: middle;\n",
       "    }\n",
       "\n",
       "    .dataframe tbody tr th {\n",
       "        vertical-align: top;\n",
       "    }\n",
       "\n",
       "    .dataframe thead th {\n",
       "        text-align: right;\n",
       "    }\n",
       "</style>\n",
       "<table border=\"1\" class=\"dataframe\">\n",
       "  <thead>\n",
       "    <tr style=\"text-align: right;\">\n",
       "      <th></th>\n",
       "      <th>latitude</th>\n",
       "      <th>longitude</th>\n",
       "      <th>primary_fuel</th>\n",
       "      <th>total_generation_gwh</th>\n",
       "    </tr>\n",
       "  </thead>\n",
       "  <tbody>\n",
       "    <tr>\n",
       "      <th>0</th>\n",
       "      <td>28.1839</td>\n",
       "      <td>73.2407</td>\n",
       "      <td>6</td>\n",
       "      <td>13114.831488</td>\n",
       "    </tr>\n",
       "    <tr>\n",
       "      <th>1</th>\n",
       "      <td>24.7663</td>\n",
       "      <td>74.6090</td>\n",
       "      <td>1</td>\n",
       "      <td>13114.831488</td>\n",
       "    </tr>\n",
       "    <tr>\n",
       "      <th>2</th>\n",
       "      <td>21.9038</td>\n",
       "      <td>69.3732</td>\n",
       "      <td>7</td>\n",
       "      <td>13114.831488</td>\n",
       "    </tr>\n",
       "    <tr>\n",
       "      <th>3</th>\n",
       "      <td>23.8712</td>\n",
       "      <td>91.3602</td>\n",
       "      <td>2</td>\n",
       "      <td>3637.554320</td>\n",
       "    </tr>\n",
       "    <tr>\n",
       "      <th>4</th>\n",
       "      <td>21.9603</td>\n",
       "      <td>82.4091</td>\n",
       "      <td>1</td>\n",
       "      <td>27859.499736</td>\n",
       "    </tr>\n",
       "    <tr>\n",
       "      <th>...</th>\n",
       "      <td>...</td>\n",
       "      <td>...</td>\n",
       "      <td>...</td>\n",
       "      <td>...</td>\n",
       "    </tr>\n",
       "    <tr>\n",
       "      <th>902</th>\n",
       "      <td>16.2949</td>\n",
       "      <td>77.3568</td>\n",
       "      <td>1</td>\n",
       "      <td>13114.831488</td>\n",
       "    </tr>\n",
       "    <tr>\n",
       "      <th>903</th>\n",
       "      <td>12.8932</td>\n",
       "      <td>78.1654</td>\n",
       "      <td>6</td>\n",
       "      <td>13114.831488</td>\n",
       "    </tr>\n",
       "    <tr>\n",
       "      <th>904</th>\n",
       "      <td>15.2758</td>\n",
       "      <td>75.5811</td>\n",
       "      <td>7</td>\n",
       "      <td>13114.831488</td>\n",
       "    </tr>\n",
       "    <tr>\n",
       "      <th>905</th>\n",
       "      <td>24.3500</td>\n",
       "      <td>73.7477</td>\n",
       "      <td>1</td>\n",
       "      <td>13114.831488</td>\n",
       "    </tr>\n",
       "    <tr>\n",
       "      <th>906</th>\n",
       "      <td>9.9344</td>\n",
       "      <td>77.4768</td>\n",
       "      <td>7</td>\n",
       "      <td>13114.831488</td>\n",
       "    </tr>\n",
       "  </tbody>\n",
       "</table>\n",
       "<p>901 rows × 4 columns</p>\n",
       "</div>"
      ],
      "text/plain": [
       "     latitude  longitude  primary_fuel  total_generation_gwh\n",
       "0     28.1839    73.2407             6          13114.831488\n",
       "1     24.7663    74.6090             1          13114.831488\n",
       "2     21.9038    69.3732             7          13114.831488\n",
       "3     23.8712    91.3602             2           3637.554320\n",
       "4     21.9603    82.4091             1          27859.499736\n",
       "..        ...        ...           ...                   ...\n",
       "902   16.2949    77.3568             1          13114.831488\n",
       "903   12.8932    78.1654             6          13114.831488\n",
       "904   15.2758    75.5811             7          13114.831488\n",
       "905   24.3500    73.7477             1          13114.831488\n",
       "906    9.9344    77.4768             7          13114.831488\n",
       "\n",
       "[901 rows x 4 columns]"
      ]
     },
     "execution_count": 88,
     "metadata": {},
     "output_type": "execute_result"
    }
   ],
   "source": [
    "# split data into x and y\n",
    "X = power_plant.drop('capacity_mw',axis =1)\n",
    "y = power_plant['capacity_mw']\n",
    "X"
   ]
  },
  {
   "cell_type": "code",
   "execution_count": 89,
   "id": "833a03eb",
   "metadata": {},
   "outputs": [
    {
     "data": {
      "text/html": [
       "<div>\n",
       "<style scoped>\n",
       "    .dataframe tbody tr th:only-of-type {\n",
       "        vertical-align: middle;\n",
       "    }\n",
       "\n",
       "    .dataframe tbody tr th {\n",
       "        vertical-align: top;\n",
       "    }\n",
       "\n",
       "    .dataframe thead th {\n",
       "        text-align: right;\n",
       "    }\n",
       "</style>\n",
       "<table border=\"1\" class=\"dataframe\">\n",
       "  <thead>\n",
       "    <tr style=\"text-align: right;\">\n",
       "      <th></th>\n",
       "      <th>latitude</th>\n",
       "      <th>longitude</th>\n",
       "      <th>primary_fuel</th>\n",
       "      <th>total_generation_gwh</th>\n",
       "    </tr>\n",
       "  </thead>\n",
       "  <tbody>\n",
       "    <tr>\n",
       "      <th>0</th>\n",
       "      <td>1.057182</td>\n",
       "      <td>-0.047101</td>\n",
       "      <td>1.227345</td>\n",
       "      <td>0.000000</td>\n",
       "    </tr>\n",
       "    <tr>\n",
       "      <th>1</th>\n",
       "      <td>0.601398</td>\n",
       "      <td>0.034984</td>\n",
       "      <td>-0.964169</td>\n",
       "      <td>0.000000</td>\n",
       "    </tr>\n",
       "    <tr>\n",
       "      <th>2</th>\n",
       "      <td>0.219645</td>\n",
       "      <td>-0.279114</td>\n",
       "      <td>1.665647</td>\n",
       "      <td>0.000000</td>\n",
       "    </tr>\n",
       "    <tr>\n",
       "      <th>3</th>\n",
       "      <td>0.482025</td>\n",
       "      <td>1.039896</td>\n",
       "      <td>-0.525866</td>\n",
       "      <td>-0.680985</td>\n",
       "    </tr>\n",
       "    <tr>\n",
       "      <th>4</th>\n",
       "      <td>0.227180</td>\n",
       "      <td>0.502915</td>\n",
       "      <td>-0.964169</td>\n",
       "      <td>1.059471</td>\n",
       "    </tr>\n",
       "    <tr>\n",
       "      <th>...</th>\n",
       "      <td>...</td>\n",
       "      <td>...</td>\n",
       "      <td>...</td>\n",
       "      <td>...</td>\n",
       "    </tr>\n",
       "    <tr>\n",
       "      <th>896</th>\n",
       "      <td>-0.528378</td>\n",
       "      <td>0.199826</td>\n",
       "      <td>-0.964169</td>\n",
       "      <td>0.000000</td>\n",
       "    </tr>\n",
       "    <tr>\n",
       "      <th>897</th>\n",
       "      <td>-0.982040</td>\n",
       "      <td>0.248334</td>\n",
       "      <td>1.227345</td>\n",
       "      <td>0.000000</td>\n",
       "    </tr>\n",
       "    <tr>\n",
       "      <th>898</th>\n",
       "      <td>-0.664288</td>\n",
       "      <td>0.093301</td>\n",
       "      <td>1.665647</td>\n",
       "      <td>0.000000</td>\n",
       "    </tr>\n",
       "    <tr>\n",
       "      <th>899</th>\n",
       "      <td>0.545879</td>\n",
       "      <td>-0.016686</td>\n",
       "      <td>-0.964169</td>\n",
       "      <td>0.000000</td>\n",
       "    </tr>\n",
       "    <tr>\n",
       "      <th>900</th>\n",
       "      <td>-1.376636</td>\n",
       "      <td>0.207024</td>\n",
       "      <td>1.665647</td>\n",
       "      <td>0.000000</td>\n",
       "    </tr>\n",
       "  </tbody>\n",
       "</table>\n",
       "<p>901 rows × 4 columns</p>\n",
       "</div>"
      ],
      "text/plain": [
       "     latitude  longitude  primary_fuel  total_generation_gwh\n",
       "0    1.057182  -0.047101      1.227345              0.000000\n",
       "1    0.601398   0.034984     -0.964169              0.000000\n",
       "2    0.219645  -0.279114      1.665647              0.000000\n",
       "3    0.482025   1.039896     -0.525866             -0.680985\n",
       "4    0.227180   0.502915     -0.964169              1.059471\n",
       "..        ...        ...           ...                   ...\n",
       "896 -0.528378   0.199826     -0.964169              0.000000\n",
       "897 -0.982040   0.248334      1.227345              0.000000\n",
       "898 -0.664288   0.093301      1.665647              0.000000\n",
       "899  0.545879  -0.016686     -0.964169              0.000000\n",
       "900 -1.376636   0.207024      1.665647              0.000000\n",
       "\n",
       "[901 rows x 4 columns]"
      ]
     },
     "execution_count": 89,
     "metadata": {},
     "output_type": "execute_result"
    }
   ],
   "source": [
    "#Standardization of a dataset\n",
    "from sklearn.preprocessing import StandardScaler\n",
    "sc=StandardScaler()\n",
    "X_train=sc.fit_transform(X)\n",
    "X_test=sc.transform(X)\n",
    "tabel_col = X.columns\n",
    "x = pd.DataFrame(X_train, columns = tabel_col)\n",
    "x"
   ]
  },
  {
   "cell_type": "code",
   "execution_count": 90,
   "id": "57378de4",
   "metadata": {},
   "outputs": [
    {
     "data": {
      "text/plain": [
       "((720, 4), (181, 4), (720,), (181,))"
      ]
     },
     "execution_count": 90,
     "metadata": {},
     "output_type": "execute_result"
    }
   ],
   "source": [
    "# splitting the features into train and test\n",
    "x_train, x_test, y_train, y_test = train_test_split(x, y, test_size = 0.20, random_state = 42)\n",
    "\n",
    "# Viewing the dimensions of our training and testing data\n",
    "x_train.shape,x_test.shape,y_train.shape,y_test.shape"
   ]
  },
  {
   "cell_type": "markdown",
   "id": "6909b15d",
   "metadata": {},
   "source": [
    "## 1. Random Forest Regressor"
   ]
  },
  {
   "cell_type": "code",
   "execution_count": 91,
   "id": "e0a9dd6c",
   "metadata": {},
   "outputs": [
    {
     "name": "stdout",
     "output_type": "stream",
     "text": [
      "mean_absolute_error :  119.44454378764223\n",
      "mean_squared_error  :  47788.985325097485\n",
      "root_mean_absolute_error 218.60691966426288\n",
      "R2_score            :  0.8730580025701999\n",
      "R2_score on training data :  0.9626341454775399\n",
      "\n",
      "\n"
     ]
    }
   ],
   "source": [
    "#Random Forest Regressor\n",
    "from sklearn.ensemble import RandomForestRegressor\n",
    "random_for= RandomForestRegressor()\n",
    "random_for.fit(x_train, y_train)\n",
    "\n",
    "rf_pred = random_for.predict(x_test)\n",
    "train_predrd = random_for.predict(x_train)\n",
    "mse = metrics.mean_absolute_error(y_test, rf_pred)\n",
    "msqe = metrics.mean_squared_error(y_test, rf_pred)\n",
    "r2_score = metrics.r2_score(y_test, rf_pred)\n",
    "rmse = np.sqrt(metrics.mean_squared_error(y_test, rf_pred))\n",
    "print(\"mean_absolute_error : \", mse)\n",
    "print(\"mean_squared_error  : \", msqe)\n",
    "print(\"root_mean_absolute_error\", rmse)\n",
    "print(\"R2_score            : \", r2_score)\n",
    "print(\"R2_score on training data : \", metrics.r2_score(y_train,train_predrd))\n",
    "print('\\n')"
   ]
  },
  {
   "cell_type": "markdown",
   "id": "78345199",
   "metadata": {},
   "source": [
    "### Cross Validation Score for Random Forest Regressor"
   ]
  },
  {
   "cell_type": "code",
   "execution_count": 92,
   "id": "5ce70a1a",
   "metadata": {},
   "outputs": [
    {
     "name": "stdout",
     "output_type": "stream",
     "text": [
      "[0.81569853 0.81802738 0.7282655  0.78236421 0.79783555]\n",
      "0.7884382340935806\n",
      "The difference between the R2 score and the cross validation score is: 0.08461976847661934\n"
     ]
    }
   ],
   "source": [
    "cv_score1 = cross_val_score(random_for,x,y, cv=5, scoring = 'r2')\n",
    "print(cv_score1)\n",
    "print(cv_score1.mean())\n",
    "print(f'The difference between the R2 score and the cross validation score is: {metrics.r2_score(y_test,rf_pred)- cv_score1.mean()}')"
   ]
  },
  {
   "cell_type": "markdown",
   "id": "a14f0e19",
   "metadata": {},
   "source": [
    "## 2. Gradient Boosting Regressor"
   ]
  },
  {
   "cell_type": "code",
   "execution_count": 93,
   "id": "587e38ef",
   "metadata": {},
   "outputs": [
    {
     "name": "stdout",
     "output_type": "stream",
     "text": [
      "mean_absolute_error :  147.13007808682153\n",
      "mean_squared_error  :  62210.53196751888\n",
      "root_mean_absolute_error 249.4203920442731\n",
      "R2_score            :  0.8347500133052644\n",
      "R2_score on training data :  0.9049152892075188\n",
      "\n",
      "\n"
     ]
    }
   ],
   "source": [
    "#Gradient Boosting\n",
    "from sklearn.ensemble import GradientBoostingRegressor\n",
    "from sklearn import metrics\n",
    "gb = GradientBoostingRegressor()\n",
    "gb.fit(x_train, y_train)\n",
    "\n",
    "gb_pred = gb.predict(x_test)\n",
    "train_pred = gb.predict(x_train)\n",
    "mse = metrics.mean_absolute_error(y_test, gb_pred)\n",
    "msqe = metrics.mean_squared_error(y_test, gb_pred)\n",
    "r2_score = metrics.r2_score(y_test, gb_pred)\n",
    "rmse = np.sqrt(metrics.mean_squared_error(y_test, gb_pred))\n",
    "print(\"mean_absolute_error : \", mse)\n",
    "print(\"mean_squared_error  : \", msqe)\n",
    "print(\"root_mean_absolute_error\", rmse)\n",
    "print(\"R2_score            : \", r2_score)\n",
    "print(\"R2_score on training data : \", metrics.r2_score(y_train,train_pred))\n",
    "print('\\n')"
   ]
  },
  {
   "cell_type": "markdown",
   "id": "0306e122",
   "metadata": {},
   "source": [
    "### Cross Validation Score for Gradient Boosting Regressor"
   ]
  },
  {
   "cell_type": "code",
   "execution_count": 94,
   "id": "d12f2188",
   "metadata": {},
   "outputs": [
    {
     "name": "stdout",
     "output_type": "stream",
     "text": [
      "[0.80880223 0.76702405 0.72486383 0.7682877  0.79898261]\n",
      "0.7735920855080651\n",
      "The difference between the R2 score and the cross validation score is: 0.06115792779719931\n"
     ]
    }
   ],
   "source": [
    "cv_score = cross_val_score(gb,x,y, cv=5, scoring = 'r2')\n",
    "print(cv_score)\n",
    "print(cv_score.mean())\n",
    "print(f'The difference between the R2 score and the cross validation score is: {metrics.r2_score(y_test,gb_pred)- cv_score.mean()}')"
   ]
  },
  {
   "cell_type": "markdown",
   "id": "bd0ced9b",
   "metadata": {},
   "source": [
    "## 3. Decision Tree Regressor"
   ]
  },
  {
   "cell_type": "code",
   "execution_count": 95,
   "id": "52213d3d",
   "metadata": {},
   "outputs": [
    {
     "name": "stdout",
     "output_type": "stream",
     "text": [
      "mean_absolute_error :  128.79569981583793\n",
      "mean_squared_error  :  74035.59904056661\n",
      "root_mean_absolute_error 272.09483464514096\n",
      "R2_score            :  0.8033390590072726\n",
      "R2_score on training data :  0.998780646410449\n",
      "\n",
      "\n"
     ]
    }
   ],
   "source": [
    "#Decision Tree\n",
    "from sklearn.tree import DecisionTreeRegressor\n",
    "dec_tree = DecisionTreeRegressor()\n",
    "dec_tree.fit(x_train, y_train)\n",
    "ypred_dc = dec_tree.predict(x_test)\n",
    "train_preddc = dec_tree.predict(x_train)\n",
    "mse = metrics.mean_absolute_error(y_test, ypred_dc)\n",
    "msqe = metrics.mean_squared_error(y_test, ypred_dc)\n",
    "r2_score = metrics.r2_score(y_test, ypred_dc)\n",
    "rmse = np.sqrt(metrics.mean_squared_error(y_test, ypred_dc))\n",
    "print(\"mean_absolute_error : \", mse)\n",
    "print(\"mean_squared_error  : \", msqe)\n",
    "print(\"root_mean_absolute_error\", rmse)\n",
    "print(\"R2_score            : \", r2_score)\n",
    "print(\"R2_score on training data : \", metrics.r2_score(y_train,train_preddc))\n",
    "print('\\n')"
   ]
  },
  {
   "cell_type": "markdown",
   "id": "c2d3f3cf",
   "metadata": {},
   "source": [
    "### Cross Validation Score Decision Tree Regressor"
   ]
  },
  {
   "cell_type": "code",
   "execution_count": 96,
   "id": "1807ca69",
   "metadata": {},
   "outputs": [
    {
     "name": "stdout",
     "output_type": "stream",
     "text": [
      "[0.52779634 0.61953318 0.63591576 0.54077636 0.67253347]\n",
      "0.5993110229366767\n",
      "The difference between the R2 score and the cross validation score is: 0.20402803607059594\n"
     ]
    }
   ],
   "source": [
    "cv_score2 = cross_val_score(dec_tree,x,y, cv=5, scoring = 'r2')\n",
    "print(cv_score2)\n",
    "print(cv_score2.mean())\n",
    "print(f'The difference between the R2 score and the cross validation score is: {metrics.r2_score(y_test,ypred_dc)- cv_score2.mean()}')"
   ]
  },
  {
   "cell_type": "markdown",
   "id": "166f04fe",
   "metadata": {},
   "source": [
    "## 4. AdaBoost Regressor"
   ]
  },
  {
   "cell_type": "code",
   "execution_count": 97,
   "id": "f7596083",
   "metadata": {},
   "outputs": [
    {
     "name": "stdout",
     "output_type": "stream",
     "text": [
      "mean_absolute_error :  242.67363294790354\n",
      "mean_squared_error  :  100851.83792073325\n",
      "root_mean_absolute_error 317.5717838863101\n",
      "R2_score            :  0.7321070187401345\n",
      "R2_score on training data :  0.9049152892075188\n",
      "\n",
      "\n"
     ]
    }
   ],
   "source": [
    "#AdaBoost\n",
    "from sklearn.ensemble import AdaBoostRegressor\n",
    "from sklearn import metrics\n",
    "ad = AdaBoostRegressor()\n",
    "ad.fit(x_train, y_train)\n",
    "\n",
    "ypredad = ad.predict(x_test)\n",
    "train_predad = gb.predict(x_train)\n",
    "mse = metrics.mean_absolute_error(y_test, ypredad)\n",
    "msqe = metrics.mean_squared_error(y_test, ypredad)\n",
    "r2_score = metrics.r2_score(y_test, ypredad)\n",
    "rmse = np.sqrt(metrics.mean_squared_error(y_test, ypredad))\n",
    "print(\"mean_absolute_error : \", mse)\n",
    "print(\"mean_squared_error  : \", msqe)\n",
    "print(\"root_mean_absolute_error\", rmse)\n",
    "print(\"R2_score            : \", r2_score)\n",
    "print(\"R2_score on training data : \", metrics.r2_score(y_train,train_predad))\n",
    "print('\\n')"
   ]
  },
  {
   "cell_type": "markdown",
   "id": "1a168e12",
   "metadata": {},
   "source": [
    "### Cross Validation Score AdaBoost Regressor"
   ]
  },
  {
   "cell_type": "code",
   "execution_count": 98,
   "id": "69fe46fc",
   "metadata": {},
   "outputs": [
    {
     "name": "stdout",
     "output_type": "stream",
     "text": [
      "[0.25684278 0.4376246  0.67922105 0.70239172 0.74858802]\n",
      "0.5649336320050361\n",
      "The difference between the R2 score and the cross validation score is: 0.1671733867350984\n"
     ]
    }
   ],
   "source": [
    "cv_score2 = cross_val_score(ad,x,y, cv=5, scoring = 'r2')\n",
    "print(cv_score2)\n",
    "print(cv_score2.mean())\n",
    "print(f'The difference between the R2 score and the cross validation score is: {metrics.r2_score(y_test,ypredad)- cv_score2.mean()}')"
   ]
  },
  {
   "cell_type": "markdown",
   "id": "3a8c32e3",
   "metadata": {},
   "source": [
    "## 5. Ridge"
   ]
  },
  {
   "cell_type": "code",
   "execution_count": 99,
   "id": "33763f19",
   "metadata": {},
   "outputs": [
    {
     "name": "stdout",
     "output_type": "stream",
     "text": [
      "mean_absolute_error :  241.81830409899658\n",
      "mean_squared_error  :  114701.19643569375\n",
      "root_mean_absolute_error 338.6756507865509\n",
      "R2_score            :  0.6953189341836037\n",
      "R2_score on training data :  0.6234006161186174\n",
      "\n",
      "\n"
     ]
    }
   ],
   "source": [
    "from sklearn.linear_model import Ridge\n",
    "Ridge = Ridge()\n",
    "Ridge.fit(x_train, y_train)\n",
    "ypred_rd = Ridge.predict(x_test)\n",
    "train_predrd = Ridge.predict(x_train)\n",
    "mse = metrics.mean_absolute_error(y_test, ypred_rd)\n",
    "msqe = metrics.mean_squared_error(y_test, ypred_rd)\n",
    "r2_score = metrics.r2_score(y_test, ypred_rd)\n",
    "rmse = np.sqrt(metrics.mean_squared_error(y_test, ypred_rd))\n",
    "print(\"mean_absolute_error : \", mse)\n",
    "print(\"mean_squared_error  : \", msqe)\n",
    "print(\"root_mean_absolute_error\", rmse)\n",
    "print(\"R2_score            : \", r2_score)\n",
    "print(\"R2_score on training data : \", metrics.r2_score(y_train,train_predrd))\n",
    "print('\\n')"
   ]
  },
  {
   "cell_type": "markdown",
   "id": "2e7de00f",
   "metadata": {},
   "source": [
    "### Cross Validation Score for Ridge"
   ]
  },
  {
   "cell_type": "code",
   "execution_count": 100,
   "id": "b282d5de",
   "metadata": {},
   "outputs": [
    {
     "name": "stdout",
     "output_type": "stream",
     "text": [
      "[0.54148174 0.47962807 0.6203746  0.65034182 0.73472606]\n",
      "0.6053104580301808\n",
      "The difference between the R2 score and the cross validation score is: 0.09000847615342289\n"
     ]
    }
   ],
   "source": [
    "cv_score4 = cross_val_score(Ridge,x,y, cv=5, scoring = 'r2')\n",
    "print(cv_score4)\n",
    "print(cv_score4.mean())\n",
    "print(f'The difference between the R2 score and the cross validation score is: {metrics.r2_score(y_test,ypred_rd)- cv_score4.mean()}')"
   ]
  },
  {
   "cell_type": "markdown",
   "id": "ce199ddb",
   "metadata": {},
   "source": [
    "### Model Selection\n",
    "\n",
    "For the capacity_mw prediction, we selected the Gradient Boosting Regressor as our best model because it had the smallest value after the r2 score was subtracted from the cross validation score."
   ]
  },
  {
   "cell_type": "code",
   "execution_count": 101,
   "id": "aac90f91",
   "metadata": {},
   "outputs": [],
   "source": [
    "model_best = GradientBoostingRegressor()\n",
    "\n",
    "model_param ={\n",
    "        \"n_estimators\": [10, 500, 1000],\n",
    "        \"learning_rate\": [0.01, 0.05, 0.1],\n",
    "        \"max_depth\": [3, 5, 7],\n",
    "        \"subsample\": [0.8, 0.9, 1.0]\n",
    "    }"
   ]
  },
  {
   "cell_type": "code",
   "execution_count": 102,
   "id": "7dcab039",
   "metadata": {},
   "outputs": [
    {
     "data": {
      "text/plain": [
       "GridSearchCV(cv=5, estimator=GradientBoostingRegressor(),\n",
       "             param_grid={'learning_rate': [0.01, 0.05, 0.1],\n",
       "                         'max_depth': [3, 5, 7],\n",
       "                         'n_estimators': [10, 500, 1000],\n",
       "                         'subsample': [0.8, 0.9, 1.0]})"
      ]
     },
     "execution_count": 102,
     "metadata": {},
     "output_type": "execute_result"
    }
   ],
   "source": [
    "gd_search = GridSearchCV(model_best, model_param, cv = 5)\n",
    "\n",
    "gd_search.fit(x_train, y_train)"
   ]
  },
  {
   "cell_type": "code",
   "execution_count": 103,
   "id": "b820c822",
   "metadata": {},
   "outputs": [
    {
     "name": "stdout",
     "output_type": "stream",
     "text": [
      "The best learning_rate is : 0.01 \n",
      "The best n_estimators: 500 \n",
      "The best max_depth: 3 \n",
      "The best subsample: 0.8\n"
     ]
    }
   ],
   "source": [
    "#display the best parameters from the search\n",
    "print(\"The best learning_rate is : \" + str(gd_search.best_params_[\"learning_rate\"]),\n",
    "     \"\\nThe best n_estimators: \" + str(gd_search.best_params_[\"n_estimators\"]),\n",
    "     \"\\nThe best max_depth: \" + str(gd_search.best_params_[\"max_depth\"]),\n",
    "     \"\\nThe best subsample: \" + str(gd_search.best_params_[\"subsample\"]))"
   ]
  },
  {
   "cell_type": "code",
   "execution_count": 104,
   "id": "2994a668",
   "metadata": {},
   "outputs": [],
   "source": [
    "# train the model with the selected parameters\n",
    "New_model = GradientBoostingRegressor(learning_rate = 0.01, n_estimators  = 500, max_depth = 3, subsample = 0.8)"
   ]
  },
  {
   "cell_type": "code",
   "execution_count": 105,
   "id": "01751cce",
   "metadata": {},
   "outputs": [
    {
     "name": "stdout",
     "output_type": "stream",
     "text": [
      "mean_absolute_error :  144.76940705396407\n",
      "mean_squared_error  :  58735.723270508526\n",
      "root_mean_absolute_error 242.3545404371631\n",
      "R2_score            :  0.8439801560606345\n",
      "R2_score on training data :  0.8591542235898473\n",
      "\n",
      "\n"
     ]
    }
   ],
   "source": [
    "New_model.fit(x_train, y_train)\n",
    "y_predmodel = New_model.predict(x_test)\n",
    "train_predrd = New_model.predict(x_train)\n",
    "mse_newmodel = metrics.mean_absolute_error(y_test, y_predmodel)\n",
    "msqe_newmodel = metrics.mean_squared_error(y_test, y_predmodel)\n",
    "r2_score_newmodel = metrics.r2_score(y_test, y_predmodel)\n",
    "rmse_newmodel = np.sqrt(metrics.mean_squared_error(y_test, y_predmodel))\n",
    "print(\"mean_absolute_error : \", mse_newmodel)\n",
    "print(\"mean_squared_error  : \", msqe_newmodel)\n",
    "print(\"root_mean_absolute_error\", rmse_newmodel)\n",
    "print(\"R2_score            : \", r2_score_newmodel)\n",
    "print(\"R2_score on training data : \", metrics.r2_score(y_train,train_predrd))\n",
    "print('\\n')\n"
   ]
  },
  {
   "cell_type": "code",
   "execution_count": 106,
   "id": "3e0eb297",
   "metadata": {},
   "outputs": [],
   "source": [
    "import pickle\n",
    "# save the model to disk\n",
    "filename = 'power_capacity.sav'\n",
    "pickle.dump(New_model, open(filename, 'wb'))"
   ]
  },
  {
   "cell_type": "code",
   "execution_count": 107,
   "id": "6fac41f5",
   "metadata": {},
   "outputs": [
    {
     "data": {
      "text/plain": [
       "0.8439801560606345"
      ]
     },
     "execution_count": 107,
     "metadata": {},
     "output_type": "execute_result"
    }
   ],
   "source": [
    "#prediction using our saved model\n",
    "load_model = pickle.load(open(filename, 'rb'))\n",
    "result = load_model.score(x_test,y_test)\n",
    "result"
   ]
  },
  {
   "cell_type": "code",
   "execution_count": 108,
   "id": "95290071",
   "metadata": {},
   "outputs": [
    {
     "data": {
      "text/html": [
       "<div>\n",
       "<style scoped>\n",
       "    .dataframe tbody tr th:only-of-type {\n",
       "        vertical-align: middle;\n",
       "    }\n",
       "\n",
       "    .dataframe tbody tr th {\n",
       "        vertical-align: top;\n",
       "    }\n",
       "\n",
       "    .dataframe thead th {\n",
       "        text-align: right;\n",
       "    }\n",
       "</style>\n",
       "<table border=\"1\" class=\"dataframe\">\n",
       "  <thead>\n",
       "    <tr style=\"text-align: right;\">\n",
       "      <th></th>\n",
       "      <th>0</th>\n",
       "      <th>1</th>\n",
       "      <th>2</th>\n",
       "      <th>3</th>\n",
       "      <th>4</th>\n",
       "      <th>5</th>\n",
       "      <th>6</th>\n",
       "      <th>7</th>\n",
       "      <th>8</th>\n",
       "      <th>9</th>\n",
       "      <th>...</th>\n",
       "      <th>171</th>\n",
       "      <th>172</th>\n",
       "      <th>173</th>\n",
       "      <th>174</th>\n",
       "      <th>175</th>\n",
       "      <th>176</th>\n",
       "      <th>177</th>\n",
       "      <th>178</th>\n",
       "      <th>179</th>\n",
       "      <th>180</th>\n",
       "    </tr>\n",
       "  </thead>\n",
       "  <tbody>\n",
       "    <tr>\n",
       "      <th>Predicted</th>\n",
       "      <td>77.667966</td>\n",
       "      <td>258.891544</td>\n",
       "      <td>87.454867</td>\n",
       "      <td>40.696324</td>\n",
       "      <td>450.482833</td>\n",
       "      <td>29.599859</td>\n",
       "      <td>987.119186</td>\n",
       "      <td>630.406635</td>\n",
       "      <td>157.389278</td>\n",
       "      <td>106.444932</td>\n",
       "      <td>...</td>\n",
       "      <td>40.696324</td>\n",
       "      <td>372.997999</td>\n",
       "      <td>167.900245</td>\n",
       "      <td>375.918515</td>\n",
       "      <td>123.808033</td>\n",
       "      <td>1340.514039</td>\n",
       "      <td>43.082906</td>\n",
       "      <td>2820.612292</td>\n",
       "      <td>43.082906</td>\n",
       "      <td>176.812382</td>\n",
       "    </tr>\n",
       "    <tr>\n",
       "      <th>Original</th>\n",
       "      <td>22.800000</td>\n",
       "      <td>540.000000</td>\n",
       "      <td>12.000000</td>\n",
       "      <td>56.250000</td>\n",
       "      <td>705.000000</td>\n",
       "      <td>35.100000</td>\n",
       "      <td>500.000000</td>\n",
       "      <td>600.000000</td>\n",
       "      <td>25.200000</td>\n",
       "      <td>30.000000</td>\n",
       "      <td>...</td>\n",
       "      <td>1.700000</td>\n",
       "      <td>207.000000</td>\n",
       "      <td>69.600000</td>\n",
       "      <td>515.000000</td>\n",
       "      <td>60.000000</td>\n",
       "      <td>1500.000000</td>\n",
       "      <td>4.000000</td>\n",
       "      <td>3000.000000</td>\n",
       "      <td>50.000000</td>\n",
       "      <td>500.000000</td>\n",
       "    </tr>\n",
       "  </tbody>\n",
       "</table>\n",
       "<p>2 rows × 181 columns</p>\n",
       "</div>"
      ],
      "text/plain": [
       "                 0           1          2          3           4          5    \\\n",
       "Predicted  77.667966  258.891544  87.454867  40.696324  450.482833  29.599859   \n",
       "Original   22.800000  540.000000  12.000000  56.250000  705.000000  35.100000   \n",
       "\n",
       "                  6           7           8           9    ...        171  \\\n",
       "Predicted  987.119186  630.406635  157.389278  106.444932  ...  40.696324   \n",
       "Original   500.000000  600.000000   25.200000   30.000000  ...   1.700000   \n",
       "\n",
       "                  172         173         174         175          176  \\\n",
       "Predicted  372.997999  167.900245  375.918515  123.808033  1340.514039   \n",
       "Original   207.000000   69.600000  515.000000   60.000000  1500.000000   \n",
       "\n",
       "                 177          178        179         180  \n",
       "Predicted  43.082906  2820.612292  43.082906  176.812382  \n",
       "Original    4.000000  3000.000000  50.000000  500.000000  \n",
       "\n",
       "[2 rows x 181 columns]"
      ]
     },
     "execution_count": 108,
     "metadata": {},
     "output_type": "execute_result"
    }
   ],
   "source": [
    "accuracy_dataframe = pd.DataFrame([load_model.predict(x_test)[:],y_test[:]],index=['Predicted','Original'])\n",
    "accuracy_dataframe"
   ]
  },
  {
   "cell_type": "markdown",
   "id": "26eb81ff",
   "metadata": {},
   "source": [
    "## Conclusion:"
   ]
  },
  {
   "cell_type": "markdown",
   "id": "3f7ccc7c",
   "metadata": {},
   "source": [
    "We used the global power plant database with India as our case study to make predictions for Primary Fuel and capacity_mw. The dataset is made up 907 rows and 27 columns. Of these columns, we have 26 independent variables and 1 target variable(either Primary Fuel or  capacity_mw). Most of the columns have NaN values. We have a lot of missing values in our dataset. We visualized the relationships between some features. For this project, we built two models to make predictions for Primary Fuel and capacity_mw.  We used different algorithms to train our model. 80% of the data was used for taining while 20% was used for validation. The criteria we used in the selection of best model is the model with the least result after substracting the accuracy or r2 score from cross validation score. Below are the outcome of the two predictions made based on energy source used in primary electricity generation(primary_fuel) and electrical generating capacity(capacity_mw).\n",
    "\n",
    "### Primary Fuel Prediction:\n",
    "This is a multi-classification problem because the target variable is classified into more than two categories. From the count of the primary_fuel we saw that the counts where not balanced so we used the SMOTE algorithm to balance the count before building our model.  We used different classification algorithms to train our model. k-Nearest Neighbors is our best model because it had a lower difference between accuracy and cross validation score. The accuracy score before tuning was 0.748184 and after tuning with set parameters, there was an improvement in the accuracy score 0.82567. Testing the performance of the model, we can see that from the 10 predictions made, the model was able to predict 7 classes correctly. To improve the accuracy score further, we will need more data and also tune the model with other parameters.\n",
    "\n",
    "### capacity_mw Prediction:\n",
    "This is a regression problem because the target variable is continuous. From the training the model using capacity_mw as our target variable, we observed that the model was performing better on the training data than on the testing data which indicates overfitting. Also we recorded high mse and msqe values in all our models.  From the difference between the r2 and cross validation scores obtained, we selected the Gradient Boosting Regressor model as our best model because it had a lower value obtained from the difference between the r2 and cross validation scores. We used the grid search algorithm to select the best parameters for tuning our model and after training the model with the parameters, we observed that there was a slight improvement in the r2 score. The r2 score before tuning was 0.83475 and after tuning we got r2 score of 0.84398. The parameter tuning resolved the overfitting as the new model performed well on both the training and testing data. The true values differ from its prediction which could be attributed to the high mse value. For a better model performance, we will need to train with more data to reduce our mse."
   ]
  },
  {
   "cell_type": "code",
   "execution_count": null,
   "id": "13d995e5",
   "metadata": {},
   "outputs": [],
   "source": []
  }
 ],
 "metadata": {
  "kernelspec": {
   "display_name": "Python 3 (ipykernel)",
   "language": "python",
   "name": "python3"
  },
  "language_info": {
   "codemirror_mode": {
    "name": "ipython",
    "version": 3
   },
   "file_extension": ".py",
   "mimetype": "text/x-python",
   "name": "python",
   "nbconvert_exporter": "python",
   "pygments_lexer": "ipython3",
   "version": "3.9.12"
  }
 },
 "nbformat": 4,
 "nbformat_minor": 5
}
