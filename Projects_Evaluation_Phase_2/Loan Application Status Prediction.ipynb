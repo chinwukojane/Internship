{
 "cells": [
  {
   "cell_type": "markdown",
   "id": "727cad1b",
   "metadata": {},
   "source": [
    "# Jane Chinwuko\n",
    "# Batch number: DS2307"
   ]
  },
  {
   "cell_type": "markdown",
   "id": "85388c16",
   "metadata": {},
   "source": [
    "### Project Description\n",
    "This dataset includes details of applicants who have applied for loan. The dataset includes details like credit history, loan amount, their income, dependents etc. \n",
    "\n",
    "#### Independent Variables:\n",
    "##### 1.\tLoan_ID - This refer to the unique identifier of the applicant's affirmed purchases\n",
    "##### 2.\tGender - This refers to either of the two main categories (male and female) into which applicants are divided on the basis of their reproductive functions\n",
    "##### 3.\tMarried - This refers to applicant being in a state of matrimony\n",
    "##### 4.\tDependents - This refres to persons who depends on the applicants for survival\n",
    "##### 5.\tEducation - This refers to number of years in which applicant received systematic instruction, especially at a school or university\n",
    "##### 6.\tSelf_Employed - This refers to applicant working for oneself as a freelancer or the owner of a business rather than for an employer\n",
    "##### 7.\tApplicant Income - This refers to disposable income available for the applicant's use under State law.\n",
    "##### 8.\tCoapplicantIncome - This refers to disposable income available for the people that participate in the loan application process alongside the main applicant use under State law.\n",
    "##### 9.\tLoan_Amount - This refers to the amount of money an applicant owe at any given time.\n",
    "##### 10.\tLoan_Amount_Term - This refers to the duaration in which the loan is availed to the applicant\n",
    "##### 11.\tCredit History - This refers to a record of applicant's ability to repay debts and demonstrated responsibility in repaying them.\n",
    "##### 12.\tProperty_Area - This refers to the total area within the boundaries of the property as set out in Schedule.\n",
    "##### 13.\tLoan_Status - This refres to whether applicant is eligible to be availed the Loan requested.\n",
    "\n",
    "\n",
    "# This is a binary classification problem"
   ]
  },
  {
   "cell_type": "code",
   "execution_count": 1,
   "id": "a14bc183",
   "metadata": {},
   "outputs": [],
   "source": [
    "# Imported necessary libraries\n",
    "import numpy as np\n",
    "import pandas as pd\n",
    "import matplotlib.pyplot as plt\n",
    "import seaborn as sns\n",
    "from sklearn.ensemble import RandomForestClassifier\n",
    "from sklearn.tree import DecisionTreeClassifier\n",
    "from sklearn.ensemble import AdaBoostClassifier\n",
    "from xgboost import XGBClassifier\n",
    "from sklearn.ensemble import GradientBoostingClassifier\n",
    "from sklearn.metrics import accuracy_score, classification_report, roc_curve, roc_auc_score, auc\n",
    "from matplotlib import pyplot\n",
    "from sklearn.metrics import confusion_matrix, classification_report, accuracy_score, precision_score, recall_score, f1_score\n",
    "from sklearn.model_selection import train_test_split\n",
    "from sklearn.model_selection import cross_val_score\n",
    "from sklearn.model_selection import GridSearchCV\n",
    "from sklearn.preprocessing import LabelEncoder\n",
    "from sklearn.metrics import accuracy_score\n",
    "from imblearn.over_sampling import SMOTE"
   ]
  },
  {
   "cell_type": "code",
   "execution_count": 2,
   "id": "c91e0bd1",
   "metadata": {},
   "outputs": [],
   "source": [
    "# loaded the dataset to a Pandas DataFrame\n",
    "loan_predict = pd.read_csv('loan_prediction.csv')"
   ]
  },
  {
   "cell_type": "markdown",
   "id": "fea389ff",
   "metadata": {},
   "source": [
    "## Exploratory Data Analysis"
   ]
  },
  {
   "cell_type": "code",
   "execution_count": 3,
   "id": "811cd1e3",
   "metadata": {},
   "outputs": [
    {
     "data": {
      "text/plain": [
       "(614, 13)"
      ]
     },
     "execution_count": 3,
     "metadata": {},
     "output_type": "execute_result"
    }
   ],
   "source": [
    "# Viewing the dimensions of the array\n",
    "loan_predict.shape"
   ]
  },
  {
   "cell_type": "markdown",
   "id": "40ac9b94",
   "metadata": {},
   "source": [
    "This dataset contains 614 rows and 13 columns (made up of the independent and target variables)"
   ]
  },
  {
   "cell_type": "code",
   "execution_count": 4,
   "id": "79233ff6",
   "metadata": {},
   "outputs": [
    {
     "data": {
      "text/html": [
       "<div>\n",
       "<style scoped>\n",
       "    .dataframe tbody tr th:only-of-type {\n",
       "        vertical-align: middle;\n",
       "    }\n",
       "\n",
       "    .dataframe tbody tr th {\n",
       "        vertical-align: top;\n",
       "    }\n",
       "\n",
       "    .dataframe thead th {\n",
       "        text-align: right;\n",
       "    }\n",
       "</style>\n",
       "<table border=\"1\" class=\"dataframe\">\n",
       "  <thead>\n",
       "    <tr style=\"text-align: right;\">\n",
       "      <th></th>\n",
       "      <th>Loan_ID</th>\n",
       "      <th>Gender</th>\n",
       "      <th>Married</th>\n",
       "      <th>Dependents</th>\n",
       "      <th>Education</th>\n",
       "      <th>Self_Employed</th>\n",
       "      <th>ApplicantIncome</th>\n",
       "      <th>CoapplicantIncome</th>\n",
       "      <th>LoanAmount</th>\n",
       "      <th>Loan_Amount_Term</th>\n",
       "      <th>Credit_History</th>\n",
       "      <th>Property_Area</th>\n",
       "      <th>Loan_Status</th>\n",
       "    </tr>\n",
       "  </thead>\n",
       "  <tbody>\n",
       "    <tr>\n",
       "      <th>0</th>\n",
       "      <td>LP001002</td>\n",
       "      <td>Male</td>\n",
       "      <td>No</td>\n",
       "      <td>0</td>\n",
       "      <td>Graduate</td>\n",
       "      <td>No</td>\n",
       "      <td>5849</td>\n",
       "      <td>0.0</td>\n",
       "      <td>NaN</td>\n",
       "      <td>360.0</td>\n",
       "      <td>1.0</td>\n",
       "      <td>Urban</td>\n",
       "      <td>Y</td>\n",
       "    </tr>\n",
       "    <tr>\n",
       "      <th>1</th>\n",
       "      <td>LP001003</td>\n",
       "      <td>Male</td>\n",
       "      <td>Yes</td>\n",
       "      <td>1</td>\n",
       "      <td>Graduate</td>\n",
       "      <td>No</td>\n",
       "      <td>4583</td>\n",
       "      <td>1508.0</td>\n",
       "      <td>128.0</td>\n",
       "      <td>360.0</td>\n",
       "      <td>1.0</td>\n",
       "      <td>Rural</td>\n",
       "      <td>N</td>\n",
       "    </tr>\n",
       "    <tr>\n",
       "      <th>2</th>\n",
       "      <td>LP001005</td>\n",
       "      <td>Male</td>\n",
       "      <td>Yes</td>\n",
       "      <td>0</td>\n",
       "      <td>Graduate</td>\n",
       "      <td>Yes</td>\n",
       "      <td>3000</td>\n",
       "      <td>0.0</td>\n",
       "      <td>66.0</td>\n",
       "      <td>360.0</td>\n",
       "      <td>1.0</td>\n",
       "      <td>Urban</td>\n",
       "      <td>Y</td>\n",
       "    </tr>\n",
       "    <tr>\n",
       "      <th>3</th>\n",
       "      <td>LP001006</td>\n",
       "      <td>Male</td>\n",
       "      <td>Yes</td>\n",
       "      <td>0</td>\n",
       "      <td>Not Graduate</td>\n",
       "      <td>No</td>\n",
       "      <td>2583</td>\n",
       "      <td>2358.0</td>\n",
       "      <td>120.0</td>\n",
       "      <td>360.0</td>\n",
       "      <td>1.0</td>\n",
       "      <td>Urban</td>\n",
       "      <td>Y</td>\n",
       "    </tr>\n",
       "    <tr>\n",
       "      <th>4</th>\n",
       "      <td>LP001008</td>\n",
       "      <td>Male</td>\n",
       "      <td>No</td>\n",
       "      <td>0</td>\n",
       "      <td>Graduate</td>\n",
       "      <td>No</td>\n",
       "      <td>6000</td>\n",
       "      <td>0.0</td>\n",
       "      <td>141.0</td>\n",
       "      <td>360.0</td>\n",
       "      <td>1.0</td>\n",
       "      <td>Urban</td>\n",
       "      <td>Y</td>\n",
       "    </tr>\n",
       "    <tr>\n",
       "      <th>5</th>\n",
       "      <td>LP001011</td>\n",
       "      <td>Male</td>\n",
       "      <td>Yes</td>\n",
       "      <td>2</td>\n",
       "      <td>Graduate</td>\n",
       "      <td>Yes</td>\n",
       "      <td>5417</td>\n",
       "      <td>4196.0</td>\n",
       "      <td>267.0</td>\n",
       "      <td>360.0</td>\n",
       "      <td>1.0</td>\n",
       "      <td>Urban</td>\n",
       "      <td>Y</td>\n",
       "    </tr>\n",
       "    <tr>\n",
       "      <th>6</th>\n",
       "      <td>LP001013</td>\n",
       "      <td>Male</td>\n",
       "      <td>Yes</td>\n",
       "      <td>0</td>\n",
       "      <td>Not Graduate</td>\n",
       "      <td>No</td>\n",
       "      <td>2333</td>\n",
       "      <td>1516.0</td>\n",
       "      <td>95.0</td>\n",
       "      <td>360.0</td>\n",
       "      <td>1.0</td>\n",
       "      <td>Urban</td>\n",
       "      <td>Y</td>\n",
       "    </tr>\n",
       "    <tr>\n",
       "      <th>7</th>\n",
       "      <td>LP001014</td>\n",
       "      <td>Male</td>\n",
       "      <td>Yes</td>\n",
       "      <td>3+</td>\n",
       "      <td>Graduate</td>\n",
       "      <td>No</td>\n",
       "      <td>3036</td>\n",
       "      <td>2504.0</td>\n",
       "      <td>158.0</td>\n",
       "      <td>360.0</td>\n",
       "      <td>0.0</td>\n",
       "      <td>Semiurban</td>\n",
       "      <td>N</td>\n",
       "    </tr>\n",
       "    <tr>\n",
       "      <th>8</th>\n",
       "      <td>LP001018</td>\n",
       "      <td>Male</td>\n",
       "      <td>Yes</td>\n",
       "      <td>2</td>\n",
       "      <td>Graduate</td>\n",
       "      <td>No</td>\n",
       "      <td>4006</td>\n",
       "      <td>1526.0</td>\n",
       "      <td>168.0</td>\n",
       "      <td>360.0</td>\n",
       "      <td>1.0</td>\n",
       "      <td>Urban</td>\n",
       "      <td>Y</td>\n",
       "    </tr>\n",
       "    <tr>\n",
       "      <th>9</th>\n",
       "      <td>LP001020</td>\n",
       "      <td>Male</td>\n",
       "      <td>Yes</td>\n",
       "      <td>1</td>\n",
       "      <td>Graduate</td>\n",
       "      <td>No</td>\n",
       "      <td>12841</td>\n",
       "      <td>10968.0</td>\n",
       "      <td>349.0</td>\n",
       "      <td>360.0</td>\n",
       "      <td>1.0</td>\n",
       "      <td>Semiurban</td>\n",
       "      <td>N</td>\n",
       "    </tr>\n",
       "  </tbody>\n",
       "</table>\n",
       "</div>"
      ],
      "text/plain": [
       "    Loan_ID Gender Married Dependents     Education Self_Employed  \\\n",
       "0  LP001002   Male      No          0      Graduate            No   \n",
       "1  LP001003   Male     Yes          1      Graduate            No   \n",
       "2  LP001005   Male     Yes          0      Graduate           Yes   \n",
       "3  LP001006   Male     Yes          0  Not Graduate            No   \n",
       "4  LP001008   Male      No          0      Graduate            No   \n",
       "5  LP001011   Male     Yes          2      Graduate           Yes   \n",
       "6  LP001013   Male     Yes          0  Not Graduate            No   \n",
       "7  LP001014   Male     Yes         3+      Graduate            No   \n",
       "8  LP001018   Male     Yes          2      Graduate            No   \n",
       "9  LP001020   Male     Yes          1      Graduate            No   \n",
       "\n",
       "   ApplicantIncome  CoapplicantIncome  LoanAmount  Loan_Amount_Term  \\\n",
       "0             5849                0.0         NaN             360.0   \n",
       "1             4583             1508.0       128.0             360.0   \n",
       "2             3000                0.0        66.0             360.0   \n",
       "3             2583             2358.0       120.0             360.0   \n",
       "4             6000                0.0       141.0             360.0   \n",
       "5             5417             4196.0       267.0             360.0   \n",
       "6             2333             1516.0        95.0             360.0   \n",
       "7             3036             2504.0       158.0             360.0   \n",
       "8             4006             1526.0       168.0             360.0   \n",
       "9            12841            10968.0       349.0             360.0   \n",
       "\n",
       "   Credit_History Property_Area Loan_Status  \n",
       "0             1.0         Urban           Y  \n",
       "1             1.0         Rural           N  \n",
       "2             1.0         Urban           Y  \n",
       "3             1.0         Urban           Y  \n",
       "4             1.0         Urban           Y  \n",
       "5             1.0         Urban           Y  \n",
       "6             1.0         Urban           Y  \n",
       "7             0.0     Semiurban           N  \n",
       "8             1.0         Urban           Y  \n",
       "9             1.0     Semiurban           N  "
      ]
     },
     "execution_count": 4,
     "metadata": {},
     "output_type": "execute_result"
    }
   ],
   "source": [
    "#Viewing the first 10 rows of the dataset\n",
    "loan_predict.head(10)"
   ]
  },
  {
   "cell_type": "markdown",
   "id": "35b737d7",
   "metadata": {},
   "source": [
    "We have both categorical and numerical variables in our dataset."
   ]
  },
  {
   "cell_type": "code",
   "execution_count": 5,
   "id": "a2449bfe",
   "metadata": {},
   "outputs": [
    {
     "data": {
      "text/html": [
       "<div>\n",
       "<style scoped>\n",
       "    .dataframe tbody tr th:only-of-type {\n",
       "        vertical-align: middle;\n",
       "    }\n",
       "\n",
       "    .dataframe tbody tr th {\n",
       "        vertical-align: top;\n",
       "    }\n",
       "\n",
       "    .dataframe thead th {\n",
       "        text-align: right;\n",
       "    }\n",
       "</style>\n",
       "<table border=\"1\" class=\"dataframe\">\n",
       "  <thead>\n",
       "    <tr style=\"text-align: right;\">\n",
       "      <th></th>\n",
       "      <th>Loan_ID</th>\n",
       "      <th>Gender</th>\n",
       "      <th>Married</th>\n",
       "      <th>Dependents</th>\n",
       "      <th>Education</th>\n",
       "      <th>Self_Employed</th>\n",
       "      <th>ApplicantIncome</th>\n",
       "      <th>CoapplicantIncome</th>\n",
       "      <th>LoanAmount</th>\n",
       "      <th>Loan_Amount_Term</th>\n",
       "      <th>Credit_History</th>\n",
       "      <th>Property_Area</th>\n",
       "      <th>Loan_Status</th>\n",
       "    </tr>\n",
       "  </thead>\n",
       "  <tbody>\n",
       "    <tr>\n",
       "      <th>604</th>\n",
       "      <td>LP002959</td>\n",
       "      <td>Female</td>\n",
       "      <td>Yes</td>\n",
       "      <td>1</td>\n",
       "      <td>Graduate</td>\n",
       "      <td>No</td>\n",
       "      <td>12000</td>\n",
       "      <td>0.0</td>\n",
       "      <td>496.0</td>\n",
       "      <td>360.0</td>\n",
       "      <td>1.0</td>\n",
       "      <td>Semiurban</td>\n",
       "      <td>Y</td>\n",
       "    </tr>\n",
       "    <tr>\n",
       "      <th>605</th>\n",
       "      <td>LP002960</td>\n",
       "      <td>Male</td>\n",
       "      <td>Yes</td>\n",
       "      <td>0</td>\n",
       "      <td>Not Graduate</td>\n",
       "      <td>No</td>\n",
       "      <td>2400</td>\n",
       "      <td>3800.0</td>\n",
       "      <td>NaN</td>\n",
       "      <td>180.0</td>\n",
       "      <td>1.0</td>\n",
       "      <td>Urban</td>\n",
       "      <td>N</td>\n",
       "    </tr>\n",
       "    <tr>\n",
       "      <th>606</th>\n",
       "      <td>LP002961</td>\n",
       "      <td>Male</td>\n",
       "      <td>Yes</td>\n",
       "      <td>1</td>\n",
       "      <td>Graduate</td>\n",
       "      <td>No</td>\n",
       "      <td>3400</td>\n",
       "      <td>2500.0</td>\n",
       "      <td>173.0</td>\n",
       "      <td>360.0</td>\n",
       "      <td>1.0</td>\n",
       "      <td>Semiurban</td>\n",
       "      <td>Y</td>\n",
       "    </tr>\n",
       "    <tr>\n",
       "      <th>607</th>\n",
       "      <td>LP002964</td>\n",
       "      <td>Male</td>\n",
       "      <td>Yes</td>\n",
       "      <td>2</td>\n",
       "      <td>Not Graduate</td>\n",
       "      <td>No</td>\n",
       "      <td>3987</td>\n",
       "      <td>1411.0</td>\n",
       "      <td>157.0</td>\n",
       "      <td>360.0</td>\n",
       "      <td>1.0</td>\n",
       "      <td>Rural</td>\n",
       "      <td>Y</td>\n",
       "    </tr>\n",
       "    <tr>\n",
       "      <th>608</th>\n",
       "      <td>LP002974</td>\n",
       "      <td>Male</td>\n",
       "      <td>Yes</td>\n",
       "      <td>0</td>\n",
       "      <td>Graduate</td>\n",
       "      <td>No</td>\n",
       "      <td>3232</td>\n",
       "      <td>1950.0</td>\n",
       "      <td>108.0</td>\n",
       "      <td>360.0</td>\n",
       "      <td>1.0</td>\n",
       "      <td>Rural</td>\n",
       "      <td>Y</td>\n",
       "    </tr>\n",
       "    <tr>\n",
       "      <th>609</th>\n",
       "      <td>LP002978</td>\n",
       "      <td>Female</td>\n",
       "      <td>No</td>\n",
       "      <td>0</td>\n",
       "      <td>Graduate</td>\n",
       "      <td>No</td>\n",
       "      <td>2900</td>\n",
       "      <td>0.0</td>\n",
       "      <td>71.0</td>\n",
       "      <td>360.0</td>\n",
       "      <td>1.0</td>\n",
       "      <td>Rural</td>\n",
       "      <td>Y</td>\n",
       "    </tr>\n",
       "    <tr>\n",
       "      <th>610</th>\n",
       "      <td>LP002979</td>\n",
       "      <td>Male</td>\n",
       "      <td>Yes</td>\n",
       "      <td>3+</td>\n",
       "      <td>Graduate</td>\n",
       "      <td>No</td>\n",
       "      <td>4106</td>\n",
       "      <td>0.0</td>\n",
       "      <td>40.0</td>\n",
       "      <td>180.0</td>\n",
       "      <td>1.0</td>\n",
       "      <td>Rural</td>\n",
       "      <td>Y</td>\n",
       "    </tr>\n",
       "    <tr>\n",
       "      <th>611</th>\n",
       "      <td>LP002983</td>\n",
       "      <td>Male</td>\n",
       "      <td>Yes</td>\n",
       "      <td>1</td>\n",
       "      <td>Graduate</td>\n",
       "      <td>No</td>\n",
       "      <td>8072</td>\n",
       "      <td>240.0</td>\n",
       "      <td>253.0</td>\n",
       "      <td>360.0</td>\n",
       "      <td>1.0</td>\n",
       "      <td>Urban</td>\n",
       "      <td>Y</td>\n",
       "    </tr>\n",
       "    <tr>\n",
       "      <th>612</th>\n",
       "      <td>LP002984</td>\n",
       "      <td>Male</td>\n",
       "      <td>Yes</td>\n",
       "      <td>2</td>\n",
       "      <td>Graduate</td>\n",
       "      <td>No</td>\n",
       "      <td>7583</td>\n",
       "      <td>0.0</td>\n",
       "      <td>187.0</td>\n",
       "      <td>360.0</td>\n",
       "      <td>1.0</td>\n",
       "      <td>Urban</td>\n",
       "      <td>Y</td>\n",
       "    </tr>\n",
       "    <tr>\n",
       "      <th>613</th>\n",
       "      <td>LP002990</td>\n",
       "      <td>Female</td>\n",
       "      <td>No</td>\n",
       "      <td>0</td>\n",
       "      <td>Graduate</td>\n",
       "      <td>Yes</td>\n",
       "      <td>4583</td>\n",
       "      <td>0.0</td>\n",
       "      <td>133.0</td>\n",
       "      <td>360.0</td>\n",
       "      <td>0.0</td>\n",
       "      <td>Semiurban</td>\n",
       "      <td>N</td>\n",
       "    </tr>\n",
       "  </tbody>\n",
       "</table>\n",
       "</div>"
      ],
      "text/plain": [
       "      Loan_ID  Gender Married Dependents     Education Self_Employed  \\\n",
       "604  LP002959  Female     Yes          1      Graduate            No   \n",
       "605  LP002960    Male     Yes          0  Not Graduate            No   \n",
       "606  LP002961    Male     Yes          1      Graduate            No   \n",
       "607  LP002964    Male     Yes          2  Not Graduate            No   \n",
       "608  LP002974    Male     Yes          0      Graduate            No   \n",
       "609  LP002978  Female      No          0      Graduate            No   \n",
       "610  LP002979    Male     Yes         3+      Graduate            No   \n",
       "611  LP002983    Male     Yes          1      Graduate            No   \n",
       "612  LP002984    Male     Yes          2      Graduate            No   \n",
       "613  LP002990  Female      No          0      Graduate           Yes   \n",
       "\n",
       "     ApplicantIncome  CoapplicantIncome  LoanAmount  Loan_Amount_Term  \\\n",
       "604            12000                0.0       496.0             360.0   \n",
       "605             2400             3800.0         NaN             180.0   \n",
       "606             3400             2500.0       173.0             360.0   \n",
       "607             3987             1411.0       157.0             360.0   \n",
       "608             3232             1950.0       108.0             360.0   \n",
       "609             2900                0.0        71.0             360.0   \n",
       "610             4106                0.0        40.0             180.0   \n",
       "611             8072              240.0       253.0             360.0   \n",
       "612             7583                0.0       187.0             360.0   \n",
       "613             4583                0.0       133.0             360.0   \n",
       "\n",
       "     Credit_History Property_Area Loan_Status  \n",
       "604             1.0     Semiurban           Y  \n",
       "605             1.0         Urban           N  \n",
       "606             1.0     Semiurban           Y  \n",
       "607             1.0         Rural           Y  \n",
       "608             1.0         Rural           Y  \n",
       "609             1.0         Rural           Y  \n",
       "610             1.0         Rural           Y  \n",
       "611             1.0         Urban           Y  \n",
       "612             1.0         Urban           Y  \n",
       "613             0.0     Semiurban           N  "
      ]
     },
     "execution_count": 5,
     "metadata": {},
     "output_type": "execute_result"
    }
   ],
   "source": [
    "#Viewing the last 10 rows of the dataset\n",
    "loan_predict.tail(10)"
   ]
  },
  {
   "cell_type": "code",
   "execution_count": 6,
   "id": "b596b523",
   "metadata": {},
   "outputs": [
    {
     "data": {
      "text/plain": [
       "Index(['Loan_ID', 'Gender', 'Married', 'Dependents', 'Education',\n",
       "       'Self_Employed', 'ApplicantIncome', 'CoapplicantIncome', 'LoanAmount',\n",
       "       'Loan_Amount_Term', 'Credit_History', 'Property_Area', 'Loan_Status'],\n",
       "      dtype='object')"
      ]
     },
     "execution_count": 6,
     "metadata": {},
     "output_type": "execute_result"
    }
   ],
   "source": [
    "#Viewing the columns present in the dataset\n",
    "columns = loan_predict.columns\n",
    "columns"
   ]
  },
  {
   "cell_type": "code",
   "execution_count": 7,
   "id": "fa2c3cf0",
   "metadata": {},
   "outputs": [
    {
     "name": "stdout",
     "output_type": "stream",
     "text": [
      "<class 'pandas.core.frame.DataFrame'>\n",
      "RangeIndex: 614 entries, 0 to 613\n",
      "Data columns (total 13 columns):\n",
      " #   Column             Non-Null Count  Dtype  \n",
      "---  ------             --------------  -----  \n",
      " 0   Loan_ID            614 non-null    object \n",
      " 1   Gender             601 non-null    object \n",
      " 2   Married            611 non-null    object \n",
      " 3   Dependents         599 non-null    object \n",
      " 4   Education          614 non-null    object \n",
      " 5   Self_Employed      582 non-null    object \n",
      " 6   ApplicantIncome    614 non-null    int64  \n",
      " 7   CoapplicantIncome  614 non-null    float64\n",
      " 8   LoanAmount         592 non-null    float64\n",
      " 9   Loan_Amount_Term   600 non-null    float64\n",
      " 10  Credit_History     564 non-null    float64\n",
      " 11  Property_Area      614 non-null    object \n",
      " 12  Loan_Status        614 non-null    object \n",
      "dtypes: float64(4), int64(1), object(8)\n",
      "memory usage: 62.5+ KB\n"
     ]
    }
   ],
   "source": [
    "#Displays the basic information about the columns in the dataset\n",
    "loan_predict.info()"
   ]
  },
  {
   "cell_type": "markdown",
   "id": "90cfa556",
   "metadata": {},
   "source": [
    "The datatypes present in our dataset are int64(1 variables), object(8 variables) and float64(4 variables)"
   ]
  },
  {
   "cell_type": "code",
   "execution_count": 8,
   "id": "4794776b",
   "metadata": {},
   "outputs": [
    {
     "data": {
      "text/html": [
       "<div>\n",
       "<style scoped>\n",
       "    .dataframe tbody tr th:only-of-type {\n",
       "        vertical-align: middle;\n",
       "    }\n",
       "\n",
       "    .dataframe tbody tr th {\n",
       "        vertical-align: top;\n",
       "    }\n",
       "\n",
       "    .dataframe thead th {\n",
       "        text-align: right;\n",
       "    }\n",
       "</style>\n",
       "<table border=\"1\" class=\"dataframe\">\n",
       "  <thead>\n",
       "    <tr style=\"text-align: right;\">\n",
       "      <th></th>\n",
       "      <th>ApplicantIncome</th>\n",
       "      <th>CoapplicantIncome</th>\n",
       "      <th>LoanAmount</th>\n",
       "      <th>Loan_Amount_Term</th>\n",
       "      <th>Credit_History</th>\n",
       "    </tr>\n",
       "  </thead>\n",
       "  <tbody>\n",
       "    <tr>\n",
       "      <th>count</th>\n",
       "      <td>614.000000</td>\n",
       "      <td>614.000000</td>\n",
       "      <td>592.000000</td>\n",
       "      <td>600.00000</td>\n",
       "      <td>564.000000</td>\n",
       "    </tr>\n",
       "    <tr>\n",
       "      <th>mean</th>\n",
       "      <td>5403.459283</td>\n",
       "      <td>1621.245798</td>\n",
       "      <td>146.412162</td>\n",
       "      <td>342.00000</td>\n",
       "      <td>0.842199</td>\n",
       "    </tr>\n",
       "    <tr>\n",
       "      <th>std</th>\n",
       "      <td>6109.041673</td>\n",
       "      <td>2926.248369</td>\n",
       "      <td>85.587325</td>\n",
       "      <td>65.12041</td>\n",
       "      <td>0.364878</td>\n",
       "    </tr>\n",
       "    <tr>\n",
       "      <th>min</th>\n",
       "      <td>150.000000</td>\n",
       "      <td>0.000000</td>\n",
       "      <td>9.000000</td>\n",
       "      <td>12.00000</td>\n",
       "      <td>0.000000</td>\n",
       "    </tr>\n",
       "    <tr>\n",
       "      <th>25%</th>\n",
       "      <td>2877.500000</td>\n",
       "      <td>0.000000</td>\n",
       "      <td>100.000000</td>\n",
       "      <td>360.00000</td>\n",
       "      <td>1.000000</td>\n",
       "    </tr>\n",
       "    <tr>\n",
       "      <th>50%</th>\n",
       "      <td>3812.500000</td>\n",
       "      <td>1188.500000</td>\n",
       "      <td>128.000000</td>\n",
       "      <td>360.00000</td>\n",
       "      <td>1.000000</td>\n",
       "    </tr>\n",
       "    <tr>\n",
       "      <th>75%</th>\n",
       "      <td>5795.000000</td>\n",
       "      <td>2297.250000</td>\n",
       "      <td>168.000000</td>\n",
       "      <td>360.00000</td>\n",
       "      <td>1.000000</td>\n",
       "    </tr>\n",
       "    <tr>\n",
       "      <th>max</th>\n",
       "      <td>81000.000000</td>\n",
       "      <td>41667.000000</td>\n",
       "      <td>700.000000</td>\n",
       "      <td>480.00000</td>\n",
       "      <td>1.000000</td>\n",
       "    </tr>\n",
       "  </tbody>\n",
       "</table>\n",
       "</div>"
      ],
      "text/plain": [
       "       ApplicantIncome  CoapplicantIncome  LoanAmount  Loan_Amount_Term  \\\n",
       "count       614.000000         614.000000  592.000000         600.00000   \n",
       "mean       5403.459283        1621.245798  146.412162         342.00000   \n",
       "std        6109.041673        2926.248369   85.587325          65.12041   \n",
       "min         150.000000           0.000000    9.000000          12.00000   \n",
       "25%        2877.500000           0.000000  100.000000         360.00000   \n",
       "50%        3812.500000        1188.500000  128.000000         360.00000   \n",
       "75%        5795.000000        2297.250000  168.000000         360.00000   \n",
       "max       81000.000000       41667.000000  700.000000         480.00000   \n",
       "\n",
       "       Credit_History  \n",
       "count      564.000000  \n",
       "mean         0.842199  \n",
       "std          0.364878  \n",
       "min          0.000000  \n",
       "25%          1.000000  \n",
       "50%          1.000000  \n",
       "75%          1.000000  \n",
       "max          1.000000  "
      ]
     },
     "execution_count": 8,
     "metadata": {},
     "output_type": "execute_result"
    }
   ],
   "source": [
    "#Generating the descriptive statistics of all the features in the dataset\n",
    "loan_predict.describe()"
   ]
  },
  {
   "cell_type": "markdown",
   "id": "880240b8",
   "metadata": {},
   "source": [
    "Our counts are not equal; there are missing values in our data. For the ApplicantIncome, we can see that the mean value 5403.459283 is more than the median value 3812.500000. This shows alot of extreme values."
   ]
  },
  {
   "cell_type": "code",
   "execution_count": 9,
   "id": "b368c8cb",
   "metadata": {},
   "outputs": [
    {
     "data": {
      "text/html": [
       "<div>\n",
       "<style scoped>\n",
       "    .dataframe tbody tr th:only-of-type {\n",
       "        vertical-align: middle;\n",
       "    }\n",
       "\n",
       "    .dataframe tbody tr th {\n",
       "        vertical-align: top;\n",
       "    }\n",
       "\n",
       "    .dataframe thead th {\n",
       "        text-align: right;\n",
       "    }\n",
       "</style>\n",
       "<table border=\"1\" class=\"dataframe\">\n",
       "  <thead>\n",
       "    <tr style=\"text-align: right;\">\n",
       "      <th></th>\n",
       "      <th>Loan_ID</th>\n",
       "      <th>Gender</th>\n",
       "      <th>Married</th>\n",
       "      <th>Dependents</th>\n",
       "      <th>Education</th>\n",
       "      <th>Self_Employed</th>\n",
       "      <th>Property_Area</th>\n",
       "      <th>Loan_Status</th>\n",
       "    </tr>\n",
       "  </thead>\n",
       "  <tbody>\n",
       "    <tr>\n",
       "      <th>count</th>\n",
       "      <td>614</td>\n",
       "      <td>601</td>\n",
       "      <td>611</td>\n",
       "      <td>599</td>\n",
       "      <td>614</td>\n",
       "      <td>582</td>\n",
       "      <td>614</td>\n",
       "      <td>614</td>\n",
       "    </tr>\n",
       "    <tr>\n",
       "      <th>unique</th>\n",
       "      <td>614</td>\n",
       "      <td>2</td>\n",
       "      <td>2</td>\n",
       "      <td>4</td>\n",
       "      <td>2</td>\n",
       "      <td>2</td>\n",
       "      <td>3</td>\n",
       "      <td>2</td>\n",
       "    </tr>\n",
       "    <tr>\n",
       "      <th>top</th>\n",
       "      <td>LP001002</td>\n",
       "      <td>Male</td>\n",
       "      <td>Yes</td>\n",
       "      <td>0</td>\n",
       "      <td>Graduate</td>\n",
       "      <td>No</td>\n",
       "      <td>Semiurban</td>\n",
       "      <td>Y</td>\n",
       "    </tr>\n",
       "    <tr>\n",
       "      <th>freq</th>\n",
       "      <td>1</td>\n",
       "      <td>489</td>\n",
       "      <td>398</td>\n",
       "      <td>345</td>\n",
       "      <td>480</td>\n",
       "      <td>500</td>\n",
       "      <td>233</td>\n",
       "      <td>422</td>\n",
       "    </tr>\n",
       "  </tbody>\n",
       "</table>\n",
       "</div>"
      ],
      "text/plain": [
       "         Loan_ID Gender Married Dependents Education Self_Employed  \\\n",
       "count        614    601     611        599       614           582   \n",
       "unique       614      2       2          4         2             2   \n",
       "top     LP001002   Male     Yes          0  Graduate            No   \n",
       "freq           1    489     398        345       480           500   \n",
       "\n",
       "       Property_Area Loan_Status  \n",
       "count            614         614  \n",
       "unique             3           2  \n",
       "top        Semiurban           Y  \n",
       "freq             233         422  "
      ]
     },
     "execution_count": 9,
     "metadata": {},
     "output_type": "execute_result"
    }
   ],
   "source": [
    "#displaying the descriptive statistics of our categorical variables\n",
    "loan_predict.describe(exclude=['float64','int64'])"
   ]
  },
  {
   "cell_type": "markdown",
   "id": "19e1472b",
   "metadata": {},
   "source": [
    "There are also missing values in our categorical variables. Our target variable, Loan_Status has two categories(Y or N). This is a binary classification problem."
   ]
  },
  {
   "cell_type": "code",
   "execution_count": 10,
   "id": "28b40e3e",
   "metadata": {},
   "outputs": [],
   "source": [
    "#Dropping the Loan_ID column from the dataset\n",
    "loan_predict = loan_predict.drop(['Loan_ID'], axis=1) "
   ]
  },
  {
   "cell_type": "markdown",
   "id": "4dfe4e9d",
   "metadata": {},
   "source": [
    "We are dropping \"Loan_ID\" variable because it is just a numerical identifier and does not have any effect on the loan status. "
   ]
  },
  {
   "cell_type": "code",
   "execution_count": 11,
   "id": "af8675f4",
   "metadata": {},
   "outputs": [
    {
     "data": {
      "text/plain": [
       "Graduate        480\n",
       "Not Graduate    134\n",
       "Name: Education, dtype: int64"
      ]
     },
     "execution_count": 11,
     "metadata": {},
     "output_type": "execute_result"
    }
   ],
   "source": [
    "#This returns the count of unique occurrences in the Education column.\n",
    "loan_predict['Education'].value_counts()"
   ]
  },
  {
   "cell_type": "markdown",
   "id": "b8ec201a",
   "metadata": {},
   "source": [
    "We have more applicants that are graduates"
   ]
  },
  {
   "cell_type": "code",
   "execution_count": 12,
   "id": "fb9f3940",
   "metadata": {},
   "outputs": [
    {
     "data": {
      "text/plain": [
       "No     500\n",
       "Yes     82\n",
       "Name: Self_Employed, dtype: int64"
      ]
     },
     "execution_count": 12,
     "metadata": {},
     "output_type": "execute_result"
    }
   ],
   "source": [
    "#Returns the count of unique occurrences in the Self_Employed column.\n",
    "loan_predict['Self_Employed'].value_counts()"
   ]
  },
  {
   "cell_type": "markdown",
   "id": "f53a5c88",
   "metadata": {},
   "source": [
    "Most of the loan applicants are not self employed. They are probably employed."
   ]
  },
  {
   "cell_type": "code",
   "execution_count": 13,
   "id": "6c2baec3",
   "metadata": {},
   "outputs": [
    {
     "data": {
      "text/plain": [
       "1.0    475\n",
       "0.0     89\n",
       "Name: Credit_History, dtype: int64"
      ]
     },
     "execution_count": 13,
     "metadata": {},
     "output_type": "execute_result"
    }
   ],
   "source": [
    "#Returns the count of unique occurrences in the Credit_history column.\n",
    "loan_predict['Credit_History'].value_counts()"
   ]
  },
  {
   "cell_type": "markdown",
   "id": "ccae2b30",
   "metadata": {},
   "source": [
    "More of the applicants have good credit history"
   ]
  },
  {
   "cell_type": "code",
   "execution_count": 14,
   "id": "67ae6f2c",
   "metadata": {},
   "outputs": [
    {
     "data": {
      "text/plain": [
       "Yes    398\n",
       "No     213\n",
       "Name: Married, dtype: int64"
      ]
     },
     "execution_count": 14,
     "metadata": {},
     "output_type": "execute_result"
    }
   ],
   "source": [
    "#Returns the count of unique occurrences in the married column.\n",
    "loan_predict['Married'].value_counts()"
   ]
  },
  {
   "cell_type": "markdown",
   "id": "b88adb8d",
   "metadata": {},
   "source": [
    "With a count of 398, we can see that the majority of the applicants in the dataset are married. The figure for not married applicants is 213."
   ]
  },
  {
   "cell_type": "code",
   "execution_count": 15,
   "id": "585b5788",
   "metadata": {},
   "outputs": [
    {
     "data": {
      "text/plain": [
       "Y    422\n",
       "N    192\n",
       "Name: Loan_Status, dtype: int64"
      ]
     },
     "execution_count": 15,
     "metadata": {},
     "output_type": "execute_result"
    }
   ],
   "source": [
    "#Returns the count of unique occurrences in the Loan_status column.\n",
    "loan_predict['Loan_Status'].value_counts()"
   ]
  },
  {
   "cell_type": "markdown",
   "id": "8ebebaa2",
   "metadata": {},
   "source": [
    "More of the applicants are likely to get the loan approval. Our class is imbalance."
   ]
  },
  {
   "cell_type": "code",
   "execution_count": 16,
   "id": "eabe51c0",
   "metadata": {},
   "outputs": [
    {
     "data": {
      "text/plain": [
       "Male      489\n",
       "Female    112\n",
       "Name: Gender, dtype: int64"
      ]
     },
     "execution_count": 16,
     "metadata": {},
     "output_type": "execute_result"
    }
   ],
   "source": [
    "#Returns the count of unique occurrences in the gender column.\n",
    "loan_predict['Gender'].value_counts()"
   ]
  },
  {
   "cell_type": "markdown",
   "id": "40d588a8",
   "metadata": {},
   "source": [
    "## Data Visualization"
   ]
  },
  {
   "cell_type": "code",
   "execution_count": 17,
   "id": "1d3aeb17",
   "metadata": {},
   "outputs": [
    {
     "data": {
      "image/png": "[encoded data removed]",
      "text/plain": [
       "<Figure size 360x720 with 1 Axes>"
      ]
     },
     "metadata": {
      "needs_background": "light"
     },
     "output_type": "display_data"
    }
   ],
   "source": [
    "#Barplot to visualize the genders of the applicants\n",
    "loan_predict['Gender'].value_counts(normalize=True).plot.bar(figsize=(5,10), title='Gender')\n",
    "plt.show()"
   ]
  },
  {
   "cell_type": "markdown",
   "id": "df5ba678",
   "metadata": {},
   "source": [
    "About 80% of the applicants are male. We have 489 males and 112 females in our dataset"
   ]
  },
  {
   "cell_type": "code",
   "execution_count": 18,
   "id": "c59781d9",
   "metadata": {},
   "outputs": [
    {
     "data": {
      "image/png": "[encoded data removed]",
      "text/plain": [
       "<Figure size 360x720 with 1 Axes>"
      ]
     },
     "metadata": {
      "needs_background": "light"
     },
     "output_type": "display_data"
    }
   ],
   "source": [
    "#Barplot to visualize the employment status of the applicants\n",
    "loan_predict['Self_Employed'].value_counts(normalize=True).plot.bar(figsize=(5,10), title='Self_Employed')\n",
    "plt.show()"
   ]
  },
  {
   "cell_type": "markdown",
   "id": "dde8d18e",
   "metadata": {},
   "source": [
    "We have more applicants that are not self employed. This implies that the majority of loan applicants do not work for themselves."
   ]
  },
  {
   "cell_type": "code",
   "execution_count": 19,
   "id": "7a2be6b7",
   "metadata": {},
   "outputs": [
    {
     "data": {
      "image/png": "[encoded data removed]",
      "text/plain": [
       "<Figure size 360x720 with 1 Axes>"
      ]
     },
     "metadata": {
      "needs_background": "light"
     },
     "output_type": "display_data"
    }
   ],
   "source": [
    "#Barplot to visualize the Property_Area\n",
    "loan_predict['Property_Area'].value_counts(normalize=True).plot.bar(figsize=(5,10), title='Property_Area')\n",
    "plt.show()"
   ]
  },
  {
   "cell_type": "markdown",
   "id": "cd473208",
   "metadata": {},
   "source": [
    "Most of the properties are located within the Semiurban area"
   ]
  },
  {
   "cell_type": "code",
   "execution_count": 20,
   "id": "47040fa6",
   "metadata": {},
   "outputs": [
    {
     "data": {
      "image/png": "[encoded data removed]",
      "text/plain": [
       "<Figure size 360x720 with 1 Axes>"
      ]
     },
     "metadata": {
      "needs_background": "light"
     },
     "output_type": "display_data"
    }
   ],
   "source": [
    "#Barplot to visualize the education status of the applicants\n",
    "loan_predict['Education'].value_counts(normalize=True).plot.bar(figsize=(5,10), title='Education')\n",
    "plt.show()"
   ]
  },
  {
   "cell_type": "markdown",
   "id": "f7002617",
   "metadata": {},
   "source": [
    "About 78% of the applicants are graduates. This shows that compared to non-graduates, a greater percentage of graduates seek for loans."
   ]
  },
  {
   "cell_type": "code",
   "execution_count": 21,
   "id": "e53e43bd",
   "metadata": {},
   "outputs": [
    {
     "data": {
      "image/png": "[encoded data removed]",
      "text/plain": [
       "<Figure size 360x720 with 1 Axes>"
      ]
     },
     "metadata": {
      "needs_background": "light"
     },
     "output_type": "display_data"
    }
   ],
   "source": [
    "#Barplot to visualize the Credit_History of the applicants\n",
    "loan_predict['Credit_History'].value_counts(normalize=True).plot.bar(figsize=(5,10), title='Credit_History')\n",
    "plt.show()"
   ]
  },
  {
   "cell_type": "markdown",
   "id": "bfb0e36d",
   "metadata": {},
   "source": [
    "We have two categories here 1 and 0. So we can conclude that 1 indicates that the applicants have credit history while 0 indicates that the applicants do not have credit history. From the counts, we can see that most of the applicants have good credit history. They always paid their debts."
   ]
  },
  {
   "cell_type": "code",
   "execution_count": 22,
   "id": "f79e3b5c",
   "metadata": {},
   "outputs": [
    {
     "data": {
      "text/plain": [
       "<seaborn.axisgrid.FacetGrid at 0x1a77383c910>"
      ]
     },
     "execution_count": 22,
     "metadata": {},
     "output_type": "execute_result"
    },
    {
     "data": {
      "image/png": "[encoded data removed]",
      "text/plain": [
       "<Figure size 360x360 with 1 Axes>"
      ]
     },
     "metadata": {
      "needs_background": "light"
     },
     "output_type": "display_data"
    }
   ],
   "source": [
    "#This catplot shows the count of Marital Status of the applicants.\n",
    "sns.catplot(x ='Married', data = loan_predict, kind = 'count')"
   ]
  },
  {
   "cell_type": "markdown",
   "id": "075fb009",
   "metadata": {},
   "source": [
    "We have more married applicants than single. This implies that married people are more likely than single people to apply for a loan."
   ]
  },
  {
   "cell_type": "code",
   "execution_count": 23,
   "id": "7a4b1c66",
   "metadata": {},
   "outputs": [
    {
     "data": {
      "image/png": "[encoded data removed]",
      "text/plain": [
       "<Figure size 432x288 with 1 Axes>"
      ]
     },
     "metadata": {
      "needs_background": "light"
     },
     "output_type": "display_data"
    }
   ],
   "source": [
    "#Histogram for loan amount\n",
    "plt.hist(loan_predict['LoanAmount'], 20, facecolor='g')\n",
    "plt.xlabel('Loan Amount')\n",
    "plt.ylabel('Count')\n",
    "plt.title('Histogram for loan amount')\n",
    "plt.grid(True)\n",
    "plt.show()"
   ]
  },
  {
   "cell_type": "markdown",
   "id": "a4c3547c",
   "metadata": {},
   "source": [
    "We can see that the data distribution of the loan amount is skewed to the right. We shall use the log transformation method to reduce this skewness."
   ]
  },
  {
   "cell_type": "code",
   "execution_count": 24,
   "id": "66ea3e8c",
   "metadata": {},
   "outputs": [
    {
     "data": {
      "text/plain": [
       "<function matplotlib.pyplot.show(close=None, block=None)>"
      ]
     },
     "execution_count": 24,
     "metadata": {},
     "output_type": "execute_result"
    },
    {
     "data": {
      "image/png": "[encoded data removed]",
      "text/plain": [
       "<Figure size 1080x720 with 2 Axes>"
      ]
     },
     "metadata": {
      "needs_background": "light"
     },
     "output_type": "display_data"
    }
   ],
   "source": [
    "#This pieplot shows the percentage of the survivals\n",
    "f, ax = plt.subplots(1,2, figsize = (15,10))\n",
    "loan_predict['Loan_Status'].value_counts().plot.pie(explode = [0,0.1], autopct ='%1.1f%%',ax = ax[0], shadow = True)\n",
    "ax[0].set_title('Loan Status Percentage')\n",
    "ax[0].set_ylabel('')\n",
    "\n",
    "#This countplot shows the distribution of the passenger whether they survived or not\n",
    "sns.countplot(x ='Loan_Status', data = loan_predict,  ax = ax[1])\n",
    "ax[1].set_title('Count of Applicants Loan Status')\n",
    "plt.show"
   ]
  },
  {
   "cell_type": "markdown",
   "id": "52c20219",
   "metadata": {},
   "source": [
    "68.7% of the applicants had their loans approved. Our count shows our target variable classes are imbalance."
   ]
  },
  {
   "cell_type": "code",
   "execution_count": 25,
   "id": "3389034f",
   "metadata": {},
   "outputs": [
    {
     "data": {
      "text/plain": [
       "<AxesSubplot:>"
      ]
     },
     "execution_count": 25,
     "metadata": {},
     "output_type": "execute_result"
    },
    {
     "data": {
      "image/png": "[encoded data removed]",
      "text/plain": [
       "<Figure size 432x288 with 1 Axes>"
      ]
     },
     "metadata": {
      "needs_background": "light"
     },
     "output_type": "display_data"
    }
   ],
   "source": [
    "#Boxplot of the column Loan_Amount_term\n",
    "loan_predict.boxplot(column='Loan_Amount_Term')"
   ]
  },
  {
   "cell_type": "code",
   "execution_count": 26,
   "id": "84e78854",
   "metadata": {},
   "outputs": [
    {
     "data": {
      "text/plain": [
       "<AxesSubplot:>"
      ]
     },
     "execution_count": 26,
     "metadata": {},
     "output_type": "execute_result"
    },
    {
     "data": {
      "image/png": "[encoded data removed]",
      "text/plain": [
       "<Figure size 432x288 with 1 Axes>"
      ]
     },
     "metadata": {
      "needs_background": "light"
     },
     "output_type": "display_data"
    }
   ],
   "source": [
    "#Boxplot on LoanAmount\n",
    "loan_predict.boxplot(column='LoanAmount')"
   ]
  },
  {
   "cell_type": "code",
   "execution_count": 27,
   "id": "fab5d416",
   "metadata": {},
   "outputs": [
    {
     "name": "stderr",
     "output_type": "stream",
     "text": [
      "C:\\Users\\Omen\\anaconda3\\lib\\site-packages\\seaborn\\_decorators.py:36: FutureWarning: Pass the following variable as a keyword arg: x. From version 0.12, the only valid positional argument will be `data`, and passing other arguments without an explicit keyword will result in an error or misinterpretation.\n",
      "  warnings.warn(\n",
      "C:\\Users\\Omen\\anaconda3\\lib\\site-packages\\seaborn\\_decorators.py:36: FutureWarning: Pass the following variable as a keyword arg: x. From version 0.12, the only valid positional argument will be `data`, and passing other arguments without an explicit keyword will result in an error or misinterpretation.\n",
      "  warnings.warn(\n"
     ]
    },
    {
     "data": {
      "text/plain": [
       "<AxesSubplot:xlabel='CoapplicantIncome'>"
      ]
     },
     "execution_count": 27,
     "metadata": {},
     "output_type": "execute_result"
    },
    {
     "data": {
      "image/png": "[encoded data removed]",
      "text/plain": [
       "<Figure size 720x360 with 2 Axes>"
      ]
     },
     "metadata": {
      "needs_background": "light"
     },
     "output_type": "display_data"
    }
   ],
   "source": [
    "# boxplot showing the disposable income available for the applicant's and those that participate in the loan application\n",
    "plt.figure(figsize=(10,5))\n",
    "plt.subplot(1,2,1)\n",
    "sns.boxplot(loan_predict['ApplicantIncome'],color='y')\n",
    "plt.subplot(1,2,2)\n",
    "sns.boxplot(loan_predict['CoapplicantIncome'],color='b')"
   ]
  },
  {
   "cell_type": "markdown",
   "id": "23e33ab9",
   "metadata": {},
   "source": [
    "From the boxplots above, we can see that there are outliers in Loan_Amount_Term, LoanAmount, ApplicantIncome and CoapplicantIncome."
   ]
  },
  {
   "cell_type": "code",
   "execution_count": 28,
   "id": "20c48d19",
   "metadata": {},
   "outputs": [
    {
     "data": {
      "text/plain": [
       "<AxesSubplot:xlabel='CoapplicantIncome', ylabel='Count'>"
      ]
     },
     "execution_count": 28,
     "metadata": {},
     "output_type": "execute_result"
    },
    {
     "data": {
      "image/png": "[encoded data removed]",
      "text/plain": [
       "<Figure size 720x360 with 2 Axes>"
      ]
     },
     "metadata": {
      "needs_background": "light"
     },
     "output_type": "display_data"
    }
   ],
   "source": [
    "# histplot showing the disposable income available for the applicant's and those that participate in the loan application\n",
    "plt.figure(figsize=(10,5))\n",
    "plt.subplot(1,2,1)\n",
    "sns.histplot(loan_predict['ApplicantIncome'],kde=True,color='y')\n",
    "plt.subplot(1,2,2)\n",
    "sns.histplot(loan_predict['CoapplicantIncome'],kde=True,color='b')"
   ]
  },
  {
   "cell_type": "markdown",
   "id": "1aec7a52",
   "metadata": {},
   "source": [
    "We can see that the data distribution of both ApplicantIncome and CoapplicantIncome are skewed to the right. To reduce this skewness, we shall be using the log transformation method. "
   ]
  },
  {
   "cell_type": "code",
   "execution_count": 29,
   "id": "7cca85da",
   "metadata": {},
   "outputs": [
    {
     "data": {
      "image/png": "[encoded data removed]",
      "text/plain": [
       "<Figure size 720x504 with 1 Axes>"
      ]
     },
     "metadata": {
      "needs_background": "light"
     },
     "output_type": "display_data"
    }
   ],
   "source": [
    "#countplot showing the relationship of feature with loan status\n",
    "plt.figure(figsize=(10,7))\n",
    "sns.countplot(x='Gender', hue='Loan_Status', data=loan_predict)\n",
    "plt.title('Loan Approval Status by Gender')\n",
    "plt.show()\n"
   ]
  },
  {
   "cell_type": "markdown",
   "id": "7d680d45",
   "metadata": {},
   "source": [
    "The male applicants are more likely to get loan approvals."
   ]
  },
  {
   "cell_type": "code",
   "execution_count": 30,
   "id": "b7a28f0f",
   "metadata": {},
   "outputs": [
    {
     "data": {
      "image/png": "[encoded data removed]",
      "text/plain": [
       "<Figure size 720x504 with 1 Axes>"
      ]
     },
     "metadata": {
      "needs_background": "light"
     },
     "output_type": "display_data"
    }
   ],
   "source": [
    "#countplot showing the relationship of feature with loan status\n",
    "plt.figure(figsize=(10,7))\n",
    "sns.countplot(x='Married', hue='Loan_Status', data=loan_predict)\n",
    "plt.title('Loan Approval Status by Marriage status')\n",
    "plt.show()"
   ]
  },
  {
   "cell_type": "markdown",
   "id": "e2aa4cbc",
   "metadata": {},
   "source": [
    "Those applicants who are married are more likely to get loan approvals."
   ]
  },
  {
   "cell_type": "code",
   "execution_count": 31,
   "id": "2dfd26a3",
   "metadata": {},
   "outputs": [
    {
     "data": {
      "image/png": "[encoded data removed]",
      "text/plain": [
       "<Figure size 720x504 with 1 Axes>"
      ]
     },
     "metadata": {
      "needs_background": "light"
     },
     "output_type": "display_data"
    }
   ],
   "source": [
    "#countplot showing the relationship of feature with loan status\n",
    "plt.figure(figsize=(10,7))\n",
    "sns.countplot(x='Dependents', hue='Loan_Status', data=loan_predict)\n",
    "plt.title('Loan Approval Status by Dependents status')\n",
    "plt.show()"
   ]
  },
  {
   "cell_type": "markdown",
   "id": "ec855f82",
   "metadata": {},
   "source": [
    "Applicants who do not have dependents are more likely to get their loans approved."
   ]
  },
  {
   "cell_type": "code",
   "execution_count": 32,
   "id": "c0243668",
   "metadata": {},
   "outputs": [
    {
     "data": {
      "image/png": "[encoded data removed]",
      "text/plain": [
       "<Figure size 720x504 with 1 Axes>"
      ]
     },
     "metadata": {
      "needs_background": "light"
     },
     "output_type": "display_data"
    }
   ],
   "source": [
    "#countplot showing the relationship of feature with loan status\n",
    "plt.figure(figsize=(10,7))\n",
    "sns.countplot(x='Credit_History', hue='Loan_Status', data=loan_predict)\n",
    "plt.title('Loan Approval Status by Credit_History')\n",
    "plt.show()"
   ]
  },
  {
   "cell_type": "markdown",
   "id": "436171eb",
   "metadata": {},
   "source": [
    "We can see from the plot that about 100 applications who did not have a credit history did not have their loan approved. This column could be significant in the loan approval prediction model since it's feasible that having or not having a credit history could affect loan approval."
   ]
  },
  {
   "cell_type": "code",
   "execution_count": 33,
   "id": "35a82273",
   "metadata": {},
   "outputs": [
    {
     "data": {
      "image/png": "[encoded data removed]",
      "text/plain": [
       "<Figure size 720x504 with 1 Axes>"
      ]
     },
     "metadata": {
      "needs_background": "light"
     },
     "output_type": "display_data"
    }
   ],
   "source": [
    "#countplot showing the relationship of feature with loan status\n",
    "plt.figure(figsize=(10,7))\n",
    "sns.countplot(x='Education', hue='Loan_Status', data=loan_predict)\n",
    "plt.title('Loan Approval Status by Education')\n",
    "plt.show()"
   ]
  },
  {
   "cell_type": "markdown",
   "id": "7adf1250",
   "metadata": {},
   "source": [
    "Looking at the countplot, we can say that applicants who are graduate have a higher chance of having their loan approved than those who are not graduates. This may suggest that qualifying for a loan may depend on one's educational background."
   ]
  },
  {
   "cell_type": "markdown",
   "id": "f7b9afd7",
   "metadata": {},
   "source": [
    "## Data Pre-Processing"
   ]
  },
  {
   "cell_type": "markdown",
   "id": "f56007cb",
   "metadata": {},
   "source": [
    "### Treating missing values"
   ]
  },
  {
   "cell_type": "code",
   "execution_count": 34,
   "id": "4f4228c3",
   "metadata": {},
   "outputs": [
    {
     "data": {
      "text/plain": [
       "Gender               13\n",
       "Married               3\n",
       "Dependents           15\n",
       "Education             0\n",
       "Self_Employed        32\n",
       "ApplicantIncome       0\n",
       "CoapplicantIncome     0\n",
       "LoanAmount           22\n",
       "Loan_Amount_Term     14\n",
       "Credit_History       50\n",
       "Property_Area         0\n",
       "Loan_Status           0\n",
       "dtype: int64"
      ]
     },
     "execution_count": 34,
     "metadata": {},
     "output_type": "execute_result"
    }
   ],
   "source": [
    "#Checking for null values in the dataset\n",
    "loan_predict.apply(lambda x: sum(x.isnull()), axis=0)"
   ]
  },
  {
   "cell_type": "code",
   "execution_count": 35,
   "id": "a61c4b1b",
   "metadata": {},
   "outputs": [],
   "source": [
    "#Filling in missing values in the LoanAmount column by mean\n",
    "loan_predict['LoanAmount'].fillna(loan_predict['LoanAmount'].mean(), inplace = True)\n",
    "\n",
    "#Filling the null values in the column Self_Employed with the value 'No'\n",
    "loan_predict['Self_Employed'].fillna('No', inplace=True)\n",
    "\n",
    "#0:gets the mode of each column and fill in the missing values\n",
    "loan_predict['Gender'].fillna(loan_predict['Gender'].mode()[0], inplace = True)\n",
    "loan_predict['Married'].fillna(loan_predict['Married'].mode()[0], inplace = True)\n",
    "loan_predict['Dependents'].fillna(loan_predict['Dependents'].mode()[0], inplace = True)\n",
    "loan_predict['Loan_Amount_Term'].fillna(loan_predict['Loan_Amount_Term'].mode()[0], inplace = True)\n",
    "loan_predict['Credit_History'].fillna(loan_predict['Credit_History'].mode()[0], inplace = True)\n"
   ]
  },
  {
   "cell_type": "code",
   "execution_count": 36,
   "id": "03b83179",
   "metadata": {},
   "outputs": [
    {
     "data": {
      "text/plain": [
       "Gender               0\n",
       "Married              0\n",
       "Dependents           0\n",
       "Education            0\n",
       "Self_Employed        0\n",
       "ApplicantIncome      0\n",
       "CoapplicantIncome    0\n",
       "LoanAmount           0\n",
       "Loan_Amount_Term     0\n",
       "Credit_History       0\n",
       "Property_Area        0\n",
       "Loan_Status          0\n",
       "dtype: int64"
      ]
     },
     "execution_count": 36,
     "metadata": {},
     "output_type": "execute_result"
    }
   ],
   "source": [
    "#Checking the dataset after removing null values\n",
    "loan_predict.apply(lambda x: sum(x.isnull()), axis=0)"
   ]
  },
  {
   "cell_type": "markdown",
   "id": "49c713fb",
   "metadata": {},
   "source": [
    "### Data Transformation"
   ]
  },
  {
   "cell_type": "code",
   "execution_count": 37,
   "id": "b34811bf",
   "metadata": {},
   "outputs": [
    {
     "data": {
      "text/plain": [
       "Gender                 int32\n",
       "Married                int32\n",
       "Dependents             int32\n",
       "Education              int32\n",
       "Self_Employed          int32\n",
       "ApplicantIncome        int64\n",
       "CoapplicantIncome    float64\n",
       "LoanAmount           float64\n",
       "Loan_Amount_Term     float64\n",
       "Credit_History       float64\n",
       "Property_Area          int32\n",
       "Loan_Status            int32\n",
       "dtype: object"
      ]
     },
     "execution_count": 37,
     "metadata": {},
     "output_type": "execute_result"
    }
   ],
   "source": [
    "#import Label Encoder from sklearn\n",
    "from sklearn.preprocessing import LabelEncoder,OneHotEncoder,StandardScaler,MinMaxScaler\n",
    "\n",
    "#Converted all categorical values to number\n",
    "#Selects the columns that are not integer\n",
    "columns = list(loan_predict.select_dtypes(exclude=['float64','int64']))\n",
    "le = LabelEncoder()\n",
    "for i in columns:\n",
    " #print(i)\n",
    " loan_predict[i] = le.fit_transform(loan_predict[i])\n",
    "loan_predict.dtypes"
   ]
  },
  {
   "cell_type": "code",
   "execution_count": 38,
   "id": "6b35c69c",
   "metadata": {},
   "outputs": [
    {
     "data": {
      "text/plain": [
       "Text(0.5, 1.0, 'Correlation Heatmap')"
      ]
     },
     "execution_count": 38,
     "metadata": {},
     "output_type": "execute_result"
    },
    {
     "data": {
      "image/png": "[encoded data removed]",
      "text/plain": [
       "<Figure size 1080x504 with 2 Axes>"
      ]
     },
     "metadata": {
      "needs_background": "light"
     },
     "output_type": "display_data"
    }
   ],
   "source": [
    "# Using heatmap to visualize the correlation between the features.\n",
    "plt.figure(figsize=(15,7))\n",
    "sns.heatmap(loan_predict.corr(), annot=True, cmap='PiYG')\n",
    "plt.title('Correlation Heatmap')"
   ]
  },
  {
   "cell_type": "markdown",
   "id": "7e06687c",
   "metadata": {},
   "source": [
    "The above heatmap showes that there is a positive correlation between Loan Amount and ApplicantIncome. It also shows that Credit_History has a high impact on Loan_Status."
   ]
  },
  {
   "cell_type": "markdown",
   "id": "57004aa7",
   "metadata": {},
   "source": [
    "### Checking for Skewness"
   ]
  },
  {
   "cell_type": "code",
   "execution_count": 39,
   "id": "d3a7ae94",
   "metadata": {},
   "outputs": [
    {
     "data": {
      "text/plain": [
       "<AxesSubplot:>"
      ]
     },
     "execution_count": 39,
     "metadata": {},
     "output_type": "execute_result"
    },
    {
     "data": {
      "image/png": "[encoded data removed]",
      "text/plain": [
       "<Figure size 432x288 with 1 Axes>"
      ]
     },
     "metadata": {
      "needs_background": "light"
     },
     "output_type": "display_data"
    }
   ],
   "source": [
    "# Add both ApplicantIncome and CoapplicantIncome to form another feature called TotalIncome\n",
    "loan_predict['TotalIncome'] = loan_predict['ApplicantIncome'] + loan_predict['CoapplicantIncome']\n",
    "\n",
    "# Looking at the distribtion of TotalIncome\n",
    "loan_predict['TotalIncome'].hist(bins=20)\n"
   ]
  },
  {
   "cell_type": "markdown",
   "id": "2d679307",
   "metadata": {},
   "source": [
    "We added the ApplicantIncome and CoapplicantIncome to form another feature called TotalIncome. From the distribution of the combined data, we can see that it is rightly skewed. We shall use the log transformation method to reduce the skewness."
   ]
  },
  {
   "cell_type": "code",
   "execution_count": 40,
   "id": "eec5a079",
   "metadata": {},
   "outputs": [],
   "source": [
    "# Perform log transformation of TotalIncome to make it closer to normal\n",
    "loan_predict['TotalIncome_log'] = np.log(loan_predict['TotalIncome'])"
   ]
  },
  {
   "cell_type": "code",
   "execution_count": 41,
   "id": "73ced655",
   "metadata": {},
   "outputs": [
    {
     "data": {
      "text/plain": [
       "<AxesSubplot:>"
      ]
     },
     "execution_count": 41,
     "metadata": {},
     "output_type": "execute_result"
    },
    {
     "data": {
      "image/png": "[encoded data removed]",
      "text/plain": [
       "<Figure size 432x288 with 1 Axes>"
      ]
     },
     "metadata": {
      "needs_background": "light"
     },
     "output_type": "display_data"
    }
   ],
   "source": [
    "#Histogram of the loanAmount_log\n",
    "loan_predict['TotalIncome_log'].hist(bins = 20)"
   ]
  },
  {
   "cell_type": "markdown",
   "id": "5c6715ab",
   "metadata": {},
   "source": [
    "We used the log transformation method to reduce the skewness in our TotalIncome column. The distribution of our data is now normal."
   ]
  },
  {
   "cell_type": "code",
   "execution_count": 42,
   "id": "09ab946e",
   "metadata": {},
   "outputs": [
    {
     "data": {
      "text/plain": [
       "<AxesSubplot:>"
      ]
     },
     "execution_count": 42,
     "metadata": {},
     "output_type": "execute_result"
    },
    {
     "data": {
      "image/png": "[encoded data removed]",
      "text/plain": [
       "<Figure size 432x288 with 1 Axes>"
      ]
     },
     "metadata": {
      "needs_background": "light"
     },
     "output_type": "display_data"
    }
   ],
   "source": [
    "# Looking at the distribtion of TotalIncome\n",
    "loan_predict['LoanAmount'].hist(bins=20)"
   ]
  },
  {
   "cell_type": "markdown",
   "id": "62ed90b5",
   "metadata": {},
   "source": [
    "From the data distribution of our LoanAmount column, we can see that it is rightly skewed. We shall use the log transformation method to reduce the skewness."
   ]
  },
  {
   "cell_type": "code",
   "execution_count": 43,
   "id": "30f5f5e5",
   "metadata": {},
   "outputs": [],
   "source": [
    "#Building log transformation for loanAmount\n",
    "loan_predict['LoanAmount_log'] = np.log(loan_predict['LoanAmount'])"
   ]
  },
  {
   "cell_type": "code",
   "execution_count": 44,
   "id": "4a227219",
   "metadata": {},
   "outputs": [
    {
     "data": {
      "text/plain": [
       "<AxesSubplot:>"
      ]
     },
     "execution_count": 44,
     "metadata": {},
     "output_type": "execute_result"
    },
    {
     "data": {
      "image/png": "[encoded data removed]",
      "text/plain": [
       "<Figure size 432x288 with 1 Axes>"
      ]
     },
     "metadata": {
      "needs_background": "light"
     },
     "output_type": "display_data"
    }
   ],
   "source": [
    "#Histogram of the loanAmount_log\n",
    "loan_predict['LoanAmount_log'].hist(bins = 20)"
   ]
  },
  {
   "cell_type": "markdown",
   "id": "79e6c8a2",
   "metadata": {},
   "source": [
    "We used the log transformation method to reduce the skewness in our LoanAmount column. The distribution of our data is now normal."
   ]
  },
  {
   "cell_type": "code",
   "execution_count": 45,
   "id": "d1e796a2",
   "metadata": {},
   "outputs": [],
   "source": [
    "#Drop ApplicantIncome and CoapplicantIncome from the dataset as we have transformed both of them\n",
    "loan_predict = loan_predict.drop(['ApplicantIncome','CoapplicantIncome'], axis=1) "
   ]
  },
  {
   "cell_type": "markdown",
   "id": "ca99dcaf",
   "metadata": {},
   "source": [
    "We dropped the ApplicantIncome and 'CoapplicantIncome column since we merged them to form a new column TotalIncome."
   ]
  },
  {
   "cell_type": "code",
   "execution_count": 46,
   "id": "f9929226",
   "metadata": {},
   "outputs": [
    {
     "data": {
      "text/html": [
       "<div>\n",
       "<style scoped>\n",
       "    .dataframe tbody tr th:only-of-type {\n",
       "        vertical-align: middle;\n",
       "    }\n",
       "\n",
       "    .dataframe tbody tr th {\n",
       "        vertical-align: top;\n",
       "    }\n",
       "\n",
       "    .dataframe thead th {\n",
       "        text-align: right;\n",
       "    }\n",
       "</style>\n",
       "<table border=\"1\" class=\"dataframe\">\n",
       "  <thead>\n",
       "    <tr style=\"text-align: right;\">\n",
       "      <th></th>\n",
       "      <th>Gender</th>\n",
       "      <th>Married</th>\n",
       "      <th>Dependents</th>\n",
       "      <th>Education</th>\n",
       "      <th>Self_Employed</th>\n",
       "      <th>LoanAmount</th>\n",
       "      <th>Loan_Amount_Term</th>\n",
       "      <th>Credit_History</th>\n",
       "      <th>Property_Area</th>\n",
       "      <th>Loan_Status</th>\n",
       "      <th>TotalIncome</th>\n",
       "      <th>TotalIncome_log</th>\n",
       "      <th>LoanAmount_log</th>\n",
       "    </tr>\n",
       "  </thead>\n",
       "  <tbody>\n",
       "    <tr>\n",
       "      <th>0</th>\n",
       "      <td>1</td>\n",
       "      <td>0</td>\n",
       "      <td>0</td>\n",
       "      <td>0</td>\n",
       "      <td>0</td>\n",
       "      <td>146.412162</td>\n",
       "      <td>360.0</td>\n",
       "      <td>1.0</td>\n",
       "      <td>2</td>\n",
       "      <td>1</td>\n",
       "      <td>5849.0</td>\n",
       "      <td>8.674026</td>\n",
       "      <td>4.986426</td>\n",
       "    </tr>\n",
       "    <tr>\n",
       "      <th>1</th>\n",
       "      <td>1</td>\n",
       "      <td>1</td>\n",
       "      <td>1</td>\n",
       "      <td>0</td>\n",
       "      <td>0</td>\n",
       "      <td>128.000000</td>\n",
       "      <td>360.0</td>\n",
       "      <td>1.0</td>\n",
       "      <td>0</td>\n",
       "      <td>0</td>\n",
       "      <td>6091.0</td>\n",
       "      <td>8.714568</td>\n",
       "      <td>4.852030</td>\n",
       "    </tr>\n",
       "    <tr>\n",
       "      <th>2</th>\n",
       "      <td>1</td>\n",
       "      <td>1</td>\n",
       "      <td>0</td>\n",
       "      <td>0</td>\n",
       "      <td>1</td>\n",
       "      <td>66.000000</td>\n",
       "      <td>360.0</td>\n",
       "      <td>1.0</td>\n",
       "      <td>2</td>\n",
       "      <td>1</td>\n",
       "      <td>3000.0</td>\n",
       "      <td>8.006368</td>\n",
       "      <td>4.189655</td>\n",
       "    </tr>\n",
       "    <tr>\n",
       "      <th>3</th>\n",
       "      <td>1</td>\n",
       "      <td>1</td>\n",
       "      <td>0</td>\n",
       "      <td>1</td>\n",
       "      <td>0</td>\n",
       "      <td>120.000000</td>\n",
       "      <td>360.0</td>\n",
       "      <td>1.0</td>\n",
       "      <td>2</td>\n",
       "      <td>1</td>\n",
       "      <td>4941.0</td>\n",
       "      <td>8.505323</td>\n",
       "      <td>4.787492</td>\n",
       "    </tr>\n",
       "    <tr>\n",
       "      <th>4</th>\n",
       "      <td>1</td>\n",
       "      <td>0</td>\n",
       "      <td>0</td>\n",
       "      <td>0</td>\n",
       "      <td>0</td>\n",
       "      <td>141.000000</td>\n",
       "      <td>360.0</td>\n",
       "      <td>1.0</td>\n",
       "      <td>2</td>\n",
       "      <td>1</td>\n",
       "      <td>6000.0</td>\n",
       "      <td>8.699515</td>\n",
       "      <td>4.948760</td>\n",
       "    </tr>\n",
       "    <tr>\n",
       "      <th>5</th>\n",
       "      <td>1</td>\n",
       "      <td>1</td>\n",
       "      <td>2</td>\n",
       "      <td>0</td>\n",
       "      <td>1</td>\n",
       "      <td>267.000000</td>\n",
       "      <td>360.0</td>\n",
       "      <td>1.0</td>\n",
       "      <td>2</td>\n",
       "      <td>1</td>\n",
       "      <td>9613.0</td>\n",
       "      <td>9.170872</td>\n",
       "      <td>5.587249</td>\n",
       "    </tr>\n",
       "    <tr>\n",
       "      <th>6</th>\n",
       "      <td>1</td>\n",
       "      <td>1</td>\n",
       "      <td>0</td>\n",
       "      <td>1</td>\n",
       "      <td>0</td>\n",
       "      <td>95.000000</td>\n",
       "      <td>360.0</td>\n",
       "      <td>1.0</td>\n",
       "      <td>2</td>\n",
       "      <td>1</td>\n",
       "      <td>3849.0</td>\n",
       "      <td>8.255569</td>\n",
       "      <td>4.553877</td>\n",
       "    </tr>\n",
       "    <tr>\n",
       "      <th>7</th>\n",
       "      <td>1</td>\n",
       "      <td>1</td>\n",
       "      <td>3</td>\n",
       "      <td>0</td>\n",
       "      <td>0</td>\n",
       "      <td>158.000000</td>\n",
       "      <td>360.0</td>\n",
       "      <td>0.0</td>\n",
       "      <td>1</td>\n",
       "      <td>0</td>\n",
       "      <td>5540.0</td>\n",
       "      <td>8.619750</td>\n",
       "      <td>5.062595</td>\n",
       "    </tr>\n",
       "    <tr>\n",
       "      <th>8</th>\n",
       "      <td>1</td>\n",
       "      <td>1</td>\n",
       "      <td>2</td>\n",
       "      <td>0</td>\n",
       "      <td>0</td>\n",
       "      <td>168.000000</td>\n",
       "      <td>360.0</td>\n",
       "      <td>1.0</td>\n",
       "      <td>2</td>\n",
       "      <td>1</td>\n",
       "      <td>5532.0</td>\n",
       "      <td>8.618305</td>\n",
       "      <td>5.123964</td>\n",
       "    </tr>\n",
       "    <tr>\n",
       "      <th>9</th>\n",
       "      <td>1</td>\n",
       "      <td>1</td>\n",
       "      <td>1</td>\n",
       "      <td>0</td>\n",
       "      <td>0</td>\n",
       "      <td>349.000000</td>\n",
       "      <td>360.0</td>\n",
       "      <td>1.0</td>\n",
       "      <td>1</td>\n",
       "      <td>0</td>\n",
       "      <td>23809.0</td>\n",
       "      <td>10.077819</td>\n",
       "      <td>5.855072</td>\n",
       "    </tr>\n",
       "  </tbody>\n",
       "</table>\n",
       "</div>"
      ],
      "text/plain": [
       "   Gender  Married  Dependents  Education  Self_Employed  LoanAmount  \\\n",
       "0       1        0           0          0              0  146.412162   \n",
       "1       1        1           1          0              0  128.000000   \n",
       "2       1        1           0          0              1   66.000000   \n",
       "3       1        1           0          1              0  120.000000   \n",
       "4       1        0           0          0              0  141.000000   \n",
       "5       1        1           2          0              1  267.000000   \n",
       "6       1        1           0          1              0   95.000000   \n",
       "7       1        1           3          0              0  158.000000   \n",
       "8       1        1           2          0              0  168.000000   \n",
       "9       1        1           1          0              0  349.000000   \n",
       "\n",
       "   Loan_Amount_Term  Credit_History  Property_Area  Loan_Status  TotalIncome  \\\n",
       "0             360.0             1.0              2            1       5849.0   \n",
       "1             360.0             1.0              0            0       6091.0   \n",
       "2             360.0             1.0              2            1       3000.0   \n",
       "3             360.0             1.0              2            1       4941.0   \n",
       "4             360.0             1.0              2            1       6000.0   \n",
       "5             360.0             1.0              2            1       9613.0   \n",
       "6             360.0             1.0              2            1       3849.0   \n",
       "7             360.0             0.0              1            0       5540.0   \n",
       "8             360.0             1.0              2            1       5532.0   \n",
       "9             360.0             1.0              1            0      23809.0   \n",
       "\n",
       "   TotalIncome_log  LoanAmount_log  \n",
       "0         8.674026        4.986426  \n",
       "1         8.714568        4.852030  \n",
       "2         8.006368        4.189655  \n",
       "3         8.505323        4.787492  \n",
       "4         8.699515        4.948760  \n",
       "5         9.170872        5.587249  \n",
       "6         8.255569        4.553877  \n",
       "7         8.619750        5.062595  \n",
       "8         8.618305        5.123964  \n",
       "9        10.077819        5.855072  "
      ]
     },
     "execution_count": 46,
     "metadata": {},
     "output_type": "execute_result"
    }
   ],
   "source": [
    "#Viewing the first 10 rows of the dataset\n",
    "loan_predict.head(10)"
   ]
  },
  {
   "cell_type": "code",
   "execution_count": 47,
   "id": "1bf66deb",
   "metadata": {},
   "outputs": [
    {
     "data": {
      "text/html": [
       "<div>\n",
       "<style scoped>\n",
       "    .dataframe tbody tr th:only-of-type {\n",
       "        vertical-align: middle;\n",
       "    }\n",
       "\n",
       "    .dataframe tbody tr th {\n",
       "        vertical-align: top;\n",
       "    }\n",
       "\n",
       "    .dataframe thead th {\n",
       "        text-align: right;\n",
       "    }\n",
       "</style>\n",
       "<table border=\"1\" class=\"dataframe\">\n",
       "  <thead>\n",
       "    <tr style=\"text-align: right;\">\n",
       "      <th></th>\n",
       "      <th>Variables</th>\n",
       "      <th>VIF Value</th>\n",
       "    </tr>\n",
       "  </thead>\n",
       "  <tbody>\n",
       "    <tr>\n",
       "      <th>0</th>\n",
       "      <td>Gender</td>\n",
       "      <td>6.488597</td>\n",
       "    </tr>\n",
       "    <tr>\n",
       "      <th>1</th>\n",
       "      <td>Married</td>\n",
       "      <td>3.745068</td>\n",
       "    </tr>\n",
       "    <tr>\n",
       "      <th>2</th>\n",
       "      <td>Dependents</td>\n",
       "      <td>1.798538</td>\n",
       "    </tr>\n",
       "    <tr>\n",
       "      <th>3</th>\n",
       "      <td>Education</td>\n",
       "      <td>1.356851</td>\n",
       "    </tr>\n",
       "    <tr>\n",
       "      <th>4</th>\n",
       "      <td>Self_Employed</td>\n",
       "      <td>1.188282</td>\n",
       "    </tr>\n",
       "    <tr>\n",
       "      <th>5</th>\n",
       "      <td>LoanAmount</td>\n",
       "      <td>22.298483</td>\n",
       "    </tr>\n",
       "    <tr>\n",
       "      <th>6</th>\n",
       "      <td>Loan_Amount_Term</td>\n",
       "      <td>30.334915</td>\n",
       "    </tr>\n",
       "    <tr>\n",
       "      <th>7</th>\n",
       "      <td>Credit_History</td>\n",
       "      <td>9.807281</td>\n",
       "    </tr>\n",
       "    <tr>\n",
       "      <th>8</th>\n",
       "      <td>Property_Area</td>\n",
       "      <td>2.759494</td>\n",
       "    </tr>\n",
       "    <tr>\n",
       "      <th>9</th>\n",
       "      <td>Loan_Status</td>\n",
       "      <td>4.616429</td>\n",
       "    </tr>\n",
       "    <tr>\n",
       "      <th>10</th>\n",
       "      <td>TotalIncome</td>\n",
       "      <td>6.517456</td>\n",
       "    </tr>\n",
       "    <tr>\n",
       "      <th>11</th>\n",
       "      <td>TotalIncome_log</td>\n",
       "      <td>483.537061</td>\n",
       "    </tr>\n",
       "    <tr>\n",
       "      <th>12</th>\n",
       "      <td>LoanAmount_log</td>\n",
       "      <td>569.463104</td>\n",
       "    </tr>\n",
       "  </tbody>\n",
       "</table>\n",
       "</div>"
      ],
      "text/plain": [
       "           Variables   VIF Value\n",
       "0             Gender    6.488597\n",
       "1            Married    3.745068\n",
       "2         Dependents    1.798538\n",
       "3          Education    1.356851\n",
       "4      Self_Employed    1.188282\n",
       "5         LoanAmount   22.298483\n",
       "6   Loan_Amount_Term   30.334915\n",
       "7     Credit_History    9.807281\n",
       "8      Property_Area    2.759494\n",
       "9        Loan_Status    4.616429\n",
       "10       TotalIncome    6.517456\n",
       "11   TotalIncome_log  483.537061\n",
       "12    LoanAmount_log  569.463104"
      ]
     },
     "execution_count": 47,
     "metadata": {},
     "output_type": "execute_result"
    }
   ],
   "source": [
    "#checking the VIF value for multicollinearity between our variables\n",
    "from statsmodels.stats.outliers_influence import variance_inflation_factor\n",
    "def calc_vif(X_input):\n",
    "# Calculating VIF\n",
    "    vif_df = pd.DataFrame()\n",
    "    vif_df[\"Variables\"] = X_input.columns\n",
    "    vif_df[\"VIF Value\"] = [variance_inflation_factor(X_input.values, i) for i in range(X_input.shape[1])]\n",
    "\n",
    "    return(vif_df)\n",
    "X = loan_predict.iloc[:,:]\n",
    "calc_vif(X)"
   ]
  },
  {
   "cell_type": "code",
   "execution_count": 48,
   "id": "f6a37ebf",
   "metadata": {},
   "outputs": [
    {
     "data": {
      "text/html": [
       "<div>\n",
       "<style scoped>\n",
       "    .dataframe tbody tr th:only-of-type {\n",
       "        vertical-align: middle;\n",
       "    }\n",
       "\n",
       "    .dataframe tbody tr th {\n",
       "        vertical-align: top;\n",
       "    }\n",
       "\n",
       "    .dataframe thead th {\n",
       "        text-align: right;\n",
       "    }\n",
       "</style>\n",
       "<table border=\"1\" class=\"dataframe\">\n",
       "  <thead>\n",
       "    <tr style=\"text-align: right;\">\n",
       "      <th></th>\n",
       "      <th>Variables</th>\n",
       "      <th>VIF Value</th>\n",
       "    </tr>\n",
       "  </thead>\n",
       "  <tbody>\n",
       "    <tr>\n",
       "      <th>0</th>\n",
       "      <td>Gender</td>\n",
       "      <td>5.987803</td>\n",
       "    </tr>\n",
       "    <tr>\n",
       "      <th>1</th>\n",
       "      <td>Married</td>\n",
       "      <td>3.687257</td>\n",
       "    </tr>\n",
       "    <tr>\n",
       "      <th>2</th>\n",
       "      <td>Dependents</td>\n",
       "      <td>1.791168</td>\n",
       "    </tr>\n",
       "    <tr>\n",
       "      <th>3</th>\n",
       "      <td>Education</td>\n",
       "      <td>1.310840</td>\n",
       "    </tr>\n",
       "    <tr>\n",
       "      <th>4</th>\n",
       "      <td>Self_Employed</td>\n",
       "      <td>1.173388</td>\n",
       "    </tr>\n",
       "    <tr>\n",
       "      <th>5</th>\n",
       "      <td>LoanAmount</td>\n",
       "      <td>6.857643</td>\n",
       "    </tr>\n",
       "    <tr>\n",
       "      <th>6</th>\n",
       "      <td>Loan_Amount_Term</td>\n",
       "      <td>10.333130</td>\n",
       "    </tr>\n",
       "    <tr>\n",
       "      <th>7</th>\n",
       "      <td>Credit_History</td>\n",
       "      <td>9.031343</td>\n",
       "    </tr>\n",
       "    <tr>\n",
       "      <th>8</th>\n",
       "      <td>Property_Area</td>\n",
       "      <td>2.577053</td>\n",
       "    </tr>\n",
       "    <tr>\n",
       "      <th>9</th>\n",
       "      <td>Loan_Status</td>\n",
       "      <td>4.602289</td>\n",
       "    </tr>\n",
       "    <tr>\n",
       "      <th>10</th>\n",
       "      <td>TotalIncome</td>\n",
       "      <td>3.613876</td>\n",
       "    </tr>\n",
       "  </tbody>\n",
       "</table>\n",
       "</div>"
      ],
      "text/plain": [
       "           Variables  VIF Value\n",
       "0             Gender   5.987803\n",
       "1            Married   3.687257\n",
       "2         Dependents   1.791168\n",
       "3          Education   1.310840\n",
       "4      Self_Employed   1.173388\n",
       "5         LoanAmount   6.857643\n",
       "6   Loan_Amount_Term  10.333130\n",
       "7     Credit_History   9.031343\n",
       "8      Property_Area   2.577053\n",
       "9        Loan_Status   4.602289\n",
       "10       TotalIncome   3.613876"
      ]
     },
     "execution_count": 48,
     "metadata": {},
     "output_type": "execute_result"
    }
   ],
   "source": [
    "#Dropping density(has highest vif value)\n",
    "X = loan_predict.drop(['LoanAmount_log','TotalIncome_log'],axis=1)\n",
    "\n",
    "calc_vif(X)"
   ]
  },
  {
   "cell_type": "markdown",
   "id": "4e14675f",
   "metadata": {},
   "source": [
    "We dropped the LoanAmount_log and TotalIncome_log as they had a high VIF value. "
   ]
  },
  {
   "cell_type": "code",
   "execution_count": 49,
   "id": "7c701e91",
   "metadata": {},
   "outputs": [
    {
     "data": {
      "text/html": [
       "<div>\n",
       "<style scoped>\n",
       "    .dataframe tbody tr th:only-of-type {\n",
       "        vertical-align: middle;\n",
       "    }\n",
       "\n",
       "    .dataframe tbody tr th {\n",
       "        vertical-align: top;\n",
       "    }\n",
       "\n",
       "    .dataframe thead th {\n",
       "        text-align: right;\n",
       "    }\n",
       "</style>\n",
       "<table border=\"1\" class=\"dataframe\">\n",
       "  <thead>\n",
       "    <tr style=\"text-align: right;\">\n",
       "      <th></th>\n",
       "      <th>Gender</th>\n",
       "      <th>Married</th>\n",
       "      <th>Dependents</th>\n",
       "      <th>Education</th>\n",
       "      <th>Self_Employed</th>\n",
       "      <th>LoanAmount</th>\n",
       "      <th>Loan_Amount_Term</th>\n",
       "      <th>Credit_History</th>\n",
       "      <th>Property_Area</th>\n",
       "      <th>Loan_Status</th>\n",
       "      <th>TotalIncome</th>\n",
       "    </tr>\n",
       "  </thead>\n",
       "  <tbody>\n",
       "    <tr>\n",
       "      <th>0</th>\n",
       "      <td>0.472343</td>\n",
       "      <td>-1.372089</td>\n",
       "      <td>-0.737806</td>\n",
       "      <td>-0.528362</td>\n",
       "      <td>-0.392601</td>\n",
       "      <td>0.000000</td>\n",
       "      <td>0.273231</td>\n",
       "      <td>0.411733</td>\n",
       "      <td>1.223298</td>\n",
       "      <td>0.674519</td>\n",
       "      <td>-0.182184</td>\n",
       "    </tr>\n",
       "    <tr>\n",
       "      <th>1</th>\n",
       "      <td>0.472343</td>\n",
       "      <td>0.728816</td>\n",
       "      <td>0.253470</td>\n",
       "      <td>-0.528362</td>\n",
       "      <td>-0.392601</td>\n",
       "      <td>-0.219273</td>\n",
       "      <td>0.273231</td>\n",
       "      <td>0.411733</td>\n",
       "      <td>-1.318513</td>\n",
       "      <td>-1.482537</td>\n",
       "      <td>-0.144684</td>\n",
       "    </tr>\n",
       "    <tr>\n",
       "      <th>2</th>\n",
       "      <td>0.472343</td>\n",
       "      <td>0.728816</td>\n",
       "      <td>-0.737806</td>\n",
       "      <td>-0.528362</td>\n",
       "      <td>2.547117</td>\n",
       "      <td>-0.957641</td>\n",
       "      <td>0.273231</td>\n",
       "      <td>0.411733</td>\n",
       "      <td>1.223298</td>\n",
       "      <td>0.674519</td>\n",
       "      <td>-0.623656</td>\n",
       "    </tr>\n",
       "    <tr>\n",
       "      <th>3</th>\n",
       "      <td>0.472343</td>\n",
       "      <td>0.728816</td>\n",
       "      <td>-0.737806</td>\n",
       "      <td>1.892641</td>\n",
       "      <td>-0.392601</td>\n",
       "      <td>-0.314547</td>\n",
       "      <td>0.273231</td>\n",
       "      <td>0.411733</td>\n",
       "      <td>1.223298</td>\n",
       "      <td>0.674519</td>\n",
       "      <td>-0.322885</td>\n",
       "    </tr>\n",
       "    <tr>\n",
       "      <th>4</th>\n",
       "      <td>0.472343</td>\n",
       "      <td>-1.372089</td>\n",
       "      <td>-0.737806</td>\n",
       "      <td>-0.528362</td>\n",
       "      <td>-0.392601</td>\n",
       "      <td>-0.064454</td>\n",
       "      <td>0.273231</td>\n",
       "      <td>0.411733</td>\n",
       "      <td>1.223298</td>\n",
       "      <td>0.674519</td>\n",
       "      <td>-0.158785</td>\n",
       "    </tr>\n",
       "    <tr>\n",
       "      <th>...</th>\n",
       "      <td>...</td>\n",
       "      <td>...</td>\n",
       "      <td>...</td>\n",
       "      <td>...</td>\n",
       "      <td>...</td>\n",
       "      <td>...</td>\n",
       "      <td>...</td>\n",
       "      <td>...</td>\n",
       "      <td>...</td>\n",
       "      <td>...</td>\n",
       "      <td>...</td>\n",
       "    </tr>\n",
       "    <tr>\n",
       "      <th>609</th>\n",
       "      <td>-2.117107</td>\n",
       "      <td>-1.372089</td>\n",
       "      <td>-0.737806</td>\n",
       "      <td>-0.528362</td>\n",
       "      <td>-0.392601</td>\n",
       "      <td>-0.898095</td>\n",
       "      <td>0.273231</td>\n",
       "      <td>0.411733</td>\n",
       "      <td>-1.318513</td>\n",
       "      <td>0.674519</td>\n",
       "      <td>-0.639152</td>\n",
       "    </tr>\n",
       "    <tr>\n",
       "      <th>610</th>\n",
       "      <td>0.472343</td>\n",
       "      <td>0.728816</td>\n",
       "      <td>2.236021</td>\n",
       "      <td>-0.528362</td>\n",
       "      <td>-0.392601</td>\n",
       "      <td>-1.267279</td>\n",
       "      <td>-2.522836</td>\n",
       "      <td>0.411733</td>\n",
       "      <td>-1.318513</td>\n",
       "      <td>0.674519</td>\n",
       "      <td>-0.452274</td>\n",
       "    </tr>\n",
       "    <tr>\n",
       "      <th>611</th>\n",
       "      <td>0.472343</td>\n",
       "      <td>0.728816</td>\n",
       "      <td>0.253470</td>\n",
       "      <td>-0.528362</td>\n",
       "      <td>-0.392601</td>\n",
       "      <td>1.269371</td>\n",
       "      <td>0.273231</td>\n",
       "      <td>0.411733</td>\n",
       "      <td>1.223298</td>\n",
       "      <td>0.674519</td>\n",
       "      <td>0.199475</td>\n",
       "    </tr>\n",
       "    <tr>\n",
       "      <th>612</th>\n",
       "      <td>0.472343</td>\n",
       "      <td>0.728816</td>\n",
       "      <td>1.244745</td>\n",
       "      <td>-0.528362</td>\n",
       "      <td>-0.392601</td>\n",
       "      <td>0.483367</td>\n",
       "      <td>0.273231</td>\n",
       "      <td>0.411733</td>\n",
       "      <td>1.223298</td>\n",
       "      <td>0.674519</td>\n",
       "      <td>0.086512</td>\n",
       "    </tr>\n",
       "    <tr>\n",
       "      <th>613</th>\n",
       "      <td>-2.117107</td>\n",
       "      <td>-1.372089</td>\n",
       "      <td>-0.737806</td>\n",
       "      <td>-0.528362</td>\n",
       "      <td>2.547117</td>\n",
       "      <td>-0.159728</td>\n",
       "      <td>0.273231</td>\n",
       "      <td>-2.428760</td>\n",
       "      <td>-0.047607</td>\n",
       "      <td>-1.482537</td>\n",
       "      <td>-0.378359</td>\n",
       "    </tr>\n",
       "  </tbody>\n",
       "</table>\n",
       "<p>614 rows × 11 columns</p>\n",
       "</div>"
      ],
      "text/plain": [
       "       Gender   Married  Dependents  Education  Self_Employed  LoanAmount  \\\n",
       "0    0.472343 -1.372089   -0.737806  -0.528362      -0.392601    0.000000   \n",
       "1    0.472343  0.728816    0.253470  -0.528362      -0.392601   -0.219273   \n",
       "2    0.472343  0.728816   -0.737806  -0.528362       2.547117   -0.957641   \n",
       "3    0.472343  0.728816   -0.737806   1.892641      -0.392601   -0.314547   \n",
       "4    0.472343 -1.372089   -0.737806  -0.528362      -0.392601   -0.064454   \n",
       "..        ...       ...         ...        ...            ...         ...   \n",
       "609 -2.117107 -1.372089   -0.737806  -0.528362      -0.392601   -0.898095   \n",
       "610  0.472343  0.728816    2.236021  -0.528362      -0.392601   -1.267279   \n",
       "611  0.472343  0.728816    0.253470  -0.528362      -0.392601    1.269371   \n",
       "612  0.472343  0.728816    1.244745  -0.528362      -0.392601    0.483367   \n",
       "613 -2.117107 -1.372089   -0.737806  -0.528362       2.547117   -0.159728   \n",
       "\n",
       "     Loan_Amount_Term  Credit_History  Property_Area  Loan_Status  TotalIncome  \n",
       "0            0.273231        0.411733       1.223298     0.674519    -0.182184  \n",
       "1            0.273231        0.411733      -1.318513    -1.482537    -0.144684  \n",
       "2            0.273231        0.411733       1.223298     0.674519    -0.623656  \n",
       "3            0.273231        0.411733       1.223298     0.674519    -0.322885  \n",
       "4            0.273231        0.411733       1.223298     0.674519    -0.158785  \n",
       "..                ...             ...            ...          ...          ...  \n",
       "609          0.273231        0.411733      -1.318513     0.674519    -0.639152  \n",
       "610         -2.522836        0.411733      -1.318513     0.674519    -0.452274  \n",
       "611          0.273231        0.411733       1.223298     0.674519     0.199475  \n",
       "612          0.273231        0.411733       1.223298     0.674519     0.086512  \n",
       "613          0.273231       -2.428760      -0.047607    -1.482537    -0.378359  \n",
       "\n",
       "[614 rows x 11 columns]"
      ]
     },
     "execution_count": 49,
     "metadata": {},
     "output_type": "execute_result"
    }
   ],
   "source": [
    "#Standardization of a dataset\n",
    "from sklearn.preprocessing import StandardScaler\n",
    "sc=StandardScaler()\n",
    "X_train=sc.fit_transform(X)\n",
    "X_test=sc.transform(X)\n",
    "tabel_col = X.columns\n",
    "x = pd.DataFrame(X_train, columns = tabel_col)\n",
    "x"
   ]
  },
  {
   "cell_type": "markdown",
   "id": "c05dc0a5",
   "metadata": {},
   "source": [
    " We used StandardScaler to scale our variables so that they have a similar scale. "
   ]
  },
  {
   "cell_type": "code",
   "execution_count": 50,
   "id": "d4552bdb",
   "metadata": {},
   "outputs": [],
   "source": [
    "# selecting our dependent variable (label) and target variable (y)\n",
    "x = loan_predict.drop('Loan_Status',axis=1)\n",
    "y = loan_predict['Loan_Status']"
   ]
  },
  {
   "cell_type": "markdown",
   "id": "7b8569c3",
   "metadata": {},
   "source": [
    "We dropped the Loan_Status variable which is our target variable from the list of features in our dataset. We are going to be predicting the Loan_Status of the applicants using our independent variables. "
   ]
  },
  {
   "cell_type": "code",
   "execution_count": 51,
   "id": "f21ed50b",
   "metadata": {},
   "outputs": [
    {
     "data": {
      "text/plain": [
       "1    422\n",
       "0    422\n",
       "Name: Loan_Status, dtype: int64"
      ]
     },
     "execution_count": 51,
     "metadata": {},
     "output_type": "execute_result"
    }
   ],
   "source": [
    "#Using SMOTE algorithm to balance the quality variable\n",
    "oversam = SMOTE()\n",
    "X_resam, y_resam = oversam.fit_resample(x, y)\n",
    "y_resam.value_counts()"
   ]
  },
  {
   "cell_type": "markdown",
   "id": "96368ed6",
   "metadata": {},
   "source": [
    "Our class counts are now balanced."
   ]
  },
  {
   "cell_type": "markdown",
   "id": "47702fe4",
   "metadata": {},
   "source": [
    "# Model Building"
   ]
  },
  {
   "cell_type": "code",
   "execution_count": 52,
   "id": "725e2459",
   "metadata": {},
   "outputs": [
    {
     "data": {
      "text/plain": [
       "((675, 12), (169, 12), (675,), (169,))"
      ]
     },
     "execution_count": 52,
     "metadata": {},
     "output_type": "execute_result"
    }
   ],
   "source": [
    "# splitting the features into train and test\n",
    "X_train, X_test, y_train, y_test = train_test_split(X_resam, y_resam, test_size = 0.20, random_state = 42)\n",
    "#viewing the dimension of our train and test variales for our independent and target variables\n",
    "X_train.shape, X_test.shape, y_train.shape, y_test.shape"
   ]
  },
  {
   "cell_type": "markdown",
   "id": "19987a8d",
   "metadata": {},
   "source": [
    "We splitted our data in X_train, X_test, y_train and y_test. We shall be using the train variables for the purpose of training our model while the test variables will be used to validate the performance of our model. 80% of our data will be used to train the model while 20% will be used for model validation."
   ]
  },
  {
   "cell_type": "markdown",
   "id": "99afcc20",
   "metadata": {},
   "source": [
    "## 1. Decision Tree"
   ]
  },
  {
   "cell_type": "code",
   "execution_count": 53,
   "id": "ceaa1ecd",
   "metadata": {},
   "outputs": [
    {
     "name": "stdout",
     "output_type": "stream",
     "text": [
      "The Accuracy for Decision Tree: 0.76\n",
      "\n",
      "\n",
      "[[69 25]\n",
      " [16 59]]\n",
      "\n",
      "\n",
      "Classification Report:\n",
      "              precision    recall  f1-score   support\n",
      "\n",
      "           0       0.81      0.73      0.77        94\n",
      "           1       0.70      0.79      0.74        75\n",
      "\n",
      "    accuracy                           0.76       169\n",
      "   macro avg       0.76      0.76      0.76       169\n",
      "weighted avg       0.76      0.76      0.76       169\n",
      "\n"
     ]
    }
   ],
   "source": [
    "# Create a Decision Tree classifier\n",
    "dt = DecisionTreeClassifier()\n",
    "dt.fit(X_train, y_train)\n",
    "y_pred = dt.predict(X_test)\n",
    "\n",
    "# Evaluate the model's accuracy\n",
    "accuracy = accuracy_score(y_test, y_pred)\n",
    "print(f\"The Accuracy for Decision Tree: {accuracy:.2f}\")\n",
    "print('\\n')\n",
    "# Display a classification report for more detailed metrics\n",
    "report = classification_report(y_test, y_pred)\n",
    "print(confusion_matrix(y_test, y_pred))\n",
    "print('\\n')\n",
    "print(\"Classification Report:\")\n",
    "print(report)\n"
   ]
  },
  {
   "cell_type": "markdown",
   "id": "4397b55c",
   "metadata": {},
   "source": [
    "### Cross Validation Score for Decision Tree"
   ]
  },
  {
   "cell_type": "code",
   "execution_count": 54,
   "id": "72381d5d",
   "metadata": {},
   "outputs": [
    {
     "name": "stdout",
     "output_type": "stream",
     "text": [
      "Cross-validation scores: [0.74814815 0.78518519 0.73333333 0.82962963 0.75555556]\n",
      "Mean accuracy: 0.77\n",
      "\n",
      "\n",
      "The difference between the accuracy score and the cross validation score is: -0.012973920666228378\n"
     ]
    }
   ],
   "source": [
    "# Specify the cross-validation strategy\n",
    "results = []\n",
    "\n",
    "scores = cross_val_score(dt, X_train, y_train,cv=5)\n",
    "print(\"Cross-validation scores:\", scores)\n",
    "\n",
    "# Calculate and print the mean of the scores\n",
    "mean_score = scores.mean()\n",
    "\n",
    "print(f\"Mean accuracy: {mean_score:.2f}\")\n",
    "print('\\n')\n",
    "print(f'The difference between the accuracy score and the cross validation score is: {accuracy- mean_score}')\n",
    "\n",
    "\n",
    "diff = accuracy - mean_score\n",
    "results.append(['Decision Tree',accuracy, mean_score, diff])"
   ]
  },
  {
   "cell_type": "markdown",
   "id": "276f7cd0",
   "metadata": {},
   "source": [
    "## 2. Random Forest"
   ]
  },
  {
   "cell_type": "code",
   "execution_count": 55,
   "id": "a7445d98",
   "metadata": {},
   "outputs": [
    {
     "name": "stdout",
     "output_type": "stream",
     "text": [
      "The Accuracy for Random Forest is: 0.77\n",
      "\n",
      "\n",
      "[[67 27]\n",
      " [12 63]]\n",
      "\n",
      "\n",
      "Classification Report:\n",
      "              precision    recall  f1-score   support\n",
      "\n",
      "           0       0.85      0.71      0.77        94\n",
      "           1       0.70      0.84      0.76        75\n",
      "\n",
      "    accuracy                           0.77       169\n",
      "   macro avg       0.77      0.78      0.77       169\n",
      "weighted avg       0.78      0.77      0.77       169\n",
      "\n"
     ]
    }
   ],
   "source": [
    "# Create a Random Forest classifier\n",
    "rf = RandomForestClassifier()\n",
    "rf.fit(X_train, y_train)\n",
    "y_pred = rf.predict(X_test)\n",
    "\n",
    "# Evaluate the model's accuracy\n",
    "accuracy = accuracy_score(y_test, y_pred)\n",
    "print(f\"The Accuracy for Random Forest is: {accuracy:.2f}\")\n",
    "print('\\n')\n",
    "# Display a classification report for more detailed metrics\n",
    "report = classification_report(y_test, y_pred)\n",
    "print(confusion_matrix(y_test, y_pred))\n",
    "print('\\n')\n",
    "print(\"Classification Report:\")\n",
    "print(report)"
   ]
  },
  {
   "cell_type": "markdown",
   "id": "de559ac3",
   "metadata": {},
   "source": [
    "#### Cross Validation Score for Random Forest"
   ]
  },
  {
   "cell_type": "code",
   "execution_count": 56,
   "id": "a7fa0f4b",
   "metadata": {},
   "outputs": [
    {
     "name": "stdout",
     "output_type": "stream",
     "text": [
      "Cross-validation scores: [0.79259259 0.83703704 0.77777778 0.86666667 0.82222222]\n",
      "Mean accuracy: 0.82\n",
      "\n",
      "\n",
      "The difference between the accuracy score and the cross validation score is: -0.05002849002849008\n"
     ]
    }
   ],
   "source": [
    "\n",
    "scores = cross_val_score(rf, X_train, y_train,cv=5)  # You can choose a different scoring metric\n",
    "print(\"Cross-validation scores:\", scores)\n",
    "\n",
    "# Calculate and print the mean of the scores\n",
    "mean_score = scores.mean()\n",
    "\n",
    "print(f\"Mean accuracy: {mean_score:.2f}\")\n",
    "print('\\n')\n",
    "print(f'The difference between the accuracy score and the cross validation score is: {accuracy- mean_score}')\n",
    "\n",
    "\n",
    "diff = accuracy - mean_score\n",
    "results.append(['Random Forest',accuracy, mean_score, diff])"
   ]
  },
  {
   "cell_type": "markdown",
   "id": "902909c1",
   "metadata": {},
   "source": [
    "## 3. Xgboost Classifier"
   ]
  },
  {
   "cell_type": "code",
   "execution_count": 57,
   "id": "816246a4",
   "metadata": {},
   "outputs": [
    {
     "name": "stdout",
     "output_type": "stream",
     "text": [
      "The Accuracy for Xgboost Classifier is:  0.7869822485207101\n",
      "\n",
      "\n",
      "[[71 23]\n",
      " [13 62]]\n",
      "\n",
      "\n",
      "Classification Report:\n",
      "              precision    recall  f1-score   support\n",
      "\n",
      "           0       0.85      0.76      0.80        94\n",
      "           1       0.73      0.83      0.77        75\n",
      "\n",
      "    accuracy                           0.79       169\n",
      "   macro avg       0.79      0.79      0.79       169\n",
      "weighted avg       0.79      0.79      0.79       169\n",
      "\n"
     ]
    }
   ],
   "source": [
    "# Create a Xgboost classifier\n",
    "xgb = XGBClassifier()\n",
    "xgb.fit(X_train, y_train)\n",
    "\n",
    "y_pred_xgb = xgb.predict(X_test)\n",
    "# Evaluate the model's accuracy\n",
    "accuracy = accuracy_score(y_test, y_pred_xgb)\n",
    "print(f\"The Accuracy for Xgboost Classifier is: \",accuracy)\n",
    "print('\\n')\n",
    "\n",
    "# Display a classification report for more detailed metrics\n",
    "report = classification_report(y_test, y_pred_xgb)\n",
    "print(confusion_matrix(y_test, y_pred_xgb))\n",
    "print('\\n')\n",
    "print(\"Classification Report:\")\n",
    "print(report)"
   ]
  },
  {
   "cell_type": "markdown",
   "id": "fcbe4ef5",
   "metadata": {},
   "source": [
    "#### Cross Validation Score for Xgboost Classifier"
   ]
  },
  {
   "cell_type": "code",
   "execution_count": 58,
   "id": "0bf1fc2d",
   "metadata": {},
   "outputs": [
    {
     "name": "stdout",
     "output_type": "stream",
     "text": [
      "Cross-validation scores: [0.78518519 0.85185185 0.8        0.91111111 0.77037037]\n",
      "Mean accuracy: 0.82\n",
      "\n",
      "\n",
      "The difference between the accuracy score and the cross validation score is: -0.036721455182993634\n"
     ]
    }
   ],
   "source": [
    "\n",
    "scores = cross_val_score(xgb, X_train, y_train, cv=5) \n",
    "print(\"Cross-validation scores:\", scores)\n",
    "\n",
    "# Calculate and print the mean of the scores\n",
    "mean_score = scores.mean()\n",
    "\n",
    "print(f\"Mean accuracy: {mean_score:.2f}\")\n",
    "\n",
    "print('\\n')\n",
    "print(f'The difference between the accuracy score and the cross validation score is: {accuracy- mean_score}')\n",
    "\n",
    "\n",
    "diff = accuracy - mean_score\n",
    "results.append(['Xgboost Classifier', accuracy, mean_score, diff])"
   ]
  },
  {
   "cell_type": "markdown",
   "id": "f5f43a22",
   "metadata": {},
   "source": [
    "## 4. Gradient Boosting Classifier"
   ]
  },
  {
   "cell_type": "code",
   "execution_count": 59,
   "id": "1a1ff87a",
   "metadata": {},
   "outputs": [
    {
     "name": "stdout",
     "output_type": "stream",
     "text": [
      "The Accuracy for Gradient Boosting Classifier is:  0.7396449704142012\n",
      "\n",
      "\n",
      "[[62 32]\n",
      " [12 63]]\n",
      "\n",
      "\n",
      "Classification Report:\n",
      "              precision    recall  f1-score   support\n",
      "\n",
      "           0       0.84      0.66      0.74        94\n",
      "           1       0.66      0.84      0.74        75\n",
      "\n",
      "    accuracy                           0.74       169\n",
      "   macro avg       0.75      0.75      0.74       169\n",
      "weighted avg       0.76      0.74      0.74       169\n",
      "\n"
     ]
    }
   ],
   "source": [
    "# Create a Gradient Boosting Classifier\n",
    "gb = GradientBoostingClassifier()\n",
    "gb.fit(X_train, y_train)\n",
    "\n",
    "y_pred_gb = gb.predict(X_test)\n",
    "# Evaluate the model's accuracy\n",
    "accuracy = accuracy_score(y_test, y_pred_gb)\n",
    "print(f\"The Accuracy for Gradient Boosting Classifier is: \",accuracy)\n",
    "print('\\n')\n",
    "\n",
    "# Display a classification report for more detailed metrics\n",
    "report = classification_report(y_test, y_pred_gb)\n",
    "print(confusion_matrix(y_test, y_pred_gb))\n",
    "print('\\n')\n",
    "print(\"Classification Report:\")\n",
    "print(report)"
   ]
  },
  {
   "cell_type": "markdown",
   "id": "b5f8205c",
   "metadata": {},
   "source": [
    "### Cross Validation Score for Gradient Boosting Classifier"
   ]
  },
  {
   "cell_type": "code",
   "execution_count": 60,
   "id": "2fa3291a",
   "metadata": {},
   "outputs": [
    {
     "name": "stdout",
     "output_type": "stream",
     "text": [
      "Cross-validation scores: [0.77037037 0.82962963 0.78518519 0.85925926 0.78518519]\n",
      "Mean accuracy: 0.81\n",
      "\n",
      "\n",
      "The difference between the accuracy score and the cross validation score is: -0.06628095551172486\n"
     ]
    }
   ],
   "source": [
    "\n",
    "scores = cross_val_score(gb, X_train, y_train, cv=5) \n",
    "print(\"Cross-validation scores:\", scores)\n",
    "\n",
    "# Calculate and print the mean of the scores\n",
    "mean_score = scores.mean()\n",
    "\n",
    "print(f\"Mean accuracy: {mean_score:.2f}\")\n",
    "\n",
    "print('\\n')\n",
    "print(f'The difference between the accuracy score and the cross validation score is: {accuracy- mean_score}')\n",
    "\n",
    "\n",
    "diff = accuracy - mean_score\n",
    "results.append(['Gradient Boosting Classifier', accuracy, mean_score, diff])"
   ]
  },
  {
   "cell_type": "markdown",
   "id": "02e557af",
   "metadata": {},
   "source": [
    "## 5. Adaboost classifier"
   ]
  },
  {
   "cell_type": "code",
   "execution_count": 61,
   "id": "fc9883a1",
   "metadata": {},
   "outputs": [
    {
     "name": "stdout",
     "output_type": "stream",
     "text": [
      "The Accuracy for Adaboost classifier is:  0.757396449704142\n",
      "\n",
      "\n",
      "[[64 30]\n",
      " [11 64]]\n",
      "\n",
      "\n",
      "Classification Report:\n",
      "              precision    recall  f1-score   support\n",
      "\n",
      "           0       0.85      0.68      0.76        94\n",
      "           1       0.68      0.85      0.76        75\n",
      "\n",
      "    accuracy                           0.76       169\n",
      "   macro avg       0.77      0.77      0.76       169\n",
      "weighted avg       0.78      0.76      0.76       169\n",
      "\n"
     ]
    }
   ],
   "source": [
    "# Create a Adaboost Classifier\n",
    "ab = AdaBoostClassifier()\n",
    "ab.fit(X_train, y_train)\n",
    "\n",
    "y_pred_ab = ab.predict(X_test)\n",
    "# Evaluate the model's accuracy\n",
    "accuracy = accuracy_score(y_test, y_pred_ab)\n",
    "print(f\"The Accuracy for Adaboost classifier is: \",accuracy)\n",
    "print('\\n')\n",
    "\n",
    "# Display a classification report for more detailed metrics\n",
    "report = classification_report(y_test, y_pred_ab)\n",
    "print(confusion_matrix(y_test, y_pred_ab))\n",
    "print('\\n')\n",
    "print(\"Classification Report:\")\n",
    "print(report)"
   ]
  },
  {
   "cell_type": "markdown",
   "id": "aa63034c",
   "metadata": {},
   "source": [
    "### Cross Validation Score for Adaboost classifier"
   ]
  },
  {
   "cell_type": "code",
   "execution_count": 62,
   "id": "8fa307a0",
   "metadata": {},
   "outputs": [
    {
     "name": "stdout",
     "output_type": "stream",
     "text": [
      "Cross-validation scores: [0.73333333 0.76296296 0.76296296 0.82222222 0.8       ]\n",
      "Mean accuracy: 0.78\n",
      "\n",
      "\n",
      "The difference between the accuracy score and the cross validation score is: -0.018899846592154268\n"
     ]
    }
   ],
   "source": [
    "scores = cross_val_score(ab, X_train, y_train,cv=5) \n",
    "print(\"Cross-validation scores:\", scores)\n",
    "\n",
    "# Calculate and print the mean of the scores\n",
    "mean_score = scores.mean()\n",
    "\n",
    "print(f\"Mean accuracy: {mean_score:.2f}\")\n",
    "\n",
    "print('\\n')\n",
    "print(f'The difference between the accuracy score and the cross validation score is: {accuracy- mean_score}')\n",
    "\n",
    "\n",
    "diff = accuracy - mean_score\n",
    "results.append(['Adaboost classifier',accuracy, mean_score, diff])"
   ]
  },
  {
   "cell_type": "code",
   "execution_count": 63,
   "id": "7b43a01c",
   "metadata": {},
   "outputs": [
    {
     "data": {
      "text/html": [
       "<div>\n",
       "<style scoped>\n",
       "    .dataframe tbody tr th:only-of-type {\n",
       "        vertical-align: middle;\n",
       "    }\n",
       "\n",
       "    .dataframe tbody tr th {\n",
       "        vertical-align: top;\n",
       "    }\n",
       "\n",
       "    .dataframe thead th {\n",
       "        text-align: right;\n",
       "    }\n",
       "</style>\n",
       "<table border=\"1\" class=\"dataframe\">\n",
       "  <thead>\n",
       "    <tr style=\"text-align: right;\">\n",
       "      <th></th>\n",
       "      <th>Algorithm</th>\n",
       "      <th>Accuracy Score</th>\n",
       "      <th>Cross Validation Score</th>\n",
       "      <th>Difference btw accuracy and Cross Validtion Score</th>\n",
       "    </tr>\n",
       "  </thead>\n",
       "  <tbody>\n",
       "    <tr>\n",
       "      <th>0</th>\n",
       "      <td>Decision Tree</td>\n",
       "      <td>0.757396</td>\n",
       "      <td>0.770370</td>\n",
       "      <td>-0.012974</td>\n",
       "    </tr>\n",
       "    <tr>\n",
       "      <th>1</th>\n",
       "      <td>Random Forest</td>\n",
       "      <td>0.769231</td>\n",
       "      <td>0.819259</td>\n",
       "      <td>-0.050028</td>\n",
       "    </tr>\n",
       "    <tr>\n",
       "      <th>2</th>\n",
       "      <td>Xgboost Classifier</td>\n",
       "      <td>0.786982</td>\n",
       "      <td>0.823704</td>\n",
       "      <td>-0.036721</td>\n",
       "    </tr>\n",
       "    <tr>\n",
       "      <th>3</th>\n",
       "      <td>Gradient Boosting Classifier</td>\n",
       "      <td>0.739645</td>\n",
       "      <td>0.805926</td>\n",
       "      <td>-0.066281</td>\n",
       "    </tr>\n",
       "    <tr>\n",
       "      <th>4</th>\n",
       "      <td>Adaboost classifier</td>\n",
       "      <td>0.757396</td>\n",
       "      <td>0.776296</td>\n",
       "      <td>-0.018900</td>\n",
       "    </tr>\n",
       "  </tbody>\n",
       "</table>\n",
       "</div>"
      ],
      "text/plain": [
       "                      Algorithm  Accuracy Score  Cross Validation Score  \\\n",
       "0                 Decision Tree        0.757396                0.770370   \n",
       "1                 Random Forest        0.769231                0.819259   \n",
       "2            Xgboost Classifier        0.786982                0.823704   \n",
       "3  Gradient Boosting Classifier        0.739645                0.805926   \n",
       "4           Adaboost classifier        0.757396                0.776296   \n",
       "\n",
       "   Difference btw accuracy and Cross Validtion Score  \n",
       "0                                          -0.012974  \n",
       "1                                          -0.050028  \n",
       "2                                          -0.036721  \n",
       "3                                          -0.066281  \n",
       "4                                          -0.018900  "
      ]
     },
     "execution_count": 63,
     "metadata": {},
     "output_type": "execute_result"
    }
   ],
   "source": [
    "# create dataframe for all the accuracy scores and cross validation score for the models used\n",
    "df = pd.DataFrame(results, columns=['Algorithm', 'Accuracy Score','Cross Validation Score', 'Difference btw accuracy and Cross Validtion Score'])\n",
    "df"
   ]
  },
  {
   "cell_type": "markdown",
   "id": "87e3ed1c",
   "metadata": {},
   "source": [
    "The cross validation score is greater than the accuracy score; reason for the negative results obtained for the difference."
   ]
  },
  {
   "cell_type": "code",
   "execution_count": 64,
   "id": "6001cd1c",
   "metadata": {},
   "outputs": [
    {
     "name": "stdout",
     "output_type": "stream",
     "text": [
      "From the table above, my best model is the Gradient Boosting Classifier\n"
     ]
    }
   ],
   "source": [
    "#Selection of the best model based on the difference between the accuracy and cross validation score\n",
    "least_value = min(df['Difference btw accuracy and Cross Validtion Score'].tolist())\n",
    "best_model = df.loc[(df['Difference btw accuracy and Cross Validtion Score']) == least_value, 'Algorithm']\n",
    "best_model = ' '.join(str(best_model).split()[1:-4])\n",
    "print('From the table above, my best model is the', best_model)"
   ]
  },
  {
   "cell_type": "code",
   "execution_count": 65,
   "id": "9d44164e",
   "metadata": {},
   "outputs": [
    {
     "data": {
      "image/png": "[encoded data removed]",
      "text/plain": [
       "<Figure size 432x288 with 1 Axes>"
      ]
     },
     "metadata": {
      "needs_background": "light"
     },
     "output_type": "display_data"
    }
   ],
   "source": [
    "#ROC plot of the best model\n",
    "import sklearn.metrics as metrics\n",
    "#define metrics\n",
    "y_pred_proba = gb.predict_proba(X_test)[::,1]\n",
    "fpr, tpr, _ = metrics.roc_curve(y_test,  y_pred_proba)\n",
    "auc = metrics.roc_auc_score(y_test, y_pred_proba)\n",
    "\n",
    "#create ROC curve\n",
    "plt.plot(fpr,tpr,label=\"AUC=\"+str(auc))\n",
    "plt.ylabel('True Positive Rate')\n",
    "plt.xlabel('False Positive Rate')\n",
    "plt.legend(loc=4)\n",
    "plt.show()"
   ]
  },
  {
   "cell_type": "markdown",
   "id": "392c404a",
   "metadata": {},
   "source": [
    "From the ROC curve above, we can see that the AUC value for our best model is 83%"
   ]
  },
  {
   "cell_type": "code",
   "execution_count": 66,
   "id": "fb9d0d5f",
   "metadata": {},
   "outputs": [],
   "source": [
    "#Search for the best hyperparameter for model tuning RandomizedSearchCV\n",
    "from sklearn.model_selection import RandomizedSearchCV\n",
    "\n",
    "model_best = GradientBoostingClassifier()\n",
    "\n",
    "model_param = {\n",
    "    'max_depth':[3,5,10,None],\n",
    "    'n_estimators':[10,100,200],\n",
    "    'max_features':[1,3,5,7],\n",
    "    'min_samples_leaf':[1,2,3]\n",
    "           }"
   ]
  },
  {
   "cell_type": "code",
   "execution_count": 67,
   "id": "578f525f",
   "metadata": {},
   "outputs": [
    {
     "data": {
      "text/plain": [
       "RandomizedSearchCV(cv=5, estimator=GradientBoostingClassifier(),\n",
       "                   param_distributions={'max_depth': [3, 5, 10, None],\n",
       "                                        'max_features': [1, 3, 5, 7],\n",
       "                                        'min_samples_leaf': [1, 2, 3],\n",
       "                                        'n_estimators': [10, 100, 200]})"
      ]
     },
     "execution_count": 67,
     "metadata": {},
     "output_type": "execute_result"
    }
   ],
   "source": [
    "from sklearn.model_selection import RandomizedSearchCV\n",
    "gd_search = RandomizedSearchCV(model_best, model_param, cv = 5)\n",
    "\n",
    "gd_search.fit(X_train, y_train)"
   ]
  },
  {
   "cell_type": "code",
   "execution_count": 68,
   "id": "ac81485f",
   "metadata": {},
   "outputs": [
    {
     "name": "stdout",
     "output_type": "stream",
     "text": [
      "The best max_depth is : 5 \n",
      "The best n_estimators: 200 \n",
      "The best max_features: 1 \n",
      "The best min_samples_leaf: 3\n"
     ]
    }
   ],
   "source": [
    "#display the best parameters from the search\n",
    "\n",
    "print(\"The best max_depth is : \" + str(gd_search.best_params_[\"max_depth\"]),\n",
    "     \"\\nThe best n_estimators: \" + str(gd_search.best_params_[\"n_estimators\"]),\n",
    "     \"\\nThe best max_features: \" + str(gd_search.best_params_[\"max_features\"]),\n",
    "      \"\\nThe best min_samples_leaf: \" + str(gd_search.best_params_[\"min_samples_leaf\"]))"
   ]
  },
  {
   "cell_type": "code",
   "execution_count": 69,
   "id": "78ae6330",
   "metadata": {},
   "outputs": [
    {
     "data": {
      "text/plain": [
       "0.7928994082840237"
      ]
     },
     "execution_count": 69,
     "metadata": {},
     "output_type": "execute_result"
    }
   ],
   "source": [
    "# train the model with the selected parameters\n",
    "loan_model = GradientBoostingClassifier(max_depth =5, n_estimators  = 200, max_features =1, min_samples_leaf = 3)\n",
    "loan_model.fit(X_train, y_train)\n",
    "y_pred = loan_model.predict(X_test)\n",
    "\n",
    "accuracy = accuracy_score(y_test, y_pred)\n",
    "accuracy"
   ]
  },
  {
   "cell_type": "code",
   "execution_count": 70,
   "id": "d171b880",
   "metadata": {},
   "outputs": [],
   "source": [
    "import pickle\n",
    "# save the model to disk\n",
    "filename = 'loan_prediction.sav'\n",
    "pickle.dump(loan_model, open(filename, 'wb'))"
   ]
  },
  {
   "cell_type": "code",
   "execution_count": 71,
   "id": "71f6ea09",
   "metadata": {},
   "outputs": [
    {
     "data": {
      "text/html": [
       "<div>\n",
       "<style scoped>\n",
       "    .dataframe tbody tr th:only-of-type {\n",
       "        vertical-align: middle;\n",
       "    }\n",
       "\n",
       "    .dataframe tbody tr th {\n",
       "        vertical-align: top;\n",
       "    }\n",
       "\n",
       "    .dataframe thead th {\n",
       "        text-align: right;\n",
       "    }\n",
       "</style>\n",
       "<table border=\"1\" class=\"dataframe\">\n",
       "  <thead>\n",
       "    <tr style=\"text-align: right;\">\n",
       "      <th></th>\n",
       "      <th>y_test</th>\n",
       "      <th>y_pred</th>\n",
       "    </tr>\n",
       "  </thead>\n",
       "  <tbody>\n",
       "    <tr>\n",
       "      <th>493</th>\n",
       "      <td>Yes</td>\n",
       "      <td>Yes</td>\n",
       "    </tr>\n",
       "    <tr>\n",
       "      <th>215</th>\n",
       "      <td>Yes</td>\n",
       "      <td>Yes</td>\n",
       "    </tr>\n",
       "    <tr>\n",
       "      <th>622</th>\n",
       "      <td>No</td>\n",
       "      <td>No</td>\n",
       "    </tr>\n",
       "    <tr>\n",
       "      <th>737</th>\n",
       "      <td>No</td>\n",
       "      <td>No</td>\n",
       "    </tr>\n",
       "    <tr>\n",
       "      <th>63</th>\n",
       "      <td>No</td>\n",
       "      <td>No</td>\n",
       "    </tr>\n",
       "    <tr>\n",
       "      <th>...</th>\n",
       "      <td>...</td>\n",
       "      <td>...</td>\n",
       "    </tr>\n",
       "    <tr>\n",
       "      <th>351</th>\n",
       "      <td>No</td>\n",
       "      <td>No</td>\n",
       "    </tr>\n",
       "    <tr>\n",
       "      <th>445</th>\n",
       "      <td>Yes</td>\n",
       "      <td>Yes</td>\n",
       "    </tr>\n",
       "    <tr>\n",
       "      <th>750</th>\n",
       "      <td>No</td>\n",
       "      <td>No</td>\n",
       "    </tr>\n",
       "    <tr>\n",
       "      <th>198</th>\n",
       "      <td>Yes</td>\n",
       "      <td>Yes</td>\n",
       "    </tr>\n",
       "    <tr>\n",
       "      <th>779</th>\n",
       "      <td>No</td>\n",
       "      <td>No</td>\n",
       "    </tr>\n",
       "  </tbody>\n",
       "</table>\n",
       "<p>169 rows × 2 columns</p>\n",
       "</div>"
      ],
      "text/plain": [
       "    y_test y_pred\n",
       "493    Yes    Yes\n",
       "215    Yes    Yes\n",
       "622     No     No\n",
       "737     No     No\n",
       "63      No     No\n",
       "..     ...    ...\n",
       "351     No     No\n",
       "445    Yes    Yes\n",
       "750     No     No\n",
       "198    Yes    Yes\n",
       "779     No     No\n",
       "\n",
       "[169 rows x 2 columns]"
      ]
     },
     "execution_count": 71,
     "metadata": {},
     "output_type": "execute_result"
    }
   ],
   "source": [
    "#prediction using our saved model\n",
    "load_model = pickle.load(open(filename, 'rb'))\n",
    "accuracy_dataframe = pd.DataFrame({\"y_test\": y_test, \"y_pred\": y_pred})\n",
    "\n",
    "#converting the values of our loan status back to yes and no.\n",
    "accuracy_dataframe = accuracy_dataframe.replace({0: 'No', 1: 'Yes'})\n",
    "accuracy_dataframe"
   ]
  },
  {
   "cell_type": "code",
   "execution_count": 72,
   "id": "3d052dcf",
   "metadata": {},
   "outputs": [
    {
     "data": {
      "image/png": "[encoded data removed]",
      "text/plain": [
       "<Figure size 432x288 with 2 Axes>"
      ]
     },
     "metadata": {
      "needs_background": "light"
     },
     "output_type": "display_data"
    }
   ],
   "source": [
    "from sklearn.metrics import confusion_matrix\n",
    "matrix = confusion_matrix(y_test, y_pred)\n",
    "label=['No (Loan Not Approved)', 'Yes (Loan Approved)']\n",
    "sns.heatmap(matrix, annot=True, fmt='d', xticklabels=label, yticklabels=label,)\n",
    "plt.xlabel(\"Predicted\")\n",
    "plt.ylabel(\"Actual\")\n",
    "plt.show()"
   ]
  },
  {
   "cell_type": "markdown",
   "id": "9a486e58",
   "metadata": {},
   "source": [
    "### Conclusion"
   ]
  },
  {
   "cell_type": "markdown",
   "id": "29f4eb95",
   "metadata": {},
   "source": [
    "This is a binary classification problem because the target variable is classified into two categories (no or yes). We used the loan prediction dataset to analyse whether the loan of the applicant will be approved or not based on the features provided. The dataset is made up 614 rows and 13 columns. Of these columns, we have 12 independent variables and 1 target variable(Loan_Status). We visualized the relationships between some features. \n",
    "#### Some of the observations recorded were:\n",
    "##### 1) We have more applicants that are graduates\n",
    "##### 2) Most of the loan applicants are not self employed.\n",
    "##### 3) More of the applicants have good credit history\n",
    "##### 4) About 80% of the applicants are male.\n",
    "\n",
    "We pre-processed our data by treating the missing values in the dataset using the mean, mode and filling methods. We also treated skewness using the log transformation method. We used the VIF method to check for multicollinearity. We dropped the features having high VIF values. We balanced our target variable class using the SMOTE algorithm.\n",
    "After cleaning our data, we splitted our data into train and test. 80% of the data was used for taining while 20% was used for validation. We used different algorithms to train our model. The criteria we used in the selection of best model is accuracy and cross validation score. We calculated the difference between the accuracy and cross validation scores and selected the algorithm that had the lowest result. We observed that the result of the substraction for all the algorithms used were negative. This means that the cross validation scores were more that the accuracy scores for all the models used.\n",
    "Gradient Boosting Classifier was selected as our best model because it had a lower difference between accuracy and cross validation score. The accuracy score before tuning was 0.739645 and after tuning using the Randomized Search CV set parameters, the model's accuracy increased to 0.79289. There was an improvement in the accuracy after tuning. Testing the performance of the model, we can see that from the 10 predictions made, the model was able to predict all correctly. We can also see from the confusion matrix that the model predicted that 69 will not get their loan approved and actually the loans were not approved(True Negative). It predicted 65 will get their loan approved and they did get loan approval(True Positive). The model predicted that 10 will not get their loan approved whereas, they did get loan approval(False Negative). Predicted 25 will get their loan approved but they did not get their loan approved(False Positive)."
   ]
  },
  {
   "cell_type": "code",
   "execution_count": null,
   "id": "1b1ab7f4",
   "metadata": {},
   "outputs": [],
   "source": []
  }
 ],
 "metadata": {
  "kernelspec": {
   "display_name": "Python 3 (ipykernel)",
   "language": "python",
   "name": "python3"
  },
  "language_info": {
   "codemirror_mode": {
    "name": "ipython",
    "version": 3
   },
   "file_extension": ".py",
   "mimetype": "text/x-python",
   "name": "python",
   "nbconvert_exporter": "python",
   "pygments_lexer": "ipython3",
   "version": "3.9.12"
  }
 },
 "nbformat": 4,
 "nbformat_minor": 5
}
