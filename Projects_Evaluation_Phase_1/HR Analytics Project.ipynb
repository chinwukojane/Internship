{
 "cells": [
  {
   "cell_type": "markdown",
   "id": "5e420c77",
   "metadata": {},
   "source": [
    "# Jane Chinwuko\n",
    "# Batch number: DS2307"
   ]
  },
  {
   "cell_type": "markdown",
   "id": "07d303a0",
   "metadata": {},
   "source": [
    "# This is a binary classification problem.\n",
    "\n",
    "### Project Description\n",
    "Every year a lot of companies hire a number of employees. The companies invest time and money in training those employees, not just this but there are training programs within the companies for their existing employees as well. The aim of these programs is to increase the effectiveness of their employees. But where HR Analytics fit in this? and is it just about improving the performance of employees?\n",
    "### HR Analytics\n",
    "Human resource analytics (HR analytics) is an area in the field of analytics that refers to applying analytic processes to the human resource department of an organization in the hope of improving employee performance and therefore getting a better return on investment. HR analytics does not just deal with gathering data on employee efficiency. Instead, it aims to provide insight into each process by gathering data and then using it to make relevant decisions about how to improve these processes.\n",
    "#### Attrition in HR\n",
    "Attrition in human resources refers to the gradual loss of employees overtime. In general, relatively high attrition is problematic for companies. HR professionals often assume a leadership role in designing company compensation programs, work culture, and motivation systems that help the organization retain top employees.\n",
    "How does Attrition affect companies? and how does HR Analytics help in analyzing attrition? We will discuss the first question here and for the second question, we will write the code and try to understand the process step by step.\n",
    "#### Attrition affecting Companies\n",
    "A major problem in high employee attrition is its cost to an organization. Job postings, hiring processes, paperwork, and new hire training are some of the common expenses of losing employees and replacing them. Additionally, regular employee turnover prohibits your organization from increasing its collective knowledge base and experience over time. This is especially concerning if your business is customer-facing, as customers often prefer to interact with familiar people. Errors and issues are more likely if you constantly have new workers.\n",
    "\n",
    "\n",
    "### Feature attributes\n",
    "#### Age-----------\tEmployee's age\n",
    "#### Gender-----------\tEmployee's Gender\n",
    "#### BusinessTravel------------\tFrequency of employees' business trips\n",
    "#### DailyRate\t-----------Daily salary rate for employees\n",
    "#### Department-------------------\tOffice of employees\n",
    "#### DistanceFromHome\t---------------------Distance from home in miles to work\n",
    "#### Education----------------------\tLevel of education achieved by staff\n",
    "#### EducationField\t-----------------Employee's field of study\n",
    "#### EmployeeCount----------------------\tTotal number of employees in the organization\n",
    "#### EmployeeNumber---------------------\tA unique identifier for each employee record\n",
    "#### EnvironmentSatisfaction-------------------\tEmployee satisfaction with their working environment\n",
    "#### HourlyRate\t-------------------Hourly rate for employees\n",
    "#### JobInvolvement-----------------------Level of involvement required for the employee's job\n",
    "#### JobLevel---------------------\tEmployee's level of work\n",
    "#### JobRole-----------------\tThe role of employees in the organization\n",
    "#### JobSatisfaction-------------------\tEmployee satisfaction with their work\n",
    "#### MaritalStatus-------------\tEmployee's marital status\n",
    "#### MonthlyIncome\t--------------Employee's monthly income\n",
    "#### MonthlyRate----------------------\tMonthly salary rate for employees\n",
    "#### NumCompaniesWorked\t---------------Number of companies the employee worked for\n",
    "#### Over18\t---------------Whether the employee is over 18 years old\n",
    "#### OverTime\t---------------------Do employees work overtime\n",
    "#### PercentSalaryHike\t------------------Salary increase rate for employees\n",
    "#### PerformanceRating\t-------------The performance rating of the employee\n",
    "#### RelationshipSatisfaction---------------------\tEmployee satisfaction with their relationships\n",
    "#### StandardHours----------------------\tStandard working hours for employees\n",
    "#### StockOptionLevel------------------\tEmployee stock option level\n",
    "#### TotalWorkingYears\t---------------------------Total number of years the employee has worked\n",
    "#### TrainingTimesLastYear----------------------\tNumber of times employees were taken to training in the last year\n",
    "#### WorkLifeBalance-------------------------------\tEmployees' perception of their work-life balance\n",
    "#### YearsAtCompany-----------------------\tNumber of years employees have been with the company\n",
    "#### YearsInCurrentRole--------------------\tNumber of years the employee has been in their current role\n",
    "#### YearsSinceLastPromotion----------------------\tNumber of years since employee's last promotion\n",
    "#### YearsWithCurrManager----------------\tNumber of years an employee has been with their current manager\n",
    "#### Attrition------------------\tDoes the employee leave the organization\n",
    "\n",
    "\n",
    "#### Classifications of the various attributes\n",
    "\n",
    "##### Education: 1 'Below College' 2 'College' 3 'Bachelor' 4 'Master' 5 'Doctor'\n",
    "\n",
    "##### EnvironmentSatisfaction: 1 'Low' 2 'Medium' 3 'High' 4 'Very High'\n",
    "\n",
    "##### JobInvolvement 1 'Low' 2 'Medium' 3 'High' 4 'Very High'\n",
    "\n",
    "##### JobSatisfaction: 1 'Low' 2 'Medium' 3 'High' 4 'Very High'\n",
    "\n",
    "##### PerformanceRating: 1 'Low' 2 'Good' 3 'Excellent' 4 'Outstanding'\n",
    "\n",
    "##### RelationshipSatisfaction: 1 'Low' 2 'Medium' 3 'High' 4 'Very High'\n",
    "\n",
    "##### WorkLifeBalance: 1 'Bad' 2 'Good' 3 'Better' 4 'Best'"
   ]
  },
  {
   "cell_type": "code",
   "execution_count": 1,
   "id": "cce5bb1e",
   "metadata": {},
   "outputs": [],
   "source": [
    "# Imported necessary libraries\n",
    "import numpy as np\n",
    "import pandas as pd\n",
    "import matplotlib.pyplot as plt\n",
    "import seaborn as sns\n",
    "from sklearn.model_selection import train_test_split\n",
    "from sklearn.tree import DecisionTreeClassifier\n",
    "from sklearn.linear_model import LogisticRegression\n",
    "from sklearn.ensemble import RandomForestClassifier\n",
    "from sklearn.ensemble import AdaBoostClassifier\n",
    "from sklearn.ensemble import GradientBoostingClassifier\n",
    "from sklearn.metrics import accuracy_score\n",
    "from imblearn.over_sampling import SMOTE\n",
    "from sklearn.metrics import accuracy_score, classification_report, roc_curve, roc_auc_score, auc\n",
    "from sklearn.metrics import confusion_matrix, classification_report, accuracy_score, precision_score, recall_score, f1_score\n",
    "from sklearn.model_selection import cross_val_score\n",
    "from sklearn.model_selection import GridSearchCV\n",
    "from sklearn.preprocessing import LabelEncoder"
   ]
  },
  {
   "cell_type": "code",
   "execution_count": 2,
   "id": "0675ddc4",
   "metadata": {},
   "outputs": [],
   "source": [
    "# loaded the dataset to a Pandas DataFrame\n",
    "employee_attr = pd.read_csv('WA_Fn-UseC_-HR-Employee-Attrition.csv')"
   ]
  },
  {
   "cell_type": "markdown",
   "id": "316b4ed4",
   "metadata": {},
   "source": [
    "## Exploratory Data Analysis"
   ]
  },
  {
   "cell_type": "code",
   "execution_count": 3,
   "id": "d9752312",
   "metadata": {},
   "outputs": [
    {
     "data": {
      "text/html": [
       "<div>\n",
       "<style scoped>\n",
       "    .dataframe tbody tr th:only-of-type {\n",
       "        vertical-align: middle;\n",
       "    }\n",
       "\n",
       "    .dataframe tbody tr th {\n",
       "        vertical-align: top;\n",
       "    }\n",
       "\n",
       "    .dataframe thead th {\n",
       "        text-align: right;\n",
       "    }\n",
       "</style>\n",
       "<table border=\"1\" class=\"dataframe\">\n",
       "  <thead>\n",
       "    <tr style=\"text-align: right;\">\n",
       "      <th></th>\n",
       "      <th>Age</th>\n",
       "      <th>Attrition</th>\n",
       "      <th>BusinessTravel</th>\n",
       "      <th>DailyRate</th>\n",
       "      <th>Department</th>\n",
       "      <th>DistanceFromHome</th>\n",
       "      <th>Education</th>\n",
       "      <th>EducationField</th>\n",
       "      <th>EmployeeCount</th>\n",
       "      <th>EmployeeNumber</th>\n",
       "      <th>...</th>\n",
       "      <th>RelationshipSatisfaction</th>\n",
       "      <th>StandardHours</th>\n",
       "      <th>StockOptionLevel</th>\n",
       "      <th>TotalWorkingYears</th>\n",
       "      <th>TrainingTimesLastYear</th>\n",
       "      <th>WorkLifeBalance</th>\n",
       "      <th>YearsAtCompany</th>\n",
       "      <th>YearsInCurrentRole</th>\n",
       "      <th>YearsSinceLastPromotion</th>\n",
       "      <th>YearsWithCurrManager</th>\n",
       "    </tr>\n",
       "  </thead>\n",
       "  <tbody>\n",
       "    <tr>\n",
       "      <th>0</th>\n",
       "      <td>41</td>\n",
       "      <td>Yes</td>\n",
       "      <td>Travel_Rarely</td>\n",
       "      <td>1102</td>\n",
       "      <td>Sales</td>\n",
       "      <td>1</td>\n",
       "      <td>2</td>\n",
       "      <td>Life Sciences</td>\n",
       "      <td>1</td>\n",
       "      <td>1</td>\n",
       "      <td>...</td>\n",
       "      <td>1</td>\n",
       "      <td>80</td>\n",
       "      <td>0</td>\n",
       "      <td>8</td>\n",
       "      <td>0</td>\n",
       "      <td>1</td>\n",
       "      <td>6</td>\n",
       "      <td>4</td>\n",
       "      <td>0</td>\n",
       "      <td>5</td>\n",
       "    </tr>\n",
       "    <tr>\n",
       "      <th>1</th>\n",
       "      <td>49</td>\n",
       "      <td>No</td>\n",
       "      <td>Travel_Frequently</td>\n",
       "      <td>279</td>\n",
       "      <td>Research &amp; Development</td>\n",
       "      <td>8</td>\n",
       "      <td>1</td>\n",
       "      <td>Life Sciences</td>\n",
       "      <td>1</td>\n",
       "      <td>2</td>\n",
       "      <td>...</td>\n",
       "      <td>4</td>\n",
       "      <td>80</td>\n",
       "      <td>1</td>\n",
       "      <td>10</td>\n",
       "      <td>3</td>\n",
       "      <td>3</td>\n",
       "      <td>10</td>\n",
       "      <td>7</td>\n",
       "      <td>1</td>\n",
       "      <td>7</td>\n",
       "    </tr>\n",
       "    <tr>\n",
       "      <th>2</th>\n",
       "      <td>37</td>\n",
       "      <td>Yes</td>\n",
       "      <td>Travel_Rarely</td>\n",
       "      <td>1373</td>\n",
       "      <td>Research &amp; Development</td>\n",
       "      <td>2</td>\n",
       "      <td>2</td>\n",
       "      <td>Other</td>\n",
       "      <td>1</td>\n",
       "      <td>4</td>\n",
       "      <td>...</td>\n",
       "      <td>2</td>\n",
       "      <td>80</td>\n",
       "      <td>0</td>\n",
       "      <td>7</td>\n",
       "      <td>3</td>\n",
       "      <td>3</td>\n",
       "      <td>0</td>\n",
       "      <td>0</td>\n",
       "      <td>0</td>\n",
       "      <td>0</td>\n",
       "    </tr>\n",
       "    <tr>\n",
       "      <th>3</th>\n",
       "      <td>33</td>\n",
       "      <td>No</td>\n",
       "      <td>Travel_Frequently</td>\n",
       "      <td>1392</td>\n",
       "      <td>Research &amp; Development</td>\n",
       "      <td>3</td>\n",
       "      <td>4</td>\n",
       "      <td>Life Sciences</td>\n",
       "      <td>1</td>\n",
       "      <td>5</td>\n",
       "      <td>...</td>\n",
       "      <td>3</td>\n",
       "      <td>80</td>\n",
       "      <td>0</td>\n",
       "      <td>8</td>\n",
       "      <td>3</td>\n",
       "      <td>3</td>\n",
       "      <td>8</td>\n",
       "      <td>7</td>\n",
       "      <td>3</td>\n",
       "      <td>0</td>\n",
       "    </tr>\n",
       "    <tr>\n",
       "      <th>4</th>\n",
       "      <td>27</td>\n",
       "      <td>No</td>\n",
       "      <td>Travel_Rarely</td>\n",
       "      <td>591</td>\n",
       "      <td>Research &amp; Development</td>\n",
       "      <td>2</td>\n",
       "      <td>1</td>\n",
       "      <td>Medical</td>\n",
       "      <td>1</td>\n",
       "      <td>7</td>\n",
       "      <td>...</td>\n",
       "      <td>4</td>\n",
       "      <td>80</td>\n",
       "      <td>1</td>\n",
       "      <td>6</td>\n",
       "      <td>3</td>\n",
       "      <td>3</td>\n",
       "      <td>2</td>\n",
       "      <td>2</td>\n",
       "      <td>2</td>\n",
       "      <td>2</td>\n",
       "    </tr>\n",
       "    <tr>\n",
       "      <th>5</th>\n",
       "      <td>32</td>\n",
       "      <td>No</td>\n",
       "      <td>Travel_Frequently</td>\n",
       "      <td>1005</td>\n",
       "      <td>Research &amp; Development</td>\n",
       "      <td>2</td>\n",
       "      <td>2</td>\n",
       "      <td>Life Sciences</td>\n",
       "      <td>1</td>\n",
       "      <td>8</td>\n",
       "      <td>...</td>\n",
       "      <td>3</td>\n",
       "      <td>80</td>\n",
       "      <td>0</td>\n",
       "      <td>8</td>\n",
       "      <td>2</td>\n",
       "      <td>2</td>\n",
       "      <td>7</td>\n",
       "      <td>7</td>\n",
       "      <td>3</td>\n",
       "      <td>6</td>\n",
       "    </tr>\n",
       "    <tr>\n",
       "      <th>6</th>\n",
       "      <td>59</td>\n",
       "      <td>No</td>\n",
       "      <td>Travel_Rarely</td>\n",
       "      <td>1324</td>\n",
       "      <td>Research &amp; Development</td>\n",
       "      <td>3</td>\n",
       "      <td>3</td>\n",
       "      <td>Medical</td>\n",
       "      <td>1</td>\n",
       "      <td>10</td>\n",
       "      <td>...</td>\n",
       "      <td>1</td>\n",
       "      <td>80</td>\n",
       "      <td>3</td>\n",
       "      <td>12</td>\n",
       "      <td>3</td>\n",
       "      <td>2</td>\n",
       "      <td>1</td>\n",
       "      <td>0</td>\n",
       "      <td>0</td>\n",
       "      <td>0</td>\n",
       "    </tr>\n",
       "    <tr>\n",
       "      <th>7</th>\n",
       "      <td>30</td>\n",
       "      <td>No</td>\n",
       "      <td>Travel_Rarely</td>\n",
       "      <td>1358</td>\n",
       "      <td>Research &amp; Development</td>\n",
       "      <td>24</td>\n",
       "      <td>1</td>\n",
       "      <td>Life Sciences</td>\n",
       "      <td>1</td>\n",
       "      <td>11</td>\n",
       "      <td>...</td>\n",
       "      <td>2</td>\n",
       "      <td>80</td>\n",
       "      <td>1</td>\n",
       "      <td>1</td>\n",
       "      <td>2</td>\n",
       "      <td>3</td>\n",
       "      <td>1</td>\n",
       "      <td>0</td>\n",
       "      <td>0</td>\n",
       "      <td>0</td>\n",
       "    </tr>\n",
       "    <tr>\n",
       "      <th>8</th>\n",
       "      <td>38</td>\n",
       "      <td>No</td>\n",
       "      <td>Travel_Frequently</td>\n",
       "      <td>216</td>\n",
       "      <td>Research &amp; Development</td>\n",
       "      <td>23</td>\n",
       "      <td>3</td>\n",
       "      <td>Life Sciences</td>\n",
       "      <td>1</td>\n",
       "      <td>12</td>\n",
       "      <td>...</td>\n",
       "      <td>2</td>\n",
       "      <td>80</td>\n",
       "      <td>0</td>\n",
       "      <td>10</td>\n",
       "      <td>2</td>\n",
       "      <td>3</td>\n",
       "      <td>9</td>\n",
       "      <td>7</td>\n",
       "      <td>1</td>\n",
       "      <td>8</td>\n",
       "    </tr>\n",
       "    <tr>\n",
       "      <th>9</th>\n",
       "      <td>36</td>\n",
       "      <td>No</td>\n",
       "      <td>Travel_Rarely</td>\n",
       "      <td>1299</td>\n",
       "      <td>Research &amp; Development</td>\n",
       "      <td>27</td>\n",
       "      <td>3</td>\n",
       "      <td>Medical</td>\n",
       "      <td>1</td>\n",
       "      <td>13</td>\n",
       "      <td>...</td>\n",
       "      <td>2</td>\n",
       "      <td>80</td>\n",
       "      <td>2</td>\n",
       "      <td>17</td>\n",
       "      <td>3</td>\n",
       "      <td>2</td>\n",
       "      <td>7</td>\n",
       "      <td>7</td>\n",
       "      <td>7</td>\n",
       "      <td>7</td>\n",
       "    </tr>\n",
       "  </tbody>\n",
       "</table>\n",
       "<p>10 rows × 35 columns</p>\n",
       "</div>"
      ],
      "text/plain": [
       "   Age Attrition     BusinessTravel  DailyRate              Department  \\\n",
       "0   41       Yes      Travel_Rarely       1102                   Sales   \n",
       "1   49        No  Travel_Frequently        279  Research & Development   \n",
       "2   37       Yes      Travel_Rarely       1373  Research & Development   \n",
       "3   33        No  Travel_Frequently       1392  Research & Development   \n",
       "4   27        No      Travel_Rarely        591  Research & Development   \n",
       "5   32        No  Travel_Frequently       1005  Research & Development   \n",
       "6   59        No      Travel_Rarely       1324  Research & Development   \n",
       "7   30        No      Travel_Rarely       1358  Research & Development   \n",
       "8   38        No  Travel_Frequently        216  Research & Development   \n",
       "9   36        No      Travel_Rarely       1299  Research & Development   \n",
       "\n",
       "   DistanceFromHome  Education EducationField  EmployeeCount  EmployeeNumber  \\\n",
       "0                 1          2  Life Sciences              1               1   \n",
       "1                 8          1  Life Sciences              1               2   \n",
       "2                 2          2          Other              1               4   \n",
       "3                 3          4  Life Sciences              1               5   \n",
       "4                 2          1        Medical              1               7   \n",
       "5                 2          2  Life Sciences              1               8   \n",
       "6                 3          3        Medical              1              10   \n",
       "7                24          1  Life Sciences              1              11   \n",
       "8                23          3  Life Sciences              1              12   \n",
       "9                27          3        Medical              1              13   \n",
       "\n",
       "   ...  RelationshipSatisfaction StandardHours  StockOptionLevel  \\\n",
       "0  ...                         1            80                 0   \n",
       "1  ...                         4            80                 1   \n",
       "2  ...                         2            80                 0   \n",
       "3  ...                         3            80                 0   \n",
       "4  ...                         4            80                 1   \n",
       "5  ...                         3            80                 0   \n",
       "6  ...                         1            80                 3   \n",
       "7  ...                         2            80                 1   \n",
       "8  ...                         2            80                 0   \n",
       "9  ...                         2            80                 2   \n",
       "\n",
       "   TotalWorkingYears  TrainingTimesLastYear WorkLifeBalance  YearsAtCompany  \\\n",
       "0                  8                      0               1               6   \n",
       "1                 10                      3               3              10   \n",
       "2                  7                      3               3               0   \n",
       "3                  8                      3               3               8   \n",
       "4                  6                      3               3               2   \n",
       "5                  8                      2               2               7   \n",
       "6                 12                      3               2               1   \n",
       "7                  1                      2               3               1   \n",
       "8                 10                      2               3               9   \n",
       "9                 17                      3               2               7   \n",
       "\n",
       "  YearsInCurrentRole  YearsSinceLastPromotion  YearsWithCurrManager  \n",
       "0                  4                        0                     5  \n",
       "1                  7                        1                     7  \n",
       "2                  0                        0                     0  \n",
       "3                  7                        3                     0  \n",
       "4                  2                        2                     2  \n",
       "5                  7                        3                     6  \n",
       "6                  0                        0                     0  \n",
       "7                  0                        0                     0  \n",
       "8                  7                        1                     8  \n",
       "9                  7                        7                     7  \n",
       "\n",
       "[10 rows x 35 columns]"
      ]
     },
     "execution_count": 3,
     "metadata": {},
     "output_type": "execute_result"
    }
   ],
   "source": [
    "#Viewing the first 10 rows of the dataset\n",
    "employee_attr.head(10)"
   ]
  },
  {
   "cell_type": "code",
   "execution_count": 4,
   "id": "dd309723",
   "metadata": {},
   "outputs": [
    {
     "data": {
      "text/plain": [
       "(1470, 35)"
      ]
     },
     "execution_count": 4,
     "metadata": {},
     "output_type": "execute_result"
    }
   ],
   "source": [
    "# Viewing the dimensions of the array\n",
    "employee_attr.shape"
   ]
  },
  {
   "cell_type": "markdown",
   "id": "a08fcca2",
   "metadata": {},
   "source": [
    "We have 1470 rows and 35 columns in our dataset. Of these columns, we have 34 independent variables and 1 target variable(Attrition)."
   ]
  },
  {
   "cell_type": "code",
   "execution_count": 5,
   "id": "a65a0096",
   "metadata": {},
   "outputs": [
    {
     "data": {
      "text/plain": [
       "Index(['Age', 'Attrition', 'BusinessTravel', 'DailyRate', 'Department',\n",
       "       'DistanceFromHome', 'Education', 'EducationField', 'EmployeeCount',\n",
       "       'EmployeeNumber', 'EnvironmentSatisfaction', 'Gender', 'HourlyRate',\n",
       "       'JobInvolvement', 'JobLevel', 'JobRole', 'JobSatisfaction',\n",
       "       'MaritalStatus', 'MonthlyIncome', 'MonthlyRate', 'NumCompaniesWorked',\n",
       "       'Over18', 'OverTime', 'PercentSalaryHike', 'PerformanceRating',\n",
       "       'RelationshipSatisfaction', 'StandardHours', 'StockOptionLevel',\n",
       "       'TotalWorkingYears', 'TrainingTimesLastYear', 'WorkLifeBalance',\n",
       "       'YearsAtCompany', 'YearsInCurrentRole', 'YearsSinceLastPromotion',\n",
       "       'YearsWithCurrManager'],\n",
       "      dtype='object')"
      ]
     },
     "execution_count": 5,
     "metadata": {},
     "output_type": "execute_result"
    }
   ],
   "source": [
    "#Viewing the columns present in the dataset\n",
    "columns = employee_attr.columns\n",
    "columns"
   ]
  },
  {
   "cell_type": "code",
   "execution_count": 6,
   "id": "302f2946",
   "metadata": {},
   "outputs": [
    {
     "name": "stdout",
     "output_type": "stream",
     "text": [
      "<class 'pandas.core.frame.DataFrame'>\n",
      "RangeIndex: 1470 entries, 0 to 1469\n",
      "Data columns (total 35 columns):\n",
      " #   Column                    Non-Null Count  Dtype \n",
      "---  ------                    --------------  ----- \n",
      " 0   Age                       1470 non-null   int64 \n",
      " 1   Attrition                 1470 non-null   object\n",
      " 2   BusinessTravel            1470 non-null   object\n",
      " 3   DailyRate                 1470 non-null   int64 \n",
      " 4   Department                1470 non-null   object\n",
      " 5   DistanceFromHome          1470 non-null   int64 \n",
      " 6   Education                 1470 non-null   int64 \n",
      " 7   EducationField            1470 non-null   object\n",
      " 8   EmployeeCount             1470 non-null   int64 \n",
      " 9   EmployeeNumber            1470 non-null   int64 \n",
      " 10  EnvironmentSatisfaction   1470 non-null   int64 \n",
      " 11  Gender                    1470 non-null   object\n",
      " 12  HourlyRate                1470 non-null   int64 \n",
      " 13  JobInvolvement            1470 non-null   int64 \n",
      " 14  JobLevel                  1470 non-null   int64 \n",
      " 15  JobRole                   1470 non-null   object\n",
      " 16  JobSatisfaction           1470 non-null   int64 \n",
      " 17  MaritalStatus             1470 non-null   object\n",
      " 18  MonthlyIncome             1470 non-null   int64 \n",
      " 19  MonthlyRate               1470 non-null   int64 \n",
      " 20  NumCompaniesWorked        1470 non-null   int64 \n",
      " 21  Over18                    1470 non-null   object\n",
      " 22  OverTime                  1470 non-null   object\n",
      " 23  PercentSalaryHike         1470 non-null   int64 \n",
      " 24  PerformanceRating         1470 non-null   int64 \n",
      " 25  RelationshipSatisfaction  1470 non-null   int64 \n",
      " 26  StandardHours             1470 non-null   int64 \n",
      " 27  StockOptionLevel          1470 non-null   int64 \n",
      " 28  TotalWorkingYears         1470 non-null   int64 \n",
      " 29  TrainingTimesLastYear     1470 non-null   int64 \n",
      " 30  WorkLifeBalance           1470 non-null   int64 \n",
      " 31  YearsAtCompany            1470 non-null   int64 \n",
      " 32  YearsInCurrentRole        1470 non-null   int64 \n",
      " 33  YearsSinceLastPromotion   1470 non-null   int64 \n",
      " 34  YearsWithCurrManager      1470 non-null   int64 \n",
      "dtypes: int64(26), object(9)\n",
      "memory usage: 402.1+ KB\n"
     ]
    }
   ],
   "source": [
    "#Displays the basic information about the columns in the dataset\n",
    "employee_attr.info()"
   ]
  },
  {
   "cell_type": "markdown",
   "id": "f9d8b486",
   "metadata": {},
   "source": [
    "We have 26 columns that of datatype int64 and 9 columns having datatype object."
   ]
  },
  {
   "cell_type": "code",
   "execution_count": 7,
   "id": "282082c8",
   "metadata": {},
   "outputs": [
    {
     "data": {
      "text/html": [
       "<div>\n",
       "<style scoped>\n",
       "    .dataframe tbody tr th:only-of-type {\n",
       "        vertical-align: middle;\n",
       "    }\n",
       "\n",
       "    .dataframe tbody tr th {\n",
       "        vertical-align: top;\n",
       "    }\n",
       "\n",
       "    .dataframe thead th {\n",
       "        text-align: right;\n",
       "    }\n",
       "</style>\n",
       "<table border=\"1\" class=\"dataframe\">\n",
       "  <thead>\n",
       "    <tr style=\"text-align: right;\">\n",
       "      <th></th>\n",
       "      <th>Age</th>\n",
       "      <th>DailyRate</th>\n",
       "      <th>DistanceFromHome</th>\n",
       "      <th>Education</th>\n",
       "      <th>EmployeeCount</th>\n",
       "      <th>EmployeeNumber</th>\n",
       "      <th>EnvironmentSatisfaction</th>\n",
       "      <th>HourlyRate</th>\n",
       "      <th>JobInvolvement</th>\n",
       "      <th>JobLevel</th>\n",
       "      <th>...</th>\n",
       "      <th>RelationshipSatisfaction</th>\n",
       "      <th>StandardHours</th>\n",
       "      <th>StockOptionLevel</th>\n",
       "      <th>TotalWorkingYears</th>\n",
       "      <th>TrainingTimesLastYear</th>\n",
       "      <th>WorkLifeBalance</th>\n",
       "      <th>YearsAtCompany</th>\n",
       "      <th>YearsInCurrentRole</th>\n",
       "      <th>YearsSinceLastPromotion</th>\n",
       "      <th>YearsWithCurrManager</th>\n",
       "    </tr>\n",
       "  </thead>\n",
       "  <tbody>\n",
       "    <tr>\n",
       "      <th>count</th>\n",
       "      <td>1470.000000</td>\n",
       "      <td>1470.000000</td>\n",
       "      <td>1470.000000</td>\n",
       "      <td>1470.000000</td>\n",
       "      <td>1470.0</td>\n",
       "      <td>1470.000000</td>\n",
       "      <td>1470.000000</td>\n",
       "      <td>1470.000000</td>\n",
       "      <td>1470.000000</td>\n",
       "      <td>1470.000000</td>\n",
       "      <td>...</td>\n",
       "      <td>1470.000000</td>\n",
       "      <td>1470.0</td>\n",
       "      <td>1470.000000</td>\n",
       "      <td>1470.000000</td>\n",
       "      <td>1470.000000</td>\n",
       "      <td>1470.000000</td>\n",
       "      <td>1470.000000</td>\n",
       "      <td>1470.000000</td>\n",
       "      <td>1470.000000</td>\n",
       "      <td>1470.000000</td>\n",
       "    </tr>\n",
       "    <tr>\n",
       "      <th>mean</th>\n",
       "      <td>36.923810</td>\n",
       "      <td>802.485714</td>\n",
       "      <td>9.192517</td>\n",
       "      <td>2.912925</td>\n",
       "      <td>1.0</td>\n",
       "      <td>1024.865306</td>\n",
       "      <td>2.721769</td>\n",
       "      <td>65.891156</td>\n",
       "      <td>2.729932</td>\n",
       "      <td>2.063946</td>\n",
       "      <td>...</td>\n",
       "      <td>2.712245</td>\n",
       "      <td>80.0</td>\n",
       "      <td>0.793878</td>\n",
       "      <td>11.279592</td>\n",
       "      <td>2.799320</td>\n",
       "      <td>2.761224</td>\n",
       "      <td>7.008163</td>\n",
       "      <td>4.229252</td>\n",
       "      <td>2.187755</td>\n",
       "      <td>4.123129</td>\n",
       "    </tr>\n",
       "    <tr>\n",
       "      <th>std</th>\n",
       "      <td>9.135373</td>\n",
       "      <td>403.509100</td>\n",
       "      <td>8.106864</td>\n",
       "      <td>1.024165</td>\n",
       "      <td>0.0</td>\n",
       "      <td>602.024335</td>\n",
       "      <td>1.093082</td>\n",
       "      <td>20.329428</td>\n",
       "      <td>0.711561</td>\n",
       "      <td>1.106940</td>\n",
       "      <td>...</td>\n",
       "      <td>1.081209</td>\n",
       "      <td>0.0</td>\n",
       "      <td>0.852077</td>\n",
       "      <td>7.780782</td>\n",
       "      <td>1.289271</td>\n",
       "      <td>0.706476</td>\n",
       "      <td>6.126525</td>\n",
       "      <td>3.623137</td>\n",
       "      <td>3.222430</td>\n",
       "      <td>3.568136</td>\n",
       "    </tr>\n",
       "    <tr>\n",
       "      <th>min</th>\n",
       "      <td>18.000000</td>\n",
       "      <td>102.000000</td>\n",
       "      <td>1.000000</td>\n",
       "      <td>1.000000</td>\n",
       "      <td>1.0</td>\n",
       "      <td>1.000000</td>\n",
       "      <td>1.000000</td>\n",
       "      <td>30.000000</td>\n",
       "      <td>1.000000</td>\n",
       "      <td>1.000000</td>\n",
       "      <td>...</td>\n",
       "      <td>1.000000</td>\n",
       "      <td>80.0</td>\n",
       "      <td>0.000000</td>\n",
       "      <td>0.000000</td>\n",
       "      <td>0.000000</td>\n",
       "      <td>1.000000</td>\n",
       "      <td>0.000000</td>\n",
       "      <td>0.000000</td>\n",
       "      <td>0.000000</td>\n",
       "      <td>0.000000</td>\n",
       "    </tr>\n",
       "    <tr>\n",
       "      <th>25%</th>\n",
       "      <td>30.000000</td>\n",
       "      <td>465.000000</td>\n",
       "      <td>2.000000</td>\n",
       "      <td>2.000000</td>\n",
       "      <td>1.0</td>\n",
       "      <td>491.250000</td>\n",
       "      <td>2.000000</td>\n",
       "      <td>48.000000</td>\n",
       "      <td>2.000000</td>\n",
       "      <td>1.000000</td>\n",
       "      <td>...</td>\n",
       "      <td>2.000000</td>\n",
       "      <td>80.0</td>\n",
       "      <td>0.000000</td>\n",
       "      <td>6.000000</td>\n",
       "      <td>2.000000</td>\n",
       "      <td>2.000000</td>\n",
       "      <td>3.000000</td>\n",
       "      <td>2.000000</td>\n",
       "      <td>0.000000</td>\n",
       "      <td>2.000000</td>\n",
       "    </tr>\n",
       "    <tr>\n",
       "      <th>50%</th>\n",
       "      <td>36.000000</td>\n",
       "      <td>802.000000</td>\n",
       "      <td>7.000000</td>\n",
       "      <td>3.000000</td>\n",
       "      <td>1.0</td>\n",
       "      <td>1020.500000</td>\n",
       "      <td>3.000000</td>\n",
       "      <td>66.000000</td>\n",
       "      <td>3.000000</td>\n",
       "      <td>2.000000</td>\n",
       "      <td>...</td>\n",
       "      <td>3.000000</td>\n",
       "      <td>80.0</td>\n",
       "      <td>1.000000</td>\n",
       "      <td>10.000000</td>\n",
       "      <td>3.000000</td>\n",
       "      <td>3.000000</td>\n",
       "      <td>5.000000</td>\n",
       "      <td>3.000000</td>\n",
       "      <td>1.000000</td>\n",
       "      <td>3.000000</td>\n",
       "    </tr>\n",
       "    <tr>\n",
       "      <th>75%</th>\n",
       "      <td>43.000000</td>\n",
       "      <td>1157.000000</td>\n",
       "      <td>14.000000</td>\n",
       "      <td>4.000000</td>\n",
       "      <td>1.0</td>\n",
       "      <td>1555.750000</td>\n",
       "      <td>4.000000</td>\n",
       "      <td>83.750000</td>\n",
       "      <td>3.000000</td>\n",
       "      <td>3.000000</td>\n",
       "      <td>...</td>\n",
       "      <td>4.000000</td>\n",
       "      <td>80.0</td>\n",
       "      <td>1.000000</td>\n",
       "      <td>15.000000</td>\n",
       "      <td>3.000000</td>\n",
       "      <td>3.000000</td>\n",
       "      <td>9.000000</td>\n",
       "      <td>7.000000</td>\n",
       "      <td>3.000000</td>\n",
       "      <td>7.000000</td>\n",
       "    </tr>\n",
       "    <tr>\n",
       "      <th>max</th>\n",
       "      <td>60.000000</td>\n",
       "      <td>1499.000000</td>\n",
       "      <td>29.000000</td>\n",
       "      <td>5.000000</td>\n",
       "      <td>1.0</td>\n",
       "      <td>2068.000000</td>\n",
       "      <td>4.000000</td>\n",
       "      <td>100.000000</td>\n",
       "      <td>4.000000</td>\n",
       "      <td>5.000000</td>\n",
       "      <td>...</td>\n",
       "      <td>4.000000</td>\n",
       "      <td>80.0</td>\n",
       "      <td>3.000000</td>\n",
       "      <td>40.000000</td>\n",
       "      <td>6.000000</td>\n",
       "      <td>4.000000</td>\n",
       "      <td>40.000000</td>\n",
       "      <td>18.000000</td>\n",
       "      <td>15.000000</td>\n",
       "      <td>17.000000</td>\n",
       "    </tr>\n",
       "  </tbody>\n",
       "</table>\n",
       "<p>8 rows × 26 columns</p>\n",
       "</div>"
      ],
      "text/plain": [
       "               Age    DailyRate  DistanceFromHome    Education  EmployeeCount  \\\n",
       "count  1470.000000  1470.000000       1470.000000  1470.000000         1470.0   \n",
       "mean     36.923810   802.485714          9.192517     2.912925            1.0   \n",
       "std       9.135373   403.509100          8.106864     1.024165            0.0   \n",
       "min      18.000000   102.000000          1.000000     1.000000            1.0   \n",
       "25%      30.000000   465.000000          2.000000     2.000000            1.0   \n",
       "50%      36.000000   802.000000          7.000000     3.000000            1.0   \n",
       "75%      43.000000  1157.000000         14.000000     4.000000            1.0   \n",
       "max      60.000000  1499.000000         29.000000     5.000000            1.0   \n",
       "\n",
       "       EmployeeNumber  EnvironmentSatisfaction   HourlyRate  JobInvolvement  \\\n",
       "count     1470.000000              1470.000000  1470.000000     1470.000000   \n",
       "mean      1024.865306                 2.721769    65.891156        2.729932   \n",
       "std        602.024335                 1.093082    20.329428        0.711561   \n",
       "min          1.000000                 1.000000    30.000000        1.000000   \n",
       "25%        491.250000                 2.000000    48.000000        2.000000   \n",
       "50%       1020.500000                 3.000000    66.000000        3.000000   \n",
       "75%       1555.750000                 4.000000    83.750000        3.000000   \n",
       "max       2068.000000                 4.000000   100.000000        4.000000   \n",
       "\n",
       "          JobLevel  ...  RelationshipSatisfaction  StandardHours  \\\n",
       "count  1470.000000  ...               1470.000000         1470.0   \n",
       "mean      2.063946  ...                  2.712245           80.0   \n",
       "std       1.106940  ...                  1.081209            0.0   \n",
       "min       1.000000  ...                  1.000000           80.0   \n",
       "25%       1.000000  ...                  2.000000           80.0   \n",
       "50%       2.000000  ...                  3.000000           80.0   \n",
       "75%       3.000000  ...                  4.000000           80.0   \n",
       "max       5.000000  ...                  4.000000           80.0   \n",
       "\n",
       "       StockOptionLevel  TotalWorkingYears  TrainingTimesLastYear  \\\n",
       "count       1470.000000        1470.000000            1470.000000   \n",
       "mean           0.793878          11.279592               2.799320   \n",
       "std            0.852077           7.780782               1.289271   \n",
       "min            0.000000           0.000000               0.000000   \n",
       "25%            0.000000           6.000000               2.000000   \n",
       "50%            1.000000          10.000000               3.000000   \n",
       "75%            1.000000          15.000000               3.000000   \n",
       "max            3.000000          40.000000               6.000000   \n",
       "\n",
       "       WorkLifeBalance  YearsAtCompany  YearsInCurrentRole  \\\n",
       "count      1470.000000     1470.000000         1470.000000   \n",
       "mean          2.761224        7.008163            4.229252   \n",
       "std           0.706476        6.126525            3.623137   \n",
       "min           1.000000        0.000000            0.000000   \n",
       "25%           2.000000        3.000000            2.000000   \n",
       "50%           3.000000        5.000000            3.000000   \n",
       "75%           3.000000        9.000000            7.000000   \n",
       "max           4.000000       40.000000           18.000000   \n",
       "\n",
       "       YearsSinceLastPromotion  YearsWithCurrManager  \n",
       "count              1470.000000           1470.000000  \n",
       "mean                  2.187755              4.123129  \n",
       "std                   3.222430              3.568136  \n",
       "min                   0.000000              0.000000  \n",
       "25%                   0.000000              2.000000  \n",
       "50%                   1.000000              3.000000  \n",
       "75%                   3.000000              7.000000  \n",
       "max                  15.000000             17.000000  \n",
       "\n",
       "[8 rows x 26 columns]"
      ]
     },
     "execution_count": 7,
     "metadata": {},
     "output_type": "execute_result"
    }
   ],
   "source": [
    "#displaying the descriptive statistics of all the features in the dataset\n",
    "employee_attr.describe()"
   ]
  },
  {
   "cell_type": "markdown",
   "id": "9c4f2138",
   "metadata": {},
   "source": [
    "All employees are considered adults as the minimum age is 18. EmployeeCount and StandardHours columns have Stanard Deviation value of 0.0. This indicates that every value found in this column is the same. We will drop these columns because we do not need them for our analysis. We have 26 Numerical Columns in our dataset."
   ]
  },
  {
   "cell_type": "code",
   "execution_count": 8,
   "id": "bcc1f245",
   "metadata": {},
   "outputs": [
    {
     "data": {
      "text/html": [
       "<div>\n",
       "<style scoped>\n",
       "    .dataframe tbody tr th:only-of-type {\n",
       "        vertical-align: middle;\n",
       "    }\n",
       "\n",
       "    .dataframe tbody tr th {\n",
       "        vertical-align: top;\n",
       "    }\n",
       "\n",
       "    .dataframe thead th {\n",
       "        text-align: right;\n",
       "    }\n",
       "</style>\n",
       "<table border=\"1\" class=\"dataframe\">\n",
       "  <thead>\n",
       "    <tr style=\"text-align: right;\">\n",
       "      <th></th>\n",
       "      <th>Attrition</th>\n",
       "      <th>BusinessTravel</th>\n",
       "      <th>Department</th>\n",
       "      <th>EducationField</th>\n",
       "      <th>Gender</th>\n",
       "      <th>JobRole</th>\n",
       "      <th>MaritalStatus</th>\n",
       "      <th>Over18</th>\n",
       "      <th>OverTime</th>\n",
       "    </tr>\n",
       "  </thead>\n",
       "  <tbody>\n",
       "    <tr>\n",
       "      <th>count</th>\n",
       "      <td>1470</td>\n",
       "      <td>1470</td>\n",
       "      <td>1470</td>\n",
       "      <td>1470</td>\n",
       "      <td>1470</td>\n",
       "      <td>1470</td>\n",
       "      <td>1470</td>\n",
       "      <td>1470</td>\n",
       "      <td>1470</td>\n",
       "    </tr>\n",
       "    <tr>\n",
       "      <th>unique</th>\n",
       "      <td>2</td>\n",
       "      <td>3</td>\n",
       "      <td>3</td>\n",
       "      <td>6</td>\n",
       "      <td>2</td>\n",
       "      <td>9</td>\n",
       "      <td>3</td>\n",
       "      <td>1</td>\n",
       "      <td>2</td>\n",
       "    </tr>\n",
       "    <tr>\n",
       "      <th>top</th>\n",
       "      <td>No</td>\n",
       "      <td>Travel_Rarely</td>\n",
       "      <td>Research &amp; Development</td>\n",
       "      <td>Life Sciences</td>\n",
       "      <td>Male</td>\n",
       "      <td>Sales Executive</td>\n",
       "      <td>Married</td>\n",
       "      <td>Y</td>\n",
       "      <td>No</td>\n",
       "    </tr>\n",
       "    <tr>\n",
       "      <th>freq</th>\n",
       "      <td>1233</td>\n",
       "      <td>1043</td>\n",
       "      <td>961</td>\n",
       "      <td>606</td>\n",
       "      <td>882</td>\n",
       "      <td>326</td>\n",
       "      <td>673</td>\n",
       "      <td>1470</td>\n",
       "      <td>1054</td>\n",
       "    </tr>\n",
       "  </tbody>\n",
       "</table>\n",
       "</div>"
      ],
      "text/plain": [
       "       Attrition BusinessTravel              Department EducationField Gender  \\\n",
       "count       1470           1470                    1470           1470   1470   \n",
       "unique         2              3                       3              6      2   \n",
       "top           No  Travel_Rarely  Research & Development  Life Sciences   Male   \n",
       "freq        1233           1043                     961            606    882   \n",
       "\n",
       "                JobRole MaritalStatus Over18 OverTime  \n",
       "count              1470          1470   1470     1470  \n",
       "unique                9             3      1        2  \n",
       "top     Sales Executive       Married      Y       No  \n",
       "freq                326           673   1470     1054  "
      ]
     },
     "execution_count": 8,
     "metadata": {},
     "output_type": "execute_result"
    }
   ],
   "source": [
    "#displaying the descriptive statistics of our categorical variables\n",
    "employee_attr.describe(include='object')"
   ]
  },
  {
   "cell_type": "markdown",
   "id": "1f94f846",
   "metadata": {},
   "source": [
    "We have 9 Categorical Columns in our dataset."
   ]
  },
  {
   "cell_type": "code",
   "execution_count": 9,
   "id": "ade3b557",
   "metadata": {},
   "outputs": [
    {
     "data": {
      "text/plain": [
       "Age                         0\n",
       "Attrition                   0\n",
       "BusinessTravel              0\n",
       "DailyRate                   0\n",
       "Department                  0\n",
       "DistanceFromHome            0\n",
       "Education                   0\n",
       "EducationField              0\n",
       "EmployeeCount               0\n",
       "EmployeeNumber              0\n",
       "EnvironmentSatisfaction     0\n",
       "Gender                      0\n",
       "HourlyRate                  0\n",
       "JobInvolvement              0\n",
       "JobLevel                    0\n",
       "JobRole                     0\n",
       "JobSatisfaction             0\n",
       "MaritalStatus               0\n",
       "MonthlyIncome               0\n",
       "MonthlyRate                 0\n",
       "NumCompaniesWorked          0\n",
       "Over18                      0\n",
       "OverTime                    0\n",
       "PercentSalaryHike           0\n",
       "PerformanceRating           0\n",
       "RelationshipSatisfaction    0\n",
       "StandardHours               0\n",
       "StockOptionLevel            0\n",
       "TotalWorkingYears           0\n",
       "TrainingTimesLastYear       0\n",
       "WorkLifeBalance             0\n",
       "YearsAtCompany              0\n",
       "YearsInCurrentRole          0\n",
       "YearsSinceLastPromotion     0\n",
       "YearsWithCurrManager        0\n",
       "dtype: int64"
      ]
     },
     "execution_count": 9,
     "metadata": {},
     "output_type": "execute_result"
    }
   ],
   "source": [
    "#checking for missing values\n",
    "employee_attr.isnull().sum()"
   ]
  },
  {
   "cell_type": "markdown",
   "id": "e412133b",
   "metadata": {},
   "source": [
    "There are no Missing Values in our dataset."
   ]
  },
  {
   "cell_type": "code",
   "execution_count": 10,
   "id": "e678c1d1",
   "metadata": {},
   "outputs": [
    {
     "name": "stdout",
     "output_type": "stream",
     "text": [
      "The number of duplicates in the dataset is: 0\n"
     ]
    }
   ],
   "source": [
    "# Printing the total number of duplicates across all the columns\n",
    "duplicated = employee_attr.duplicated()\n",
    "\n",
    "print(\"The number of duplicates in the dataset is:\", employee_attr.duplicated().sum())"
   ]
  },
  {
   "cell_type": "code",
   "execution_count": 11,
   "id": "39956fd2",
   "metadata": {},
   "outputs": [
    {
     "data": {
      "text/plain": [
       "No     1233\n",
       "Yes     237\n",
       "Name: Attrition, dtype: int64"
      ]
     },
     "execution_count": 11,
     "metadata": {},
     "output_type": "execute_result"
    }
   ],
   "source": [
    "# Display the count of the Attrition\n",
    "employee_attr['Attrition'].value_counts()"
   ]
  },
  {
   "cell_type": "code",
   "execution_count": 12,
   "id": "3cea1671",
   "metadata": {},
   "outputs": [
    {
     "data": {
      "text/plain": [
       "Y    1470\n",
       "Name: Over18, dtype: int64"
      ]
     },
     "execution_count": 12,
     "metadata": {},
     "output_type": "execute_result"
    }
   ],
   "source": [
    "# Display the count of over18 column\n",
    "employee_attr['Over18'].value_counts()"
   ]
  },
  {
   "cell_type": "code",
   "execution_count": 13,
   "id": "cb63a52b",
   "metadata": {},
   "outputs": [
    {
     "data": {
      "text/plain": [
       "1    1470\n",
       "Name: EmployeeCount, dtype: int64"
      ]
     },
     "execution_count": 13,
     "metadata": {},
     "output_type": "execute_result"
    }
   ],
   "source": [
    "# Display the count of EmployeeCount column\n",
    "employee_attr['EmployeeCount'].value_counts()"
   ]
  },
  {
   "cell_type": "code",
   "execution_count": 14,
   "id": "e68f1dcd",
   "metadata": {},
   "outputs": [
    {
     "data": {
      "text/plain": [
       "80    1470\n",
       "Name: StandardHours, dtype: int64"
      ]
     },
     "execution_count": 14,
     "metadata": {},
     "output_type": "execute_result"
    }
   ],
   "source": [
    "# Display the count of the StandardHours column\n",
    "employee_attr['StandardHours'].value_counts()"
   ]
  },
  {
   "cell_type": "markdown",
   "id": "36c6657d",
   "metadata": {},
   "source": [
    "From the counts above we can see that Over18, EmployeeCount and StandardHours have same values. We will drop them as the values will have no effect in our analysis. We will also drop the EmployeeNumber column as it's not neccessary for our analysis and prediction."
   ]
  },
  {
   "cell_type": "code",
   "execution_count": 15,
   "id": "fc1741d3",
   "metadata": {},
   "outputs": [],
   "source": [
    "# dropping the columns are not neccessary for analysis\n",
    "employee_attr = employee_attr.drop(['Over18', 'EmployeeCount','StandardHours','EmployeeNumber'],axis=1)"
   ]
  },
  {
   "cell_type": "code",
   "execution_count": 16,
   "id": "fa99905b",
   "metadata": {},
   "outputs": [
    {
     "data": {
      "text/plain": [
       "(1470, 31)"
      ]
     },
     "execution_count": 16,
     "metadata": {},
     "output_type": "execute_result"
    }
   ],
   "source": [
    "# Viewing the dimensions of the array\n",
    "employee_attr.shape"
   ]
  },
  {
   "cell_type": "markdown",
   "id": "3942162c",
   "metadata": {},
   "source": [
    "We now have 1470 rows and 31 columns in our dataset after dropping Over18, EmployeeCount, StandardHours and EmployeeNumber"
   ]
  },
  {
   "cell_type": "code",
   "execution_count": 17,
   "id": "69f0e613",
   "metadata": {},
   "outputs": [
    {
     "data": {
      "text/plain": [
       "Attrition  BusinessTravel   \n",
       "No         Travel_Rarely        887\n",
       "           Travel_Frequently    208\n",
       "           Non-Travel           138\n",
       "Yes        Travel_Rarely        156\n",
       "           Travel_Frequently     69\n",
       "           Non-Travel            12\n",
       "Name: BusinessTravel, dtype: int64"
      ]
     },
     "execution_count": 17,
     "metadata": {},
     "output_type": "execute_result"
    }
   ],
   "source": [
    "# Display the count of Attrition rate based on travels of employees \n",
    "employee_attr['BusinessTravel'].groupby([employee_attr['Attrition']]).value_counts()"
   ]
  },
  {
   "cell_type": "markdown",
   "id": "276a2a7e",
   "metadata": {},
   "source": [
    "Employees that rarely travel had the highest attrition rate."
   ]
  },
  {
   "cell_type": "code",
   "execution_count": 18,
   "id": "8a5f39d3",
   "metadata": {},
   "outputs": [
    {
     "data": {
      "text/plain": [
       "Attrition  EducationField  \n",
       "No         Life Sciences       517\n",
       "           Medical             401\n",
       "           Marketing           124\n",
       "           Technical Degree    100\n",
       "           Other                71\n",
       "           Human Resources      20\n",
       "Yes        Life Sciences        89\n",
       "           Medical              63\n",
       "           Marketing            35\n",
       "           Technical Degree     32\n",
       "           Other                11\n",
       "           Human Resources       7\n",
       "Name: EducationField, dtype: int64"
      ]
     },
     "execution_count": 18,
     "metadata": {},
     "output_type": "execute_result"
    }
   ],
   "source": [
    "# Display the count of Attrition rate based on Education Field of employees\n",
    "employee_attr['EducationField'].groupby([employee_attr['Attrition']]).value_counts()\n"
   ]
  },
  {
   "cell_type": "markdown",
   "id": "b6879c82",
   "metadata": {},
   "source": [
    "Most of the employees that left are from the Life Sciences Educational fields."
   ]
  },
  {
   "cell_type": "code",
   "execution_count": 19,
   "id": "ffe0e43b",
   "metadata": {},
   "outputs": [
    {
     "data": {
      "text/plain": [
       "Attrition  JobSatisfaction\n",
       "No         4                  407\n",
       "           3                  369\n",
       "           2                  234\n",
       "           1                  223\n",
       "Yes        3                   73\n",
       "           1                   66\n",
       "           4                   52\n",
       "           2                   46\n",
       "Name: JobSatisfaction, dtype: int64"
      ]
     },
     "execution_count": 19,
     "metadata": {},
     "output_type": "execute_result"
    }
   ],
   "source": [
    "# Display the count of Attrition rate based on Job Satisfaction of employees\n",
    "employee_attr['JobSatisfaction'].groupby([employee_attr['Attrition']]).value_counts()"
   ]
  },
  {
   "cell_type": "markdown",
   "id": "4561fba3",
   "metadata": {},
   "source": [
    "Job satisfaction did not have an effect on attrition rate because the highest number of employees had a high job satisfcation."
   ]
  },
  {
   "cell_type": "code",
   "execution_count": 20,
   "id": "5b2beef9",
   "metadata": {},
   "outputs": [
    {
     "data": {
      "text/plain": [
       "<function matplotlib.pyplot.show(close=None, block=None)>"
      ]
     },
     "execution_count": 20,
     "metadata": {},
     "output_type": "execute_result"
    },
    {
     "data": {
      "image/png": "[encoded data removed]",
      "text/plain": [
       "<Figure size 1080x720 with 2 Axes>"
      ]
     },
     "metadata": {
      "needs_background": "light"
     },
     "output_type": "display_data"
    }
   ],
   "source": [
    "# This pieplot shows the percentage of Employee Attrition\n",
    "f, ax = plt.subplots(1,2, figsize = (15,10))\n",
    "employee_attr['Attrition'].value_counts().plot.pie(explode = [0,0.1], autopct ='%1.1f%%',ax = ax[0], shadow = True)\n",
    "ax[0].set_title('Employee Attrition Rate')\n",
    "ax[0].set_ylabel('')\n",
    "\n",
    "# This countplot shows the distribution Employee Attrition\n",
    "sns.countplot(x ='Attrition', data = employee_attr,  ax = ax[1])\n",
    "ax[1].set_title('Employee Attrition Counts')\n",
    "plt.show"
   ]
  },
  {
   "cell_type": "markdown",
   "id": "66dd3332",
   "metadata": {},
   "source": [
    "We can see that the value count of our attrition column is unbalanced. This company has a 16.1% employee attrition rate."
   ]
  },
  {
   "cell_type": "code",
   "execution_count": 21,
   "id": "25196066",
   "metadata": {},
   "outputs": [
    {
     "data": {
      "text/plain": [
       "<seaborn.axisgrid.FacetGrid at 0x19729957760>"
      ]
     },
     "execution_count": 21,
     "metadata": {},
     "output_type": "execute_result"
    },
    {
     "data": {
      "image/png": "[encoded data removed]",
      "text/plain": [
       "<Figure size 360x360 with 1 Axes>"
      ]
     },
     "metadata": {
      "needs_background": "light"
     },
     "output_type": "display_data"
    }
   ],
   "source": [
    "# This catplot shows the distribution of gender of the employees.\n",
    "sns.catplot(x ='Gender', data = employee_attr, kind = 'count')"
   ]
  },
  {
   "cell_type": "markdown",
   "id": "0313b69f",
   "metadata": {},
   "source": [
    "We have more male than female employees."
   ]
  },
  {
   "cell_type": "code",
   "execution_count": 22,
   "id": "21a125b1",
   "metadata": {},
   "outputs": [
    {
     "data": {
      "text/plain": [
       "<seaborn.axisgrid.FacetGrid at 0x1972a0e5e50>"
      ]
     },
     "execution_count": 22,
     "metadata": {},
     "output_type": "execute_result"
    },
    {
     "data": {
      "image/png": "[encoded data removed]",
      "text/plain": [
       "<Figure size 360x360 with 1 Axes>"
      ]
     },
     "metadata": {
      "needs_background": "light"
     },
     "output_type": "display_data"
    }
   ],
   "source": [
    "# This catplot shows the count of Marital Status of the employees.\n",
    "sns.catplot(x ='MaritalStatus', data = employee_attr, kind = 'count')"
   ]
  },
  {
   "cell_type": "markdown",
   "id": "cd747ca5",
   "metadata": {},
   "source": [
    "Most of the employees are married."
   ]
  },
  {
   "cell_type": "code",
   "execution_count": 23,
   "id": "0efd0a84",
   "metadata": {},
   "outputs": [
    {
     "data": {
      "text/plain": [
       "<seaborn.axisgrid.FacetGrid at 0x19729a0e130>"
      ]
     },
     "execution_count": 23,
     "metadata": {},
     "output_type": "execute_result"
    },
    {
     "data": {
      "text/plain": [
       "<Figure size 504x504 with 0 Axes>"
      ]
     },
     "metadata": {},
     "output_type": "display_data"
    },
    {
     "data": {
      "image/png": "[encoded data removed]",
      "text/plain": [
       "<Figure size 412x360 with 1 Axes>"
      ]
     },
     "metadata": {
      "needs_background": "light"
     },
     "output_type": "display_data"
    }
   ],
   "source": [
    "# This catplot shows the count of employees attrition based on gender.\n",
    "plt.figure(figsize=(7,7))\n",
    "sns.catplot(x=\"Gender\", kind=\"count\",hue = 'Attrition', palette=\"pink\", data=employee_attr)"
   ]
  },
  {
   "cell_type": "markdown",
   "id": "f76941de",
   "metadata": {},
   "source": [
    "Male employee attrition is higher than female employee attrition. "
   ]
  },
  {
   "cell_type": "code",
   "execution_count": 24,
   "id": "c8451c62",
   "metadata": {},
   "outputs": [
    {
     "data": {
      "text/plain": [
       "<seaborn.axisgrid.FacetGrid at 0x1972914f580>"
      ]
     },
     "execution_count": 24,
     "metadata": {},
     "output_type": "execute_result"
    },
    {
     "data": {
      "text/plain": [
       "<Figure size 720x504 with 0 Axes>"
      ]
     },
     "metadata": {},
     "output_type": "display_data"
    },
    {
     "data": {
      "image/png": "[encoded data removed]",
      "text/plain": [
       "<Figure size 412x360 with 1 Axes>"
      ]
     },
     "metadata": {
      "needs_background": "light"
     },
     "output_type": "display_data"
    }
   ],
   "source": [
    "# This catplot shows the count of employees attrition based on job level\n",
    "plt.figure(figsize=(10,7))\n",
    "sns.catplot(x=\"JobLevel\", kind=\"count\",hue = 'Attrition', palette=\"pink\", data=employee_attr)"
   ]
  },
  {
   "cell_type": "markdown",
   "id": "508b4602",
   "metadata": {},
   "source": [
    "Level 1 employees have the highest attrition rate. We can refer to level 1 as entry level; a position that doesn't require any experience or relevant education. Once these employees gain experience they tend to look out for better jobs with higher salary."
   ]
  },
  {
   "cell_type": "code",
   "execution_count": 25,
   "id": "34fd083d",
   "metadata": {},
   "outputs": [
    {
     "data": {
      "text/plain": [
       "<seaborn.axisgrid.FacetGrid at 0x197299bbb80>"
      ]
     },
     "execution_count": 25,
     "metadata": {},
     "output_type": "execute_result"
    },
    {
     "data": {
      "text/plain": [
       "<Figure size 504x504 with 0 Axes>"
      ]
     },
     "metadata": {},
     "output_type": "display_data"
    },
    {
     "data": {
      "image/png": "[encoded data removed]",
      "text/plain": [
       "<Figure size 412x360 with 1 Axes>"
      ]
     },
     "metadata": {
      "needs_background": "light"
     },
     "output_type": "display_data"
    }
   ],
   "source": [
    "# This catplot shows the count of employees attrition based on marital status.\n",
    "plt.figure(figsize=(7,7))\n",
    "sns.catplot(x=\"MaritalStatus\", kind=\"count\",hue = 'Attrition', palette=\"pink\", data=employee_attr)"
   ]
  },
  {
   "cell_type": "markdown",
   "id": "560dd799",
   "metadata": {},
   "source": [
    "Divorced employees have a lower attrition rate.\n",
    "Single employees have a higher attrition rate."
   ]
  },
  {
   "cell_type": "code",
   "execution_count": 26,
   "id": "48b86f67",
   "metadata": {},
   "outputs": [
    {
     "data": {
      "text/plain": [
       "(array([0, 1, 2]),\n",
       " [Text(0, 0, 'Sales'),\n",
       "  Text(1, 0, 'Research & Development'),\n",
       "  Text(2, 0, 'Human Resources')])"
      ]
     },
     "execution_count": 26,
     "metadata": {},
     "output_type": "execute_result"
    },
    {
     "data": {
      "text/plain": [
       "<Figure size 504x504 with 0 Axes>"
      ]
     },
     "metadata": {},
     "output_type": "display_data"
    },
    {
     "data": {
      "image/png": "[encoded data removed]",
      "text/plain": [
       "<Figure size 412x360 with 1 Axes>"
      ]
     },
     "metadata": {
      "needs_background": "light"
     },
     "output_type": "display_data"
    }
   ],
   "source": [
    "# This catplot shows the count of employees attrition based on their department\n",
    "plt.figure(figsize=(7,7))\n",
    "sns.catplot(x=\"Department\", kind=\"count\",hue = 'Attrition', palette=\"pink\", data=employee_attr)\n",
    "plt.xticks(rotation = 90)\n"
   ]
  },
  {
   "cell_type": "markdown",
   "id": "df09f086",
   "metadata": {},
   "source": [
    "Employees in the Research and development had the highest attrition rate. \"The retention of key Research and Development experts has been recognized as a critical managerial challenge for many technology-based companies\" according to a Chang, J., Choi, J. and Kim, M. (2008) ‘Turnover of highly educated R&D professionals: The role of pre-entry cognitive style, work values and career orientation’, Journal of Occupational & Organizational Psychology, 81, pp. 299–317. Available at: https://doi.org/10.1348/096317907X204453."
   ]
  },
  {
   "cell_type": "code",
   "execution_count": 27,
   "id": "ef90edd7",
   "metadata": {},
   "outputs": [
    {
     "data": {
      "image/png": "[encoded data removed]",
      "text/plain": [
       "<Figure size 720x504 with 1 Axes>"
      ]
     },
     "metadata": {
      "needs_background": "light"
     },
     "output_type": "display_data"
    }
   ],
   "source": [
    "# countplot showing the employees attrition based on number of years since the employees was last promoted\n",
    "plt.figure(figsize=(10,7))\n",
    "sns.countplot(x='YearsSinceLastPromotion', hue='Attrition', data=employee_attr)\n",
    "plt.title('Years Since Last Promotion')\n",
    "plt.show()\n"
   ]
  },
  {
   "cell_type": "markdown",
   "id": "1c4458fd",
   "metadata": {},
   "source": [
    "This shows that most of the employees that left got promoted recently. They probably left after promotion to get a higher position in another company."
   ]
  },
  {
   "cell_type": "code",
   "execution_count": 28,
   "id": "61e1d6b5",
   "metadata": {},
   "outputs": [
    {
     "data": {
      "image/png": "[encoded data removed]",
      "text/plain": [
       "<Figure size 720x504 with 1 Axes>"
      ]
     },
     "metadata": {
      "needs_background": "light"
     },
     "output_type": "display_data"
    }
   ],
   "source": [
    "# countplot showing the employees attrition based on WorkLifeBalance\n",
    "plt.figure(figsize=(10,7))\n",
    "sns.countplot(x='WorkLifeBalance', hue='Attrition', data=employee_attr)\n",
    "plt.title('Work Life Balance of Employees')\n",
    "plt.show()\n"
   ]
  },
  {
   "cell_type": "markdown",
   "id": "3db42c17",
   "metadata": {},
   "source": [
    "The highest employees that left had a better work life balance. It is possible that some of the employees that left had a bad work life balance and couldn't cope on the job. "
   ]
  },
  {
   "cell_type": "code",
   "execution_count": 29,
   "id": "72f24a64",
   "metadata": {},
   "outputs": [
    {
     "data": {
      "image/png": "[encoded data removed]",
      "text/plain": [
       "<Figure size 1368x720 with 2 Axes>"
      ]
     },
     "metadata": {
      "needs_background": "light"
     },
     "output_type": "display_data"
    }
   ],
   "source": [
    "# Using heatmap to visualize the correlation between the numerical features.\n",
    "\n",
    "plt.figure(figsize=(19,10))\n",
    "sns.heatmap(employee_attr.corr(), annot=True, linewidths = 2, cmap='PiYG')\n",
    "plt.title('Correlation Heatmap')\n",
    "plt.show()"
   ]
  },
  {
   "cell_type": "markdown",
   "id": "346f3ee5",
   "metadata": {},
   "source": [
    "From the heatmap above, we can see that there exist a high correlation between some features:\n",
    "\n",
    "##### 1) The monthlyincome is highly correlated with joblevel\n",
    "##### 2) YearsAtCompany, YearsWithCurrManager, YearsSinceLastPromotion & YearsInCurrentRole\n"
   ]
  },
  {
   "cell_type": "markdown",
   "id": "d3799759",
   "metadata": {},
   "source": [
    "### Data Pre-processing"
   ]
  },
  {
   "cell_type": "code",
   "execution_count": 30,
   "id": "2163a795",
   "metadata": {},
   "outputs": [
    {
     "data": {
      "text/plain": [
       "Age                         int64\n",
       "Attrition                   int32\n",
       "BusinessTravel              int32\n",
       "DailyRate                   int64\n",
       "Department                  int32\n",
       "DistanceFromHome            int64\n",
       "Education                   int64\n",
       "EducationField              int32\n",
       "EnvironmentSatisfaction     int64\n",
       "Gender                      int32\n",
       "HourlyRate                  int64\n",
       "JobInvolvement              int64\n",
       "JobLevel                    int64\n",
       "JobRole                     int32\n",
       "JobSatisfaction             int64\n",
       "MaritalStatus               int32\n",
       "MonthlyIncome               int64\n",
       "MonthlyRate                 int64\n",
       "NumCompaniesWorked          int64\n",
       "OverTime                    int32\n",
       "PercentSalaryHike           int64\n",
       "PerformanceRating           int64\n",
       "RelationshipSatisfaction    int64\n",
       "StockOptionLevel            int64\n",
       "TotalWorkingYears           int64\n",
       "TrainingTimesLastYear       int64\n",
       "WorkLifeBalance             int64\n",
       "YearsAtCompany              int64\n",
       "YearsInCurrentRole          int64\n",
       "YearsSinceLastPromotion     int64\n",
       "YearsWithCurrManager        int64\n",
       "dtype: object"
      ]
     },
     "execution_count": 30,
     "metadata": {},
     "output_type": "execute_result"
    }
   ],
   "source": [
    "#import Label Encoder from sklearn\n",
    "from sklearn.preprocessing import LabelEncoder,OneHotEncoder,StandardScaler,MinMaxScaler\n",
    "\n",
    "#Converted all categorical values to number\n",
    "#Selects the columns that are not integer\n",
    "columns = list(employee_attr.select_dtypes(exclude=['float64','int64']))\n",
    "le = LabelEncoder()\n",
    "for i in columns:\n",
    " #print(i)\n",
    " employee_attr[i] = le.fit_transform(employee_attr[i])\n",
    "employee_attr.dtypes"
   ]
  },
  {
   "cell_type": "code",
   "execution_count": 31,
   "id": "bc0da5da",
   "metadata": {},
   "outputs": [
    {
     "data": {
      "text/html": [
       "<div>\n",
       "<style scoped>\n",
       "    .dataframe tbody tr th:only-of-type {\n",
       "        vertical-align: middle;\n",
       "    }\n",
       "\n",
       "    .dataframe tbody tr th {\n",
       "        vertical-align: top;\n",
       "    }\n",
       "\n",
       "    .dataframe thead th {\n",
       "        text-align: right;\n",
       "    }\n",
       "</style>\n",
       "<table border=\"1\" class=\"dataframe\">\n",
       "  <thead>\n",
       "    <tr style=\"text-align: right;\">\n",
       "      <th></th>\n",
       "      <th>Age</th>\n",
       "      <th>BusinessTravel</th>\n",
       "      <th>DailyRate</th>\n",
       "      <th>Department</th>\n",
       "      <th>DistanceFromHome</th>\n",
       "      <th>Education</th>\n",
       "      <th>EducationField</th>\n",
       "      <th>EnvironmentSatisfaction</th>\n",
       "      <th>Gender</th>\n",
       "      <th>HourlyRate</th>\n",
       "      <th>...</th>\n",
       "      <th>PerformanceRating</th>\n",
       "      <th>RelationshipSatisfaction</th>\n",
       "      <th>StockOptionLevel</th>\n",
       "      <th>TotalWorkingYears</th>\n",
       "      <th>TrainingTimesLastYear</th>\n",
       "      <th>WorkLifeBalance</th>\n",
       "      <th>YearsAtCompany</th>\n",
       "      <th>YearsInCurrentRole</th>\n",
       "      <th>YearsSinceLastPromotion</th>\n",
       "      <th>YearsWithCurrManager</th>\n",
       "    </tr>\n",
       "  </thead>\n",
       "  <tbody>\n",
       "    <tr>\n",
       "      <th>0</th>\n",
       "      <td>41</td>\n",
       "      <td>2</td>\n",
       "      <td>1102</td>\n",
       "      <td>2</td>\n",
       "      <td>1</td>\n",
       "      <td>2</td>\n",
       "      <td>1</td>\n",
       "      <td>2</td>\n",
       "      <td>0</td>\n",
       "      <td>94</td>\n",
       "      <td>...</td>\n",
       "      <td>3</td>\n",
       "      <td>1</td>\n",
       "      <td>0</td>\n",
       "      <td>8</td>\n",
       "      <td>0</td>\n",
       "      <td>1</td>\n",
       "      <td>6</td>\n",
       "      <td>4</td>\n",
       "      <td>0</td>\n",
       "      <td>5</td>\n",
       "    </tr>\n",
       "    <tr>\n",
       "      <th>1</th>\n",
       "      <td>49</td>\n",
       "      <td>1</td>\n",
       "      <td>279</td>\n",
       "      <td>1</td>\n",
       "      <td>8</td>\n",
       "      <td>1</td>\n",
       "      <td>1</td>\n",
       "      <td>3</td>\n",
       "      <td>1</td>\n",
       "      <td>61</td>\n",
       "      <td>...</td>\n",
       "      <td>4</td>\n",
       "      <td>4</td>\n",
       "      <td>1</td>\n",
       "      <td>10</td>\n",
       "      <td>3</td>\n",
       "      <td>3</td>\n",
       "      <td>10</td>\n",
       "      <td>7</td>\n",
       "      <td>1</td>\n",
       "      <td>7</td>\n",
       "    </tr>\n",
       "    <tr>\n",
       "      <th>2</th>\n",
       "      <td>37</td>\n",
       "      <td>2</td>\n",
       "      <td>1373</td>\n",
       "      <td>1</td>\n",
       "      <td>2</td>\n",
       "      <td>2</td>\n",
       "      <td>4</td>\n",
       "      <td>4</td>\n",
       "      <td>1</td>\n",
       "      <td>92</td>\n",
       "      <td>...</td>\n",
       "      <td>3</td>\n",
       "      <td>2</td>\n",
       "      <td>0</td>\n",
       "      <td>7</td>\n",
       "      <td>3</td>\n",
       "      <td>3</td>\n",
       "      <td>0</td>\n",
       "      <td>0</td>\n",
       "      <td>0</td>\n",
       "      <td>0</td>\n",
       "    </tr>\n",
       "    <tr>\n",
       "      <th>3</th>\n",
       "      <td>33</td>\n",
       "      <td>1</td>\n",
       "      <td>1392</td>\n",
       "      <td>1</td>\n",
       "      <td>3</td>\n",
       "      <td>4</td>\n",
       "      <td>1</td>\n",
       "      <td>4</td>\n",
       "      <td>0</td>\n",
       "      <td>56</td>\n",
       "      <td>...</td>\n",
       "      <td>3</td>\n",
       "      <td>3</td>\n",
       "      <td>0</td>\n",
       "      <td>8</td>\n",
       "      <td>3</td>\n",
       "      <td>3</td>\n",
       "      <td>8</td>\n",
       "      <td>7</td>\n",
       "      <td>3</td>\n",
       "      <td>0</td>\n",
       "    </tr>\n",
       "    <tr>\n",
       "      <th>4</th>\n",
       "      <td>27</td>\n",
       "      <td>2</td>\n",
       "      <td>591</td>\n",
       "      <td>1</td>\n",
       "      <td>2</td>\n",
       "      <td>1</td>\n",
       "      <td>3</td>\n",
       "      <td>1</td>\n",
       "      <td>1</td>\n",
       "      <td>40</td>\n",
       "      <td>...</td>\n",
       "      <td>3</td>\n",
       "      <td>4</td>\n",
       "      <td>1</td>\n",
       "      <td>6</td>\n",
       "      <td>3</td>\n",
       "      <td>3</td>\n",
       "      <td>2</td>\n",
       "      <td>2</td>\n",
       "      <td>2</td>\n",
       "      <td>2</td>\n",
       "    </tr>\n",
       "    <tr>\n",
       "      <th>...</th>\n",
       "      <td>...</td>\n",
       "      <td>...</td>\n",
       "      <td>...</td>\n",
       "      <td>...</td>\n",
       "      <td>...</td>\n",
       "      <td>...</td>\n",
       "      <td>...</td>\n",
       "      <td>...</td>\n",
       "      <td>...</td>\n",
       "      <td>...</td>\n",
       "      <td>...</td>\n",
       "      <td>...</td>\n",
       "      <td>...</td>\n",
       "      <td>...</td>\n",
       "      <td>...</td>\n",
       "      <td>...</td>\n",
       "      <td>...</td>\n",
       "      <td>...</td>\n",
       "      <td>...</td>\n",
       "      <td>...</td>\n",
       "      <td>...</td>\n",
       "    </tr>\n",
       "    <tr>\n",
       "      <th>1465</th>\n",
       "      <td>36</td>\n",
       "      <td>1</td>\n",
       "      <td>884</td>\n",
       "      <td>1</td>\n",
       "      <td>23</td>\n",
       "      <td>2</td>\n",
       "      <td>3</td>\n",
       "      <td>3</td>\n",
       "      <td>1</td>\n",
       "      <td>41</td>\n",
       "      <td>...</td>\n",
       "      <td>3</td>\n",
       "      <td>3</td>\n",
       "      <td>1</td>\n",
       "      <td>17</td>\n",
       "      <td>3</td>\n",
       "      <td>3</td>\n",
       "      <td>5</td>\n",
       "      <td>2</td>\n",
       "      <td>0</td>\n",
       "      <td>3</td>\n",
       "    </tr>\n",
       "    <tr>\n",
       "      <th>1466</th>\n",
       "      <td>39</td>\n",
       "      <td>2</td>\n",
       "      <td>613</td>\n",
       "      <td>1</td>\n",
       "      <td>6</td>\n",
       "      <td>1</td>\n",
       "      <td>3</td>\n",
       "      <td>4</td>\n",
       "      <td>1</td>\n",
       "      <td>42</td>\n",
       "      <td>...</td>\n",
       "      <td>3</td>\n",
       "      <td>1</td>\n",
       "      <td>1</td>\n",
       "      <td>9</td>\n",
       "      <td>5</td>\n",
       "      <td>3</td>\n",
       "      <td>7</td>\n",
       "      <td>7</td>\n",
       "      <td>1</td>\n",
       "      <td>7</td>\n",
       "    </tr>\n",
       "    <tr>\n",
       "      <th>1467</th>\n",
       "      <td>27</td>\n",
       "      <td>2</td>\n",
       "      <td>155</td>\n",
       "      <td>1</td>\n",
       "      <td>4</td>\n",
       "      <td>3</td>\n",
       "      <td>1</td>\n",
       "      <td>2</td>\n",
       "      <td>1</td>\n",
       "      <td>87</td>\n",
       "      <td>...</td>\n",
       "      <td>4</td>\n",
       "      <td>2</td>\n",
       "      <td>1</td>\n",
       "      <td>6</td>\n",
       "      <td>0</td>\n",
       "      <td>3</td>\n",
       "      <td>6</td>\n",
       "      <td>2</td>\n",
       "      <td>0</td>\n",
       "      <td>3</td>\n",
       "    </tr>\n",
       "    <tr>\n",
       "      <th>1468</th>\n",
       "      <td>49</td>\n",
       "      <td>1</td>\n",
       "      <td>1023</td>\n",
       "      <td>2</td>\n",
       "      <td>2</td>\n",
       "      <td>3</td>\n",
       "      <td>3</td>\n",
       "      <td>4</td>\n",
       "      <td>1</td>\n",
       "      <td>63</td>\n",
       "      <td>...</td>\n",
       "      <td>3</td>\n",
       "      <td>4</td>\n",
       "      <td>0</td>\n",
       "      <td>17</td>\n",
       "      <td>3</td>\n",
       "      <td>2</td>\n",
       "      <td>9</td>\n",
       "      <td>6</td>\n",
       "      <td>0</td>\n",
       "      <td>8</td>\n",
       "    </tr>\n",
       "    <tr>\n",
       "      <th>1469</th>\n",
       "      <td>34</td>\n",
       "      <td>2</td>\n",
       "      <td>628</td>\n",
       "      <td>1</td>\n",
       "      <td>8</td>\n",
       "      <td>3</td>\n",
       "      <td>3</td>\n",
       "      <td>2</td>\n",
       "      <td>1</td>\n",
       "      <td>82</td>\n",
       "      <td>...</td>\n",
       "      <td>3</td>\n",
       "      <td>1</td>\n",
       "      <td>0</td>\n",
       "      <td>6</td>\n",
       "      <td>3</td>\n",
       "      <td>4</td>\n",
       "      <td>4</td>\n",
       "      <td>3</td>\n",
       "      <td>1</td>\n",
       "      <td>2</td>\n",
       "    </tr>\n",
       "  </tbody>\n",
       "</table>\n",
       "<p>1470 rows × 30 columns</p>\n",
       "</div>"
      ],
      "text/plain": [
       "      Age  BusinessTravel  DailyRate  Department  DistanceFromHome  Education  \\\n",
       "0      41               2       1102           2                 1          2   \n",
       "1      49               1        279           1                 8          1   \n",
       "2      37               2       1373           1                 2          2   \n",
       "3      33               1       1392           1                 3          4   \n",
       "4      27               2        591           1                 2          1   \n",
       "...   ...             ...        ...         ...               ...        ...   \n",
       "1465   36               1        884           1                23          2   \n",
       "1466   39               2        613           1                 6          1   \n",
       "1467   27               2        155           1                 4          3   \n",
       "1468   49               1       1023           2                 2          3   \n",
       "1469   34               2        628           1                 8          3   \n",
       "\n",
       "      EducationField  EnvironmentSatisfaction  Gender  HourlyRate  ...  \\\n",
       "0                  1                        2       0          94  ...   \n",
       "1                  1                        3       1          61  ...   \n",
       "2                  4                        4       1          92  ...   \n",
       "3                  1                        4       0          56  ...   \n",
       "4                  3                        1       1          40  ...   \n",
       "...              ...                      ...     ...         ...  ...   \n",
       "1465               3                        3       1          41  ...   \n",
       "1466               3                        4       1          42  ...   \n",
       "1467               1                        2       1          87  ...   \n",
       "1468               3                        4       1          63  ...   \n",
       "1469               3                        2       1          82  ...   \n",
       "\n",
       "      PerformanceRating  RelationshipSatisfaction  StockOptionLevel  \\\n",
       "0                     3                         1                 0   \n",
       "1                     4                         4                 1   \n",
       "2                     3                         2                 0   \n",
       "3                     3                         3                 0   \n",
       "4                     3                         4                 1   \n",
       "...                 ...                       ...               ...   \n",
       "1465                  3                         3                 1   \n",
       "1466                  3                         1                 1   \n",
       "1467                  4                         2                 1   \n",
       "1468                  3                         4                 0   \n",
       "1469                  3                         1                 0   \n",
       "\n",
       "      TotalWorkingYears  TrainingTimesLastYear  WorkLifeBalance  \\\n",
       "0                     8                      0                1   \n",
       "1                    10                      3                3   \n",
       "2                     7                      3                3   \n",
       "3                     8                      3                3   \n",
       "4                     6                      3                3   \n",
       "...                 ...                    ...              ...   \n",
       "1465                 17                      3                3   \n",
       "1466                  9                      5                3   \n",
       "1467                  6                      0                3   \n",
       "1468                 17                      3                2   \n",
       "1469                  6                      3                4   \n",
       "\n",
       "      YearsAtCompany  YearsInCurrentRole  YearsSinceLastPromotion  \\\n",
       "0                  6                   4                        0   \n",
       "1                 10                   7                        1   \n",
       "2                  0                   0                        0   \n",
       "3                  8                   7                        3   \n",
       "4                  2                   2                        2   \n",
       "...              ...                 ...                      ...   \n",
       "1465               5                   2                        0   \n",
       "1466               7                   7                        1   \n",
       "1467               6                   2                        0   \n",
       "1468               9                   6                        0   \n",
       "1469               4                   3                        1   \n",
       "\n",
       "      YearsWithCurrManager  \n",
       "0                        5  \n",
       "1                        7  \n",
       "2                        0  \n",
       "3                        0  \n",
       "4                        2  \n",
       "...                    ...  \n",
       "1465                     3  \n",
       "1466                     7  \n",
       "1467                     3  \n",
       "1468                     8  \n",
       "1469                     2  \n",
       "\n",
       "[1470 rows x 30 columns]"
      ]
     },
     "execution_count": 31,
     "metadata": {},
     "output_type": "execute_result"
    }
   ],
   "source": [
    "# split data into x and y\n",
    "X = employee_attr.drop('Attrition',axis =1)\n",
    "y = employee_attr['Attrition']\n",
    "X"
   ]
  },
  {
   "cell_type": "code",
   "execution_count": 32,
   "id": "0b956cb8",
   "metadata": {},
   "outputs": [
    {
     "data": {
      "text/html": [
       "<div>\n",
       "<style scoped>\n",
       "    .dataframe tbody tr th:only-of-type {\n",
       "        vertical-align: middle;\n",
       "    }\n",
       "\n",
       "    .dataframe tbody tr th {\n",
       "        vertical-align: top;\n",
       "    }\n",
       "\n",
       "    .dataframe thead th {\n",
       "        text-align: right;\n",
       "    }\n",
       "</style>\n",
       "<table border=\"1\" class=\"dataframe\">\n",
       "  <thead>\n",
       "    <tr style=\"text-align: right;\">\n",
       "      <th></th>\n",
       "      <th>Age</th>\n",
       "      <th>BusinessTravel</th>\n",
       "      <th>DailyRate</th>\n",
       "      <th>Department</th>\n",
       "      <th>DistanceFromHome</th>\n",
       "      <th>Education</th>\n",
       "      <th>EducationField</th>\n",
       "      <th>EnvironmentSatisfaction</th>\n",
       "      <th>Gender</th>\n",
       "      <th>HourlyRate</th>\n",
       "      <th>...</th>\n",
       "      <th>PerformanceRating</th>\n",
       "      <th>RelationshipSatisfaction</th>\n",
       "      <th>StockOptionLevel</th>\n",
       "      <th>TotalWorkingYears</th>\n",
       "      <th>TrainingTimesLastYear</th>\n",
       "      <th>WorkLifeBalance</th>\n",
       "      <th>YearsAtCompany</th>\n",
       "      <th>YearsInCurrentRole</th>\n",
       "      <th>YearsSinceLastPromotion</th>\n",
       "      <th>YearsWithCurrManager</th>\n",
       "    </tr>\n",
       "  </thead>\n",
       "  <tbody>\n",
       "    <tr>\n",
       "      <th>0</th>\n",
       "      <td>0.446350</td>\n",
       "      <td>0.590048</td>\n",
       "      <td>0.742527</td>\n",
       "      <td>1.401512</td>\n",
       "      <td>-1.010909</td>\n",
       "      <td>-0.891688</td>\n",
       "      <td>-0.937414</td>\n",
       "      <td>-0.660531</td>\n",
       "      <td>-1.224745</td>\n",
       "      <td>1.383138</td>\n",
       "      <td>...</td>\n",
       "      <td>-0.426230</td>\n",
       "      <td>-1.584178</td>\n",
       "      <td>-0.932014</td>\n",
       "      <td>-0.421642</td>\n",
       "      <td>-2.171982</td>\n",
       "      <td>-2.493820</td>\n",
       "      <td>-0.164613</td>\n",
       "      <td>-0.063296</td>\n",
       "      <td>-0.679146</td>\n",
       "      <td>0.245834</td>\n",
       "    </tr>\n",
       "    <tr>\n",
       "      <th>1</th>\n",
       "      <td>1.322365</td>\n",
       "      <td>-0.913194</td>\n",
       "      <td>-1.297775</td>\n",
       "      <td>-0.493817</td>\n",
       "      <td>-0.147150</td>\n",
       "      <td>-1.868426</td>\n",
       "      <td>-0.937414</td>\n",
       "      <td>0.254625</td>\n",
       "      <td>0.816497</td>\n",
       "      <td>-0.240677</td>\n",
       "      <td>...</td>\n",
       "      <td>2.346151</td>\n",
       "      <td>1.191438</td>\n",
       "      <td>0.241988</td>\n",
       "      <td>-0.164511</td>\n",
       "      <td>0.155707</td>\n",
       "      <td>0.338096</td>\n",
       "      <td>0.488508</td>\n",
       "      <td>0.764998</td>\n",
       "      <td>-0.368715</td>\n",
       "      <td>0.806541</td>\n",
       "    </tr>\n",
       "    <tr>\n",
       "      <th>2</th>\n",
       "      <td>0.008343</td>\n",
       "      <td>0.590048</td>\n",
       "      <td>1.414363</td>\n",
       "      <td>-0.493817</td>\n",
       "      <td>-0.887515</td>\n",
       "      <td>-0.891688</td>\n",
       "      <td>1.316673</td>\n",
       "      <td>1.169781</td>\n",
       "      <td>0.816497</td>\n",
       "      <td>1.284725</td>\n",
       "      <td>...</td>\n",
       "      <td>-0.426230</td>\n",
       "      <td>-0.658973</td>\n",
       "      <td>-0.932014</td>\n",
       "      <td>-0.550208</td>\n",
       "      <td>0.155707</td>\n",
       "      <td>0.338096</td>\n",
       "      <td>-1.144294</td>\n",
       "      <td>-1.167687</td>\n",
       "      <td>-0.679146</td>\n",
       "      <td>-1.155935</td>\n",
       "    </tr>\n",
       "    <tr>\n",
       "      <th>3</th>\n",
       "      <td>-0.429664</td>\n",
       "      <td>-0.913194</td>\n",
       "      <td>1.461466</td>\n",
       "      <td>-0.493817</td>\n",
       "      <td>-0.764121</td>\n",
       "      <td>1.061787</td>\n",
       "      <td>-0.937414</td>\n",
       "      <td>1.169781</td>\n",
       "      <td>-1.224745</td>\n",
       "      <td>-0.486709</td>\n",
       "      <td>...</td>\n",
       "      <td>-0.426230</td>\n",
       "      <td>0.266233</td>\n",
       "      <td>-0.932014</td>\n",
       "      <td>-0.421642</td>\n",
       "      <td>0.155707</td>\n",
       "      <td>0.338096</td>\n",
       "      <td>0.161947</td>\n",
       "      <td>0.764998</td>\n",
       "      <td>0.252146</td>\n",
       "      <td>-1.155935</td>\n",
       "    </tr>\n",
       "    <tr>\n",
       "      <th>4</th>\n",
       "      <td>-1.086676</td>\n",
       "      <td>0.590048</td>\n",
       "      <td>-0.524295</td>\n",
       "      <td>-0.493817</td>\n",
       "      <td>-0.887515</td>\n",
       "      <td>-1.868426</td>\n",
       "      <td>0.565311</td>\n",
       "      <td>-1.575686</td>\n",
       "      <td>0.816497</td>\n",
       "      <td>-1.274014</td>\n",
       "      <td>...</td>\n",
       "      <td>-0.426230</td>\n",
       "      <td>1.191438</td>\n",
       "      <td>0.241988</td>\n",
       "      <td>-0.678774</td>\n",
       "      <td>0.155707</td>\n",
       "      <td>0.338096</td>\n",
       "      <td>-0.817734</td>\n",
       "      <td>-0.615492</td>\n",
       "      <td>-0.058285</td>\n",
       "      <td>-0.595227</td>\n",
       "    </tr>\n",
       "    <tr>\n",
       "      <th>...</th>\n",
       "      <td>...</td>\n",
       "      <td>...</td>\n",
       "      <td>...</td>\n",
       "      <td>...</td>\n",
       "      <td>...</td>\n",
       "      <td>...</td>\n",
       "      <td>...</td>\n",
       "      <td>...</td>\n",
       "      <td>...</td>\n",
       "      <td>...</td>\n",
       "      <td>...</td>\n",
       "      <td>...</td>\n",
       "      <td>...</td>\n",
       "      <td>...</td>\n",
       "      <td>...</td>\n",
       "      <td>...</td>\n",
       "      <td>...</td>\n",
       "      <td>...</td>\n",
       "      <td>...</td>\n",
       "      <td>...</td>\n",
       "      <td>...</td>\n",
       "    </tr>\n",
       "    <tr>\n",
       "      <th>1465</th>\n",
       "      <td>-0.101159</td>\n",
       "      <td>-0.913194</td>\n",
       "      <td>0.202082</td>\n",
       "      <td>-0.493817</td>\n",
       "      <td>1.703764</td>\n",
       "      <td>-0.891688</td>\n",
       "      <td>0.565311</td>\n",
       "      <td>0.254625</td>\n",
       "      <td>0.816497</td>\n",
       "      <td>-1.224807</td>\n",
       "      <td>...</td>\n",
       "      <td>-0.426230</td>\n",
       "      <td>0.266233</td>\n",
       "      <td>0.241988</td>\n",
       "      <td>0.735447</td>\n",
       "      <td>0.155707</td>\n",
       "      <td>0.338096</td>\n",
       "      <td>-0.327893</td>\n",
       "      <td>-0.615492</td>\n",
       "      <td>-0.679146</td>\n",
       "      <td>-0.314873</td>\n",
       "    </tr>\n",
       "    <tr>\n",
       "      <th>1466</th>\n",
       "      <td>0.227347</td>\n",
       "      <td>0.590048</td>\n",
       "      <td>-0.469754</td>\n",
       "      <td>-0.493817</td>\n",
       "      <td>-0.393938</td>\n",
       "      <td>-1.868426</td>\n",
       "      <td>0.565311</td>\n",
       "      <td>1.169781</td>\n",
       "      <td>0.816497</td>\n",
       "      <td>-1.175601</td>\n",
       "      <td>...</td>\n",
       "      <td>-0.426230</td>\n",
       "      <td>-1.584178</td>\n",
       "      <td>0.241988</td>\n",
       "      <td>-0.293077</td>\n",
       "      <td>1.707500</td>\n",
       "      <td>0.338096</td>\n",
       "      <td>-0.001333</td>\n",
       "      <td>0.764998</td>\n",
       "      <td>-0.368715</td>\n",
       "      <td>0.806541</td>\n",
       "    </tr>\n",
       "    <tr>\n",
       "      <th>1467</th>\n",
       "      <td>-1.086676</td>\n",
       "      <td>0.590048</td>\n",
       "      <td>-1.605183</td>\n",
       "      <td>-0.493817</td>\n",
       "      <td>-0.640727</td>\n",
       "      <td>0.085049</td>\n",
       "      <td>-0.937414</td>\n",
       "      <td>-0.660531</td>\n",
       "      <td>0.816497</td>\n",
       "      <td>1.038693</td>\n",
       "      <td>...</td>\n",
       "      <td>2.346151</td>\n",
       "      <td>-0.658973</td>\n",
       "      <td>0.241988</td>\n",
       "      <td>-0.678774</td>\n",
       "      <td>-2.171982</td>\n",
       "      <td>0.338096</td>\n",
       "      <td>-0.164613</td>\n",
       "      <td>-0.615492</td>\n",
       "      <td>-0.679146</td>\n",
       "      <td>-0.314873</td>\n",
       "    </tr>\n",
       "    <tr>\n",
       "      <th>1468</th>\n",
       "      <td>1.322365</td>\n",
       "      <td>-0.913194</td>\n",
       "      <td>0.546677</td>\n",
       "      <td>1.401512</td>\n",
       "      <td>-0.887515</td>\n",
       "      <td>0.085049</td>\n",
       "      <td>0.565311</td>\n",
       "      <td>1.169781</td>\n",
       "      <td>0.816497</td>\n",
       "      <td>-0.142264</td>\n",
       "      <td>...</td>\n",
       "      <td>-0.426230</td>\n",
       "      <td>1.191438</td>\n",
       "      <td>-0.932014</td>\n",
       "      <td>0.735447</td>\n",
       "      <td>0.155707</td>\n",
       "      <td>-1.077862</td>\n",
       "      <td>0.325228</td>\n",
       "      <td>0.488900</td>\n",
       "      <td>-0.679146</td>\n",
       "      <td>1.086895</td>\n",
       "    </tr>\n",
       "    <tr>\n",
       "      <th>1469</th>\n",
       "      <td>-0.320163</td>\n",
       "      <td>0.590048</td>\n",
       "      <td>-0.432568</td>\n",
       "      <td>-0.493817</td>\n",
       "      <td>-0.147150</td>\n",
       "      <td>0.085049</td>\n",
       "      <td>0.565311</td>\n",
       "      <td>-0.660531</td>\n",
       "      <td>0.816497</td>\n",
       "      <td>0.792660</td>\n",
       "      <td>...</td>\n",
       "      <td>-0.426230</td>\n",
       "      <td>-1.584178</td>\n",
       "      <td>-0.932014</td>\n",
       "      <td>-0.678774</td>\n",
       "      <td>0.155707</td>\n",
       "      <td>1.754054</td>\n",
       "      <td>-0.491174</td>\n",
       "      <td>-0.339394</td>\n",
       "      <td>-0.368715</td>\n",
       "      <td>-0.595227</td>\n",
       "    </tr>\n",
       "  </tbody>\n",
       "</table>\n",
       "<p>1470 rows × 30 columns</p>\n",
       "</div>"
      ],
      "text/plain": [
       "           Age  BusinessTravel  DailyRate  Department  DistanceFromHome  \\\n",
       "0     0.446350        0.590048   0.742527    1.401512         -1.010909   \n",
       "1     1.322365       -0.913194  -1.297775   -0.493817         -0.147150   \n",
       "2     0.008343        0.590048   1.414363   -0.493817         -0.887515   \n",
       "3    -0.429664       -0.913194   1.461466   -0.493817         -0.764121   \n",
       "4    -1.086676        0.590048  -0.524295   -0.493817         -0.887515   \n",
       "...        ...             ...        ...         ...               ...   \n",
       "1465 -0.101159       -0.913194   0.202082   -0.493817          1.703764   \n",
       "1466  0.227347        0.590048  -0.469754   -0.493817         -0.393938   \n",
       "1467 -1.086676        0.590048  -1.605183   -0.493817         -0.640727   \n",
       "1468  1.322365       -0.913194   0.546677    1.401512         -0.887515   \n",
       "1469 -0.320163        0.590048  -0.432568   -0.493817         -0.147150   \n",
       "\n",
       "      Education  EducationField  EnvironmentSatisfaction    Gender  \\\n",
       "0     -0.891688       -0.937414                -0.660531 -1.224745   \n",
       "1     -1.868426       -0.937414                 0.254625  0.816497   \n",
       "2     -0.891688        1.316673                 1.169781  0.816497   \n",
       "3      1.061787       -0.937414                 1.169781 -1.224745   \n",
       "4     -1.868426        0.565311                -1.575686  0.816497   \n",
       "...         ...             ...                      ...       ...   \n",
       "1465  -0.891688        0.565311                 0.254625  0.816497   \n",
       "1466  -1.868426        0.565311                 1.169781  0.816497   \n",
       "1467   0.085049       -0.937414                -0.660531  0.816497   \n",
       "1468   0.085049        0.565311                 1.169781  0.816497   \n",
       "1469   0.085049        0.565311                -0.660531  0.816497   \n",
       "\n",
       "      HourlyRate  ...  PerformanceRating  RelationshipSatisfaction  \\\n",
       "0       1.383138  ...          -0.426230                 -1.584178   \n",
       "1      -0.240677  ...           2.346151                  1.191438   \n",
       "2       1.284725  ...          -0.426230                 -0.658973   \n",
       "3      -0.486709  ...          -0.426230                  0.266233   \n",
       "4      -1.274014  ...          -0.426230                  1.191438   \n",
       "...          ...  ...                ...                       ...   \n",
       "1465   -1.224807  ...          -0.426230                  0.266233   \n",
       "1466   -1.175601  ...          -0.426230                 -1.584178   \n",
       "1467    1.038693  ...           2.346151                 -0.658973   \n",
       "1468   -0.142264  ...          -0.426230                  1.191438   \n",
       "1469    0.792660  ...          -0.426230                 -1.584178   \n",
       "\n",
       "      StockOptionLevel  TotalWorkingYears  TrainingTimesLastYear  \\\n",
       "0            -0.932014          -0.421642              -2.171982   \n",
       "1             0.241988          -0.164511               0.155707   \n",
       "2            -0.932014          -0.550208               0.155707   \n",
       "3            -0.932014          -0.421642               0.155707   \n",
       "4             0.241988          -0.678774               0.155707   \n",
       "...                ...                ...                    ...   \n",
       "1465          0.241988           0.735447               0.155707   \n",
       "1466          0.241988          -0.293077               1.707500   \n",
       "1467          0.241988          -0.678774              -2.171982   \n",
       "1468         -0.932014           0.735447               0.155707   \n",
       "1469         -0.932014          -0.678774               0.155707   \n",
       "\n",
       "      WorkLifeBalance  YearsAtCompany  YearsInCurrentRole  \\\n",
       "0           -2.493820       -0.164613           -0.063296   \n",
       "1            0.338096        0.488508            0.764998   \n",
       "2            0.338096       -1.144294           -1.167687   \n",
       "3            0.338096        0.161947            0.764998   \n",
       "4            0.338096       -0.817734           -0.615492   \n",
       "...               ...             ...                 ...   \n",
       "1465         0.338096       -0.327893           -0.615492   \n",
       "1466         0.338096       -0.001333            0.764998   \n",
       "1467         0.338096       -0.164613           -0.615492   \n",
       "1468        -1.077862        0.325228            0.488900   \n",
       "1469         1.754054       -0.491174           -0.339394   \n",
       "\n",
       "      YearsSinceLastPromotion  YearsWithCurrManager  \n",
       "0                   -0.679146              0.245834  \n",
       "1                   -0.368715              0.806541  \n",
       "2                   -0.679146             -1.155935  \n",
       "3                    0.252146             -1.155935  \n",
       "4                   -0.058285             -0.595227  \n",
       "...                       ...                   ...  \n",
       "1465                -0.679146             -0.314873  \n",
       "1466                -0.368715              0.806541  \n",
       "1467                -0.679146             -0.314873  \n",
       "1468                -0.679146              1.086895  \n",
       "1469                -0.368715             -0.595227  \n",
       "\n",
       "[1470 rows x 30 columns]"
      ]
     },
     "execution_count": 32,
     "metadata": {},
     "output_type": "execute_result"
    }
   ],
   "source": [
    "#Standardization of a dataset\n",
    "from sklearn.preprocessing import StandardScaler\n",
    "sc=StandardScaler()\n",
    "X_train=sc.fit_transform(X)\n",
    "X_test=sc.transform(X)\n",
    "tabel_col = X.columns\n",
    "x = pd.DataFrame(X_train, columns = tabel_col)\n",
    "x"
   ]
  },
  {
   "cell_type": "markdown",
   "id": "52107ed9",
   "metadata": {},
   "source": [
    " We scaled our variables using StandardScaler so that they have a similar scale."
   ]
  },
  {
   "cell_type": "code",
   "execution_count": 33,
   "id": "edd3ee89",
   "metadata": {},
   "outputs": [
    {
     "data": {
      "text/plain": [
       "1    1233\n",
       "0    1233\n",
       "Name: Attrition, dtype: int64"
      ]
     },
     "execution_count": 33,
     "metadata": {},
     "output_type": "execute_result"
    }
   ],
   "source": [
    "#Used oversampling to handling imbalance in the Type of Glass column\n",
    "term_sm = SMOTE()\n",
    "X_res, y_res = term_sm.fit_resample(x, y)\n",
    "y_res.value_counts()"
   ]
  },
  {
   "cell_type": "markdown",
   "id": "4a56b0ff",
   "metadata": {},
   "source": [
    "Our class counts are now balanced."
   ]
  },
  {
   "cell_type": "markdown",
   "id": "241e28fe",
   "metadata": {},
   "source": [
    "# Model Building"
   ]
  },
  {
   "cell_type": "code",
   "execution_count": 34,
   "id": "6e0585a8",
   "metadata": {},
   "outputs": [
    {
     "data": {
      "text/plain": [
       "((1972, 30), (494, 30), (1972,), (494,))"
      ]
     },
     "execution_count": 34,
     "metadata": {},
     "output_type": "execute_result"
    }
   ],
   "source": [
    "# splitting the features into train and test\n",
    "X_train, X_test, y_train, y_test = train_test_split(X_res, y_res, test_size = 0.20, random_state = 42)\n",
    "\n",
    "# Viewing the dimensions of our training and testing data\n",
    "X_train.shape,X_test.shape,y_train.shape,y_test.shape"
   ]
  },
  {
   "cell_type": "markdown",
   "id": "7365d936",
   "metadata": {},
   "source": [
    "We splitted our data in X_train, X_test, y_train and y_test. We shall be using the train variables for the purpose of training our model while the test variables will be used to validate the performance of our model. 80% of our data will be used to train the model while 20% will be used for model validation."
   ]
  },
  {
   "cell_type": "markdown",
   "id": "14283f52",
   "metadata": {},
   "source": [
    "## 1. Random Forest"
   ]
  },
  {
   "cell_type": "code",
   "execution_count": 35,
   "id": "1e055548",
   "metadata": {},
   "outputs": [
    {
     "name": "stdout",
     "output_type": "stream",
     "text": [
      "The Accuracy for Random Forest is: 0.94\n",
      "\n",
      "\n",
      "[[237  13]\n",
      " [ 19 225]]\n",
      "\n",
      "\n",
      "Classification Report:\n",
      "              precision    recall  f1-score   support\n",
      "\n",
      "           0       0.93      0.95      0.94       250\n",
      "           1       0.95      0.92      0.93       244\n",
      "\n",
      "    accuracy                           0.94       494\n",
      "   macro avg       0.94      0.94      0.94       494\n",
      "weighted avg       0.94      0.94      0.94       494\n",
      "\n"
     ]
    }
   ],
   "source": [
    "# Create a Random Forest classifier\n",
    "rf = RandomForestClassifier()\n",
    "rf.fit(X_train, y_train)\n",
    "y_pred = rf.predict(X_test)\n",
    "\n",
    "# Evaluate the model's accuracy\n",
    "accuracy = accuracy_score(y_test, y_pred)\n",
    "print(f\"The Accuracy for Random Forest is: {accuracy:.2f}\")\n",
    "print('\\n')\n",
    "# Display a classification report for more detailed metrics\n",
    "report = classification_report(y_test, y_pred)\n",
    "print(confusion_matrix(y_test, y_pred))\n",
    "print('\\n')\n",
    "print(\"Classification Report:\")\n",
    "print(report)"
   ]
  },
  {
   "cell_type": "markdown",
   "id": "e8515fe3",
   "metadata": {},
   "source": [
    "### Cross Validation Score for Random Forest"
   ]
  },
  {
   "cell_type": "code",
   "execution_count": 36,
   "id": "7e486c67",
   "metadata": {},
   "outputs": [
    {
     "name": "stdout",
     "output_type": "stream",
     "text": [
      "Cross-validation scores: [0.95189873 0.92658228 0.93908629 0.94162437 0.91624365]\n",
      "Mean accuracy: 0.94\n",
      "\n",
      "\n",
      "The difference between the accuracy score and the cross validation score is: 0.00013560658896949462\n"
     ]
    }
   ],
   "source": [
    "results = []\n",
    "scores = cross_val_score(rf, X_train, y_train,cv=5)  # You can choose a different scoring metric\n",
    "print(\"Cross-validation scores:\", scores)\n",
    "\n",
    "# Calculate and print the mean of the scores\n",
    "mean_score = scores.mean()\n",
    "\n",
    "print(f\"Mean accuracy: {mean_score:.2f}\")\n",
    "print('\\n')\n",
    "print(f'The difference between the accuracy score and the cross validation score is: {accuracy- mean_score}')\n",
    "\n",
    "\n",
    "diff = accuracy - mean_score\n",
    "results.append(['Random Forest',accuracy, mean_score, diff])"
   ]
  },
  {
   "cell_type": "markdown",
   "id": "53e946c6",
   "metadata": {},
   "source": [
    "## 2. Xgboost Classifier"
   ]
  },
  {
   "cell_type": "code",
   "execution_count": 37,
   "id": "45da98a8",
   "metadata": {},
   "outputs": [
    {
     "name": "stdout",
     "output_type": "stream",
     "text": [
      "The Accuracy for Xgboost Classifier is:  0.9331983805668016\n",
      "\n",
      "\n",
      "[[240  10]\n",
      " [ 23 221]]\n",
      "\n",
      "\n",
      "Classification Report:\n",
      "              precision    recall  f1-score   support\n",
      "\n",
      "           0       0.91      0.96      0.94       250\n",
      "           1       0.96      0.91      0.93       244\n",
      "\n",
      "    accuracy                           0.93       494\n",
      "   macro avg       0.93      0.93      0.93       494\n",
      "weighted avg       0.93      0.93      0.93       494\n",
      "\n"
     ]
    }
   ],
   "source": [
    "# Create a Xgboost classifier\n",
    "from xgboost import XGBClassifier\n",
    "xgb = XGBClassifier()\n",
    "xgb.fit(X_train, y_train)\n",
    "\n",
    "y_pred_xgb = xgb.predict(X_test)\n",
    "# Evaluate the model's accuracy\n",
    "accuracy = accuracy_score(y_test, y_pred_xgb)\n",
    "print(f\"The Accuracy for Xgboost Classifier is: \",accuracy)\n",
    "print('\\n')\n",
    "\n",
    "# Display a classification report for more detailed metrics\n",
    "report = classification_report(y_test, y_pred_xgb)\n",
    "print(confusion_matrix(y_test, y_pred_xgb))\n",
    "print('\\n')\n",
    "print(\"Classification Report:\")\n",
    "print(report)"
   ]
  },
  {
   "cell_type": "markdown",
   "id": "1f579b85",
   "metadata": {},
   "source": [
    "### Cross Validation Score for Xgboost Classifier"
   ]
  },
  {
   "cell_type": "code",
   "execution_count": 38,
   "id": "2ebc5ec1",
   "metadata": {},
   "outputs": [
    {
     "name": "stdout",
     "output_type": "stream",
     "text": [
      "Cross-validation scores: [0.93164557 0.90886076 0.9213198  0.91624365 0.93654822]\n",
      "Mean accuracy: 0.92\n",
      "\n",
      "\n",
      "The difference between the accuracy score and the cross validation score is: 0.010274779718636107\n"
     ]
    }
   ],
   "source": [
    "\n",
    "scores = cross_val_score(xgb, X_train, y_train, cv=5) \n",
    "print(\"Cross-validation scores:\", scores)\n",
    "\n",
    "# Calculate and print the mean of the scores\n",
    "mean_score = scores.mean()\n",
    "\n",
    "print(f\"Mean accuracy: {mean_score:.2f}\")\n",
    "\n",
    "print('\\n')\n",
    "print(f'The difference between the accuracy score and the cross validation score is: {accuracy- mean_score}')\n",
    "\n",
    "\n",
    "diff = accuracy - mean_score\n",
    "results.append(['Xgboost Classifier', accuracy, mean_score, diff])"
   ]
  },
  {
   "cell_type": "markdown",
   "id": "fe3c36a0",
   "metadata": {},
   "source": [
    "## 3. Adaboost classifier"
   ]
  },
  {
   "cell_type": "code",
   "execution_count": 39,
   "id": "aad6e514",
   "metadata": {},
   "outputs": [
    {
     "name": "stdout",
     "output_type": "stream",
     "text": [
      "The Accuracy for Adaboost classifier is:  0.9048582995951417\n",
      "\n",
      "\n",
      "[[231  19]\n",
      " [ 28 216]]\n",
      "\n",
      "\n",
      "Classification Report:\n",
      "              precision    recall  f1-score   support\n",
      "\n",
      "           0       0.89      0.92      0.91       250\n",
      "           1       0.92      0.89      0.90       244\n",
      "\n",
      "    accuracy                           0.90       494\n",
      "   macro avg       0.91      0.90      0.90       494\n",
      "weighted avg       0.91      0.90      0.90       494\n",
      "\n"
     ]
    }
   ],
   "source": [
    "# Create a Adaboost Classifier\n",
    "ab = AdaBoostClassifier()\n",
    "ab.fit(X_train, y_train)\n",
    "\n",
    "y_pred_ab = ab.predict(X_test)\n",
    "# Evaluate the model's accuracy\n",
    "accuracy = accuracy_score(y_test, y_pred_ab)\n",
    "print(f\"The Accuracy for Adaboost classifier is: \",accuracy)\n",
    "print('\\n')\n",
    "\n",
    "# Display a classification report for more detailed metrics\n",
    "report = classification_report(y_test, y_pred_ab)\n",
    "print(confusion_matrix(y_test, y_pred_ab))\n",
    "print('\\n')\n",
    "print(\"Classification Report:\")\n",
    "print(report)"
   ]
  },
  {
   "cell_type": "markdown",
   "id": "8cdf82b5",
   "metadata": {},
   "source": [
    "### Cross Validation Score for Adaboost classifier"
   ]
  },
  {
   "cell_type": "code",
   "execution_count": 40,
   "id": "75ebbc54",
   "metadata": {},
   "outputs": [
    {
     "name": "stdout",
     "output_type": "stream",
     "text": [
      "Cross-validation scores: [0.9164557  0.87848101 0.90609137 0.91624365 0.89340102]\n",
      "Mean accuracy: 0.90\n",
      "\n",
      "\n",
      "The difference between the accuracy score and the cross validation score is: 0.0027237497011622924\n"
     ]
    }
   ],
   "source": [
    "scores = cross_val_score(ab, X_train, y_train,cv=5) \n",
    "print(\"Cross-validation scores:\", scores)\n",
    "\n",
    "# Calculate and print the mean of the scores\n",
    "mean_score = scores.mean()\n",
    "\n",
    "print(f\"Mean accuracy: {mean_score:.2f}\")\n",
    "\n",
    "print('\\n')\n",
    "print(f'The difference between the accuracy score and the cross validation score is: {accuracy- mean_score}')\n",
    "\n",
    "\n",
    "diff = accuracy - mean_score\n",
    "results.append(['Adaboost classifier',accuracy, mean_score, diff])"
   ]
  },
  {
   "cell_type": "markdown",
   "id": "2d7173f1",
   "metadata": {},
   "source": [
    "## 4. Gradient Boosting Classifier"
   ]
  },
  {
   "cell_type": "code",
   "execution_count": 41,
   "id": "143f4c5a",
   "metadata": {},
   "outputs": [
    {
     "name": "stdout",
     "output_type": "stream",
     "text": [
      "The Accuracy for Gradient Boosting Classifier is:  0.917004048582996\n",
      "\n",
      "\n",
      "[[239  11]\n",
      " [ 30 214]]\n",
      "\n",
      "\n",
      "Classification Report:\n",
      "              precision    recall  f1-score   support\n",
      "\n",
      "           0       0.89      0.96      0.92       250\n",
      "           1       0.95      0.88      0.91       244\n",
      "\n",
      "    accuracy                           0.92       494\n",
      "   macro avg       0.92      0.92      0.92       494\n",
      "weighted avg       0.92      0.92      0.92       494\n",
      "\n"
     ]
    }
   ],
   "source": [
    "# Create a Gradient Boosting Classifier\n",
    "gb = GradientBoostingClassifier()\n",
    "gb.fit(X_train, y_train)\n",
    "\n",
    "y_pred_gb = gb.predict(X_test)\n",
    "# Evaluate the model's accuracy\n",
    "accuracy = accuracy_score(y_test, y_pred_gb)\n",
    "print(f\"The Accuracy for Gradient Boosting Classifier is: \",accuracy)\n",
    "print('\\n')\n",
    "\n",
    "# Display a classification report for more detailed metrics\n",
    "report = classification_report(y_test, y_pred_gb)\n",
    "print(confusion_matrix(y_test, y_pred_gb))\n",
    "print('\\n')\n",
    "print(\"Classification Report:\")\n",
    "print(report)"
   ]
  },
  {
   "cell_type": "markdown",
   "id": "07deea75",
   "metadata": {},
   "source": [
    "### Cross Validation Score for Gradient Boosting Classifier"
   ]
  },
  {
   "cell_type": "code",
   "execution_count": 42,
   "id": "ad910e31",
   "metadata": {},
   "outputs": [
    {
     "name": "stdout",
     "output_type": "stream",
     "text": [
      "Cross-validation scores: [0.92911392 0.92911392 0.93147208 0.91878173 0.92893401]\n",
      "Mean accuracy: 0.93\n",
      "\n",
      "\n",
      "The difference between the accuracy score and the cross validation score is: -0.010479084489033785\n"
     ]
    }
   ],
   "source": [
    "\n",
    "scores = cross_val_score(gb, X_train, y_train, cv=5) \n",
    "print(\"Cross-validation scores:\", scores)\n",
    "\n",
    "# Calculate and print the mean of the scores\n",
    "mean_score = scores.mean()\n",
    "\n",
    "print(f\"Mean accuracy: {mean_score:.2f}\")\n",
    "\n",
    "print('\\n')\n",
    "print(f'The difference between the accuracy score and the cross validation score is: {accuracy- mean_score}')\n",
    "\n",
    "\n",
    "diff = accuracy - mean_score\n",
    "results.append(['Gradient Boosting Classifier', accuracy, mean_score, diff])"
   ]
  },
  {
   "cell_type": "markdown",
   "id": "905e179f",
   "metadata": {},
   "source": [
    "## 5. Decision Tree"
   ]
  },
  {
   "cell_type": "code",
   "execution_count": 43,
   "id": "b8cb0f22",
   "metadata": {},
   "outputs": [
    {
     "name": "stdout",
     "output_type": "stream",
     "text": [
      "The Accuracy for Decision Tree: 0.85\n",
      "\n",
      "\n",
      "[[209  41]\n",
      " [ 34 210]]\n",
      "\n",
      "\n",
      "Classification Report:\n",
      "              precision    recall  f1-score   support\n",
      "\n",
      "           0       0.86      0.84      0.85       250\n",
      "           1       0.84      0.86      0.85       244\n",
      "\n",
      "    accuracy                           0.85       494\n",
      "   macro avg       0.85      0.85      0.85       494\n",
      "weighted avg       0.85      0.85      0.85       494\n",
      "\n"
     ]
    }
   ],
   "source": [
    "# Create a Decision Tree classifier\n",
    "dt = DecisionTreeClassifier()\n",
    "dt.fit(X_train, y_train)\n",
    "y_pred_dt = dt.predict(X_test)\n",
    "\n",
    "# Evaluate the model's accuracy\n",
    "accuracy = accuracy_score(y_test, y_pred_dt)\n",
    "print(f\"The Accuracy for Decision Tree: {accuracy:.2f}\")\n",
    "print('\\n')\n",
    "# Display a classification report for more detailed metrics\n",
    "report = classification_report(y_test, y_pred_dt)\n",
    "print(confusion_matrix(y_test, y_pred_dt))\n",
    "print('\\n')\n",
    "print(\"Classification Report:\")\n",
    "print(report)\n"
   ]
  },
  {
   "cell_type": "markdown",
   "id": "89694b25",
   "metadata": {},
   "source": [
    "### Cross Validation Score for Decision Tree"
   ]
  },
  {
   "cell_type": "code",
   "execution_count": 44,
   "id": "4fa325fa",
   "metadata": {},
   "outputs": [
    {
     "name": "stdout",
     "output_type": "stream",
     "text": [
      "Cross-validation scores: [0.83291139 0.86329114 0.84517766 0.86040609 0.81979695]\n",
      "Mean accuracy: 0.84\n",
      "\n",
      "\n",
      "The difference between the accuracy score and the cross validation score is: 0.00386148919072804\n"
     ]
    }
   ],
   "source": [
    "\n",
    "scores = cross_val_score(dt, X_train, y_train,cv=5)\n",
    "print(\"Cross-validation scores:\", scores)\n",
    "\n",
    "# Calculate and print the mean of the scores\n",
    "mean_score = scores.mean()\n",
    "\n",
    "print(f\"Mean accuracy: {mean_score:.2f}\")\n",
    "print('\\n')\n",
    "print(f'The difference between the accuracy score and the cross validation score is: {accuracy- mean_score}')\n",
    "\n",
    "\n",
    "diff = accuracy - mean_score\n",
    "results.append(['Decision Tree',accuracy, mean_score, diff])"
   ]
  },
  {
   "cell_type": "code",
   "execution_count": 45,
   "id": "179438da",
   "metadata": {},
   "outputs": [
    {
     "data": {
      "text/html": [
       "<div>\n",
       "<style scoped>\n",
       "    .dataframe tbody tr th:only-of-type {\n",
       "        vertical-align: middle;\n",
       "    }\n",
       "\n",
       "    .dataframe tbody tr th {\n",
       "        vertical-align: top;\n",
       "    }\n",
       "\n",
       "    .dataframe thead th {\n",
       "        text-align: right;\n",
       "    }\n",
       "</style>\n",
       "<table border=\"1\" class=\"dataframe\">\n",
       "  <thead>\n",
       "    <tr style=\"text-align: right;\">\n",
       "      <th></th>\n",
       "      <th>Algorithm</th>\n",
       "      <th>Accuracy Score</th>\n",
       "      <th>Cross Validation Score</th>\n",
       "      <th>Difference btw accuracy and Cross Validtion Score</th>\n",
       "    </tr>\n",
       "  </thead>\n",
       "  <tbody>\n",
       "    <tr>\n",
       "      <th>0</th>\n",
       "      <td>Random Forest</td>\n",
       "      <td>0.935223</td>\n",
       "      <td>0.935087</td>\n",
       "      <td>0.000136</td>\n",
       "    </tr>\n",
       "    <tr>\n",
       "      <th>1</th>\n",
       "      <td>Xgboost Classifier</td>\n",
       "      <td>0.933198</td>\n",
       "      <td>0.922924</td>\n",
       "      <td>0.010275</td>\n",
       "    </tr>\n",
       "    <tr>\n",
       "      <th>2</th>\n",
       "      <td>Adaboost classifier</td>\n",
       "      <td>0.904858</td>\n",
       "      <td>0.902135</td>\n",
       "      <td>0.002724</td>\n",
       "    </tr>\n",
       "    <tr>\n",
       "      <th>3</th>\n",
       "      <td>Gradient Boosting Classifier</td>\n",
       "      <td>0.917004</td>\n",
       "      <td>0.927483</td>\n",
       "      <td>-0.010479</td>\n",
       "    </tr>\n",
       "    <tr>\n",
       "      <th>4</th>\n",
       "      <td>Decision Tree</td>\n",
       "      <td>0.848178</td>\n",
       "      <td>0.844317</td>\n",
       "      <td>0.003861</td>\n",
       "    </tr>\n",
       "  </tbody>\n",
       "</table>\n",
       "</div>"
      ],
      "text/plain": [
       "                      Algorithm  Accuracy Score  Cross Validation Score  \\\n",
       "0                 Random Forest        0.935223                0.935087   \n",
       "1            Xgboost Classifier        0.933198                0.922924   \n",
       "2           Adaboost classifier        0.904858                0.902135   \n",
       "3  Gradient Boosting Classifier        0.917004                0.927483   \n",
       "4                 Decision Tree        0.848178                0.844317   \n",
       "\n",
       "   Difference btw accuracy and Cross Validtion Score  \n",
       "0                                           0.000136  \n",
       "1                                           0.010275  \n",
       "2                                           0.002724  \n",
       "3                                          -0.010479  \n",
       "4                                           0.003861  "
      ]
     },
     "execution_count": 45,
     "metadata": {},
     "output_type": "execute_result"
    }
   ],
   "source": [
    "# create dataframe for all the accuracy scores and cross validation score for the models used\n",
    "df = pd.DataFrame(results, columns=['Algorithm', 'Accuracy Score','Cross Validation Score', 'Difference btw accuracy and Cross Validtion Score'])\n",
    "df"
   ]
  },
  {
   "cell_type": "markdown",
   "id": "388812da",
   "metadata": {},
   "source": [
    "#### Selection of the best model"
   ]
  },
  {
   "cell_type": "code",
   "execution_count": 46,
   "id": "719b14a3",
   "metadata": {},
   "outputs": [
    {
     "name": "stdout",
     "output_type": "stream",
     "text": [
      "From the table above, my best model is the Gradient Boosting Classifier\n"
     ]
    }
   ],
   "source": [
    "#Selection of the best model based on the difference between the accuracy and cross validation score\n",
    "least_value = min(df['Difference btw accuracy and Cross Validtion Score'].tolist())\n",
    "best_model = df.loc[(df['Difference btw accuracy and Cross Validtion Score']) == least_value, 'Algorithm']\n",
    "best_model = ' '.join(str(best_model).split()[1:-4])\n",
    "print('From the table above, my best model is the', best_model)"
   ]
  },
  {
   "cell_type": "code",
   "execution_count": 47,
   "id": "4eaad3d5",
   "metadata": {},
   "outputs": [
    {
     "data": {
      "image/png": "[encoded data removed]",
      "text/plain": [
       "<Figure size 432x288 with 1 Axes>"
      ]
     },
     "metadata": {
      "needs_background": "light"
     },
     "output_type": "display_data"
    }
   ],
   "source": [
    "#ROC plot of the best model\n",
    "import sklearn.metrics as metrics\n",
    "#define metrics\n",
    "y_pred_proba = gb.predict_proba(X_test)[::,1]\n",
    "fpr, tpr, _ = metrics.roc_curve(y_test,  y_pred_proba)\n",
    "auc = metrics.roc_auc_score(y_test, y_pred_proba)\n",
    "\n",
    "#create ROC curve\n",
    "plt.plot(fpr,tpr,label=\"AUC=\"+str(auc))\n",
    "plt.ylabel('True Positive Rate')\n",
    "plt.xlabel('False Positive Rate')\n",
    "plt.legend(loc=4)\n",
    "plt.show()"
   ]
  },
  {
   "cell_type": "markdown",
   "id": "db343d99",
   "metadata": {},
   "source": [
    "From the ROC curve above, we can see that the AUC value for our best model is 96.6%"
   ]
  },
  {
   "cell_type": "code",
   "execution_count": 50,
   "id": "fc722825",
   "metadata": {},
   "outputs": [],
   "source": [
    "from sklearn.model_selection import GridSearchCV\n",
    "\n",
    "model_best = GradientBoostingClassifier()\n",
    "\n",
    "model_param = {\n",
    "    'max_depth':[3,5,10,None],\n",
    "    'n_estimators':[10,100,200],\n",
    "    'max_features':[1,3,5,7],\n",
    "    'min_samples_leaf':[1,2,3]\n",
    "           }"
   ]
  },
  {
   "cell_type": "code",
   "execution_count": 51,
   "id": "dca14689",
   "metadata": {},
   "outputs": [
    {
     "data": {
      "text/plain": [
       "GridSearchCV(cv=5, estimator=GradientBoostingClassifier(),\n",
       "             param_grid={'max_depth': [3, 5, 10, None],\n",
       "                         'max_features': [1, 3, 5, 7],\n",
       "                         'min_samples_leaf': [1, 2, 3],\n",
       "                         'n_estimators': [10, 100, 200]})"
      ]
     },
     "execution_count": 51,
     "metadata": {},
     "output_type": "execute_result"
    }
   ],
   "source": [
    "gd_search = GridSearchCV(model_best, model_param, cv = 5)\n",
    "\n",
    "gd_search.fit(X_train, y_train)"
   ]
  },
  {
   "cell_type": "code",
   "execution_count": 52,
   "id": "a54ed890",
   "metadata": {},
   "outputs": [
    {
     "name": "stdout",
     "output_type": "stream",
     "text": [
      "The best max_depth is : 10 \n",
      "The best n_estimators: 100 \n",
      "The best max_features: 3 \n",
      "The best min_samples_leaf: 2\n"
     ]
    }
   ],
   "source": [
    "#display the best parameters from the search\n",
    "\n",
    "print(\"The best max_depth is : \" + str(gd_search.best_params_[\"max_depth\"]),\n",
    "     \"\\nThe best n_estimators: \" + str(gd_search.best_params_[\"n_estimators\"]),\n",
    "     \"\\nThe best max_features: \" + str(gd_search.best_params_[\"max_features\"]),\n",
    "      \"\\nThe best min_samples_leaf: \" + str(gd_search.best_params_[\"min_samples_leaf\"]))"
   ]
  },
  {
   "cell_type": "code",
   "execution_count": 53,
   "id": "486ad6a7",
   "metadata": {},
   "outputs": [
    {
     "data": {
      "text/plain": [
       "0.9433198380566802"
      ]
     },
     "execution_count": 53,
     "metadata": {},
     "output_type": "execute_result"
    }
   ],
   "source": [
    "# train the model with the selected parameters\n",
    "best_model = GradientBoostingClassifier(max_depth =10, n_estimators  = 100, max_features =3, min_samples_leaf = 2)\n",
    "best_model.fit(X_train, y_train)\n",
    "y_pred = best_model.predict(X_test)\n",
    "\n",
    "accuracy = accuracy_score(y_test, y_pred)\n",
    "accuracy"
   ]
  },
  {
   "cell_type": "code",
   "execution_count": 54,
   "id": "4e85d9da",
   "metadata": {},
   "outputs": [],
   "source": [
    "import pickle\n",
    "# save the model to disk\n",
    "filename = 'Emp_attrition.sav'\n",
    "pickle.dump(best_model, open(filename, 'wb'))"
   ]
  },
  {
   "cell_type": "code",
   "execution_count": 55,
   "id": "66e998d7",
   "metadata": {},
   "outputs": [
    {
     "data": {
      "text/html": [
       "<div>\n",
       "<style scoped>\n",
       "    .dataframe tbody tr th:only-of-type {\n",
       "        vertical-align: middle;\n",
       "    }\n",
       "\n",
       "    .dataframe tbody tr th {\n",
       "        vertical-align: top;\n",
       "    }\n",
       "\n",
       "    .dataframe thead th {\n",
       "        text-align: right;\n",
       "    }\n",
       "</style>\n",
       "<table border=\"1\" class=\"dataframe\">\n",
       "  <thead>\n",
       "    <tr style=\"text-align: right;\">\n",
       "      <th></th>\n",
       "      <th>y_test</th>\n",
       "      <th>y_pred</th>\n",
       "    </tr>\n",
       "  </thead>\n",
       "  <tbody>\n",
       "    <tr>\n",
       "      <th>1078</th>\n",
       "      <td>No</td>\n",
       "      <td>No</td>\n",
       "    </tr>\n",
       "    <tr>\n",
       "      <th>1281</th>\n",
       "      <td>Yes</td>\n",
       "      <td>No</td>\n",
       "    </tr>\n",
       "    <tr>\n",
       "      <th>621</th>\n",
       "      <td>No</td>\n",
       "      <td>No</td>\n",
       "    </tr>\n",
       "    <tr>\n",
       "      <th>1508</th>\n",
       "      <td>Yes</td>\n",
       "      <td>Yes</td>\n",
       "    </tr>\n",
       "    <tr>\n",
       "      <th>1975</th>\n",
       "      <td>Yes</td>\n",
       "      <td>Yes</td>\n",
       "    </tr>\n",
       "    <tr>\n",
       "      <th>...</th>\n",
       "      <td>...</td>\n",
       "      <td>...</td>\n",
       "    </tr>\n",
       "    <tr>\n",
       "      <th>2099</th>\n",
       "      <td>Yes</td>\n",
       "      <td>Yes</td>\n",
       "    </tr>\n",
       "    <tr>\n",
       "      <th>1836</th>\n",
       "      <td>Yes</td>\n",
       "      <td>Yes</td>\n",
       "    </tr>\n",
       "    <tr>\n",
       "      <th>303</th>\n",
       "      <td>No</td>\n",
       "      <td>No</td>\n",
       "    </tr>\n",
       "    <tr>\n",
       "      <th>1864</th>\n",
       "      <td>Yes</td>\n",
       "      <td>Yes</td>\n",
       "    </tr>\n",
       "    <tr>\n",
       "      <th>141</th>\n",
       "      <td>No</td>\n",
       "      <td>No</td>\n",
       "    </tr>\n",
       "  </tbody>\n",
       "</table>\n",
       "<p>494 rows × 2 columns</p>\n",
       "</div>"
      ],
      "text/plain": [
       "     y_test y_pred\n",
       "1078     No     No\n",
       "1281    Yes     No\n",
       "621      No     No\n",
       "1508    Yes    Yes\n",
       "1975    Yes    Yes\n",
       "...     ...    ...\n",
       "2099    Yes    Yes\n",
       "1836    Yes    Yes\n",
       "303      No     No\n",
       "1864    Yes    Yes\n",
       "141      No     No\n",
       "\n",
       "[494 rows x 2 columns]"
      ]
     },
     "execution_count": 55,
     "metadata": {},
     "output_type": "execute_result"
    }
   ],
   "source": [
    "#prediction using our saved model\n",
    "load_model = pickle.load(open(filename, 'rb'))\n",
    "accuracy_dataframe = pd.DataFrame({\"y_test\": y_test, \"y_pred\": y_pred})\n",
    "#converting the values of our subscribed back to yes and no.\n",
    "accuracy_dataframe = accuracy_dataframe.replace({0: 'No', 1: 'Yes'})\n",
    "accuracy_dataframe"
   ]
  },
  {
   "cell_type": "code",
   "execution_count": 56,
   "id": "47766f8c",
   "metadata": {},
   "outputs": [
    {
     "data": {
      "image/png": "[encoded data removed]",
      "text/plain": [
       "<Figure size 432x288 with 2 Axes>"
      ]
     },
     "metadata": {
      "needs_background": "light"
     },
     "output_type": "display_data"
    }
   ],
   "source": [
    "from sklearn.metrics import confusion_matrix\n",
    "matrix = confusion_matrix(y_test, y_pred)\n",
    "label=['No (will not leave)', 'Yes (will leave)']\n",
    "sns.heatmap(matrix, annot=True, fmt='d', xticklabels=label, yticklabels=label,)\n",
    "plt.xlabel(\"Predicted\")\n",
    "plt.ylabel(\"Actual\")\n",
    "plt.show()"
   ]
  },
  {
   "cell_type": "markdown",
   "id": "f690ed97",
   "metadata": {},
   "source": [
    "### Conclusion"
   ]
  },
  {
   "cell_type": "markdown",
   "id": "3af51336",
   "metadata": {},
   "source": [
    "This is a binary classification problem because the target variable is classified into two categories (no or yes). We used the IBM_HR_Attrition_Rate_Analytics dataset to analyse why employees attrition is high in the organisation and make predictions whether or not if an employee will leave or stay based on the features provided. The dataset is made up 1470 rows and 35 columns. Of these columns, we have 34 independent variables and 1 target variable(Attrition). We visualized the relationships between some features. \n",
    "#### Some of the observations recorded are:\n",
    "##### 1) Most of the employees that left were from the Life Sciences Educational fields.\n",
    "##### 2) Male employee attrition was higher than female employee attrition.\n",
    "##### 3) Job satisfaction did not have an effect on attrition rate because the highest number of employees had a high job satisfcation.\n",
    "##### 4) Level 1 employees had the highest attrition rate. We referred  level 1 as entry level; a position that doesn't require any experience or relevant education. We are of the opinion that possible reason when these level 1 employee leave is that once they have gained experience, they tend to look out for better jobs with higher salary.\n",
    "\n",
    "We used different algorithms to train our model. 80% of the data was used for taining while 20% was used for validation. The criteria we used in the selection of best model is accuracy and cross validation score. We calculated the difference between these scores and selected the algorithm that had the lowest result.\n",
    "Random Forest Classifier was selected as our best model because it had a lower difference between accuracy and cross validation score. The accuracy score before tuning was 0.917004 and after tuning with set parameters, the model's accuracy increased to 0.943319. There was an improvement in the accuracy after tuning. Testing the performance of the model, we can see that from the 10 predictions made, the model was able to predict 9 correctly. We can also see from the confusion matrix that the model predicted that 243 will not leave and actually they did not leave (True Negative). It predicted 223 will leave and they did leave (True Positive). The model predicted that 21 will not leave whereas, they left (False Negative). Predicted 7 will leave while they did not leave (False Positive)."
   ]
  },
  {
   "cell_type": "code",
   "execution_count": null,
   "id": "04e86827",
   "metadata": {},
   "outputs": [],
   "source": []
  }
 ],
 "metadata": {
  "kernelspec": {
   "display_name": "Python 3 (ipykernel)",
   "language": "python",
   "name": "python3"
  },
  "language_info": {
   "codemirror_mode": {
    "name": "ipython",
    "version": 3
   },
   "file_extension": ".py",
   "mimetype": "text/x-python",
   "name": "python",
   "nbconvert_exporter": "python",
   "pygments_lexer": "ipython3",
   "version": "3.9.12"
  }
 },
 "nbformat": 4,
 "nbformat_minor": 5
}
