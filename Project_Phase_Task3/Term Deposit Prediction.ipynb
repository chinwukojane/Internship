{
 "cells": [
  {
   "cell_type": "markdown",
   "id": "44eee6b3",
   "metadata": {},
   "source": [
    "# Jane Chinwuko\n",
    "# Batch number: DS2307"
   ]
  },
  {
   "cell_type": "markdown",
   "id": "5409f220",
   "metadata": {},
   "source": [
    "#### Business Use Case\n",
    "There has been a revenue decline for a Portuguese bank and they would like to know what actions to take. After investigation, they found out that the root cause is that their clients are not depositing as frequently as before. Knowing that term deposits allow banks to hold onto a deposit for a specific amount of time, so banks can invest in higher gain financial products to make a profit. In addition, banks also hold better chance to persuade term deposit clients into buying other products such as funds or insurance to further increase their revenues. As a result, the Portuguese bank would like to identify existing clients that have higher chance to subscribe for a term deposit and focus marketing efforts on such clients.\n",
    "\n",
    "#### Project Description\n",
    "Your client is a retail banking institution. Term deposits are a major source of income for a bank. A term deposit is a cash investment held at a financial institution. Your money is invested for an agreed rate of interest over a fixed amount of time, or term. The bank has various outreach plans to sell term deposits to their customers such as email marketing, advertisements, telephonic marketing and digital marketing. Telephonic marketing campaigns still remain one of the most effective way to reach out to people. However, they require huge investment as large call centers are hired to actually execute these campaigns. Hence, it is crucial to identify the customers most likely to convert beforehand so that they can be specifically targeted via call.\n",
    "You are provided with the client data such as : age of the client, their job type, their marital status, etc. Along with the client data, you are also provided with the information of the call such as the duration of the call, day and month of the call, etc. Given this information, your task is to predict if the client will subscribe to term deposit.\n",
    "About The Dataset\n",
    "The dataset is related with direct marketing campaigns (phone calls) of a Portuguese banking institution. The classification goal of this dataset is to predict if the client or the customer of polish banking institution will subscribe a term deposit product of the bank or not. \n",
    "\n",
    "\n",
    "\n",
    "You are provided with following 2 files:\n",
    "1.     train.csv : Use this dataset to train the model. This file contains all the client and call details as well as the target variable “subscribed”. You have to train your model using this file.\n",
    "2.     test.csv : Use the trained model to predict whether a new set of clients will subscribe the term deposit.\n",
    " \n",
    "#### Dataset Attributes\n",
    "Here is the description of all the variables:\n",
    "•\tVariable: Definition\n",
    "•\tID: Unique client ID\n",
    "•\tage: Age of the client\n",
    "•\tjob: Type of job\n",
    "•\tmarital: Marital status of the client\n",
    "•\teducation: Education level\n",
    "•\tdefault: Credit in default.\n",
    "•\thousing: Housing loan\n",
    "•\tloan: Personal loan\n",
    "•\tcontact: Type of communication\n",
    "•\tmonth: Contact month\n",
    "•\tday_of_week: Day of week of contact\n",
    "•\tduration: Contact duration\n",
    "•\tcampaign: number of contacts performed during this campaign to the client\n",
    "•\tpdays: number of days that passed by after the client was last contacted\n",
    "•\tprevious: number of contacts performed before this campaign\n",
    "•\tpoutcome: outcome of the previous marketing campaign\n",
    "Output variable (desired target):\n",
    "•\tSubscribed (target): has the client subscribed a term deposit? (YES/NO)\n",
    "\n",
    "\n",
    "# This project is a Classification(binary) problem.\n"
   ]
  },
  {
   "cell_type": "code",
   "execution_count": 1,
   "id": "da44101e",
   "metadata": {},
   "outputs": [],
   "source": [
    "# Imported necessary libraries\n",
    "import numpy as np\n",
    "import pandas as pd\n",
    "import matplotlib.pyplot as plt\n",
    "import seaborn as sns\n",
    "from sklearn.model_selection import train_test_split\n",
    "from sklearn.tree import DecisionTreeClassifier\n",
    "from sklearn.linear_model import LogisticRegression\n",
    "from sklearn.ensemble import RandomForestClassifier\n",
    "from sklearn.ensemble import AdaBoostClassifier\n",
    "from sklearn.ensemble import GradientBoostingClassifier\n",
    "from sklearn.metrics import accuracy_score\n",
    "from imblearn.over_sampling import SMOTE\n",
    "from sklearn.metrics import accuracy_score, classification_report, roc_curve, roc_auc_score, auc\n",
    "from sklearn.metrics import confusion_matrix, classification_report, accuracy_score, precision_score, recall_score, f1_score\n",
    "from sklearn.model_selection import cross_val_score\n",
    "from sklearn.model_selection import GridSearchCV\n",
    "from sklearn.preprocessing import LabelEncoder"
   ]
  },
  {
   "cell_type": "code",
   "execution_count": 2,
   "id": "1faa8f76",
   "metadata": {},
   "outputs": [],
   "source": [
    "#Load our training and testing data\n",
    "term_deposit_train = pd.read_csv('termdeposit_train.csv')\n",
    "term_deposit_test = pd.read_csv('termdeposit_test.csv')"
   ]
  },
  {
   "cell_type": "markdown",
   "id": "f5497312",
   "metadata": {},
   "source": [
    "## Exploratory Data Analysis"
   ]
  },
  {
   "cell_type": "code",
   "execution_count": 3,
   "id": "fb4ad654",
   "metadata": {},
   "outputs": [
    {
     "data": {
      "text/html": [
       "<div>\n",
       "<style scoped>\n",
       "    .dataframe tbody tr th:only-of-type {\n",
       "        vertical-align: middle;\n",
       "    }\n",
       "\n",
       "    .dataframe tbody tr th {\n",
       "        vertical-align: top;\n",
       "    }\n",
       "\n",
       "    .dataframe thead th {\n",
       "        text-align: right;\n",
       "    }\n",
       "</style>\n",
       "<table border=\"1\" class=\"dataframe\">\n",
       "  <thead>\n",
       "    <tr style=\"text-align: right;\">\n",
       "      <th></th>\n",
       "      <th>ID</th>\n",
       "      <th>age</th>\n",
       "      <th>job</th>\n",
       "      <th>marital</th>\n",
       "      <th>education</th>\n",
       "      <th>default</th>\n",
       "      <th>balance</th>\n",
       "      <th>housing</th>\n",
       "      <th>loan</th>\n",
       "      <th>contact</th>\n",
       "      <th>day</th>\n",
       "      <th>month</th>\n",
       "      <th>duration</th>\n",
       "      <th>campaign</th>\n",
       "      <th>pdays</th>\n",
       "      <th>previous</th>\n",
       "      <th>poutcome</th>\n",
       "      <th>subscribed</th>\n",
       "    </tr>\n",
       "  </thead>\n",
       "  <tbody>\n",
       "    <tr>\n",
       "      <th>0</th>\n",
       "      <td>26110</td>\n",
       "      <td>56</td>\n",
       "      <td>admin.</td>\n",
       "      <td>married</td>\n",
       "      <td>unknown</td>\n",
       "      <td>no</td>\n",
       "      <td>1933</td>\n",
       "      <td>no</td>\n",
       "      <td>no</td>\n",
       "      <td>telephone</td>\n",
       "      <td>19</td>\n",
       "      <td>nov</td>\n",
       "      <td>44</td>\n",
       "      <td>2</td>\n",
       "      <td>-1</td>\n",
       "      <td>0</td>\n",
       "      <td>unknown</td>\n",
       "      <td>no</td>\n",
       "    </tr>\n",
       "    <tr>\n",
       "      <th>1</th>\n",
       "      <td>40576</td>\n",
       "      <td>31</td>\n",
       "      <td>unknown</td>\n",
       "      <td>married</td>\n",
       "      <td>secondary</td>\n",
       "      <td>no</td>\n",
       "      <td>3</td>\n",
       "      <td>no</td>\n",
       "      <td>no</td>\n",
       "      <td>cellular</td>\n",
       "      <td>20</td>\n",
       "      <td>jul</td>\n",
       "      <td>91</td>\n",
       "      <td>2</td>\n",
       "      <td>-1</td>\n",
       "      <td>0</td>\n",
       "      <td>unknown</td>\n",
       "      <td>no</td>\n",
       "    </tr>\n",
       "    <tr>\n",
       "      <th>2</th>\n",
       "      <td>15320</td>\n",
       "      <td>27</td>\n",
       "      <td>services</td>\n",
       "      <td>married</td>\n",
       "      <td>secondary</td>\n",
       "      <td>no</td>\n",
       "      <td>891</td>\n",
       "      <td>yes</td>\n",
       "      <td>no</td>\n",
       "      <td>cellular</td>\n",
       "      <td>18</td>\n",
       "      <td>jul</td>\n",
       "      <td>240</td>\n",
       "      <td>1</td>\n",
       "      <td>-1</td>\n",
       "      <td>0</td>\n",
       "      <td>unknown</td>\n",
       "      <td>no</td>\n",
       "    </tr>\n",
       "    <tr>\n",
       "      <th>3</th>\n",
       "      <td>43962</td>\n",
       "      <td>57</td>\n",
       "      <td>management</td>\n",
       "      <td>divorced</td>\n",
       "      <td>tertiary</td>\n",
       "      <td>no</td>\n",
       "      <td>3287</td>\n",
       "      <td>no</td>\n",
       "      <td>no</td>\n",
       "      <td>cellular</td>\n",
       "      <td>22</td>\n",
       "      <td>jun</td>\n",
       "      <td>867</td>\n",
       "      <td>1</td>\n",
       "      <td>84</td>\n",
       "      <td>3</td>\n",
       "      <td>success</td>\n",
       "      <td>yes</td>\n",
       "    </tr>\n",
       "    <tr>\n",
       "      <th>4</th>\n",
       "      <td>29842</td>\n",
       "      <td>31</td>\n",
       "      <td>technician</td>\n",
       "      <td>married</td>\n",
       "      <td>secondary</td>\n",
       "      <td>no</td>\n",
       "      <td>119</td>\n",
       "      <td>yes</td>\n",
       "      <td>no</td>\n",
       "      <td>cellular</td>\n",
       "      <td>4</td>\n",
       "      <td>feb</td>\n",
       "      <td>380</td>\n",
       "      <td>1</td>\n",
       "      <td>-1</td>\n",
       "      <td>0</td>\n",
       "      <td>unknown</td>\n",
       "      <td>no</td>\n",
       "    </tr>\n",
       "  </tbody>\n",
       "</table>\n",
       "</div>"
      ],
      "text/plain": [
       "      ID  age         job   marital  education default  balance housing loan  \\\n",
       "0  26110   56      admin.   married    unknown      no     1933      no   no   \n",
       "1  40576   31     unknown   married  secondary      no        3      no   no   \n",
       "2  15320   27    services   married  secondary      no      891     yes   no   \n",
       "3  43962   57  management  divorced   tertiary      no     3287      no   no   \n",
       "4  29842   31  technician   married  secondary      no      119     yes   no   \n",
       "\n",
       "     contact  day month  duration  campaign  pdays  previous poutcome  \\\n",
       "0  telephone   19   nov        44         2     -1         0  unknown   \n",
       "1   cellular   20   jul        91         2     -1         0  unknown   \n",
       "2   cellular   18   jul       240         1     -1         0  unknown   \n",
       "3   cellular   22   jun       867         1     84         3  success   \n",
       "4   cellular    4   feb       380         1     -1         0  unknown   \n",
       "\n",
       "  subscribed  \n",
       "0         no  \n",
       "1         no  \n",
       "2         no  \n",
       "3        yes  \n",
       "4         no  "
      ]
     },
     "execution_count": 3,
     "metadata": {},
     "output_type": "execute_result"
    }
   ],
   "source": [
    "#display of our training dataset\n",
    "term_deposit_train.head()"
   ]
  },
  {
   "cell_type": "markdown",
   "id": "5c91aa2f",
   "metadata": {},
   "source": [
    "We can see we both categorical and numerical variables in our datasets."
   ]
  },
  {
   "cell_type": "code",
   "execution_count": 4,
   "id": "13971497",
   "metadata": {},
   "outputs": [
    {
     "data": {
      "text/html": [
       "<div>\n",
       "<style scoped>\n",
       "    .dataframe tbody tr th:only-of-type {\n",
       "        vertical-align: middle;\n",
       "    }\n",
       "\n",
       "    .dataframe tbody tr th {\n",
       "        vertical-align: top;\n",
       "    }\n",
       "\n",
       "    .dataframe thead th {\n",
       "        text-align: right;\n",
       "    }\n",
       "</style>\n",
       "<table border=\"1\" class=\"dataframe\">\n",
       "  <thead>\n",
       "    <tr style=\"text-align: right;\">\n",
       "      <th></th>\n",
       "      <th>ID</th>\n",
       "      <th>age</th>\n",
       "      <th>job</th>\n",
       "      <th>marital</th>\n",
       "      <th>education</th>\n",
       "      <th>default</th>\n",
       "      <th>balance</th>\n",
       "      <th>housing</th>\n",
       "      <th>loan</th>\n",
       "      <th>contact</th>\n",
       "      <th>day</th>\n",
       "      <th>month</th>\n",
       "      <th>duration</th>\n",
       "      <th>campaign</th>\n",
       "      <th>pdays</th>\n",
       "      <th>previous</th>\n",
       "      <th>poutcome</th>\n",
       "    </tr>\n",
       "  </thead>\n",
       "  <tbody>\n",
       "    <tr>\n",
       "      <th>0</th>\n",
       "      <td>38441</td>\n",
       "      <td>32</td>\n",
       "      <td>services</td>\n",
       "      <td>married</td>\n",
       "      <td>secondary</td>\n",
       "      <td>no</td>\n",
       "      <td>118</td>\n",
       "      <td>yes</td>\n",
       "      <td>no</td>\n",
       "      <td>cellular</td>\n",
       "      <td>15</td>\n",
       "      <td>may</td>\n",
       "      <td>20</td>\n",
       "      <td>6</td>\n",
       "      <td>-1</td>\n",
       "      <td>0</td>\n",
       "      <td>unknown</td>\n",
       "    </tr>\n",
       "    <tr>\n",
       "      <th>1</th>\n",
       "      <td>40403</td>\n",
       "      <td>78</td>\n",
       "      <td>retired</td>\n",
       "      <td>divorced</td>\n",
       "      <td>primary</td>\n",
       "      <td>no</td>\n",
       "      <td>2787</td>\n",
       "      <td>no</td>\n",
       "      <td>no</td>\n",
       "      <td>telephone</td>\n",
       "      <td>1</td>\n",
       "      <td>jul</td>\n",
       "      <td>372</td>\n",
       "      <td>1</td>\n",
       "      <td>-1</td>\n",
       "      <td>0</td>\n",
       "      <td>unknown</td>\n",
       "    </tr>\n",
       "    <tr>\n",
       "      <th>2</th>\n",
       "      <td>3709</td>\n",
       "      <td>31</td>\n",
       "      <td>self-employed</td>\n",
       "      <td>single</td>\n",
       "      <td>tertiary</td>\n",
       "      <td>no</td>\n",
       "      <td>144</td>\n",
       "      <td>yes</td>\n",
       "      <td>no</td>\n",
       "      <td>unknown</td>\n",
       "      <td>16</td>\n",
       "      <td>may</td>\n",
       "      <td>676</td>\n",
       "      <td>1</td>\n",
       "      <td>-1</td>\n",
       "      <td>0</td>\n",
       "      <td>unknown</td>\n",
       "    </tr>\n",
       "    <tr>\n",
       "      <th>3</th>\n",
       "      <td>37422</td>\n",
       "      <td>57</td>\n",
       "      <td>services</td>\n",
       "      <td>single</td>\n",
       "      <td>primary</td>\n",
       "      <td>no</td>\n",
       "      <td>3777</td>\n",
       "      <td>yes</td>\n",
       "      <td>no</td>\n",
       "      <td>telephone</td>\n",
       "      <td>13</td>\n",
       "      <td>may</td>\n",
       "      <td>65</td>\n",
       "      <td>2</td>\n",
       "      <td>-1</td>\n",
       "      <td>0</td>\n",
       "      <td>unknown</td>\n",
       "    </tr>\n",
       "    <tr>\n",
       "      <th>4</th>\n",
       "      <td>12527</td>\n",
       "      <td>45</td>\n",
       "      <td>blue-collar</td>\n",
       "      <td>divorced</td>\n",
       "      <td>secondary</td>\n",
       "      <td>no</td>\n",
       "      <td>-705</td>\n",
       "      <td>no</td>\n",
       "      <td>yes</td>\n",
       "      <td>unknown</td>\n",
       "      <td>3</td>\n",
       "      <td>jul</td>\n",
       "      <td>111</td>\n",
       "      <td>1</td>\n",
       "      <td>-1</td>\n",
       "      <td>0</td>\n",
       "      <td>unknown</td>\n",
       "    </tr>\n",
       "  </tbody>\n",
       "</table>\n",
       "</div>"
      ],
      "text/plain": [
       "      ID  age            job   marital  education default  balance housing  \\\n",
       "0  38441   32       services   married  secondary      no      118     yes   \n",
       "1  40403   78        retired  divorced    primary      no     2787      no   \n",
       "2   3709   31  self-employed    single   tertiary      no      144     yes   \n",
       "3  37422   57       services    single    primary      no     3777     yes   \n",
       "4  12527   45    blue-collar  divorced  secondary      no     -705      no   \n",
       "\n",
       "  loan    contact  day month  duration  campaign  pdays  previous poutcome  \n",
       "0   no   cellular   15   may        20         6     -1         0  unknown  \n",
       "1   no  telephone    1   jul       372         1     -1         0  unknown  \n",
       "2   no    unknown   16   may       676         1     -1         0  unknown  \n",
       "3   no  telephone   13   may        65         2     -1         0  unknown  \n",
       "4  yes    unknown    3   jul       111         1     -1         0  unknown  "
      ]
     },
     "execution_count": 4,
     "metadata": {},
     "output_type": "execute_result"
    }
   ],
   "source": [
    "#display of our training dataset\n",
    "term_deposit_test.head()"
   ]
  },
  {
   "cell_type": "code",
   "execution_count": 5,
   "id": "418aacb5",
   "metadata": {},
   "outputs": [
    {
     "data": {
      "text/plain": [
       "((31647, 18), (13564, 17))"
      ]
     },
     "execution_count": 5,
     "metadata": {},
     "output_type": "execute_result"
    }
   ],
   "source": [
    "# Viewing the dimensions of our train and test data\n",
    "term_deposit_train.shape, term_deposit_test.shape"
   ]
  },
  {
   "cell_type": "markdown",
   "id": "5f6ca489",
   "metadata": {},
   "source": [
    "we have 31,647 rows and 18 columns in our training dataset. In our testing dataset, we have 13,564 rows and 17 columns. We have 17 columns in our test dataset because our target variable (subscribed) is not included."
   ]
  },
  {
   "cell_type": "code",
   "execution_count": 6,
   "id": "d7dc6ea0",
   "metadata": {},
   "outputs": [
    {
     "data": {
      "text/plain": [
       "Index(['ID', 'age', 'job', 'marital', 'education', 'default', 'balance',\n",
       "       'housing', 'loan', 'contact', 'day', 'month', 'duration', 'campaign',\n",
       "       'pdays', 'previous', 'poutcome', 'subscribed'],\n",
       "      dtype='object')"
      ]
     },
     "execution_count": 6,
     "metadata": {},
     "output_type": "execute_result"
    }
   ],
   "source": [
    "#Viewing the columns present in our training dataset\n",
    "term_deposit_train.columns"
   ]
  },
  {
   "cell_type": "markdown",
   "id": "993d487c",
   "metadata": {},
   "source": [
    "We have 18 columns in our training data"
   ]
  },
  {
   "cell_type": "code",
   "execution_count": 7,
   "id": "6b408efa",
   "metadata": {},
   "outputs": [
    {
     "data": {
      "text/plain": [
       "Index(['ID', 'age', 'job', 'marital', 'education', 'default', 'balance',\n",
       "       'housing', 'loan', 'contact', 'day', 'month', 'duration', 'campaign',\n",
       "       'pdays', 'previous', 'poutcome'],\n",
       "      dtype='object')"
      ]
     },
     "execution_count": 7,
     "metadata": {},
     "output_type": "execute_result"
    }
   ],
   "source": [
    "#Viewing the columns present in our testing dataset\n",
    "term_deposit_test.columns"
   ]
  },
  {
   "cell_type": "markdown",
   "id": "f2e53608",
   "metadata": {},
   "source": [
    "We have 17 columns in our testing data. The target variable is not included here."
   ]
  },
  {
   "cell_type": "code",
   "execution_count": 8,
   "id": "9f490db5",
   "metadata": {},
   "outputs": [
    {
     "name": "stdout",
     "output_type": "stream",
     "text": [
      "<class 'pandas.core.frame.DataFrame'>\n",
      "RangeIndex: 31647 entries, 0 to 31646\n",
      "Data columns (total 18 columns):\n",
      " #   Column      Non-Null Count  Dtype \n",
      "---  ------      --------------  ----- \n",
      " 0   ID          31647 non-null  int64 \n",
      " 1   age         31647 non-null  int64 \n",
      " 2   job         31647 non-null  object\n",
      " 3   marital     31647 non-null  object\n",
      " 4   education   31647 non-null  object\n",
      " 5   default     31647 non-null  object\n",
      " 6   balance     31647 non-null  int64 \n",
      " 7   housing     31647 non-null  object\n",
      " 8   loan        31647 non-null  object\n",
      " 9   contact     31647 non-null  object\n",
      " 10  day         31647 non-null  int64 \n",
      " 11  month       31647 non-null  object\n",
      " 12  duration    31647 non-null  int64 \n",
      " 13  campaign    31647 non-null  int64 \n",
      " 14  pdays       31647 non-null  int64 \n",
      " 15  previous    31647 non-null  int64 \n",
      " 16  poutcome    31647 non-null  object\n",
      " 17  subscribed  31647 non-null  object\n",
      "dtypes: int64(8), object(10)\n",
      "memory usage: 4.3+ MB\n"
     ]
    }
   ],
   "source": [
    "#Displays the basic information about the columns in our training dataset\n",
    "term_deposit_train.info()"
   ]
  },
  {
   "cell_type": "markdown",
   "id": "b439ff06",
   "metadata": {},
   "source": [
    "We have 8 columns that are of int64 datatype and 10 object datatype in our training dataset"
   ]
  },
  {
   "cell_type": "code",
   "execution_count": 9,
   "id": "cfd2ffd4",
   "metadata": {},
   "outputs": [
    {
     "name": "stdout",
     "output_type": "stream",
     "text": [
      "<class 'pandas.core.frame.DataFrame'>\n",
      "RangeIndex: 13564 entries, 0 to 13563\n",
      "Data columns (total 17 columns):\n",
      " #   Column     Non-Null Count  Dtype \n",
      "---  ------     --------------  ----- \n",
      " 0   ID         13564 non-null  int64 \n",
      " 1   age        13564 non-null  int64 \n",
      " 2   job        13564 non-null  object\n",
      " 3   marital    13564 non-null  object\n",
      " 4   education  13564 non-null  object\n",
      " 5   default    13564 non-null  object\n",
      " 6   balance    13564 non-null  int64 \n",
      " 7   housing    13564 non-null  object\n",
      " 8   loan       13564 non-null  object\n",
      " 9   contact    13564 non-null  object\n",
      " 10  day        13564 non-null  int64 \n",
      " 11  month      13564 non-null  object\n",
      " 12  duration   13564 non-null  int64 \n",
      " 13  campaign   13564 non-null  int64 \n",
      " 14  pdays      13564 non-null  int64 \n",
      " 15  previous   13564 non-null  int64 \n",
      " 16  poutcome   13564 non-null  object\n",
      "dtypes: int64(8), object(9)\n",
      "memory usage: 1.8+ MB\n"
     ]
    }
   ],
   "source": [
    "#Displays the basic information about the columns in our testing dataset\n",
    "term_deposit_test.info()"
   ]
  },
  {
   "cell_type": "markdown",
   "id": "b942faf7",
   "metadata": {},
   "source": [
    "We have 8 columns that are of int64 datatype and 9 object datatype in our training dataset"
   ]
  },
  {
   "cell_type": "code",
   "execution_count": 10,
   "id": "0ee0f69c",
   "metadata": {},
   "outputs": [
    {
     "data": {
      "text/html": [
       "<div>\n",
       "<style scoped>\n",
       "    .dataframe tbody tr th:only-of-type {\n",
       "        vertical-align: middle;\n",
       "    }\n",
       "\n",
       "    .dataframe tbody tr th {\n",
       "        vertical-align: top;\n",
       "    }\n",
       "\n",
       "    .dataframe thead th {\n",
       "        text-align: right;\n",
       "    }\n",
       "</style>\n",
       "<table border=\"1\" class=\"dataframe\">\n",
       "  <thead>\n",
       "    <tr style=\"text-align: right;\">\n",
       "      <th></th>\n",
       "      <th>ID</th>\n",
       "      <th>age</th>\n",
       "      <th>balance</th>\n",
       "      <th>day</th>\n",
       "      <th>duration</th>\n",
       "      <th>campaign</th>\n",
       "      <th>pdays</th>\n",
       "      <th>previous</th>\n",
       "    </tr>\n",
       "  </thead>\n",
       "  <tbody>\n",
       "    <tr>\n",
       "      <th>count</th>\n",
       "      <td>31647.000000</td>\n",
       "      <td>31647.000000</td>\n",
       "      <td>31647.000000</td>\n",
       "      <td>31647.000000</td>\n",
       "      <td>31647.000000</td>\n",
       "      <td>31647.000000</td>\n",
       "      <td>31647.000000</td>\n",
       "      <td>31647.000000</td>\n",
       "    </tr>\n",
       "    <tr>\n",
       "      <th>mean</th>\n",
       "      <td>22563.972162</td>\n",
       "      <td>40.957247</td>\n",
       "      <td>1363.890258</td>\n",
       "      <td>15.835466</td>\n",
       "      <td>258.113534</td>\n",
       "      <td>2.765697</td>\n",
       "      <td>39.576042</td>\n",
       "      <td>0.574272</td>\n",
       "    </tr>\n",
       "    <tr>\n",
       "      <th>std</th>\n",
       "      <td>13075.936990</td>\n",
       "      <td>10.625134</td>\n",
       "      <td>3028.304293</td>\n",
       "      <td>8.337097</td>\n",
       "      <td>257.118973</td>\n",
       "      <td>3.113830</td>\n",
       "      <td>99.317592</td>\n",
       "      <td>2.422529</td>\n",
       "    </tr>\n",
       "    <tr>\n",
       "      <th>min</th>\n",
       "      <td>2.000000</td>\n",
       "      <td>18.000000</td>\n",
       "      <td>-8019.000000</td>\n",
       "      <td>1.000000</td>\n",
       "      <td>0.000000</td>\n",
       "      <td>1.000000</td>\n",
       "      <td>-1.000000</td>\n",
       "      <td>0.000000</td>\n",
       "    </tr>\n",
       "    <tr>\n",
       "      <th>25%</th>\n",
       "      <td>11218.000000</td>\n",
       "      <td>33.000000</td>\n",
       "      <td>73.000000</td>\n",
       "      <td>8.000000</td>\n",
       "      <td>104.000000</td>\n",
       "      <td>1.000000</td>\n",
       "      <td>-1.000000</td>\n",
       "      <td>0.000000</td>\n",
       "    </tr>\n",
       "    <tr>\n",
       "      <th>50%</th>\n",
       "      <td>22519.000000</td>\n",
       "      <td>39.000000</td>\n",
       "      <td>450.000000</td>\n",
       "      <td>16.000000</td>\n",
       "      <td>180.000000</td>\n",
       "      <td>2.000000</td>\n",
       "      <td>-1.000000</td>\n",
       "      <td>0.000000</td>\n",
       "    </tr>\n",
       "    <tr>\n",
       "      <th>75%</th>\n",
       "      <td>33879.500000</td>\n",
       "      <td>48.000000</td>\n",
       "      <td>1431.000000</td>\n",
       "      <td>21.000000</td>\n",
       "      <td>318.500000</td>\n",
       "      <td>3.000000</td>\n",
       "      <td>-1.000000</td>\n",
       "      <td>0.000000</td>\n",
       "    </tr>\n",
       "    <tr>\n",
       "      <th>max</th>\n",
       "      <td>45211.000000</td>\n",
       "      <td>95.000000</td>\n",
       "      <td>102127.000000</td>\n",
       "      <td>31.000000</td>\n",
       "      <td>4918.000000</td>\n",
       "      <td>63.000000</td>\n",
       "      <td>871.000000</td>\n",
       "      <td>275.000000</td>\n",
       "    </tr>\n",
       "  </tbody>\n",
       "</table>\n",
       "</div>"
      ],
      "text/plain": [
       "                 ID           age        balance           day      duration  \\\n",
       "count  31647.000000  31647.000000   31647.000000  31647.000000  31647.000000   \n",
       "mean   22563.972162     40.957247    1363.890258     15.835466    258.113534   \n",
       "std    13075.936990     10.625134    3028.304293      8.337097    257.118973   \n",
       "min        2.000000     18.000000   -8019.000000      1.000000      0.000000   \n",
       "25%    11218.000000     33.000000      73.000000      8.000000    104.000000   \n",
       "50%    22519.000000     39.000000     450.000000     16.000000    180.000000   \n",
       "75%    33879.500000     48.000000    1431.000000     21.000000    318.500000   \n",
       "max    45211.000000     95.000000  102127.000000     31.000000   4918.000000   \n",
       "\n",
       "           campaign         pdays      previous  \n",
       "count  31647.000000  31647.000000  31647.000000  \n",
       "mean       2.765697     39.576042      0.574272  \n",
       "std        3.113830     99.317592      2.422529  \n",
       "min        1.000000     -1.000000      0.000000  \n",
       "25%        1.000000     -1.000000      0.000000  \n",
       "50%        2.000000     -1.000000      0.000000  \n",
       "75%        3.000000     -1.000000      0.000000  \n",
       "max       63.000000    871.000000    275.000000  "
      ]
     },
     "execution_count": 10,
     "metadata": {},
     "output_type": "execute_result"
    }
   ],
   "source": [
    "#Generating the descriptive statistics of the numerical variable in our training dataset\n",
    "term_deposit_train.describe()"
   ]
  },
  {
   "cell_type": "markdown",
   "id": "c1bcb16f",
   "metadata": {},
   "source": [
    "We have equal counts(31647) of the data in our train. This means no missing values in our dataset."
   ]
  },
  {
   "cell_type": "code",
   "execution_count": 11,
   "id": "dcbd4740",
   "metadata": {},
   "outputs": [
    {
     "data": {
      "text/html": [
       "<div>\n",
       "<style scoped>\n",
       "    .dataframe tbody tr th:only-of-type {\n",
       "        vertical-align: middle;\n",
       "    }\n",
       "\n",
       "    .dataframe tbody tr th {\n",
       "        vertical-align: top;\n",
       "    }\n",
       "\n",
       "    .dataframe thead th {\n",
       "        text-align: right;\n",
       "    }\n",
       "</style>\n",
       "<table border=\"1\" class=\"dataframe\">\n",
       "  <thead>\n",
       "    <tr style=\"text-align: right;\">\n",
       "      <th></th>\n",
       "      <th>ID</th>\n",
       "      <th>age</th>\n",
       "      <th>balance</th>\n",
       "      <th>day</th>\n",
       "      <th>duration</th>\n",
       "      <th>campaign</th>\n",
       "      <th>pdays</th>\n",
       "      <th>previous</th>\n",
       "    </tr>\n",
       "  </thead>\n",
       "  <tbody>\n",
       "    <tr>\n",
       "      <th>count</th>\n",
       "      <td>13564.000000</td>\n",
       "      <td>13564.000000</td>\n",
       "      <td>13564.000000</td>\n",
       "      <td>13564.000000</td>\n",
       "      <td>13564.000000</td>\n",
       "      <td>13564.000000</td>\n",
       "      <td>13564.000000</td>\n",
       "      <td>13564.000000</td>\n",
       "    </tr>\n",
       "    <tr>\n",
       "      <th>mean</th>\n",
       "      <td>22704.057726</td>\n",
       "      <td>40.887128</td>\n",
       "      <td>1358.496535</td>\n",
       "      <td>15.738646</td>\n",
       "      <td>258.278679</td>\n",
       "      <td>2.759510</td>\n",
       "      <td>41.648555</td>\n",
       "      <td>0.594441</td>\n",
       "    </tr>\n",
       "    <tr>\n",
       "      <th>std</th>\n",
       "      <td>12994.043329</td>\n",
       "      <td>10.604108</td>\n",
       "      <td>3082.940623</td>\n",
       "      <td>8.288174</td>\n",
       "      <td>258.488648</td>\n",
       "      <td>3.060928</td>\n",
       "      <td>101.985178</td>\n",
       "      <td>1.998193</td>\n",
       "    </tr>\n",
       "    <tr>\n",
       "      <th>min</th>\n",
       "      <td>1.000000</td>\n",
       "      <td>18.000000</td>\n",
       "      <td>-3313.000000</td>\n",
       "      <td>1.000000</td>\n",
       "      <td>0.000000</td>\n",
       "      <td>1.000000</td>\n",
       "      <td>-1.000000</td>\n",
       "      <td>0.000000</td>\n",
       "    </tr>\n",
       "    <tr>\n",
       "      <th>25%</th>\n",
       "      <td>11546.000000</td>\n",
       "      <td>33.000000</td>\n",
       "      <td>71.000000</td>\n",
       "      <td>8.000000</td>\n",
       "      <td>102.000000</td>\n",
       "      <td>1.000000</td>\n",
       "      <td>-1.000000</td>\n",
       "      <td>0.000000</td>\n",
       "    </tr>\n",
       "    <tr>\n",
       "      <th>50%</th>\n",
       "      <td>22782.000000</td>\n",
       "      <td>39.000000</td>\n",
       "      <td>445.000000</td>\n",
       "      <td>16.000000</td>\n",
       "      <td>180.000000</td>\n",
       "      <td>2.000000</td>\n",
       "      <td>-1.000000</td>\n",
       "      <td>0.000000</td>\n",
       "    </tr>\n",
       "    <tr>\n",
       "      <th>75%</th>\n",
       "      <td>33974.250000</td>\n",
       "      <td>48.000000</td>\n",
       "      <td>1413.250000</td>\n",
       "      <td>21.000000</td>\n",
       "      <td>319.000000</td>\n",
       "      <td>3.000000</td>\n",
       "      <td>-1.000000</td>\n",
       "      <td>0.000000</td>\n",
       "    </tr>\n",
       "    <tr>\n",
       "      <th>max</th>\n",
       "      <td>45206.000000</td>\n",
       "      <td>95.000000</td>\n",
       "      <td>98417.000000</td>\n",
       "      <td>31.000000</td>\n",
       "      <td>3253.000000</td>\n",
       "      <td>58.000000</td>\n",
       "      <td>850.000000</td>\n",
       "      <td>55.000000</td>\n",
       "    </tr>\n",
       "  </tbody>\n",
       "</table>\n",
       "</div>"
      ],
      "text/plain": [
       "                 ID           age       balance           day      duration  \\\n",
       "count  13564.000000  13564.000000  13564.000000  13564.000000  13564.000000   \n",
       "mean   22704.057726     40.887128   1358.496535     15.738646    258.278679   \n",
       "std    12994.043329     10.604108   3082.940623      8.288174    258.488648   \n",
       "min        1.000000     18.000000  -3313.000000      1.000000      0.000000   \n",
       "25%    11546.000000     33.000000     71.000000      8.000000    102.000000   \n",
       "50%    22782.000000     39.000000    445.000000     16.000000    180.000000   \n",
       "75%    33974.250000     48.000000   1413.250000     21.000000    319.000000   \n",
       "max    45206.000000     95.000000  98417.000000     31.000000   3253.000000   \n",
       "\n",
       "           campaign         pdays      previous  \n",
       "count  13564.000000  13564.000000  13564.000000  \n",
       "mean       2.759510     41.648555      0.594441  \n",
       "std        3.060928    101.985178      1.998193  \n",
       "min        1.000000     -1.000000      0.000000  \n",
       "25%        1.000000     -1.000000      0.000000  \n",
       "50%        2.000000     -1.000000      0.000000  \n",
       "75%        3.000000     -1.000000      0.000000  \n",
       "max       58.000000    850.000000     55.000000  "
      ]
     },
     "execution_count": 11,
     "metadata": {},
     "output_type": "execute_result"
    }
   ],
   "source": [
    "#Generating the descriptive statistics of the numerical variable in our testing dataset\n",
    "term_deposit_test.describe()"
   ]
  },
  {
   "cell_type": "markdown",
   "id": "520e71d6",
   "metadata": {},
   "source": [
    "We have equal counts(13564) of the data in our test. This means no missing values in our dataset."
   ]
  },
  {
   "cell_type": "code",
   "execution_count": 12,
   "id": "0624a0f3",
   "metadata": {},
   "outputs": [
    {
     "data": {
      "text/html": [
       "<div>\n",
       "<style scoped>\n",
       "    .dataframe tbody tr th:only-of-type {\n",
       "        vertical-align: middle;\n",
       "    }\n",
       "\n",
       "    .dataframe tbody tr th {\n",
       "        vertical-align: top;\n",
       "    }\n",
       "\n",
       "    .dataframe thead th {\n",
       "        text-align: right;\n",
       "    }\n",
       "</style>\n",
       "<table border=\"1\" class=\"dataframe\">\n",
       "  <thead>\n",
       "    <tr style=\"text-align: right;\">\n",
       "      <th></th>\n",
       "      <th>job</th>\n",
       "      <th>marital</th>\n",
       "      <th>education</th>\n",
       "      <th>default</th>\n",
       "      <th>housing</th>\n",
       "      <th>loan</th>\n",
       "      <th>contact</th>\n",
       "      <th>month</th>\n",
       "      <th>poutcome</th>\n",
       "      <th>subscribed</th>\n",
       "    </tr>\n",
       "  </thead>\n",
       "  <tbody>\n",
       "    <tr>\n",
       "      <th>count</th>\n",
       "      <td>31647</td>\n",
       "      <td>31647</td>\n",
       "      <td>31647</td>\n",
       "      <td>31647</td>\n",
       "      <td>31647</td>\n",
       "      <td>31647</td>\n",
       "      <td>31647</td>\n",
       "      <td>31647</td>\n",
       "      <td>31647</td>\n",
       "      <td>31647</td>\n",
       "    </tr>\n",
       "    <tr>\n",
       "      <th>unique</th>\n",
       "      <td>12</td>\n",
       "      <td>3</td>\n",
       "      <td>4</td>\n",
       "      <td>2</td>\n",
       "      <td>2</td>\n",
       "      <td>2</td>\n",
       "      <td>3</td>\n",
       "      <td>12</td>\n",
       "      <td>4</td>\n",
       "      <td>2</td>\n",
       "    </tr>\n",
       "    <tr>\n",
       "      <th>top</th>\n",
       "      <td>blue-collar</td>\n",
       "      <td>married</td>\n",
       "      <td>secondary</td>\n",
       "      <td>no</td>\n",
       "      <td>yes</td>\n",
       "      <td>no</td>\n",
       "      <td>cellular</td>\n",
       "      <td>may</td>\n",
       "      <td>unknown</td>\n",
       "      <td>no</td>\n",
       "    </tr>\n",
       "    <tr>\n",
       "      <th>freq</th>\n",
       "      <td>6842</td>\n",
       "      <td>19095</td>\n",
       "      <td>16224</td>\n",
       "      <td>31062</td>\n",
       "      <td>17584</td>\n",
       "      <td>26516</td>\n",
       "      <td>20423</td>\n",
       "      <td>9669</td>\n",
       "      <td>25929</td>\n",
       "      <td>27932</td>\n",
       "    </tr>\n",
       "  </tbody>\n",
       "</table>\n",
       "</div>"
      ],
      "text/plain": [
       "                job  marital  education default housing   loan   contact  \\\n",
       "count         31647    31647      31647   31647   31647  31647     31647   \n",
       "unique           12        3          4       2       2      2         3   \n",
       "top     blue-collar  married  secondary      no     yes     no  cellular   \n",
       "freq           6842    19095      16224   31062   17584  26516     20423   \n",
       "\n",
       "        month poutcome subscribed  \n",
       "count   31647    31647      31647  \n",
       "unique     12        4          2  \n",
       "top       may  unknown         no  \n",
       "freq     9669    25929      27932  "
      ]
     },
     "execution_count": 12,
     "metadata": {},
     "output_type": "execute_result"
    }
   ],
   "source": [
    "#displaying the descriptive statistics of our categorical variables in train\n",
    "term_deposit_train.describe(include='object')"
   ]
  },
  {
   "cell_type": "code",
   "execution_count": 13,
   "id": "898554ef",
   "metadata": {},
   "outputs": [
    {
     "data": {
      "text/html": [
       "<div>\n",
       "<style scoped>\n",
       "    .dataframe tbody tr th:only-of-type {\n",
       "        vertical-align: middle;\n",
       "    }\n",
       "\n",
       "    .dataframe tbody tr th {\n",
       "        vertical-align: top;\n",
       "    }\n",
       "\n",
       "    .dataframe thead th {\n",
       "        text-align: right;\n",
       "    }\n",
       "</style>\n",
       "<table border=\"1\" class=\"dataframe\">\n",
       "  <thead>\n",
       "    <tr style=\"text-align: right;\">\n",
       "      <th></th>\n",
       "      <th>job</th>\n",
       "      <th>marital</th>\n",
       "      <th>education</th>\n",
       "      <th>default</th>\n",
       "      <th>housing</th>\n",
       "      <th>loan</th>\n",
       "      <th>contact</th>\n",
       "      <th>month</th>\n",
       "      <th>poutcome</th>\n",
       "    </tr>\n",
       "  </thead>\n",
       "  <tbody>\n",
       "    <tr>\n",
       "      <th>count</th>\n",
       "      <td>13564</td>\n",
       "      <td>13564</td>\n",
       "      <td>13564</td>\n",
       "      <td>13564</td>\n",
       "      <td>13564</td>\n",
       "      <td>13564</td>\n",
       "      <td>13564</td>\n",
       "      <td>13564</td>\n",
       "      <td>13564</td>\n",
       "    </tr>\n",
       "    <tr>\n",
       "      <th>unique</th>\n",
       "      <td>12</td>\n",
       "      <td>3</td>\n",
       "      <td>4</td>\n",
       "      <td>2</td>\n",
       "      <td>2</td>\n",
       "      <td>2</td>\n",
       "      <td>3</td>\n",
       "      <td>12</td>\n",
       "      <td>4</td>\n",
       "    </tr>\n",
       "    <tr>\n",
       "      <th>top</th>\n",
       "      <td>blue-collar</td>\n",
       "      <td>married</td>\n",
       "      <td>secondary</td>\n",
       "      <td>no</td>\n",
       "      <td>yes</td>\n",
       "      <td>no</td>\n",
       "      <td>cellular</td>\n",
       "      <td>may</td>\n",
       "      <td>unknown</td>\n",
       "    </tr>\n",
       "    <tr>\n",
       "      <th>freq</th>\n",
       "      <td>2890</td>\n",
       "      <td>8119</td>\n",
       "      <td>6978</td>\n",
       "      <td>13334</td>\n",
       "      <td>7546</td>\n",
       "      <td>11451</td>\n",
       "      <td>8862</td>\n",
       "      <td>4097</td>\n",
       "      <td>11030</td>\n",
       "    </tr>\n",
       "  </tbody>\n",
       "</table>\n",
       "</div>"
      ],
      "text/plain": [
       "                job  marital  education default housing   loan   contact  \\\n",
       "count         13564    13564      13564   13564   13564  13564     13564   \n",
       "unique           12        3          4       2       2      2         3   \n",
       "top     blue-collar  married  secondary      no     yes     no  cellular   \n",
       "freq           2890     8119       6978   13334    7546  11451      8862   \n",
       "\n",
       "        month poutcome  \n",
       "count   13564    13564  \n",
       "unique     12        4  \n",
       "top       may  unknown  \n",
       "freq     4097    11030  "
      ]
     },
     "execution_count": 13,
     "metadata": {},
     "output_type": "execute_result"
    }
   ],
   "source": [
    "#displaying the descriptive statistics of our categorical variables in test\n",
    "term_deposit_test.describe(include='object')"
   ]
  },
  {
   "cell_type": "code",
   "execution_count": 14,
   "id": "2ea0c5db",
   "metadata": {},
   "outputs": [
    {
     "data": {
      "text/html": [
       "<div>\n",
       "<style scoped>\n",
       "    .dataframe tbody tr th:only-of-type {\n",
       "        vertical-align: middle;\n",
       "    }\n",
       "\n",
       "    .dataframe tbody tr th {\n",
       "        vertical-align: top;\n",
       "    }\n",
       "\n",
       "    .dataframe thead th {\n",
       "        text-align: right;\n",
       "    }\n",
       "</style>\n",
       "<table border=\"1\" class=\"dataframe\">\n",
       "  <thead>\n",
       "    <tr style=\"text-align: right;\">\n",
       "      <th></th>\n",
       "      <th>ID</th>\n",
       "      <th>age</th>\n",
       "      <th>job</th>\n",
       "      <th>marital</th>\n",
       "      <th>education</th>\n",
       "      <th>default</th>\n",
       "      <th>balance</th>\n",
       "      <th>housing</th>\n",
       "      <th>loan</th>\n",
       "      <th>contact</th>\n",
       "      <th>day</th>\n",
       "      <th>month</th>\n",
       "      <th>duration</th>\n",
       "      <th>campaign</th>\n",
       "      <th>pdays</th>\n",
       "      <th>previous</th>\n",
       "      <th>poutcome</th>\n",
       "      <th>subscribed</th>\n",
       "    </tr>\n",
       "  </thead>\n",
       "  <tbody>\n",
       "    <tr>\n",
       "      <th>Train</th>\n",
       "      <td>0.0</td>\n",
       "      <td>0.0</td>\n",
       "      <td>0.0</td>\n",
       "      <td>0.0</td>\n",
       "      <td>0.0</td>\n",
       "      <td>0.0</td>\n",
       "      <td>0.0</td>\n",
       "      <td>0.0</td>\n",
       "      <td>0.0</td>\n",
       "      <td>0.0</td>\n",
       "      <td>0.0</td>\n",
       "      <td>0.0</td>\n",
       "      <td>0.0</td>\n",
       "      <td>0.0</td>\n",
       "      <td>0.0</td>\n",
       "      <td>0.0</td>\n",
       "      <td>0.0</td>\n",
       "      <td>0.0</td>\n",
       "    </tr>\n",
       "    <tr>\n",
       "      <th>Test</th>\n",
       "      <td>0.0</td>\n",
       "      <td>0.0</td>\n",
       "      <td>0.0</td>\n",
       "      <td>0.0</td>\n",
       "      <td>0.0</td>\n",
       "      <td>0.0</td>\n",
       "      <td>0.0</td>\n",
       "      <td>0.0</td>\n",
       "      <td>0.0</td>\n",
       "      <td>0.0</td>\n",
       "      <td>0.0</td>\n",
       "      <td>0.0</td>\n",
       "      <td>0.0</td>\n",
       "      <td>0.0</td>\n",
       "      <td>0.0</td>\n",
       "      <td>0.0</td>\n",
       "      <td>0.0</td>\n",
       "      <td>NaN</td>\n",
       "    </tr>\n",
       "  </tbody>\n",
       "</table>\n",
       "</div>"
      ],
      "text/plain": [
       "        ID  age  job  marital  education  default  balance  housing  loan  \\\n",
       "Train  0.0  0.0  0.0      0.0        0.0      0.0      0.0      0.0   0.0   \n",
       "Test   0.0  0.0  0.0      0.0        0.0      0.0      0.0      0.0   0.0   \n",
       "\n",
       "       contact  day  month  duration  campaign  pdays  previous  poutcome  \\\n",
       "Train      0.0  0.0    0.0       0.0       0.0    0.0       0.0       0.0   \n",
       "Test       0.0  0.0    0.0       0.0       0.0    0.0       0.0       0.0   \n",
       "\n",
       "       subscribed  \n",
       "Train         0.0  \n",
       "Test          NaN  "
      ]
     },
     "execution_count": 14,
     "metadata": {},
     "output_type": "execute_result"
    }
   ],
   "source": [
    "#checking missing values in our train and test data\n",
    "train_missing_values = pd.DataFrame(term_deposit_train.isnull().sum(), columns = ['Train'])\n",
    "test_missing_values = pd.DataFrame(term_deposit_test.isnull().sum(), columns = ['Test'])\n",
    "missing_values = pd.concat([train_missing_values, test_missing_values], axis = 1)\n",
    "missing_values.T"
   ]
  },
  {
   "cell_type": "markdown",
   "id": "d071b0b1",
   "metadata": {},
   "source": [
    "we can see that there are no missing values in both train and test dataset"
   ]
  },
  {
   "cell_type": "code",
   "execution_count": 15,
   "id": "b5aa8acc",
   "metadata": {},
   "outputs": [
    {
     "data": {
      "text/plain": [
       "2"
      ]
     },
     "execution_count": 15,
     "metadata": {},
     "output_type": "execute_result"
    }
   ],
   "source": [
    "#Displays the unique value for subscribed\n",
    "term_deposit_train['subscribed'].nunique()"
   ]
  },
  {
   "cell_type": "markdown",
   "id": "fc65fbe1",
   "metadata": {},
   "source": [
    "There are 2 unique occurences of the values in the target variable. This is a binary classification problem because we have two labels (yes or no)."
   ]
  },
  {
   "cell_type": "code",
   "execution_count": 16,
   "id": "512f8095",
   "metadata": {},
   "outputs": [
    {
     "data": {
      "text/plain": [
       "no     27932\n",
       "yes     3715\n",
       "Name: subscribed, dtype: int64"
      ]
     },
     "execution_count": 16,
     "metadata": {},
     "output_type": "execute_result"
    }
   ],
   "source": [
    "#This returns the count of unique occurrences in the subscribed column before categorizing into binary.\n",
    "term_deposit_train['subscribed'].value_counts()"
   ]
  },
  {
   "cell_type": "markdown",
   "id": "460a67d1",
   "metadata": {},
   "source": [
    "We have 27,932 no value and 3,715 yes values."
   ]
  },
  {
   "cell_type": "code",
   "execution_count": 17,
   "id": "25cd23d8",
   "metadata": {},
   "outputs": [
    {
     "name": "stdout",
     "output_type": "stream",
     "text": [
      "The number of duplicates in our training dataset is: 0\n"
     ]
    }
   ],
   "source": [
    "# Printing the total number of duplicates across all the columns in our training dataset\n",
    "duplicated = term_deposit_train.duplicated()\n",
    "\n",
    "print(\"The number of duplicates in our training dataset is:\", term_deposit_train.duplicated().sum())"
   ]
  },
  {
   "cell_type": "markdown",
   "id": "c9bf91f7",
   "metadata": {},
   "source": [
    "No duplicate records in our training dataset"
   ]
  },
  {
   "cell_type": "code",
   "execution_count": 18,
   "id": "cbe2230b",
   "metadata": {},
   "outputs": [
    {
     "name": "stdout",
     "output_type": "stream",
     "text": [
      "The number of duplicates in our testing dataset is: 0\n"
     ]
    }
   ],
   "source": [
    "# Printing the total number of duplicates across all the columns in our testing dataset\n",
    "duplicated = term_deposit_test.duplicated()\n",
    "\n",
    "print(\"The number of duplicates in our testing dataset is:\", term_deposit_test.duplicated().sum())"
   ]
  },
  {
   "cell_type": "markdown",
   "id": "4f82e9f5",
   "metadata": {},
   "source": [
    "No duplicate records in our testing dataset"
   ]
  },
  {
   "cell_type": "code",
   "execution_count": 19,
   "id": "1b0f6d37",
   "metadata": {},
   "outputs": [
    {
     "data": {
      "text/plain": [
       "no     27932\n",
       "yes     3715\n",
       "Name: subscribed, dtype: int64"
      ]
     },
     "execution_count": 19,
     "metadata": {},
     "output_type": "execute_result"
    }
   ],
   "source": [
    "#This returns the count of unique occurrences in the subscribed column.\n",
    "term_deposit_train['subscribed'].value_counts()"
   ]
  },
  {
   "cell_type": "code",
   "execution_count": 20,
   "id": "63e93b58",
   "metadata": {},
   "outputs": [
    {
     "data": {
      "text/plain": [
       "<seaborn.axisgrid.FacetGrid at 0x1c9dc8d03d0>"
      ]
     },
     "execution_count": 20,
     "metadata": {},
     "output_type": "execute_result"
    },
    {
     "data": {
      "image/png": "[encoded data removed]",
      "text/plain": [
       "<Figure size 360x360 with 1 Axes>"
      ]
     },
     "metadata": {
      "needs_background": "light"
     },
     "output_type": "display_data"
    }
   ],
   "source": [
    "# This catplot shows the distribution of subscribed column.\n",
    "sns.catplot(x ='subscribed', data = term_deposit_train, kind = 'count')"
   ]
  },
  {
   "cell_type": "markdown",
   "id": "2dcdfe71",
   "metadata": {},
   "source": [
    "These are the value counts of the unique occurrences of the subscribed variable. Out of the 31647 clients, only 3715 subscribed for a term deposit. \n",
    "Our target variable(subscribed) is a binary categorization as we have either a yes or a no value. The count is not balance. We shall be using the SMOTE algorithms to balance the column before building our model."
   ]
  },
  {
   "cell_type": "code",
   "execution_count": 21,
   "id": "b21edcac",
   "metadata": {},
   "outputs": [
    {
     "data": {
      "text/html": [
       "<div>\n",
       "<style scoped>\n",
       "    .dataframe tbody tr th:only-of-type {\n",
       "        vertical-align: middle;\n",
       "    }\n",
       "\n",
       "    .dataframe tbody tr th {\n",
       "        vertical-align: top;\n",
       "    }\n",
       "\n",
       "    .dataframe thead th {\n",
       "        text-align: right;\n",
       "    }\n",
       "</style>\n",
       "<table border=\"1\" class=\"dataframe\">\n",
       "  <thead>\n",
       "    <tr style=\"text-align: right;\">\n",
       "      <th></th>\n",
       "      <th>admin.</th>\n",
       "      <th>unknown</th>\n",
       "      <th>services</th>\n",
       "      <th>management</th>\n",
       "      <th>technician</th>\n",
       "      <th>retired</th>\n",
       "      <th>blue-collar</th>\n",
       "      <th>housemaid</th>\n",
       "      <th>self-employed</th>\n",
       "      <th>student</th>\n",
       "      <th>entrepreneur</th>\n",
       "      <th>unemployed</th>\n",
       "    </tr>\n",
       "  </thead>\n",
       "  <tbody>\n",
       "    <tr>\n",
       "      <th>Train</th>\n",
       "      <td>3631</td>\n",
       "      <td>206</td>\n",
       "      <td>2903</td>\n",
       "      <td>6639</td>\n",
       "      <td>5307</td>\n",
       "      <td>1574</td>\n",
       "      <td>6842</td>\n",
       "      <td>874</td>\n",
       "      <td>1123</td>\n",
       "      <td>635</td>\n",
       "      <td>1008</td>\n",
       "      <td>905</td>\n",
       "    </tr>\n",
       "    <tr>\n",
       "      <th>Test</th>\n",
       "      <td>1540</td>\n",
       "      <td>82</td>\n",
       "      <td>1251</td>\n",
       "      <td>2819</td>\n",
       "      <td>2290</td>\n",
       "      <td>690</td>\n",
       "      <td>2890</td>\n",
       "      <td>366</td>\n",
       "      <td>456</td>\n",
       "      <td>303</td>\n",
       "      <td>479</td>\n",
       "      <td>398</td>\n",
       "    </tr>\n",
       "  </tbody>\n",
       "</table>\n",
       "</div>"
      ],
      "text/plain": [
       "       admin.  unknown  services  management  technician  retired  \\\n",
       "Train    3631      206      2903        6639        5307     1574   \n",
       "Test     1540       82      1251        2819        2290      690   \n",
       "\n",
       "       blue-collar  housemaid  self-employed  student  entrepreneur  \\\n",
       "Train         6842        874           1123      635          1008   \n",
       "Test          2890        366            456      303           479   \n",
       "\n",
       "       unemployed  \n",
       "Train         905  \n",
       "Test          398  "
      ]
     },
     "execution_count": 21,
     "metadata": {},
     "output_type": "execute_result"
    }
   ],
   "source": [
    "#Display of the unique occurences of our job column for train and test\n",
    "unique_names = list(term_deposit_train['job'].unique())\n",
    "train_list = list(term_deposit_train['job'])\n",
    "test_list = list(term_deposit_test['job'])\n",
    "train_dict = {}\n",
    "test_dict = {}\n",
    "for name in unique_names:\n",
    "    train_dict[name] = train_list.count(name)\n",
    "    test_dict[name] = test_list.count(name)\n",
    "\n",
    "\n",
    "d = {'Train' : train_dict, 'Test' : test_dict} \n",
    "df = pd.DataFrame(d)\n",
    "df.T"
   ]
  },
  {
   "cell_type": "markdown",
   "id": "c884bf49",
   "metadata": {},
   "source": [
    "In both the train and test dataset, we have more clients in the blue-collar job category."
   ]
  },
  {
   "cell_type": "code",
   "execution_count": 22,
   "id": "25413310",
   "metadata": {},
   "outputs": [
    {
     "data": {
      "text/plain": [
       "<function matplotlib.pyplot.show(close=None, block=None)>"
      ]
     },
     "execution_count": 22,
     "metadata": {},
     "output_type": "execute_result"
    },
    {
     "data": {
      "image/png": "[encoded data removed]",
      "text/plain": [
       "<Figure size 1080x360 with 2 Axes>"
      ]
     },
     "metadata": {
      "needs_background": "light"
     },
     "output_type": "display_data"
    }
   ],
   "source": [
    "# countplot showing the types of job the clients do in train data\n",
    "f, ax = plt.subplots(1,2, figsize = (15,5))\n",
    "\n",
    "\n",
    "sns.countplot(x ='job', data = term_deposit_train,  ax = ax[0])\n",
    "ax[0].set_title('Count of types of job in train')\n",
    "ax[0].tick_params(axis='x', rotation = 90)\n",
    "\n",
    "# countplot showing the types of job the clients do in test data\n",
    "sns.countplot(x ='job', data = term_deposit_test,  ax = ax[1])\n",
    "ax[1].set_title('Count of types of job in test')\n",
    "ax[1].tick_params(axis='x', rotation = 90)\n",
    "plt.show"
   ]
  },
  {
   "cell_type": "markdown",
   "id": "cfcf49cf",
   "metadata": {},
   "source": [
    "From the above count and plot, we can see that most of the clients work in the blue-collar job followed by the management job and thirdly technician job."
   ]
  },
  {
   "cell_type": "code",
   "execution_count": 23,
   "id": "362160d0",
   "metadata": {},
   "outputs": [
    {
     "data": {
      "text/plain": [
       "married     19095\n",
       "single       8922\n",
       "divorced     3630\n",
       "Name: marital, dtype: int64"
      ]
     },
     "execution_count": 23,
     "metadata": {},
     "output_type": "execute_result"
    }
   ],
   "source": [
    "#This returns the count of unique occurrences in the marital column.\n",
    "term_deposit_train['marital'].value_counts()"
   ]
  },
  {
   "cell_type": "code",
   "execution_count": 24,
   "id": "27aac399",
   "metadata": {},
   "outputs": [
    {
     "data": {
      "text/plain": [
       "married     8119\n",
       "single      3868\n",
       "divorced    1577\n",
       "Name: marital, dtype: int64"
      ]
     },
     "execution_count": 24,
     "metadata": {},
     "output_type": "execute_result"
    }
   ],
   "source": [
    "#This returns the count of unique occurrences in the marital column.\n",
    "term_deposit_test['marital'].value_counts()"
   ]
  },
  {
   "cell_type": "code",
   "execution_count": 25,
   "id": "e90248f8",
   "metadata": {},
   "outputs": [
    {
     "data": {
      "text/plain": [
       "<function matplotlib.pyplot.show(close=None, block=None)>"
      ]
     },
     "execution_count": 25,
     "metadata": {},
     "output_type": "execute_result"
    },
    {
     "data": {
      "image/png": "[encoded data removed]",
      "text/plain": [
       "<Figure size 1080x360 with 2 Axes>"
      ]
     },
     "metadata": {
      "needs_background": "light"
     },
     "output_type": "display_data"
    }
   ],
   "source": [
    "# countplot showing the marital status of the clients in train data\n",
    "f, ax = plt.subplots(1,2, figsize = (15,5))\n",
    "\n",
    "sns.countplot(x ='marital', data = term_deposit_train,  ax = ax[0])\n",
    "ax[0].set_title('Count of marital status in train')\n",
    "\n",
    "# countplot showing the marital status of the clients in test data\n",
    "sns.countplot(x ='marital', data = term_deposit_test,  ax = ax[1])\n",
    "ax[1].set_title('Count of marital status in test')\n",
    "plt.show"
   ]
  },
  {
   "cell_type": "markdown",
   "id": "14587fa4",
   "metadata": {},
   "source": [
    "Most of the clients are married. We have few clients that are divorced."
   ]
  },
  {
   "cell_type": "code",
   "execution_count": 26,
   "id": "b132a3c8",
   "metadata": {},
   "outputs": [
    {
     "data": {
      "text/plain": [
       "secondary    16224\n",
       "tertiary      9301\n",
       "primary       4808\n",
       "unknown       1314\n",
       "Name: education, dtype: int64"
      ]
     },
     "execution_count": 26,
     "metadata": {},
     "output_type": "execute_result"
    }
   ],
   "source": [
    "#This returns the count of unique occurrences in the education column.\n",
    "term_deposit_train['education'].value_counts()"
   ]
  },
  {
   "cell_type": "code",
   "execution_count": 27,
   "id": "bcbc7ab9",
   "metadata": {},
   "outputs": [
    {
     "data": {
      "text/plain": [
       "secondary    6978\n",
       "tertiary     4000\n",
       "primary      2043\n",
       "unknown       543\n",
       "Name: education, dtype: int64"
      ]
     },
     "execution_count": 27,
     "metadata": {},
     "output_type": "execute_result"
    }
   ],
   "source": [
    "#This returns the count of unique occurrences in the education column.\n",
    "term_deposit_test['education'].value_counts()"
   ]
  },
  {
   "cell_type": "code",
   "execution_count": 28,
   "id": "12553d82",
   "metadata": {},
   "outputs": [
    {
     "data": {
      "text/plain": [
       "<function matplotlib.pyplot.show(close=None, block=None)>"
      ]
     },
     "execution_count": 28,
     "metadata": {},
     "output_type": "execute_result"
    },
    {
     "data": {
      "image/png": "[encoded data removed]",
      "text/plain": [
       "<Figure size 1080x360 with 2 Axes>"
      ]
     },
     "metadata": {
      "needs_background": "light"
     },
     "output_type": "display_data"
    }
   ],
   "source": [
    "# countplot showing the clients education level in train data\n",
    "f, ax = plt.subplots(1,2, figsize = (15,5))\n",
    "\n",
    "sns.countplot(x ='education', data = term_deposit_train,  ax = ax[0])\n",
    "ax[0].set_title('Count of clients education level in train')\n",
    "\n",
    "# countplot showing the clients education level in test data\n",
    "sns.countplot(x ='education', data = term_deposit_test,  ax = ax[1])\n",
    "ax[1].set_title('Count of clients education level in test')\n",
    "plt.show"
   ]
  },
  {
   "cell_type": "markdown",
   "id": "cddd60ab",
   "metadata": {},
   "source": [
    "Most clients completed their secondary education."
   ]
  },
  {
   "cell_type": "code",
   "execution_count": 29,
   "id": "e87c98fe",
   "metadata": {},
   "outputs": [
    {
     "data": {
      "text/plain": [
       "no     26516\n",
       "yes     5131\n",
       "Name: loan, dtype: int64"
      ]
     },
     "execution_count": 29,
     "metadata": {},
     "output_type": "execute_result"
    }
   ],
   "source": [
    "#This returns the count of unique occurrences in the loan column.\n",
    "term_deposit_train['loan'].value_counts()"
   ]
  },
  {
   "cell_type": "code",
   "execution_count": 30,
   "id": "4bb70b57",
   "metadata": {},
   "outputs": [
    {
     "data": {
      "text/plain": [
       "no     11451\n",
       "yes     2113\n",
       "Name: loan, dtype: int64"
      ]
     },
     "execution_count": 30,
     "metadata": {},
     "output_type": "execute_result"
    }
   ],
   "source": [
    "#This returns the count of unique occurrences in the loan column.\n",
    "term_deposit_test['loan'].value_counts()"
   ]
  },
  {
   "cell_type": "code",
   "execution_count": 31,
   "id": "f90cc8bb",
   "metadata": {},
   "outputs": [
    {
     "data": {
      "text/plain": [
       "<function matplotlib.pyplot.show(close=None, block=None)>"
      ]
     },
     "execution_count": 31,
     "metadata": {},
     "output_type": "execute_result"
    },
    {
     "data": {
      "image/png": "[encoded data removed]",
      "text/plain": [
       "<Figure size 1080x360 with 2 Axes>"
      ]
     },
     "metadata": {
      "needs_background": "light"
     },
     "output_type": "display_data"
    }
   ],
   "source": [
    "# countplot showing the clients with personal loan from train data\n",
    "f, ax = plt.subplots(1,2, figsize = (15,5))\n",
    "\n",
    "sns.countplot(x ='loan', data = term_deposit_train,  ax = ax[0])\n",
    "ax[0].set_title('Count of clients with personal loan in train')\n",
    "\n",
    "# countplot showing the clients with personal loan from our test data\n",
    "sns.countplot(x ='loan', data = term_deposit_test,  ax = ax[1])\n",
    "ax[1].set_title('Count of clients with personal loan in test')\n",
    "plt.show"
   ]
  },
  {
   "cell_type": "markdown",
   "id": "9026e5aa",
   "metadata": {},
   "source": [
    "Most of the clients do not have personal loan."
   ]
  },
  {
   "cell_type": "code",
   "execution_count": 32,
   "id": "61030455",
   "metadata": {},
   "outputs": [
    {
     "data": {
      "text/plain": [
       "yes    17584\n",
       "no     14063\n",
       "Name: housing, dtype: int64"
      ]
     },
     "execution_count": 32,
     "metadata": {},
     "output_type": "execute_result"
    }
   ],
   "source": [
    "#This returns the count of unique occurrences in the housing column.\n",
    "term_deposit_train['housing'].value_counts()"
   ]
  },
  {
   "cell_type": "code",
   "execution_count": 33,
   "id": "2c1caa0c",
   "metadata": {},
   "outputs": [
    {
     "data": {
      "text/plain": [
       "yes    7546\n",
       "no     6018\n",
       "Name: housing, dtype: int64"
      ]
     },
     "execution_count": 33,
     "metadata": {},
     "output_type": "execute_result"
    }
   ],
   "source": [
    "#This returns the count of unique occurrences in the housing column.\n",
    "term_deposit_test['housing'].value_counts()"
   ]
  },
  {
   "cell_type": "code",
   "execution_count": 34,
   "id": "22cd97cb",
   "metadata": {},
   "outputs": [
    {
     "data": {
      "text/plain": [
       "<function matplotlib.pyplot.show(close=None, block=None)>"
      ]
     },
     "execution_count": 34,
     "metadata": {},
     "output_type": "execute_result"
    },
    {
     "data": {
      "image/png": "[encoded data removed]",
      "text/plain": [
       "<Figure size 1080x360 with 2 Axes>"
      ]
     },
     "metadata": {
      "needs_background": "light"
     },
     "output_type": "display_data"
    }
   ],
   "source": [
    "# countplot showing the clients with housing loan in train data\n",
    "f, ax = plt.subplots(1,2, figsize = (15,5))\n",
    "\n",
    "sns.countplot(x ='housing', data = term_deposit_train,  ax = ax[0])\n",
    "ax[0].set_title('Count of clients with housing loan in train')\n",
    "\n",
    "# countplot showing the clients with housing loan in test data\n",
    "sns.countplot(x ='housing', data = term_deposit_test,  ax = ax[1])\n",
    "ax[1].set_title('Count of clients with housing loan in test')\n",
    "plt.show"
   ]
  },
  {
   "cell_type": "markdown",
   "id": "53c04227",
   "metadata": {},
   "source": [
    "Most of the clients have housing loan."
   ]
  },
  {
   "cell_type": "code",
   "execution_count": 35,
   "id": "ccf331af",
   "metadata": {},
   "outputs": [
    {
     "data": {
      "text/plain": [
       "cellular     20423\n",
       "unknown       9177\n",
       "telephone     2047\n",
       "Name: contact, dtype: int64"
      ]
     },
     "execution_count": 35,
     "metadata": {},
     "output_type": "execute_result"
    }
   ],
   "source": [
    "#This returns the count of unique occurrences in the contact column for train.\n",
    "term_deposit_train['contact'].value_counts()"
   ]
  },
  {
   "cell_type": "code",
   "execution_count": 36,
   "id": "67d26bbe",
   "metadata": {},
   "outputs": [
    {
     "data": {
      "text/plain": [
       "cellular     8862\n",
       "unknown      3843\n",
       "telephone     859\n",
       "Name: contact, dtype: int64"
      ]
     },
     "execution_count": 36,
     "metadata": {},
     "output_type": "execute_result"
    }
   ],
   "source": [
    "#This returns the count of unique occurrences in the contact column for test.\n",
    "term_deposit_test['contact'].value_counts()"
   ]
  },
  {
   "cell_type": "code",
   "execution_count": 37,
   "id": "72753e4b",
   "metadata": {},
   "outputs": [
    {
     "data": {
      "text/plain": [
       "<function matplotlib.pyplot.show(close=None, block=None)>"
      ]
     },
     "execution_count": 37,
     "metadata": {},
     "output_type": "execute_result"
    },
    {
     "data": {
      "image/png": "[encoded data removed]",
      "text/plain": [
       "<Figure size 1080x360 with 2 Axes>"
      ]
     },
     "metadata": {
      "needs_background": "light"
     },
     "output_type": "display_data"
    }
   ],
   "source": [
    "# countplot showing the method by which the clients were communicated in train data\n",
    "f, ax = plt.subplots(1,2, figsize = (15,5))\n",
    "\n",
    "sns.countplot(x ='contact', data = term_deposit_train,  ax = ax[0])\n",
    "ax[0].set_title('Count of method of communication in train')\n",
    "\n",
    "# countplot showing the method by which the clients were communicated in test data\n",
    "sns.countplot(x ='contact', data = term_deposit_test,  ax = ax[1])\n",
    "ax[1].set_title('Count of method of communication in test')\n",
    "plt.show"
   ]
  },
  {
   "cell_type": "markdown",
   "id": "6521e7ee",
   "metadata": {},
   "source": [
    "Most of the clients were communicated using the cellular."
   ]
  },
  {
   "cell_type": "code",
   "execution_count": 38,
   "id": "e432dafb",
   "metadata": {},
   "outputs": [
    {
     "name": "stderr",
     "output_type": "stream",
     "text": [
      "C:\\Users\\Omen\\anaconda3\\lib\\site-packages\\seaborn\\distributions.py:2619: FutureWarning: `distplot` is a deprecated function and will be removed in a future version. Please adapt your code to use either `displot` (a figure-level function with similar flexibility) or `histplot` (an axes-level function for histograms).\n",
      "  warnings.warn(msg, FutureWarning)\n"
     ]
    },
    {
     "data": {
      "text/plain": [
       "Text(0.5, 1.0, 'Age distribution of the clients')"
      ]
     },
     "execution_count": 38,
     "metadata": {},
     "output_type": "execute_result"
    },
    {
     "data": {
      "image/png": "[encoded data removed]",
      "text/plain": [
       "<Figure size 720x360 with 1 Axes>"
      ]
     },
     "metadata": {
      "needs_background": "light"
     },
     "output_type": "display_data"
    }
   ],
   "source": [
    "#Distribution plot of the age column in our train\n",
    "plt.figure(figsize=[10,5])\n",
    "sns.distplot(term_deposit_train['age']);\n",
    "plt.title('Age distribution of the clients')"
   ]
  },
  {
   "cell_type": "markdown",
   "id": "ed1b2abc",
   "metadata": {},
   "source": [
    "We can see from the districution plot that most of the clients are between the age of 20 and 60."
   ]
  },
  {
   "cell_type": "code",
   "execution_count": 39,
   "id": "2de0dc52",
   "metadata": {},
   "outputs": [
    {
     "data": {
      "text/plain": [
       "subscribed  job          \n",
       "no          admin.           3179\n",
       "            blue-collar      6353\n",
       "            entrepreneur      923\n",
       "            housemaid         795\n",
       "            management       5716\n",
       "            retired          1212\n",
       "            self-employed     983\n",
       "            services         2649\n",
       "            student           453\n",
       "            technician       4713\n",
       "            unemployed        776\n",
       "            unknown           180\n",
       "yes         admin.            452\n",
       "            blue-collar       489\n",
       "            entrepreneur       85\n",
       "            housemaid          79\n",
       "            management        923\n",
       "            retired           362\n",
       "            self-employed     140\n",
       "            services          254\n",
       "            student           182\n",
       "            technician        594\n",
       "            unemployed        129\n",
       "            unknown            26\n",
       "dtype: int64"
      ]
     },
     "execution_count": 39,
     "metadata": {},
     "output_type": "execute_result"
    }
   ],
   "source": [
    "# Grouping of job category by subscription\n",
    "term_deposit_train.groupby(['subscribed', 'job']).size()"
   ]
  },
  {
   "cell_type": "markdown",
   "id": "177ddf8d",
   "metadata": {},
   "source": [
    "Clients in the Management job category are more likely to subscribe for term deposit. \n",
    "The highest number of clients not likely to subscribe for the term deposit are in the blue-collar job category."
   ]
  },
  {
   "cell_type": "code",
   "execution_count": 40,
   "id": "11823bc8",
   "metadata": {},
   "outputs": [
    {
     "data": {
      "image/png": "[encoded data removed]",
      "text/plain": [
       "<Figure size 1080x720 with 1 Axes>"
      ]
     },
     "metadata": {
      "needs_background": "light"
     },
     "output_type": "display_data"
    }
   ],
   "source": [
    "# countplot showing the ports the passengers(survived or did not survive) boarded from\n",
    "plt.figure(figsize=[15,10])\n",
    "sns.countplot(x='job', hue='subscribed', data=term_deposit_train)\n",
    "plt.title('job type distribution across subscribed')\n",
    "plt.xticks(rotation = 90)\n",
    "plt.show()"
   ]
  },
  {
   "cell_type": "markdown",
   "id": "5ca438c2",
   "metadata": {},
   "source": [
    "We can see that clients in the management job category subscribed more than others."
   ]
  },
  {
   "cell_type": "code",
   "execution_count": 41,
   "id": "347294f8",
   "metadata": {},
   "outputs": [
    {
     "data": {
      "text/plain": [
       "subscribed  marital \n",
       "no          divorced     3185\n",
       "            married     17176\n",
       "            single       7571\n",
       "yes         divorced      445\n",
       "            married      1919\n",
       "            single       1351\n",
       "dtype: int64"
      ]
     },
     "execution_count": 41,
     "metadata": {},
     "output_type": "execute_result"
    }
   ],
   "source": [
    "# Grouping of marital category by subscription\n",
    "term_deposit_train.groupby(['subscribed', 'marital']).size()"
   ]
  },
  {
   "cell_type": "code",
   "execution_count": 42,
   "id": "e81d3c9f",
   "metadata": {},
   "outputs": [
    {
     "data": {
      "image/png": "[encoded data removed]",
      "text/plain": [
       "<Figure size 720x720 with 1 Axes>"
      ]
     },
     "metadata": {
      "needs_background": "light"
     },
     "output_type": "display_data"
    }
   ],
   "source": [
    "# countplot showing the ports the passengers(survived or did not survive) boarded from\n",
    "plt.figure(figsize=[10,10])\n",
    "sns.countplot(x='marital', hue='subscribed', data=term_deposit_train)\n",
    "plt.title('marital status across subscription status')\n",
    "plt.xticks(rotation = 90)\n",
    "plt.show()"
   ]
  },
  {
   "cell_type": "markdown",
   "id": "f8256889",
   "metadata": {},
   "source": [
    "From the above, we can see that many married clients did not subscribe for a term deposit."
   ]
  },
  {
   "cell_type": "code",
   "execution_count": 43,
   "id": "93800cdc",
   "metadata": {},
   "outputs": [
    {
     "data": {
      "text/plain": [
       "subscribed  education\n",
       "no          primary       4381\n",
       "            secondary    14527\n",
       "            tertiary      7886\n",
       "            unknown       1138\n",
       "yes         primary        427\n",
       "            secondary     1697\n",
       "            tertiary      1415\n",
       "            unknown        176\n",
       "dtype: int64"
      ]
     },
     "execution_count": 43,
     "metadata": {},
     "output_type": "execute_result"
    }
   ],
   "source": [
    "# Grouping of education category by subscription\n",
    "term_deposit_train.groupby(['subscribed', 'education']).size()"
   ]
  },
  {
   "cell_type": "code",
   "execution_count": 44,
   "id": "809a3078",
   "metadata": {},
   "outputs": [
    {
     "data": {
      "image/png": "[encoded data removed]",
      "text/plain": [
       "<Figure size 720x720 with 1 Axes>"
      ]
     },
     "metadata": {
      "needs_background": "light"
     },
     "output_type": "display_data"
    }
   ],
   "source": [
    "# countplot showing the ports the passengers(survived or did not survive) boarded from\n",
    "plt.figure(figsize=[10,10])\n",
    "sns.countplot(x='education', hue='subscribed', data=term_deposit_train)\n",
    "plt.title('education across subscription status')\n",
    "plt.xticks(rotation = 90)\n",
    "plt.show()"
   ]
  },
  {
   "cell_type": "markdown",
   "id": "e4ba537f",
   "metadata": {},
   "source": [
    "Most of the clients that subscribed for a term deposit completed secondary education."
   ]
  },
  {
   "cell_type": "code",
   "execution_count": 45,
   "id": "1ca47eac",
   "metadata": {},
   "outputs": [
    {
     "data": {
      "image/png": "[encoded data removed]",
      "text/plain": [
       "<Figure size 720x720 with 9 Axes>"
      ]
     },
     "metadata": {
      "needs_background": "light"
     },
     "output_type": "display_data"
    }
   ],
   "source": [
    "# Histogram containing all the Numerical columns\n",
    "term_deposit_train.hist(bins=10, figsize=(10,10))\n",
    "plt.suptitle(\"Data Distribution of all the variables\")\n",
    "plt.show()"
   ]
  },
  {
   "cell_type": "markdown",
   "id": "5795314c",
   "metadata": {},
   "source": [
    "We can see from the distribution that day and age are almost normally distributed. Others are skewed to the right."
   ]
  },
  {
   "cell_type": "code",
   "execution_count": 46,
   "id": "e1975b12",
   "metadata": {},
   "outputs": [
    {
     "data": {
      "image/png": "[encoded data removed]",
      "text/plain": [
       "<Figure size 720x720 with 9 Axes>"
      ]
     },
     "metadata": {
      "needs_background": "light"
     },
     "output_type": "display_data"
    }
   ],
   "source": [
    "# Histogram containing all the Numerical columns\n",
    "term_deposit_test.hist(bins=10, figsize=(10,10))\n",
    "plt.suptitle(\"Data Distribution of all the variables\")\n",
    "plt.show()"
   ]
  },
  {
   "cell_type": "code",
   "execution_count": 47,
   "id": "bed00d14",
   "metadata": {},
   "outputs": [],
   "source": [
    "#converting our subscribed column from categorical to numerical variable\n",
    "term_deposit_train['subscribed'].replace('no', 0, inplace = True)\n",
    "term_deposit_train['subscribed'].replace('yes', 1, inplace = True)"
   ]
  },
  {
   "cell_type": "code",
   "execution_count": 48,
   "id": "c42cae4f",
   "metadata": {},
   "outputs": [
    {
     "data": {
      "image/png": "[encoded data removed]",
      "text/plain": [
       "<Figure size 720x504 with 2 Axes>"
      ]
     },
     "metadata": {
      "needs_background": "light"
     },
     "output_type": "display_data"
    }
   ],
   "source": [
    "# Using heatmap to visualize the correlation between the numerical features in our training dataset.\n",
    "plt.figure(figsize=(10,7))\n",
    "sns.heatmap(term_deposit_train.corr(), annot=True, linewidths = 2, cmap='PiYG')\n",
    "plt.title('Correlation Heatmap for train')\n",
    "plt.show()"
   ]
  },
  {
   "cell_type": "markdown",
   "id": "59ddfecb",
   "metadata": {},
   "source": [
    "From the heatmap shown above, we can see that only duration shows correlation with our target variable."
   ]
  },
  {
   "cell_type": "markdown",
   "id": "f7bb0e50",
   "metadata": {},
   "source": [
    "# Building of our models"
   ]
  },
  {
   "cell_type": "code",
   "execution_count": 49,
   "id": "6ac42bd8",
   "metadata": {},
   "outputs": [
    {
     "data": {
      "text/html": [
       "<div>\n",
       "<style scoped>\n",
       "    .dataframe tbody tr th:only-of-type {\n",
       "        vertical-align: middle;\n",
       "    }\n",
       "\n",
       "    .dataframe tbody tr th {\n",
       "        vertical-align: top;\n",
       "    }\n",
       "\n",
       "    .dataframe thead th {\n",
       "        text-align: right;\n",
       "    }\n",
       "</style>\n",
       "<table border=\"1\" class=\"dataframe\">\n",
       "  <thead>\n",
       "    <tr style=\"text-align: right;\">\n",
       "      <th></th>\n",
       "      <th>ID</th>\n",
       "      <th>age</th>\n",
       "      <th>balance</th>\n",
       "      <th>day</th>\n",
       "      <th>duration</th>\n",
       "      <th>campaign</th>\n",
       "      <th>pdays</th>\n",
       "      <th>previous</th>\n",
       "      <th>subscribed</th>\n",
       "      <th>job_admin.</th>\n",
       "      <th>...</th>\n",
       "      <th>month_jun</th>\n",
       "      <th>month_mar</th>\n",
       "      <th>month_may</th>\n",
       "      <th>month_nov</th>\n",
       "      <th>month_oct</th>\n",
       "      <th>month_sep</th>\n",
       "      <th>poutcome_failure</th>\n",
       "      <th>poutcome_other</th>\n",
       "      <th>poutcome_success</th>\n",
       "      <th>poutcome_unknown</th>\n",
       "    </tr>\n",
       "  </thead>\n",
       "  <tbody>\n",
       "    <tr>\n",
       "      <th>0</th>\n",
       "      <td>26110</td>\n",
       "      <td>56</td>\n",
       "      <td>1933</td>\n",
       "      <td>19</td>\n",
       "      <td>44</td>\n",
       "      <td>2</td>\n",
       "      <td>-1</td>\n",
       "      <td>0</td>\n",
       "      <td>0</td>\n",
       "      <td>1</td>\n",
       "      <td>...</td>\n",
       "      <td>0</td>\n",
       "      <td>0</td>\n",
       "      <td>0</td>\n",
       "      <td>1</td>\n",
       "      <td>0</td>\n",
       "      <td>0</td>\n",
       "      <td>0</td>\n",
       "      <td>0</td>\n",
       "      <td>0</td>\n",
       "      <td>1</td>\n",
       "    </tr>\n",
       "    <tr>\n",
       "      <th>1</th>\n",
       "      <td>40576</td>\n",
       "      <td>31</td>\n",
       "      <td>3</td>\n",
       "      <td>20</td>\n",
       "      <td>91</td>\n",
       "      <td>2</td>\n",
       "      <td>-1</td>\n",
       "      <td>0</td>\n",
       "      <td>0</td>\n",
       "      <td>0</td>\n",
       "      <td>...</td>\n",
       "      <td>0</td>\n",
       "      <td>0</td>\n",
       "      <td>0</td>\n",
       "      <td>0</td>\n",
       "      <td>0</td>\n",
       "      <td>0</td>\n",
       "      <td>0</td>\n",
       "      <td>0</td>\n",
       "      <td>0</td>\n",
       "      <td>1</td>\n",
       "    </tr>\n",
       "    <tr>\n",
       "      <th>2</th>\n",
       "      <td>15320</td>\n",
       "      <td>27</td>\n",
       "      <td>891</td>\n",
       "      <td>18</td>\n",
       "      <td>240</td>\n",
       "      <td>1</td>\n",
       "      <td>-1</td>\n",
       "      <td>0</td>\n",
       "      <td>0</td>\n",
       "      <td>0</td>\n",
       "      <td>...</td>\n",
       "      <td>0</td>\n",
       "      <td>0</td>\n",
       "      <td>0</td>\n",
       "      <td>0</td>\n",
       "      <td>0</td>\n",
       "      <td>0</td>\n",
       "      <td>0</td>\n",
       "      <td>0</td>\n",
       "      <td>0</td>\n",
       "      <td>1</td>\n",
       "    </tr>\n",
       "    <tr>\n",
       "      <th>3</th>\n",
       "      <td>43962</td>\n",
       "      <td>57</td>\n",
       "      <td>3287</td>\n",
       "      <td>22</td>\n",
       "      <td>867</td>\n",
       "      <td>1</td>\n",
       "      <td>84</td>\n",
       "      <td>3</td>\n",
       "      <td>1</td>\n",
       "      <td>0</td>\n",
       "      <td>...</td>\n",
       "      <td>1</td>\n",
       "      <td>0</td>\n",
       "      <td>0</td>\n",
       "      <td>0</td>\n",
       "      <td>0</td>\n",
       "      <td>0</td>\n",
       "      <td>0</td>\n",
       "      <td>0</td>\n",
       "      <td>1</td>\n",
       "      <td>0</td>\n",
       "    </tr>\n",
       "    <tr>\n",
       "      <th>4</th>\n",
       "      <td>29842</td>\n",
       "      <td>31</td>\n",
       "      <td>119</td>\n",
       "      <td>4</td>\n",
       "      <td>380</td>\n",
       "      <td>1</td>\n",
       "      <td>-1</td>\n",
       "      <td>0</td>\n",
       "      <td>0</td>\n",
       "      <td>0</td>\n",
       "      <td>...</td>\n",
       "      <td>0</td>\n",
       "      <td>0</td>\n",
       "      <td>0</td>\n",
       "      <td>0</td>\n",
       "      <td>0</td>\n",
       "      <td>0</td>\n",
       "      <td>0</td>\n",
       "      <td>0</td>\n",
       "      <td>0</td>\n",
       "      <td>1</td>\n",
       "    </tr>\n",
       "  </tbody>\n",
       "</table>\n",
       "<p>5 rows × 53 columns</p>\n",
       "</div>"
      ],
      "text/plain": [
       "      ID  age  balance  day  duration  campaign  pdays  previous  subscribed  \\\n",
       "0  26110   56     1933   19        44         2     -1         0           0   \n",
       "1  40576   31        3   20        91         2     -1         0           0   \n",
       "2  15320   27      891   18       240         1     -1         0           0   \n",
       "3  43962   57     3287   22       867         1     84         3           1   \n",
       "4  29842   31      119    4       380         1     -1         0           0   \n",
       "\n",
       "   job_admin.  ...  month_jun  month_mar  month_may  month_nov  month_oct  \\\n",
       "0           1  ...          0          0          0          1          0   \n",
       "1           0  ...          0          0          0          0          0   \n",
       "2           0  ...          0          0          0          0          0   \n",
       "3           0  ...          1          0          0          0          0   \n",
       "4           0  ...          0          0          0          0          0   \n",
       "\n",
       "   month_sep  poutcome_failure  poutcome_other  poutcome_success  \\\n",
       "0          0                 0               0                 0   \n",
       "1          0                 0               0                 0   \n",
       "2          0                 0               0                 0   \n",
       "3          0                 0               0                 1   \n",
       "4          0                 0               0                 0   \n",
       "\n",
       "   poutcome_unknown  \n",
       "0                 1  \n",
       "1                 1  \n",
       "2                 1  \n",
       "3                 0  \n",
       "4                 1  \n",
       "\n",
       "[5 rows x 53 columns]"
      ]
     },
     "execution_count": 49,
     "metadata": {},
     "output_type": "execute_result"
    }
   ],
   "source": [
    "#generating dummy values on the train dataset\n",
    "term_deposit_train = pd.get_dummies(term_deposit_train)\n",
    "term_deposit_train.head()"
   ]
  },
  {
   "cell_type": "code",
   "execution_count": 50,
   "id": "7bfd5634",
   "metadata": {},
   "outputs": [
    {
     "data": {
      "text/html": [
       "<div>\n",
       "<style scoped>\n",
       "    .dataframe tbody tr th:only-of-type {\n",
       "        vertical-align: middle;\n",
       "    }\n",
       "\n",
       "    .dataframe tbody tr th {\n",
       "        vertical-align: top;\n",
       "    }\n",
       "\n",
       "    .dataframe thead th {\n",
       "        text-align: right;\n",
       "    }\n",
       "</style>\n",
       "<table border=\"1\" class=\"dataframe\">\n",
       "  <thead>\n",
       "    <tr style=\"text-align: right;\">\n",
       "      <th></th>\n",
       "      <th>ID</th>\n",
       "      <th>age</th>\n",
       "      <th>balance</th>\n",
       "      <th>day</th>\n",
       "      <th>duration</th>\n",
       "      <th>campaign</th>\n",
       "      <th>pdays</th>\n",
       "      <th>previous</th>\n",
       "      <th>job_admin.</th>\n",
       "      <th>job_blue-collar</th>\n",
       "      <th>...</th>\n",
       "      <th>month_jun</th>\n",
       "      <th>month_mar</th>\n",
       "      <th>month_may</th>\n",
       "      <th>month_nov</th>\n",
       "      <th>month_oct</th>\n",
       "      <th>month_sep</th>\n",
       "      <th>poutcome_failure</th>\n",
       "      <th>poutcome_other</th>\n",
       "      <th>poutcome_success</th>\n",
       "      <th>poutcome_unknown</th>\n",
       "    </tr>\n",
       "  </thead>\n",
       "  <tbody>\n",
       "    <tr>\n",
       "      <th>0</th>\n",
       "      <td>38441</td>\n",
       "      <td>32</td>\n",
       "      <td>118</td>\n",
       "      <td>15</td>\n",
       "      <td>20</td>\n",
       "      <td>6</td>\n",
       "      <td>-1</td>\n",
       "      <td>0</td>\n",
       "      <td>0</td>\n",
       "      <td>0</td>\n",
       "      <td>...</td>\n",
       "      <td>0</td>\n",
       "      <td>0</td>\n",
       "      <td>1</td>\n",
       "      <td>0</td>\n",
       "      <td>0</td>\n",
       "      <td>0</td>\n",
       "      <td>0</td>\n",
       "      <td>0</td>\n",
       "      <td>0</td>\n",
       "      <td>1</td>\n",
       "    </tr>\n",
       "    <tr>\n",
       "      <th>1</th>\n",
       "      <td>40403</td>\n",
       "      <td>78</td>\n",
       "      <td>2787</td>\n",
       "      <td>1</td>\n",
       "      <td>372</td>\n",
       "      <td>1</td>\n",
       "      <td>-1</td>\n",
       "      <td>0</td>\n",
       "      <td>0</td>\n",
       "      <td>0</td>\n",
       "      <td>...</td>\n",
       "      <td>0</td>\n",
       "      <td>0</td>\n",
       "      <td>0</td>\n",
       "      <td>0</td>\n",
       "      <td>0</td>\n",
       "      <td>0</td>\n",
       "      <td>0</td>\n",
       "      <td>0</td>\n",
       "      <td>0</td>\n",
       "      <td>1</td>\n",
       "    </tr>\n",
       "    <tr>\n",
       "      <th>2</th>\n",
       "      <td>3709</td>\n",
       "      <td>31</td>\n",
       "      <td>144</td>\n",
       "      <td>16</td>\n",
       "      <td>676</td>\n",
       "      <td>1</td>\n",
       "      <td>-1</td>\n",
       "      <td>0</td>\n",
       "      <td>0</td>\n",
       "      <td>0</td>\n",
       "      <td>...</td>\n",
       "      <td>0</td>\n",
       "      <td>0</td>\n",
       "      <td>1</td>\n",
       "      <td>0</td>\n",
       "      <td>0</td>\n",
       "      <td>0</td>\n",
       "      <td>0</td>\n",
       "      <td>0</td>\n",
       "      <td>0</td>\n",
       "      <td>1</td>\n",
       "    </tr>\n",
       "    <tr>\n",
       "      <th>3</th>\n",
       "      <td>37422</td>\n",
       "      <td>57</td>\n",
       "      <td>3777</td>\n",
       "      <td>13</td>\n",
       "      <td>65</td>\n",
       "      <td>2</td>\n",
       "      <td>-1</td>\n",
       "      <td>0</td>\n",
       "      <td>0</td>\n",
       "      <td>0</td>\n",
       "      <td>...</td>\n",
       "      <td>0</td>\n",
       "      <td>0</td>\n",
       "      <td>1</td>\n",
       "      <td>0</td>\n",
       "      <td>0</td>\n",
       "      <td>0</td>\n",
       "      <td>0</td>\n",
       "      <td>0</td>\n",
       "      <td>0</td>\n",
       "      <td>1</td>\n",
       "    </tr>\n",
       "    <tr>\n",
       "      <th>4</th>\n",
       "      <td>12527</td>\n",
       "      <td>45</td>\n",
       "      <td>-705</td>\n",
       "      <td>3</td>\n",
       "      <td>111</td>\n",
       "      <td>1</td>\n",
       "      <td>-1</td>\n",
       "      <td>0</td>\n",
       "      <td>0</td>\n",
       "      <td>1</td>\n",
       "      <td>...</td>\n",
       "      <td>0</td>\n",
       "      <td>0</td>\n",
       "      <td>0</td>\n",
       "      <td>0</td>\n",
       "      <td>0</td>\n",
       "      <td>0</td>\n",
       "      <td>0</td>\n",
       "      <td>0</td>\n",
       "      <td>0</td>\n",
       "      <td>1</td>\n",
       "    </tr>\n",
       "  </tbody>\n",
       "</table>\n",
       "<p>5 rows × 52 columns</p>\n",
       "</div>"
      ],
      "text/plain": [
       "      ID  age  balance  day  duration  campaign  pdays  previous  job_admin.  \\\n",
       "0  38441   32      118   15        20         6     -1         0           0   \n",
       "1  40403   78     2787    1       372         1     -1         0           0   \n",
       "2   3709   31      144   16       676         1     -1         0           0   \n",
       "3  37422   57     3777   13        65         2     -1         0           0   \n",
       "4  12527   45     -705    3       111         1     -1         0           0   \n",
       "\n",
       "   job_blue-collar  ...  month_jun  month_mar  month_may  month_nov  \\\n",
       "0                0  ...          0          0          1          0   \n",
       "1                0  ...          0          0          0          0   \n",
       "2                0  ...          0          0          1          0   \n",
       "3                0  ...          0          0          1          0   \n",
       "4                1  ...          0          0          0          0   \n",
       "\n",
       "   month_oct  month_sep  poutcome_failure  poutcome_other  poutcome_success  \\\n",
       "0          0          0                 0               0                 0   \n",
       "1          0          0                 0               0                 0   \n",
       "2          0          0                 0               0                 0   \n",
       "3          0          0                 0               0                 0   \n",
       "4          0          0                 0               0                 0   \n",
       "\n",
       "   poutcome_unknown  \n",
       "0                 1  \n",
       "1                 1  \n",
       "2                 1  \n",
       "3                 1  \n",
       "4                 1  \n",
       "\n",
       "[5 rows x 52 columns]"
      ]
     },
     "execution_count": 50,
     "metadata": {},
     "output_type": "execute_result"
    }
   ],
   "source": [
    "#generating dummy values on the test dataset\n",
    "term_deposit_test1 = pd.get_dummies(term_deposit_test)\n",
    "term_deposit_test1.head()"
   ]
  },
  {
   "cell_type": "markdown",
   "id": "b5929ed8",
   "metadata": {},
   "source": [
    "We are converting our test and train data to dummy variables so we can include our categorical variables by converting them to numerical (0 or 1)"
   ]
  },
  {
   "cell_type": "code",
   "execution_count": 51,
   "id": "73888f31",
   "metadata": {},
   "outputs": [
    {
     "data": {
      "text/html": [
       "<div>\n",
       "<style scoped>\n",
       "    .dataframe tbody tr th:only-of-type {\n",
       "        vertical-align: middle;\n",
       "    }\n",
       "\n",
       "    .dataframe tbody tr th {\n",
       "        vertical-align: top;\n",
       "    }\n",
       "\n",
       "    .dataframe thead th {\n",
       "        text-align: right;\n",
       "    }\n",
       "</style>\n",
       "<table border=\"1\" class=\"dataframe\">\n",
       "  <thead>\n",
       "    <tr style=\"text-align: right;\">\n",
       "      <th></th>\n",
       "      <th>ID</th>\n",
       "      <th>age</th>\n",
       "      <th>balance</th>\n",
       "      <th>day</th>\n",
       "      <th>duration</th>\n",
       "      <th>campaign</th>\n",
       "      <th>pdays</th>\n",
       "      <th>previous</th>\n",
       "      <th>job_admin.</th>\n",
       "      <th>job_blue-collar</th>\n",
       "      <th>...</th>\n",
       "      <th>month_jun</th>\n",
       "      <th>month_mar</th>\n",
       "      <th>month_may</th>\n",
       "      <th>month_nov</th>\n",
       "      <th>month_oct</th>\n",
       "      <th>month_sep</th>\n",
       "      <th>poutcome_failure</th>\n",
       "      <th>poutcome_other</th>\n",
       "      <th>poutcome_success</th>\n",
       "      <th>poutcome_unknown</th>\n",
       "    </tr>\n",
       "  </thead>\n",
       "  <tbody>\n",
       "    <tr>\n",
       "      <th>0</th>\n",
       "      <td>26110</td>\n",
       "      <td>56</td>\n",
       "      <td>1933</td>\n",
       "      <td>19</td>\n",
       "      <td>44</td>\n",
       "      <td>2</td>\n",
       "      <td>-1</td>\n",
       "      <td>0</td>\n",
       "      <td>1</td>\n",
       "      <td>0</td>\n",
       "      <td>...</td>\n",
       "      <td>0</td>\n",
       "      <td>0</td>\n",
       "      <td>0</td>\n",
       "      <td>1</td>\n",
       "      <td>0</td>\n",
       "      <td>0</td>\n",
       "      <td>0</td>\n",
       "      <td>0</td>\n",
       "      <td>0</td>\n",
       "      <td>1</td>\n",
       "    </tr>\n",
       "    <tr>\n",
       "      <th>1</th>\n",
       "      <td>40576</td>\n",
       "      <td>31</td>\n",
       "      <td>3</td>\n",
       "      <td>20</td>\n",
       "      <td>91</td>\n",
       "      <td>2</td>\n",
       "      <td>-1</td>\n",
       "      <td>0</td>\n",
       "      <td>0</td>\n",
       "      <td>0</td>\n",
       "      <td>...</td>\n",
       "      <td>0</td>\n",
       "      <td>0</td>\n",
       "      <td>0</td>\n",
       "      <td>0</td>\n",
       "      <td>0</td>\n",
       "      <td>0</td>\n",
       "      <td>0</td>\n",
       "      <td>0</td>\n",
       "      <td>0</td>\n",
       "      <td>1</td>\n",
       "    </tr>\n",
       "    <tr>\n",
       "      <th>2</th>\n",
       "      <td>15320</td>\n",
       "      <td>27</td>\n",
       "      <td>891</td>\n",
       "      <td>18</td>\n",
       "      <td>240</td>\n",
       "      <td>1</td>\n",
       "      <td>-1</td>\n",
       "      <td>0</td>\n",
       "      <td>0</td>\n",
       "      <td>0</td>\n",
       "      <td>...</td>\n",
       "      <td>0</td>\n",
       "      <td>0</td>\n",
       "      <td>0</td>\n",
       "      <td>0</td>\n",
       "      <td>0</td>\n",
       "      <td>0</td>\n",
       "      <td>0</td>\n",
       "      <td>0</td>\n",
       "      <td>0</td>\n",
       "      <td>1</td>\n",
       "    </tr>\n",
       "    <tr>\n",
       "      <th>3</th>\n",
       "      <td>43962</td>\n",
       "      <td>57</td>\n",
       "      <td>3287</td>\n",
       "      <td>22</td>\n",
       "      <td>867</td>\n",
       "      <td>1</td>\n",
       "      <td>84</td>\n",
       "      <td>3</td>\n",
       "      <td>0</td>\n",
       "      <td>0</td>\n",
       "      <td>...</td>\n",
       "      <td>1</td>\n",
       "      <td>0</td>\n",
       "      <td>0</td>\n",
       "      <td>0</td>\n",
       "      <td>0</td>\n",
       "      <td>0</td>\n",
       "      <td>0</td>\n",
       "      <td>0</td>\n",
       "      <td>1</td>\n",
       "      <td>0</td>\n",
       "    </tr>\n",
       "    <tr>\n",
       "      <th>4</th>\n",
       "      <td>29842</td>\n",
       "      <td>31</td>\n",
       "      <td>119</td>\n",
       "      <td>4</td>\n",
       "      <td>380</td>\n",
       "      <td>1</td>\n",
       "      <td>-1</td>\n",
       "      <td>0</td>\n",
       "      <td>0</td>\n",
       "      <td>0</td>\n",
       "      <td>...</td>\n",
       "      <td>0</td>\n",
       "      <td>0</td>\n",
       "      <td>0</td>\n",
       "      <td>0</td>\n",
       "      <td>0</td>\n",
       "      <td>0</td>\n",
       "      <td>0</td>\n",
       "      <td>0</td>\n",
       "      <td>0</td>\n",
       "      <td>1</td>\n",
       "    </tr>\n",
       "    <tr>\n",
       "      <th>...</th>\n",
       "      <td>...</td>\n",
       "      <td>...</td>\n",
       "      <td>...</td>\n",
       "      <td>...</td>\n",
       "      <td>...</td>\n",
       "      <td>...</td>\n",
       "      <td>...</td>\n",
       "      <td>...</td>\n",
       "      <td>...</td>\n",
       "      <td>...</td>\n",
       "      <td>...</td>\n",
       "      <td>...</td>\n",
       "      <td>...</td>\n",
       "      <td>...</td>\n",
       "      <td>...</td>\n",
       "      <td>...</td>\n",
       "      <td>...</td>\n",
       "      <td>...</td>\n",
       "      <td>...</td>\n",
       "      <td>...</td>\n",
       "      <td>...</td>\n",
       "    </tr>\n",
       "    <tr>\n",
       "      <th>31642</th>\n",
       "      <td>36483</td>\n",
       "      <td>29</td>\n",
       "      <td>0</td>\n",
       "      <td>12</td>\n",
       "      <td>116</td>\n",
       "      <td>2</td>\n",
       "      <td>-1</td>\n",
       "      <td>0</td>\n",
       "      <td>0</td>\n",
       "      <td>0</td>\n",
       "      <td>...</td>\n",
       "      <td>0</td>\n",
       "      <td>0</td>\n",
       "      <td>1</td>\n",
       "      <td>0</td>\n",
       "      <td>0</td>\n",
       "      <td>0</td>\n",
       "      <td>0</td>\n",
       "      <td>0</td>\n",
       "      <td>0</td>\n",
       "      <td>1</td>\n",
       "    </tr>\n",
       "    <tr>\n",
       "      <th>31643</th>\n",
       "      <td>40178</td>\n",
       "      <td>53</td>\n",
       "      <td>380</td>\n",
       "      <td>5</td>\n",
       "      <td>438</td>\n",
       "      <td>2</td>\n",
       "      <td>-1</td>\n",
       "      <td>0</td>\n",
       "      <td>0</td>\n",
       "      <td>0</td>\n",
       "      <td>...</td>\n",
       "      <td>1</td>\n",
       "      <td>0</td>\n",
       "      <td>0</td>\n",
       "      <td>0</td>\n",
       "      <td>0</td>\n",
       "      <td>0</td>\n",
       "      <td>0</td>\n",
       "      <td>0</td>\n",
       "      <td>0</td>\n",
       "      <td>1</td>\n",
       "    </tr>\n",
       "    <tr>\n",
       "      <th>31644</th>\n",
       "      <td>19710</td>\n",
       "      <td>32</td>\n",
       "      <td>312</td>\n",
       "      <td>7</td>\n",
       "      <td>37</td>\n",
       "      <td>3</td>\n",
       "      <td>-1</td>\n",
       "      <td>0</td>\n",
       "      <td>0</td>\n",
       "      <td>0</td>\n",
       "      <td>...</td>\n",
       "      <td>0</td>\n",
       "      <td>0</td>\n",
       "      <td>0</td>\n",
       "      <td>0</td>\n",
       "      <td>0</td>\n",
       "      <td>0</td>\n",
       "      <td>0</td>\n",
       "      <td>0</td>\n",
       "      <td>0</td>\n",
       "      <td>1</td>\n",
       "    </tr>\n",
       "    <tr>\n",
       "      <th>31645</th>\n",
       "      <td>38556</td>\n",
       "      <td>57</td>\n",
       "      <td>225</td>\n",
       "      <td>15</td>\n",
       "      <td>22</td>\n",
       "      <td>7</td>\n",
       "      <td>337</td>\n",
       "      <td>12</td>\n",
       "      <td>0</td>\n",
       "      <td>0</td>\n",
       "      <td>...</td>\n",
       "      <td>0</td>\n",
       "      <td>0</td>\n",
       "      <td>1</td>\n",
       "      <td>0</td>\n",
       "      <td>0</td>\n",
       "      <td>0</td>\n",
       "      <td>1</td>\n",
       "      <td>0</td>\n",
       "      <td>0</td>\n",
       "      <td>0</td>\n",
       "    </tr>\n",
       "    <tr>\n",
       "      <th>31646</th>\n",
       "      <td>14156</td>\n",
       "      <td>55</td>\n",
       "      <td>204</td>\n",
       "      <td>11</td>\n",
       "      <td>1973</td>\n",
       "      <td>2</td>\n",
       "      <td>-1</td>\n",
       "      <td>0</td>\n",
       "      <td>0</td>\n",
       "      <td>0</td>\n",
       "      <td>...</td>\n",
       "      <td>0</td>\n",
       "      <td>0</td>\n",
       "      <td>0</td>\n",
       "      <td>0</td>\n",
       "      <td>0</td>\n",
       "      <td>0</td>\n",
       "      <td>0</td>\n",
       "      <td>0</td>\n",
       "      <td>0</td>\n",
       "      <td>1</td>\n",
       "    </tr>\n",
       "  </tbody>\n",
       "</table>\n",
       "<p>31647 rows × 52 columns</p>\n",
       "</div>"
      ],
      "text/plain": [
       "          ID  age  balance  day  duration  campaign  pdays  previous  \\\n",
       "0      26110   56     1933   19        44         2     -1         0   \n",
       "1      40576   31        3   20        91         2     -1         0   \n",
       "2      15320   27      891   18       240         1     -1         0   \n",
       "3      43962   57     3287   22       867         1     84         3   \n",
       "4      29842   31      119    4       380         1     -1         0   \n",
       "...      ...  ...      ...  ...       ...       ...    ...       ...   \n",
       "31642  36483   29        0   12       116         2     -1         0   \n",
       "31643  40178   53      380    5       438         2     -1         0   \n",
       "31644  19710   32      312    7        37         3     -1         0   \n",
       "31645  38556   57      225   15        22         7    337        12   \n",
       "31646  14156   55      204   11      1973         2     -1         0   \n",
       "\n",
       "       job_admin.  job_blue-collar  ...  month_jun  month_mar  month_may  \\\n",
       "0               1                0  ...          0          0          0   \n",
       "1               0                0  ...          0          0          0   \n",
       "2               0                0  ...          0          0          0   \n",
       "3               0                0  ...          1          0          0   \n",
       "4               0                0  ...          0          0          0   \n",
       "...           ...              ...  ...        ...        ...        ...   \n",
       "31642           0                0  ...          0          0          1   \n",
       "31643           0                0  ...          1          0          0   \n",
       "31644           0                0  ...          0          0          0   \n",
       "31645           0                0  ...          0          0          1   \n",
       "31646           0                0  ...          0          0          0   \n",
       "\n",
       "       month_nov  month_oct  month_sep  poutcome_failure  poutcome_other  \\\n",
       "0              1          0          0                 0               0   \n",
       "1              0          0          0                 0               0   \n",
       "2              0          0          0                 0               0   \n",
       "3              0          0          0                 0               0   \n",
       "4              0          0          0                 0               0   \n",
       "...          ...        ...        ...               ...             ...   \n",
       "31642          0          0          0                 0               0   \n",
       "31643          0          0          0                 0               0   \n",
       "31644          0          0          0                 0               0   \n",
       "31645          0          0          0                 1               0   \n",
       "31646          0          0          0                 0               0   \n",
       "\n",
       "       poutcome_success  poutcome_unknown  \n",
       "0                     0                 1  \n",
       "1                     0                 1  \n",
       "2                     0                 1  \n",
       "3                     1                 0  \n",
       "4                     0                 1  \n",
       "...                 ...               ...  \n",
       "31642                 0                 1  \n",
       "31643                 0                 1  \n",
       "31644                 0                 1  \n",
       "31645                 0                 0  \n",
       "31646                 0                 1  \n",
       "\n",
       "[31647 rows x 52 columns]"
      ]
     },
     "execution_count": 51,
     "metadata": {},
     "output_type": "execute_result"
    }
   ],
   "source": [
    "# split data into x and y\n",
    "X = term_deposit_train.drop('subscribed',axis =1)\n",
    "y = term_deposit_train['subscribed']\n",
    "X"
   ]
  },
  {
   "cell_type": "code",
   "execution_count": 52,
   "id": "75810e89",
   "metadata": {},
   "outputs": [
    {
     "data": {
      "text/plain": [
       "0    27932\n",
       "1    27932\n",
       "Name: subscribed, dtype: int64"
      ]
     },
     "execution_count": 52,
     "metadata": {},
     "output_type": "execute_result"
    }
   ],
   "source": [
    "from imblearn.over_sampling import SMOTE\n",
    "#Used oversampling to handling imbalance in the Type of Glass column\n",
    "term_sm = SMOTE()\n",
    "X_res, y_res = term_sm.fit_resample(X, y)\n",
    "y_res.value_counts()"
   ]
  },
  {
   "cell_type": "markdown",
   "id": "3171e1a8",
   "metadata": {},
   "source": [
    "Our counts are now balanced"
   ]
  },
  {
   "cell_type": "code",
   "execution_count": 53,
   "id": "964e95b0",
   "metadata": {},
   "outputs": [],
   "source": [
    "# splitting the features into train and test\n",
    "X_train, X_val, y_train, y_val = train_test_split(X_res, y_res, test_size=0.20, random_state=42)\n",
    "\n",
    "# Data for validating our model\n",
    "X_test = term_deposit_test1"
   ]
  },
  {
   "cell_type": "code",
   "execution_count": 54,
   "id": "04f6f031",
   "metadata": {},
   "outputs": [
    {
     "data": {
      "text/plain": [
       "((44691, 52), (11173, 52), (44691,), (11173,), (13564, 52))"
      ]
     },
     "execution_count": 54,
     "metadata": {},
     "output_type": "execute_result"
    }
   ],
   "source": [
    "# Viewing the dimensions of our training and testing data\n",
    "X_train.shape,X_val.shape,y_train.shape,y_val.shape,X_test.shape"
   ]
  },
  {
   "cell_type": "markdown",
   "id": "b7a4cd5b",
   "metadata": {},
   "source": [
    "We splitted our data in X_train, X_val, y_train and y_val for the purpose of training our model. While we will be using the X_test to validate the performance of our final model. 80% of our data will be used to train the model while 20% will be used for training validation. We have 44691 data in our training. 13564 data will be used to validate the performance of our final model."
   ]
  },
  {
   "cell_type": "markdown",
   "id": "d02dd0a9",
   "metadata": {},
   "source": [
    "## 1. Random Forest"
   ]
  },
  {
   "cell_type": "code",
   "execution_count": 55,
   "id": "b75903a6",
   "metadata": {},
   "outputs": [
    {
     "name": "stdout",
     "output_type": "stream",
     "text": [
      "The Accuracy for Random Forest is: 0.95\n",
      "\n",
      "\n",
      "[[5372  231]\n",
      " [ 291 5279]]\n",
      "\n",
      "\n",
      "Classification Report:\n",
      "              precision    recall  f1-score   support\n",
      "\n",
      "           0       0.95      0.96      0.95      5603\n",
      "           1       0.96      0.95      0.95      5570\n",
      "\n",
      "    accuracy                           0.95     11173\n",
      "   macro avg       0.95      0.95      0.95     11173\n",
      "weighted avg       0.95      0.95      0.95     11173\n",
      "\n"
     ]
    }
   ],
   "source": [
    "# Create a Random Forest classifier\n",
    "rf = RandomForestClassifier()\n",
    "rf.fit(X_train, y_train)\n",
    "y_pred = rf.predict(X_val)\n",
    "\n",
    "# Evaluate the model's accuracy\n",
    "accuracy = accuracy_score(y_val, y_pred)\n",
    "print(f\"The Accuracy for Random Forest is: {accuracy:.2f}\")\n",
    "print('\\n')\n",
    "# Display a classification report for more detailed metrics\n",
    "report = classification_report(y_val, y_pred)\n",
    "print(confusion_matrix(y_val, y_pred))\n",
    "print('\\n')\n",
    "print(\"Classification Report:\")\n",
    "print(report)"
   ]
  },
  {
   "cell_type": "markdown",
   "id": "8d22c55f",
   "metadata": {},
   "source": [
    "### Cross Validation Score for Random Forest"
   ]
  },
  {
   "cell_type": "code",
   "execution_count": 56,
   "id": "6d66fbe7",
   "metadata": {},
   "outputs": [
    {
     "name": "stdout",
     "output_type": "stream",
     "text": [
      "Cross-validation scores: [0.94730954 0.9562542  0.9531215  0.94909376 0.95010069]\n",
      "Mean accuracy: 0.95\n",
      "\n",
      "\n",
      "The difference between the accuracy score and the cross validation score is: 0.0021042906485613244\n"
     ]
    }
   ],
   "source": [
    "results = []\n",
    "scores = cross_val_score(rf, X_train, y_train,cv=5)  # You can choose a different scoring metric\n",
    "print(\"Cross-validation scores:\", scores)\n",
    "\n",
    "# Calculate and print the mean of the scores\n",
    "mean_score = scores.mean()\n",
    "\n",
    "print(f\"Mean accuracy: {mean_score:.2f}\")\n",
    "print('\\n')\n",
    "print(f'The difference between the accuracy score and the cross validation score is: {accuracy- mean_score}')\n",
    "\n",
    "\n",
    "diff = accuracy - mean_score\n",
    "results.append(['Random Forest',accuracy, mean_score, diff])"
   ]
  },
  {
   "cell_type": "markdown",
   "id": "cf713f6a",
   "metadata": {},
   "source": [
    "## 2. Decision Tree"
   ]
  },
  {
   "cell_type": "code",
   "execution_count": 57,
   "id": "6c609d68",
   "metadata": {},
   "outputs": [
    {
     "name": "stdout",
     "output_type": "stream",
     "text": [
      "The Accuracy for Decision Tree: 0.93\n",
      "\n",
      "\n",
      "[[5181  422]\n",
      " [ 406 5164]]\n",
      "\n",
      "\n",
      "Classification Report:\n",
      "              precision    recall  f1-score   support\n",
      "\n",
      "           0       0.93      0.92      0.93      5603\n",
      "           1       0.92      0.93      0.93      5570\n",
      "\n",
      "    accuracy                           0.93     11173\n",
      "   macro avg       0.93      0.93      0.93     11173\n",
      "weighted avg       0.93      0.93      0.93     11173\n",
      "\n"
     ]
    }
   ],
   "source": [
    "# Create a Decision Tree classifier\n",
    "dt = DecisionTreeClassifier()\n",
    "dt.fit(X_train, y_train)\n",
    "y_pred_dt = dt.predict(X_val)\n",
    "\n",
    "# Evaluate the model's accuracy\n",
    "accuracy = accuracy_score(y_val, y_pred_dt)\n",
    "print(f\"The Accuracy for Decision Tree: {accuracy:.2f}\")\n",
    "print('\\n')\n",
    "# Display a classification report for more detailed metrics\n",
    "report = classification_report(y_val, y_pred_dt)\n",
    "print(confusion_matrix(y_val, y_pred_dt))\n",
    "print('\\n')\n",
    "print(\"Classification Report:\")\n",
    "print(report)\n"
   ]
  },
  {
   "cell_type": "markdown",
   "id": "189487d6",
   "metadata": {},
   "source": [
    "### Cross Validation Score for Decision Tree"
   ]
  },
  {
   "cell_type": "code",
   "execution_count": 58,
   "id": "246a7555",
   "metadata": {},
   "outputs": [
    {
     "name": "stdout",
     "output_type": "stream",
     "text": [
      "Cross-validation scores: [0.91486743 0.92526292 0.92481539 0.91955695 0.92078765]\n",
      "Mean accuracy: 0.92\n",
      "\n",
      "\n",
      "The difference between the accuracy score and the cross validation score is: 0.004834707582912823\n"
     ]
    }
   ],
   "source": [
    "\n",
    "scores = cross_val_score(dt, X_train, y_train,cv=5)\n",
    "print(\"Cross-validation scores:\", scores)\n",
    "\n",
    "# Calculate and print the mean of the scores\n",
    "mean_score = scores.mean()\n",
    "\n",
    "print(f\"Mean accuracy: {mean_score:.2f}\")\n",
    "print('\\n')\n",
    "print(f'The difference between the accuracy score and the cross validation score is: {accuracy- mean_score}')\n",
    "\n",
    "\n",
    "diff = accuracy - mean_score\n",
    "results.append(['Decision Tree',accuracy, mean_score, diff])"
   ]
  },
  {
   "cell_type": "markdown",
   "id": "3f58746e",
   "metadata": {},
   "source": [
    "## 3. Xgboost Classifier"
   ]
  },
  {
   "cell_type": "code",
   "execution_count": 59,
   "id": "24c4522d",
   "metadata": {},
   "outputs": [
    {
     "name": "stdout",
     "output_type": "stream",
     "text": [
      "The Accuracy for Xgboost Classifier is:  0.9462991139353799\n",
      "\n",
      "\n",
      "[[5335  268]\n",
      " [ 332 5238]]\n",
      "\n",
      "\n",
      "Classification Report:\n",
      "              precision    recall  f1-score   support\n",
      "\n",
      "           0       0.94      0.95      0.95      5603\n",
      "           1       0.95      0.94      0.95      5570\n",
      "\n",
      "    accuracy                           0.95     11173\n",
      "   macro avg       0.95      0.95      0.95     11173\n",
      "weighted avg       0.95      0.95      0.95     11173\n",
      "\n"
     ]
    }
   ],
   "source": [
    "# Create a Xgboost classifier\n",
    "from xgboost import XGBClassifier\n",
    "xgb = XGBClassifier()\n",
    "xgb.fit(X_train, y_train)\n",
    "\n",
    "y_pred_xgb = xgb.predict(X_val)\n",
    "# Evaluate the model's accuracy\n",
    "accuracy = accuracy_score(y_val, y_pred_xgb)\n",
    "print(f\"The Accuracy for Xgboost Classifier is: \",accuracy)\n",
    "print('\\n')\n",
    "\n",
    "# Display a classification report for more detailed metrics\n",
    "report = classification_report(y_val, y_pred_xgb)\n",
    "print(confusion_matrix(y_val, y_pred_xgb))\n",
    "print('\\n')\n",
    "print(\"Classification Report:\")\n",
    "print(report)"
   ]
  },
  {
   "cell_type": "markdown",
   "id": "e599f521",
   "metadata": {},
   "source": [
    "### Cross Validation Score for Xgboost Classifier"
   ]
  },
  {
   "cell_type": "code",
   "execution_count": 60,
   "id": "ec19008b",
   "metadata": {},
   "outputs": [
    {
     "name": "stdout",
     "output_type": "stream",
     "text": [
      "Cross-validation scores: [0.94742141 0.94965317 0.94707988 0.9457373  0.94707988]\n",
      "Mean accuracy: 0.95\n",
      "\n",
      "\n",
      "The difference between the accuracy score and the cross validation score is: -0.0010952154132038983\n"
     ]
    }
   ],
   "source": [
    "\n",
    "scores = cross_val_score(xgb, X_train, y_train, cv=5) \n",
    "print(\"Cross-validation scores:\", scores)\n",
    "\n",
    "# Calculate and print the mean of the scores\n",
    "mean_score = scores.mean()\n",
    "\n",
    "print(f\"Mean accuracy: {mean_score:.2f}\")\n",
    "\n",
    "print('\\n')\n",
    "print(f'The difference between the accuracy score and the cross validation score is: {accuracy- mean_score}')\n",
    "\n",
    "\n",
    "diff = accuracy - mean_score\n",
    "results.append(['Xgboost Classifier', accuracy, mean_score, diff])"
   ]
  },
  {
   "cell_type": "markdown",
   "id": "5d029da5",
   "metadata": {},
   "source": [
    "## 4. Adaboost classifier"
   ]
  },
  {
   "cell_type": "code",
   "execution_count": 61,
   "id": "81e64022",
   "metadata": {},
   "outputs": [
    {
     "name": "stdout",
     "output_type": "stream",
     "text": [
      "The Accuracy for Adaboost classifier is:  0.934842924908261\n",
      "\n",
      "\n",
      "[[5299  304]\n",
      " [ 424 5146]]\n",
      "\n",
      "\n",
      "Classification Report:\n",
      "              precision    recall  f1-score   support\n",
      "\n",
      "           0       0.93      0.95      0.94      5603\n",
      "           1       0.94      0.92      0.93      5570\n",
      "\n",
      "    accuracy                           0.93     11173\n",
      "   macro avg       0.94      0.93      0.93     11173\n",
      "weighted avg       0.94      0.93      0.93     11173\n",
      "\n"
     ]
    }
   ],
   "source": [
    "# Create a Adaboost Classifier\n",
    "ab = AdaBoostClassifier()\n",
    "ab.fit(X_train, y_train)\n",
    "\n",
    "y_pred_ab = ab.predict(X_val)\n",
    "# Evaluate the model's accuracy\n",
    "accuracy = accuracy_score(y_val, y_pred_ab)\n",
    "print(f\"The Accuracy for Adaboost classifier is: \",accuracy)\n",
    "print('\\n')\n",
    "\n",
    "# Display a classification report for more detailed metrics\n",
    "report = classification_report(y_val, y_pred_ab)\n",
    "print(confusion_matrix(y_val, y_pred_ab))\n",
    "print('\\n')\n",
    "print(\"Classification Report:\")\n",
    "print(report)"
   ]
  },
  {
   "cell_type": "markdown",
   "id": "f8cd85c3",
   "metadata": {},
   "source": [
    "### Cross Validation Score for Adaboost classifier"
   ]
  },
  {
   "cell_type": "code",
   "execution_count": 62,
   "id": "5002dd9c",
   "metadata": {},
   "outputs": [
    {
     "name": "stdout",
     "output_type": "stream",
     "text": [
      "Cross-validation scores: [0.93153597 0.93745804 0.93667487 0.93432535 0.9371224 ]\n",
      "Mean accuracy: 0.94\n",
      "\n",
      "\n",
      "The difference between the accuracy score and the cross validation score is: -0.0005804016532517942\n"
     ]
    }
   ],
   "source": [
    "scores = cross_val_score(ab, X_train, y_train,cv=5) \n",
    "print(\"Cross-validation scores:\", scores)\n",
    "\n",
    "# Calculate and print the mean of the scores\n",
    "mean_score = scores.mean()\n",
    "\n",
    "print(f\"Mean accuracy: {mean_score:.2f}\")\n",
    "\n",
    "print('\\n')\n",
    "print(f'The difference between the accuracy score and the cross validation score is: {accuracy- mean_score}')\n",
    "\n",
    "\n",
    "diff = accuracy - mean_score\n",
    "results.append(['Adaboost classifier',accuracy, mean_score, diff])"
   ]
  },
  {
   "cell_type": "markdown",
   "id": "b4afdb42",
   "metadata": {},
   "source": [
    "## 5. Gradient Boosting Classifier"
   ]
  },
  {
   "cell_type": "code",
   "execution_count": 63,
   "id": "266bf4c0",
   "metadata": {},
   "outputs": [
    {
     "name": "stdout",
     "output_type": "stream",
     "text": [
      "The Accuracy for Gradient Boosting Classifier is:  0.9364539514901996\n",
      "\n",
      "\n",
      "[[5216  387]\n",
      " [ 323 5247]]\n",
      "\n",
      "\n",
      "Classification Report:\n",
      "              precision    recall  f1-score   support\n",
      "\n",
      "           0       0.94      0.93      0.94      5603\n",
      "           1       0.93      0.94      0.94      5570\n",
      "\n",
      "    accuracy                           0.94     11173\n",
      "   macro avg       0.94      0.94      0.94     11173\n",
      "weighted avg       0.94      0.94      0.94     11173\n",
      "\n"
     ]
    }
   ],
   "source": [
    "# Create a Gradient Boosting Classifier\n",
    "gb = GradientBoostingClassifier()\n",
    "gb.fit(X_train, y_train)\n",
    "\n",
    "y_pred_gb = gb.predict(X_val)\n",
    "# Evaluate the model's accuracy\n",
    "accuracy = accuracy_score(y_val, y_pred_gb)\n",
    "print(f\"The Accuracy for Gradient Boosting Classifier is: \",accuracy)\n",
    "print('\\n')\n",
    "\n",
    "# Display a classification report for more detailed metrics\n",
    "report = classification_report(y_val, y_pred_gb)\n",
    "print(confusion_matrix(y_val, y_pred_gb))\n",
    "print('\\n')\n",
    "print(\"Classification Report:\")\n",
    "print(report)"
   ]
  },
  {
   "cell_type": "markdown",
   "id": "bc6db1d7",
   "metadata": {},
   "source": [
    "### Cross Validation Score for Gradient Boosting Classifier"
   ]
  },
  {
   "cell_type": "code",
   "execution_count": 64,
   "id": "81d75cd7",
   "metadata": {},
   "outputs": [
    {
     "name": "stdout",
     "output_type": "stream",
     "text": [
      "Cross-validation scores: [0.93444457 0.93756993 0.93622734 0.93074513 0.9371224 ]\n",
      "Mean accuracy: 0.94\n",
      "\n",
      "\n",
      "The difference between the accuracy score and the cross validation score is: 0.0012320773476340863\n"
     ]
    }
   ],
   "source": [
    "\n",
    "scores = cross_val_score(gb, X_train, y_train, cv=5) \n",
    "print(\"Cross-validation scores:\", scores)\n",
    "\n",
    "# Calculate and print the mean of the scores\n",
    "mean_score = scores.mean()\n",
    "\n",
    "print(f\"Mean accuracy: {mean_score:.2f}\")\n",
    "\n",
    "print('\\n')\n",
    "print(f'The difference between the accuracy score and the cross validation score is: {accuracy- mean_score}')\n",
    "\n",
    "\n",
    "diff = accuracy - mean_score\n",
    "results.append(['Gradient Boosting Classifier', accuracy, mean_score, diff])"
   ]
  },
  {
   "cell_type": "code",
   "execution_count": 65,
   "id": "01a861c1",
   "metadata": {},
   "outputs": [
    {
     "data": {
      "text/html": [
       "<div>\n",
       "<style scoped>\n",
       "    .dataframe tbody tr th:only-of-type {\n",
       "        vertical-align: middle;\n",
       "    }\n",
       "\n",
       "    .dataframe tbody tr th {\n",
       "        vertical-align: top;\n",
       "    }\n",
       "\n",
       "    .dataframe thead th {\n",
       "        text-align: right;\n",
       "    }\n",
       "</style>\n",
       "<table border=\"1\" class=\"dataframe\">\n",
       "  <thead>\n",
       "    <tr style=\"text-align: right;\">\n",
       "      <th></th>\n",
       "      <th>Algorithm</th>\n",
       "      <th>Accuracy Score</th>\n",
       "      <th>Cross Validation Score</th>\n",
       "      <th>Difference btw accuracy and Cross Validtion Score</th>\n",
       "    </tr>\n",
       "  </thead>\n",
       "  <tbody>\n",
       "    <tr>\n",
       "      <th>0</th>\n",
       "      <td>Random Forest</td>\n",
       "      <td>0.953280</td>\n",
       "      <td>0.951176</td>\n",
       "      <td>0.002104</td>\n",
       "    </tr>\n",
       "    <tr>\n",
       "      <th>1</th>\n",
       "      <td>Decision Tree</td>\n",
       "      <td>0.925893</td>\n",
       "      <td>0.921058</td>\n",
       "      <td>0.004835</td>\n",
       "    </tr>\n",
       "    <tr>\n",
       "      <th>2</th>\n",
       "      <td>Xgboost Classifier</td>\n",
       "      <td>0.946299</td>\n",
       "      <td>0.947394</td>\n",
       "      <td>-0.001095</td>\n",
       "    </tr>\n",
       "    <tr>\n",
       "      <th>3</th>\n",
       "      <td>Adaboost classifier</td>\n",
       "      <td>0.934843</td>\n",
       "      <td>0.935423</td>\n",
       "      <td>-0.000580</td>\n",
       "    </tr>\n",
       "    <tr>\n",
       "      <th>4</th>\n",
       "      <td>Gradient Boosting Classifier</td>\n",
       "      <td>0.936454</td>\n",
       "      <td>0.935222</td>\n",
       "      <td>0.001232</td>\n",
       "    </tr>\n",
       "  </tbody>\n",
       "</table>\n",
       "</div>"
      ],
      "text/plain": [
       "                      Algorithm  Accuracy Score  Cross Validation Score  \\\n",
       "0                 Random Forest        0.953280                0.951176   \n",
       "1                 Decision Tree        0.925893                0.921058   \n",
       "2            Xgboost Classifier        0.946299                0.947394   \n",
       "3           Adaboost classifier        0.934843                0.935423   \n",
       "4  Gradient Boosting Classifier        0.936454                0.935222   \n",
       "\n",
       "   Difference btw accuracy and Cross Validtion Score  \n",
       "0                                           0.002104  \n",
       "1                                           0.004835  \n",
       "2                                          -0.001095  \n",
       "3                                          -0.000580  \n",
       "4                                           0.001232  "
      ]
     },
     "execution_count": 65,
     "metadata": {},
     "output_type": "execute_result"
    }
   ],
   "source": [
    "# create dataframe for all the accuracy scores and cross validation score for the models used\n",
    "df = pd.DataFrame(results, columns=['Algorithm', 'Accuracy Score','Cross Validation Score', 'Difference btw accuracy and Cross Validtion Score'])\n",
    "df"
   ]
  },
  {
   "cell_type": "markdown",
   "id": "4b22ea17",
   "metadata": {},
   "source": [
    "#### Selection of the best model"
   ]
  },
  {
   "cell_type": "code",
   "execution_count": 66,
   "id": "f26f2f6d",
   "metadata": {},
   "outputs": [
    {
     "name": "stdout",
     "output_type": "stream",
     "text": [
      "From the table above, my best model is the Xgboost Classifier\n"
     ]
    }
   ],
   "source": [
    "#Selection of the best model based on the difference between the accuracy and cross validation score\n",
    "least_value = min(df['Difference btw accuracy and Cross Validtion Score'].tolist())\n",
    "best_model = df.loc[(df['Difference btw accuracy and Cross Validtion Score']) == least_value, 'Algorithm']\n",
    "best_model = ' '.join(str(best_model).split()[1:-4])\n",
    "print('From the table above, my best model is the', best_model)"
   ]
  },
  {
   "cell_type": "code",
   "execution_count": 67,
   "id": "d60f5cd0",
   "metadata": {},
   "outputs": [
    {
     "data": {
      "image/png": "[encoded data removed]",
      "text/plain": [
       "<Figure size 432x288 with 1 Axes>"
      ]
     },
     "metadata": {
      "needs_background": "light"
     },
     "output_type": "display_data"
    }
   ],
   "source": [
    "#ROC plot of the best model\n",
    "import sklearn.metrics as metrics\n",
    "#define metrics\n",
    "y_pred_proba = xgb.predict_proba(X_val)[::,1]\n",
    "fpr, tpr, _ = metrics.roc_curve(y_val,  y_pred_proba)\n",
    "auc = metrics.roc_auc_score(y_val, y_pred_proba)\n",
    "\n",
    "#create ROC curve\n",
    "plt.plot(fpr,tpr,label=\"AUC=\"+str(auc))\n",
    "plt.ylabel('True Positive Rate')\n",
    "plt.xlabel('False Positive Rate')\n",
    "plt.legend(loc=4)\n",
    "plt.show()"
   ]
  },
  {
   "cell_type": "markdown",
   "id": "7611ec82",
   "metadata": {},
   "source": [
    "From the ROC curve above, we can see that the AUC value for our best model is 99%"
   ]
  },
  {
   "cell_type": "code",
   "execution_count": 68,
   "id": "7697492a",
   "metadata": {},
   "outputs": [],
   "source": [
    "from sklearn.model_selection import GridSearchCV\n",
    "\n",
    "model_best = XGBClassifier()\n",
    "\n",
    "model_param = {\n",
    "    \n",
    "    'n_estimators': [100,500,550],\n",
    "    'max_depth': [None],\n",
    "    'learning_rate':[0.1,0.5],\n",
    "    'gamma':[0,0.5,1,2,3],\n",
    "    'sampling_method': ['uniform']\n",
    "    }"
   ]
  },
  {
   "cell_type": "code",
   "execution_count": 69,
   "id": "0d1db995",
   "metadata": {},
   "outputs": [
    {
     "data": {
      "text/plain": [
       "GridSearchCV(cv=5,\n",
       "             estimator=XGBClassifier(base_score=None, booster=None,\n",
       "                                     callbacks=None, colsample_bylevel=None,\n",
       "                                     colsample_bynode=None,\n",
       "                                     colsample_bytree=None, device=None,\n",
       "                                     early_stopping_rounds=None,\n",
       "                                     enable_categorical=False, eval_metric=None,\n",
       "                                     feature_types=None, gamma=None,\n",
       "                                     grow_policy=None, importance_type=None,\n",
       "                                     interaction_constraints=None,\n",
       "                                     learning_rate=None,...\n",
       "                                     max_cat_to_onehot=None,\n",
       "                                     max_delta_step=None, max_depth=None,\n",
       "                                     max_leaves=None, min_child_weight=None,\n",
       "                                     missing=nan, monotone_constraints=None,\n",
       "                                     multi_strategy=None, n_estimators=None,\n",
       "                                     n_jobs=None, num_parallel_tree=None,\n",
       "                                     random_state=None, ...),\n",
       "             param_grid={'gamma': [0, 0.5, 1, 2, 3],\n",
       "                         'learning_rate': [0.1, 0.5], 'max_depth': [None],\n",
       "                         'n_estimators': [100, 500, 550],\n",
       "                         'sampling_method': ['uniform']})"
      ]
     },
     "execution_count": 69,
     "metadata": {},
     "output_type": "execute_result"
    }
   ],
   "source": [
    "gd_search = GridSearchCV(model_best, model_param, cv = 5)\n",
    "\n",
    "gd_search.fit(X_train, y_train)"
   ]
  },
  {
   "cell_type": "code",
   "execution_count": 70,
   "id": "df4cf4c2",
   "metadata": {},
   "outputs": [
    {
     "name": "stdout",
     "output_type": "stream",
     "text": [
      "The best n_estimators is : 500 \n",
      "The best max_depth: None \n",
      "The best learning_rate: 0.1 \n",
      "The best gamma: 0.5 \n",
      "The best sampling_method: uniform\n"
     ]
    }
   ],
   "source": [
    "#display the best parameters from the search\n",
    "\n",
    "print(\"The best n_estimators is : \" + str(gd_search.best_params_[\"n_estimators\"]),\n",
    "     \"\\nThe best max_depth: \" + str(gd_search.best_params_[\"max_depth\"]),\n",
    "     \"\\nThe best learning_rate: \" + str(gd_search.best_params_[\"learning_rate\"]),\n",
    "      \"\\nThe best gamma: \" + str(gd_search.best_params_[\"gamma\"]),\n",
    "     \"\\nThe best sampling_method: \" + str(gd_search.best_params_[\"sampling_method\"]))"
   ]
  },
  {
   "cell_type": "code",
   "execution_count": 71,
   "id": "5cbaded0",
   "metadata": {},
   "outputs": [
    {
     "data": {
      "text/plain": [
       "0.9485366508547391"
      ]
     },
     "execution_count": 71,
     "metadata": {},
     "output_type": "execute_result"
    }
   ],
   "source": [
    "# train the model with the selected parameters\n",
    "term_model = XGBClassifier(n_estimators  = 500, max_depth = None, learning_rate = 0.1, gamma = 0.5, sampling_method = 'uniform')\n",
    "term_model.fit(X_train, y_train)\n",
    "y_pred = term_model.predict(X_val)\n",
    "\n",
    "accuracy = accuracy_score(y_val, y_pred)\n",
    "accuracy"
   ]
  },
  {
   "cell_type": "code",
   "execution_count": 72,
   "id": "2b095aca",
   "metadata": {},
   "outputs": [],
   "source": [
    "import pickle\n",
    "# save the model to disk\n",
    "filename = 'term_deposit.sav'\n",
    "pickle.dump(term_model, open(filename, 'wb'))"
   ]
  },
  {
   "cell_type": "code",
   "execution_count": 73,
   "id": "241ec140",
   "metadata": {},
   "outputs": [
    {
     "data": {
      "text/html": [
       "<div>\n",
       "<style scoped>\n",
       "    .dataframe tbody tr th:only-of-type {\n",
       "        vertical-align: middle;\n",
       "    }\n",
       "\n",
       "    .dataframe tbody tr th {\n",
       "        vertical-align: top;\n",
       "    }\n",
       "\n",
       "    .dataframe thead th {\n",
       "        text-align: right;\n",
       "    }\n",
       "</style>\n",
       "<table border=\"1\" class=\"dataframe\">\n",
       "  <thead>\n",
       "    <tr style=\"text-align: right;\">\n",
       "      <th></th>\n",
       "      <th>Prediction</th>\n",
       "    </tr>\n",
       "  </thead>\n",
       "  <tbody>\n",
       "    <tr>\n",
       "      <th>0</th>\n",
       "      <td>0</td>\n",
       "    </tr>\n",
       "    <tr>\n",
       "      <th>1</th>\n",
       "      <td>0</td>\n",
       "    </tr>\n",
       "    <tr>\n",
       "      <th>2</th>\n",
       "      <td>0</td>\n",
       "    </tr>\n",
       "    <tr>\n",
       "      <th>3</th>\n",
       "      <td>0</td>\n",
       "    </tr>\n",
       "    <tr>\n",
       "      <th>4</th>\n",
       "      <td>0</td>\n",
       "    </tr>\n",
       "    <tr>\n",
       "      <th>5</th>\n",
       "      <td>0</td>\n",
       "    </tr>\n",
       "    <tr>\n",
       "      <th>6</th>\n",
       "      <td>0</td>\n",
       "    </tr>\n",
       "    <tr>\n",
       "      <th>7</th>\n",
       "      <td>0</td>\n",
       "    </tr>\n",
       "    <tr>\n",
       "      <th>8</th>\n",
       "      <td>1</td>\n",
       "    </tr>\n",
       "    <tr>\n",
       "      <th>9</th>\n",
       "      <td>0</td>\n",
       "    </tr>\n",
       "    <tr>\n",
       "      <th>10</th>\n",
       "      <td>0</td>\n",
       "    </tr>\n",
       "    <tr>\n",
       "      <th>11</th>\n",
       "      <td>0</td>\n",
       "    </tr>\n",
       "    <tr>\n",
       "      <th>12</th>\n",
       "      <td>0</td>\n",
       "    </tr>\n",
       "    <tr>\n",
       "      <th>13</th>\n",
       "      <td>0</td>\n",
       "    </tr>\n",
       "    <tr>\n",
       "      <th>14</th>\n",
       "      <td>0</td>\n",
       "    </tr>\n",
       "    <tr>\n",
       "      <th>15</th>\n",
       "      <td>0</td>\n",
       "    </tr>\n",
       "    <tr>\n",
       "      <th>16</th>\n",
       "      <td>0</td>\n",
       "    </tr>\n",
       "    <tr>\n",
       "      <th>17</th>\n",
       "      <td>0</td>\n",
       "    </tr>\n",
       "    <tr>\n",
       "      <th>18</th>\n",
       "      <td>0</td>\n",
       "    </tr>\n",
       "    <tr>\n",
       "      <th>19</th>\n",
       "      <td>0</td>\n",
       "    </tr>\n",
       "  </tbody>\n",
       "</table>\n",
       "</div>"
      ],
      "text/plain": [
       "    Prediction\n",
       "0            0\n",
       "1            0\n",
       "2            0\n",
       "3            0\n",
       "4            0\n",
       "5            0\n",
       "6            0\n",
       "7            0\n",
       "8            1\n",
       "9            0\n",
       "10           0\n",
       "11           0\n",
       "12           0\n",
       "13           0\n",
       "14           0\n",
       "15           0\n",
       "16           0\n",
       "17           0\n",
       "18           0\n",
       "19           0"
      ]
     },
     "execution_count": 73,
     "metadata": {},
     "output_type": "execute_result"
    }
   ],
   "source": [
    "#prediction using our saved model\n",
    "load_model = pickle.load(open(filename, 'rb'))\n",
    "y_pred_test = term_model.predict(X_test)\n",
    "y_pred_test = pd.DataFrame(y_pred_test, columns = ['Prediction'])\n",
    "y_pred_test.head(20)"
   ]
  },
  {
   "cell_type": "code",
   "execution_count": 74,
   "id": "e7d350a2",
   "metadata": {},
   "outputs": [],
   "source": [
    "#combining the prediction with our dataset\n",
    "term_predict=pd.concat([term_deposit_test,y_pred_test],axis=1)"
   ]
  },
  {
   "cell_type": "code",
   "execution_count": 75,
   "id": "97d107e7",
   "metadata": {},
   "outputs": [],
   "source": [
    "#converting the values of our subscribed back to yes and no.\n",
    "term_predict['Prediction']=term_predict['Prediction'].replace({0: 'no', 1: 'yes'})"
   ]
  },
  {
   "cell_type": "code",
   "execution_count": 76,
   "id": "1a670490",
   "metadata": {},
   "outputs": [
    {
     "data": {
      "text/html": [
       "<div>\n",
       "<style scoped>\n",
       "    .dataframe tbody tr th:only-of-type {\n",
       "        vertical-align: middle;\n",
       "    }\n",
       "\n",
       "    .dataframe tbody tr th {\n",
       "        vertical-align: top;\n",
       "    }\n",
       "\n",
       "    .dataframe thead th {\n",
       "        text-align: right;\n",
       "    }\n",
       "</style>\n",
       "<table border=\"1\" class=\"dataframe\">\n",
       "  <thead>\n",
       "    <tr style=\"text-align: right;\">\n",
       "      <th></th>\n",
       "      <th>ID</th>\n",
       "      <th>age</th>\n",
       "      <th>job</th>\n",
       "      <th>marital</th>\n",
       "      <th>education</th>\n",
       "      <th>default</th>\n",
       "      <th>balance</th>\n",
       "      <th>housing</th>\n",
       "      <th>loan</th>\n",
       "      <th>contact</th>\n",
       "      <th>day</th>\n",
       "      <th>month</th>\n",
       "      <th>duration</th>\n",
       "      <th>campaign</th>\n",
       "      <th>pdays</th>\n",
       "      <th>previous</th>\n",
       "      <th>poutcome</th>\n",
       "      <th>Prediction</th>\n",
       "    </tr>\n",
       "  </thead>\n",
       "  <tbody>\n",
       "    <tr>\n",
       "      <th>0</th>\n",
       "      <td>38441</td>\n",
       "      <td>32</td>\n",
       "      <td>services</td>\n",
       "      <td>married</td>\n",
       "      <td>secondary</td>\n",
       "      <td>no</td>\n",
       "      <td>118</td>\n",
       "      <td>yes</td>\n",
       "      <td>no</td>\n",
       "      <td>cellular</td>\n",
       "      <td>15</td>\n",
       "      <td>may</td>\n",
       "      <td>20</td>\n",
       "      <td>6</td>\n",
       "      <td>-1</td>\n",
       "      <td>0</td>\n",
       "      <td>unknown</td>\n",
       "      <td>no</td>\n",
       "    </tr>\n",
       "    <tr>\n",
       "      <th>1</th>\n",
       "      <td>40403</td>\n",
       "      <td>78</td>\n",
       "      <td>retired</td>\n",
       "      <td>divorced</td>\n",
       "      <td>primary</td>\n",
       "      <td>no</td>\n",
       "      <td>2787</td>\n",
       "      <td>no</td>\n",
       "      <td>no</td>\n",
       "      <td>telephone</td>\n",
       "      <td>1</td>\n",
       "      <td>jul</td>\n",
       "      <td>372</td>\n",
       "      <td>1</td>\n",
       "      <td>-1</td>\n",
       "      <td>0</td>\n",
       "      <td>unknown</td>\n",
       "      <td>no</td>\n",
       "    </tr>\n",
       "    <tr>\n",
       "      <th>2</th>\n",
       "      <td>3709</td>\n",
       "      <td>31</td>\n",
       "      <td>self-employed</td>\n",
       "      <td>single</td>\n",
       "      <td>tertiary</td>\n",
       "      <td>no</td>\n",
       "      <td>144</td>\n",
       "      <td>yes</td>\n",
       "      <td>no</td>\n",
       "      <td>unknown</td>\n",
       "      <td>16</td>\n",
       "      <td>may</td>\n",
       "      <td>676</td>\n",
       "      <td>1</td>\n",
       "      <td>-1</td>\n",
       "      <td>0</td>\n",
       "      <td>unknown</td>\n",
       "      <td>no</td>\n",
       "    </tr>\n",
       "    <tr>\n",
       "      <th>3</th>\n",
       "      <td>37422</td>\n",
       "      <td>57</td>\n",
       "      <td>services</td>\n",
       "      <td>single</td>\n",
       "      <td>primary</td>\n",
       "      <td>no</td>\n",
       "      <td>3777</td>\n",
       "      <td>yes</td>\n",
       "      <td>no</td>\n",
       "      <td>telephone</td>\n",
       "      <td>13</td>\n",
       "      <td>may</td>\n",
       "      <td>65</td>\n",
       "      <td>2</td>\n",
       "      <td>-1</td>\n",
       "      <td>0</td>\n",
       "      <td>unknown</td>\n",
       "      <td>no</td>\n",
       "    </tr>\n",
       "    <tr>\n",
       "      <th>4</th>\n",
       "      <td>12527</td>\n",
       "      <td>45</td>\n",
       "      <td>blue-collar</td>\n",
       "      <td>divorced</td>\n",
       "      <td>secondary</td>\n",
       "      <td>no</td>\n",
       "      <td>-705</td>\n",
       "      <td>no</td>\n",
       "      <td>yes</td>\n",
       "      <td>unknown</td>\n",
       "      <td>3</td>\n",
       "      <td>jul</td>\n",
       "      <td>111</td>\n",
       "      <td>1</td>\n",
       "      <td>-1</td>\n",
       "      <td>0</td>\n",
       "      <td>unknown</td>\n",
       "      <td>no</td>\n",
       "    </tr>\n",
       "    <tr>\n",
       "      <th>5</th>\n",
       "      <td>16013</td>\n",
       "      <td>32</td>\n",
       "      <td>management</td>\n",
       "      <td>single</td>\n",
       "      <td>tertiary</td>\n",
       "      <td>no</td>\n",
       "      <td>0</td>\n",
       "      <td>yes</td>\n",
       "      <td>no</td>\n",
       "      <td>cellular</td>\n",
       "      <td>22</td>\n",
       "      <td>jul</td>\n",
       "      <td>455</td>\n",
       "      <td>2</td>\n",
       "      <td>-1</td>\n",
       "      <td>0</td>\n",
       "      <td>unknown</td>\n",
       "      <td>no</td>\n",
       "    </tr>\n",
       "    <tr>\n",
       "      <th>6</th>\n",
       "      <td>196</td>\n",
       "      <td>33</td>\n",
       "      <td>blue-collar</td>\n",
       "      <td>single</td>\n",
       "      <td>secondary</td>\n",
       "      <td>no</td>\n",
       "      <td>307</td>\n",
       "      <td>yes</td>\n",
       "      <td>no</td>\n",
       "      <td>unknown</td>\n",
       "      <td>5</td>\n",
       "      <td>may</td>\n",
       "      <td>309</td>\n",
       "      <td>2</td>\n",
       "      <td>-1</td>\n",
       "      <td>0</td>\n",
       "      <td>unknown</td>\n",
       "      <td>no</td>\n",
       "    </tr>\n",
       "    <tr>\n",
       "      <th>7</th>\n",
       "      <td>8516</td>\n",
       "      <td>37</td>\n",
       "      <td>management</td>\n",
       "      <td>married</td>\n",
       "      <td>secondary</td>\n",
       "      <td>no</td>\n",
       "      <td>341</td>\n",
       "      <td>no</td>\n",
       "      <td>no</td>\n",
       "      <td>unknown</td>\n",
       "      <td>3</td>\n",
       "      <td>jun</td>\n",
       "      <td>120</td>\n",
       "      <td>2</td>\n",
       "      <td>-1</td>\n",
       "      <td>0</td>\n",
       "      <td>unknown</td>\n",
       "      <td>no</td>\n",
       "    </tr>\n",
       "    <tr>\n",
       "      <th>8</th>\n",
       "      <td>31208</td>\n",
       "      <td>36</td>\n",
       "      <td>technician</td>\n",
       "      <td>divorced</td>\n",
       "      <td>tertiary</td>\n",
       "      <td>no</td>\n",
       "      <td>1381</td>\n",
       "      <td>no</td>\n",
       "      <td>no</td>\n",
       "      <td>cellular</td>\n",
       "      <td>2</td>\n",
       "      <td>mar</td>\n",
       "      <td>149</td>\n",
       "      <td>1</td>\n",
       "      <td>-1</td>\n",
       "      <td>0</td>\n",
       "      <td>unknown</td>\n",
       "      <td>yes</td>\n",
       "    </tr>\n",
       "    <tr>\n",
       "      <th>9</th>\n",
       "      <td>38462</td>\n",
       "      <td>50</td>\n",
       "      <td>admin.</td>\n",
       "      <td>single</td>\n",
       "      <td>primary</td>\n",
       "      <td>no</td>\n",
       "      <td>181</td>\n",
       "      <td>yes</td>\n",
       "      <td>no</td>\n",
       "      <td>cellular</td>\n",
       "      <td>15</td>\n",
       "      <td>may</td>\n",
       "      <td>119</td>\n",
       "      <td>4</td>\n",
       "      <td>372</td>\n",
       "      <td>3</td>\n",
       "      <td>failure</td>\n",
       "      <td>no</td>\n",
       "    </tr>\n",
       "    <tr>\n",
       "      <th>10</th>\n",
       "      <td>17041</td>\n",
       "      <td>34</td>\n",
       "      <td>blue-collar</td>\n",
       "      <td>married</td>\n",
       "      <td>primary</td>\n",
       "      <td>no</td>\n",
       "      <td>654</td>\n",
       "      <td>no</td>\n",
       "      <td>no</td>\n",
       "      <td>cellular</td>\n",
       "      <td>25</td>\n",
       "      <td>jul</td>\n",
       "      <td>152</td>\n",
       "      <td>1</td>\n",
       "      <td>-1</td>\n",
       "      <td>0</td>\n",
       "      <td>unknown</td>\n",
       "      <td>no</td>\n",
       "    </tr>\n",
       "    <tr>\n",
       "      <th>11</th>\n",
       "      <td>4920</td>\n",
       "      <td>33</td>\n",
       "      <td>management</td>\n",
       "      <td>married</td>\n",
       "      <td>tertiary</td>\n",
       "      <td>no</td>\n",
       "      <td>188</td>\n",
       "      <td>yes</td>\n",
       "      <td>no</td>\n",
       "      <td>unknown</td>\n",
       "      <td>21</td>\n",
       "      <td>may</td>\n",
       "      <td>136</td>\n",
       "      <td>1</td>\n",
       "      <td>-1</td>\n",
       "      <td>0</td>\n",
       "      <td>unknown</td>\n",
       "      <td>no</td>\n",
       "    </tr>\n",
       "    <tr>\n",
       "      <th>12</th>\n",
       "      <td>802</td>\n",
       "      <td>40</td>\n",
       "      <td>blue-collar</td>\n",
       "      <td>divorced</td>\n",
       "      <td>secondary</td>\n",
       "      <td>no</td>\n",
       "      <td>139</td>\n",
       "      <td>yes</td>\n",
       "      <td>no</td>\n",
       "      <td>unknown</td>\n",
       "      <td>7</td>\n",
       "      <td>may</td>\n",
       "      <td>91</td>\n",
       "      <td>1</td>\n",
       "      <td>-1</td>\n",
       "      <td>0</td>\n",
       "      <td>unknown</td>\n",
       "      <td>no</td>\n",
       "    </tr>\n",
       "    <tr>\n",
       "      <th>13</th>\n",
       "      <td>1738</td>\n",
       "      <td>35</td>\n",
       "      <td>technician</td>\n",
       "      <td>married</td>\n",
       "      <td>secondary</td>\n",
       "      <td>no</td>\n",
       "      <td>55</td>\n",
       "      <td>yes</td>\n",
       "      <td>no</td>\n",
       "      <td>unknown</td>\n",
       "      <td>9</td>\n",
       "      <td>may</td>\n",
       "      <td>79</td>\n",
       "      <td>4</td>\n",
       "      <td>-1</td>\n",
       "      <td>0</td>\n",
       "      <td>unknown</td>\n",
       "      <td>no</td>\n",
       "    </tr>\n",
       "    <tr>\n",
       "      <th>14</th>\n",
       "      <td>9565</td>\n",
       "      <td>53</td>\n",
       "      <td>management</td>\n",
       "      <td>married</td>\n",
       "      <td>unknown</td>\n",
       "      <td>no</td>\n",
       "      <td>12001</td>\n",
       "      <td>no</td>\n",
       "      <td>no</td>\n",
       "      <td>unknown</td>\n",
       "      <td>6</td>\n",
       "      <td>jun</td>\n",
       "      <td>207</td>\n",
       "      <td>1</td>\n",
       "      <td>-1</td>\n",
       "      <td>0</td>\n",
       "      <td>unknown</td>\n",
       "      <td>no</td>\n",
       "    </tr>\n",
       "    <tr>\n",
       "      <th>15</th>\n",
       "      <td>29743</td>\n",
       "      <td>59</td>\n",
       "      <td>unemployed</td>\n",
       "      <td>single</td>\n",
       "      <td>secondary</td>\n",
       "      <td>no</td>\n",
       "      <td>865</td>\n",
       "      <td>no</td>\n",
       "      <td>no</td>\n",
       "      <td>cellular</td>\n",
       "      <td>4</td>\n",
       "      <td>feb</td>\n",
       "      <td>1086</td>\n",
       "      <td>1</td>\n",
       "      <td>-1</td>\n",
       "      <td>0</td>\n",
       "      <td>unknown</td>\n",
       "      <td>no</td>\n",
       "    </tr>\n",
       "    <tr>\n",
       "      <th>16</th>\n",
       "      <td>34946</td>\n",
       "      <td>27</td>\n",
       "      <td>technician</td>\n",
       "      <td>single</td>\n",
       "      <td>secondary</td>\n",
       "      <td>no</td>\n",
       "      <td>2</td>\n",
       "      <td>yes</td>\n",
       "      <td>yes</td>\n",
       "      <td>cellular</td>\n",
       "      <td>6</td>\n",
       "      <td>may</td>\n",
       "      <td>554</td>\n",
       "      <td>2</td>\n",
       "      <td>356</td>\n",
       "      <td>1</td>\n",
       "      <td>failure</td>\n",
       "      <td>no</td>\n",
       "    </tr>\n",
       "    <tr>\n",
       "      <th>17</th>\n",
       "      <td>1671</td>\n",
       "      <td>32</td>\n",
       "      <td>services</td>\n",
       "      <td>married</td>\n",
       "      <td>secondary</td>\n",
       "      <td>no</td>\n",
       "      <td>2068</td>\n",
       "      <td>yes</td>\n",
       "      <td>yes</td>\n",
       "      <td>unknown</td>\n",
       "      <td>9</td>\n",
       "      <td>may</td>\n",
       "      <td>143</td>\n",
       "      <td>1</td>\n",
       "      <td>-1</td>\n",
       "      <td>0</td>\n",
       "      <td>unknown</td>\n",
       "      <td>no</td>\n",
       "    </tr>\n",
       "    <tr>\n",
       "      <th>18</th>\n",
       "      <td>2868</td>\n",
       "      <td>53</td>\n",
       "      <td>blue-collar</td>\n",
       "      <td>married</td>\n",
       "      <td>secondary</td>\n",
       "      <td>no</td>\n",
       "      <td>5700</td>\n",
       "      <td>yes</td>\n",
       "      <td>no</td>\n",
       "      <td>unknown</td>\n",
       "      <td>14</td>\n",
       "      <td>may</td>\n",
       "      <td>97</td>\n",
       "      <td>1</td>\n",
       "      <td>-1</td>\n",
       "      <td>0</td>\n",
       "      <td>unknown</td>\n",
       "      <td>no</td>\n",
       "    </tr>\n",
       "    <tr>\n",
       "      <th>19</th>\n",
       "      <td>6478</td>\n",
       "      <td>32</td>\n",
       "      <td>management</td>\n",
       "      <td>single</td>\n",
       "      <td>tertiary</td>\n",
       "      <td>no</td>\n",
       "      <td>1410</td>\n",
       "      <td>yes</td>\n",
       "      <td>no</td>\n",
       "      <td>unknown</td>\n",
       "      <td>27</td>\n",
       "      <td>may</td>\n",
       "      <td>175</td>\n",
       "      <td>5</td>\n",
       "      <td>-1</td>\n",
       "      <td>0</td>\n",
       "      <td>unknown</td>\n",
       "      <td>no</td>\n",
       "    </tr>\n",
       "  </tbody>\n",
       "</table>\n",
       "</div>"
      ],
      "text/plain": [
       "       ID  age            job   marital  education default  balance housing  \\\n",
       "0   38441   32       services   married  secondary      no      118     yes   \n",
       "1   40403   78        retired  divorced    primary      no     2787      no   \n",
       "2    3709   31  self-employed    single   tertiary      no      144     yes   \n",
       "3   37422   57       services    single    primary      no     3777     yes   \n",
       "4   12527   45    blue-collar  divorced  secondary      no     -705      no   \n",
       "5   16013   32     management    single   tertiary      no        0     yes   \n",
       "6     196   33    blue-collar    single  secondary      no      307     yes   \n",
       "7    8516   37     management   married  secondary      no      341      no   \n",
       "8   31208   36     technician  divorced   tertiary      no     1381      no   \n",
       "9   38462   50         admin.    single    primary      no      181     yes   \n",
       "10  17041   34    blue-collar   married    primary      no      654      no   \n",
       "11   4920   33     management   married   tertiary      no      188     yes   \n",
       "12    802   40    blue-collar  divorced  secondary      no      139     yes   \n",
       "13   1738   35     technician   married  secondary      no       55     yes   \n",
       "14   9565   53     management   married    unknown      no    12001      no   \n",
       "15  29743   59     unemployed    single  secondary      no      865      no   \n",
       "16  34946   27     technician    single  secondary      no        2     yes   \n",
       "17   1671   32       services   married  secondary      no     2068     yes   \n",
       "18   2868   53    blue-collar   married  secondary      no     5700     yes   \n",
       "19   6478   32     management    single   tertiary      no     1410     yes   \n",
       "\n",
       "   loan    contact  day month  duration  campaign  pdays  previous poutcome  \\\n",
       "0    no   cellular   15   may        20         6     -1         0  unknown   \n",
       "1    no  telephone    1   jul       372         1     -1         0  unknown   \n",
       "2    no    unknown   16   may       676         1     -1         0  unknown   \n",
       "3    no  telephone   13   may        65         2     -1         0  unknown   \n",
       "4   yes    unknown    3   jul       111         1     -1         0  unknown   \n",
       "5    no   cellular   22   jul       455         2     -1         0  unknown   \n",
       "6    no    unknown    5   may       309         2     -1         0  unknown   \n",
       "7    no    unknown    3   jun       120         2     -1         0  unknown   \n",
       "8    no   cellular    2   mar       149         1     -1         0  unknown   \n",
       "9    no   cellular   15   may       119         4    372         3  failure   \n",
       "10   no   cellular   25   jul       152         1     -1         0  unknown   \n",
       "11   no    unknown   21   may       136         1     -1         0  unknown   \n",
       "12   no    unknown    7   may        91         1     -1         0  unknown   \n",
       "13   no    unknown    9   may        79         4     -1         0  unknown   \n",
       "14   no    unknown    6   jun       207         1     -1         0  unknown   \n",
       "15   no   cellular    4   feb      1086         1     -1         0  unknown   \n",
       "16  yes   cellular    6   may       554         2    356         1  failure   \n",
       "17  yes    unknown    9   may       143         1     -1         0  unknown   \n",
       "18   no    unknown   14   may        97         1     -1         0  unknown   \n",
       "19   no    unknown   27   may       175         5     -1         0  unknown   \n",
       "\n",
       "   Prediction  \n",
       "0          no  \n",
       "1          no  \n",
       "2          no  \n",
       "3          no  \n",
       "4          no  \n",
       "5          no  \n",
       "6          no  \n",
       "7          no  \n",
       "8         yes  \n",
       "9          no  \n",
       "10         no  \n",
       "11         no  \n",
       "12         no  \n",
       "13         no  \n",
       "14         no  \n",
       "15         no  \n",
       "16         no  \n",
       "17         no  \n",
       "18         no  \n",
       "19         no  "
      ]
     },
     "execution_count": 76,
     "metadata": {},
     "output_type": "execute_result"
    }
   ],
   "source": [
    "#display of our dataset with predictions\n",
    "term_predict.head(20)"
   ]
  },
  {
   "cell_type": "code",
   "execution_count": 77,
   "id": "2360d8d4",
   "metadata": {},
   "outputs": [
    {
     "data": {
      "text/plain": [
       "no     12063\n",
       "yes     1501\n",
       "Name: Prediction, dtype: int64"
      ]
     },
     "execution_count": 77,
     "metadata": {},
     "output_type": "execute_result"
    }
   ],
   "source": [
    "#This returns the count of unique occurrences in our prediction column.\n",
    "term_predict['Prediction'].value_counts()"
   ]
  },
  {
   "cell_type": "code",
   "execution_count": 78,
   "id": "5f4720a2",
   "metadata": {},
   "outputs": [
    {
     "data": {
      "text/plain": [
       "<AxesSubplot:xlabel='Prediction', ylabel='count'>"
      ]
     },
     "execution_count": 78,
     "metadata": {},
     "output_type": "execute_result"
    },
    {
     "data": {
      "image/png": "[encoded data removed]",
      "text/plain": [
       "<Figure size 432x288 with 1 Axes>"
      ]
     },
     "metadata": {
      "needs_background": "light"
     },
     "output_type": "display_data"
    }
   ],
   "source": [
    "# This countplot shows prediction column.\n",
    "sns.countplot(x='Prediction',data=term_predict,palette='husl')"
   ]
  },
  {
   "cell_type": "markdown",
   "id": "34e9225d",
   "metadata": {},
   "source": [
    "### Conclusion\n",
    "\n",
    "Xgboost Classifier is our best model because it had a lower difference between accuracy and cross validation score. The accuracy score before tuning was 0.946299 and after tuning with set parameters, the model's accuracy increased slightly to 0.948536. There was a slight improvement in the accuracy after tuning. Testing the performance of the model, we can see that 1644 clients will subscribe for term deposit."
   ]
  },
  {
   "cell_type": "markdown",
   "id": "3f559a77",
   "metadata": {},
   "source": []
  }
 ],
 "metadata": {
  "kernelspec": {
   "display_name": "Python 3 (ipykernel)",
   "language": "python",
   "name": "python3"
  },
  "language_info": {
   "codemirror_mode": {
    "name": "ipython",
    "version": 3
   },
   "file_extension": ".py",
   "mimetype": "text/x-python",
   "name": "python",
   "nbconvert_exporter": "python",
   "pygments_lexer": "ipython3",
   "version": "3.9.12"
  }
 },
 "nbformat": 4,
 "nbformat_minor": 5
}
