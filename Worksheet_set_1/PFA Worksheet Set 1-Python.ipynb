{
 "cells": [
  {
   "cell_type": "markdown",
   "id": "93da6c6a",
   "metadata": {},
   "source": [
    "# Jane Chinwuko\n",
    "# Project: Batch DS2307\n",
    "# PFA Worksheet Set 1\n",
    "# Python.\n"
   ]
  },
  {
   "cell_type": "markdown",
   "id": "0b082611",
   "metadata": {},
   "source": [
    "# 11. Write a python program to find the factorial of a number. \n",
    "\n"
   ]
  },
  {
   "cell_type": "code",
   "execution_count": 7,
   "id": "d6a972a9",
   "metadata": {},
   "outputs": [
    {
     "name": "stdout",
     "output_type": "stream",
     "text": [
      "Enter a non-negative integer to take the factorial of: 6\n",
      "720\n"
     ]
    }
   ],
   "source": [
    "# Python function to find the factorial of a number\n",
    "def num_factorial(number):\n",
    "\n",
    "# using recursive function: Recursion function is a routine that calls itself directly or indirectly\n",
    "    return 1 if (number==1 or number==0) else number * num_factorial(number - 1)\n",
    "\n",
    "# create the user input\n",
    "number = eval(input(\"Enter a non-negative integer to take the factorial of: \"))\n",
    "\n",
    "# display the factorial output value\n",
    "print(num_factorial(number))\n",
    "\n",
    "\n"
   ]
  },
  {
   "cell_type": "markdown",
   "id": "043071fd",
   "metadata": {},
   "source": [
    "# 12. Write a python program to find whether a number is prime or composite. \n"
   ]
  },
  {
   "cell_type": "code",
   "execution_count": 8,
   "id": "7c1ccc33",
   "metadata": {},
   "outputs": [
    {
     "name": "stdout",
     "output_type": "stream",
     "text": [
      "Please enter any number: 5\n",
      "5 is a Prime number\n"
     ]
    }
   ],
   "source": [
    "#Input the number value\n",
    "input_value = eval(input(\"Please enter any number: \"))\n",
    "\n",
    "#To check if the input number is greater than 1 and then creates a for loop.\n",
    "if input_value > 1:\n",
    "    for i in range(2, (input_value//2) + 1):\n",
    "        if (input_value % i == 0):\n",
    "            print(f\"{input_value} is a composite Number\")\n",
    "            break\n",
    "    else:\n",
    "        \n",
    "        print(f\"{input_value} is a Prime number\")\n",
    "\n"
   ]
  },
  {
   "cell_type": "markdown",
   "id": "063f9fbe",
   "metadata": {},
   "source": [
    "# 13. Write a python program to check whether a given string is palindrome or not. \n"
   ]
  },
  {
   "cell_type": "code",
   "execution_count": 9,
   "id": "5da78b4b",
   "metadata": {},
   "outputs": [
    {
     "name": "stdout",
     "output_type": "stream",
     "text": [
      "Is Palindrome\n"
     ]
    }
   ],
   "source": [
    "\n",
    "# This function will reverse the string\n",
    " \n",
    "def isPalindrome(input_string):\n",
    "    \n",
    "    # checks the string and returns if it is a palindrome or not\n",
    "    return 'Is Palindrome' if input_string == input_string[::-1] else 'Is not Palindrome'\n",
    " \n",
    "# input string value\n",
    "s = \"ada\"\n",
    "\n",
    "#Display result\n",
    "print(isPalindrome(s))"
   ]
  },
  {
   "cell_type": "markdown",
   "id": "13d5c01a",
   "metadata": {},
   "source": [
    "# 14. Write a Python program to get the third side of right-angled triangle from two given sides. \n"
   ]
  },
  {
   "cell_type": "code",
   "execution_count": 10,
   "id": "89c7cdf4",
   "metadata": {},
   "outputs": [
    {
     "name": "stdout",
     "output_type": "stream",
     "text": [
      "5.83\n"
     ]
    }
   ],
   "source": [
    "# Import library\n",
    "import math  \n",
    "\n",
    "# Function to return the third side of right-angled triangle from two given sides.\n",
    "def third_side(side_1, side_2):\n",
    "    \n",
    "   #Returns the square root of the square of the two sides \n",
    "    return round(math.sqrt((side_1 * side_1) + (side_2 * side_2)), 2)\n",
    "  \n",
    "# 1st side value\n",
    "side_1 = 3\n",
    "\n",
    "# 2nd side value\n",
    "side_2 = 5\n",
    "\n",
    "#Call the function and display the result\n",
    "print(third_side(side_1, side_2))\n",
    "  \n"
   ]
  },
  {
   "cell_type": "markdown",
   "id": "84a017fa",
   "metadata": {},
   "source": [
    "# 15. Write a python program to print the frequency of each of the characters present in a given string"
   ]
  },
  {
   "cell_type": "code",
   "execution_count": 11,
   "id": "2de2a032",
   "metadata": {},
   "outputs": [
    {
     "name": "stdout",
     "output_type": "stream",
     "text": [
      "The input string is:  What do you understand by the term Normal Distribution? \n",
      "\n",
      "Count of character i is 3\n",
      "Count of character b is 2\n",
      "Count of character d is 3\n",
      "Count of character a is 3\n",
      "Count of character e is 3\n",
      "Count of character n is 3\n",
      "Count of character   is 8\n",
      "Count of character h is 2\n",
      "Count of character l is 1\n",
      "Count of character s is 2\n",
      "Count of character r is 4\n",
      "Count of character m is 2\n",
      "Count of character y is 2\n",
      "Count of character o is 4\n",
      "Count of character D is 1\n",
      "Count of character t is 6\n",
      "Count of character ? is 1\n",
      "Count of character N is 1\n",
      "Count of character u is 3\n",
      "Count of character W is 1\n"
     ]
    }
   ],
   "source": [
    "#Input the string\n",
    "input_string = \"What do you understand by the term Normal Distribution?\"\n",
    "\n",
    "#Display the inputted string\n",
    "print(\"The input string is: \", input_string, \"\\n\")\n",
    "\n",
    "#Get the unique characters in the string\n",
    "unique_chars = set(input_string)\n",
    "\n",
    "#Create a dictionary containing each character and the frequency\n",
    "count_value = {x: input_string.count(x) for x in unique_chars}\n",
    "\n",
    "#Loop through all items in the dictionary to get their keys and values\n",
    "for k, v in count_value.items():\n",
    "    \n",
    "    #print each character and and their frequency values\n",
    "    print(f\"Count of character {k} is {v}\")"
   ]
  }
 ],
 "metadata": {
  "kernelspec": {
   "display_name": "Python 3 (ipykernel)",
   "language": "python",
   "name": "python3"
  },
  "language_info": {
   "codemirror_mode": {
    "name": "ipython",
    "version": 3
   },
   "file_extension": ".py",
   "mimetype": "text/x-python",
   "name": "python",
   "nbconvert_exporter": "python",
   "pygments_lexer": "ipython3",
   "version": "3.9.12"
  }
 },
 "nbformat": 4,
 "nbformat_minor": 5
}
