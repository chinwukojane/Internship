{
 "cells": [
  {
   "cell_type": "markdown",
   "id": "cfad5f88",
   "metadata": {},
   "source": [
    "# Jane Chinwuko\n",
    "# Batch number: DS2307"
   ]
  },
  {
   "cell_type": "markdown",
   "id": "16d78be0",
   "metadata": {},
   "source": [
    "# Question 1.\n",
    "\n",
    "Write a Python program to replace all occurrences of a space, comma, or dot with a colon.\n",
    "\n",
    "Sample Text- 'Python Exercises, PHP exercises.'\n",
    "\n",
    "Expected Output: Python:Exercises::PHP:exercises:\n"
   ]
  },
  {
   "cell_type": "code",
   "execution_count": 31,
   "id": "1c28b22e",
   "metadata": {},
   "outputs": [
    {
     "name": "stdout",
     "output_type": "stream",
     "text": [
      "Python:Exercises::PHP:exercises:\n"
     ]
    }
   ],
   "source": [
    "# import the re library\n",
    "import re\n",
    "\n",
    "#Input text\n",
    "text_Sample = 'Python Exercises, PHP exercises.'\n",
    "\n",
    "# replaces all occurrences of a space, comma, or dot with a colon and display result\n",
    "print(re.sub(\"[ ,.]\", \":\", text_Sample))"
   ]
  },
  {
   "cell_type": "markdown",
   "id": "87b1afa1",
   "metadata": {},
   "source": [
    "# Question 2.  \n",
    "\n",
    "Write a Python program to find all words starting with 'a' or 'e' in a given string."
   ]
  },
  {
   "cell_type": "code",
   "execution_count": 32,
   "id": "83056291",
   "metadata": {},
   "outputs": [
    {
     "name": "stdout",
     "output_type": "stream",
     "text": [
      "['engaged', 'arrival']\n"
     ]
    }
   ],
   "source": [
    "# import the re library\n",
    "import re\n",
    "\n",
    "#The input string\n",
    "String = \"The couple, who got engaged last month, shared the arrival of their newborn son, who they named Edwards Abrah.\"\n",
    "\n",
    "#finding all the words which starts with 'a' or 'e'\n",
    "Words = re.findall(r'\\b[ae]\\w+', String)\n",
    "\n",
    "#display result\n",
    "print(Words)"
   ]
  },
  {
   "cell_type": "markdown",
   "id": "55870ae5",
   "metadata": {},
   "source": [
    "# Question 3.\n",
    "\n",
    "Create a function in python to find all words that are at least 4 characters long in a string. The use of the re.compile() method is mandatory.\n"
   ]
  },
  {
   "cell_type": "code",
   "execution_count": 33,
   "id": "75b5c2ea",
   "metadata": {},
   "outputs": [
    {
     "name": "stdout",
     "output_type": "stream",
     "text": [
      "['lion', 'both', 'running', 'fast']\n"
     ]
    }
   ],
   "source": [
    "# import the re library\n",
    "import re\n",
    "\n",
    "# create a function to find all words that are at least 4 characters long in a string and return the results\n",
    "def find_char(input_text):\n",
    "    # return the result of characters with length 4 or more\n",
    "    return re.compile(r'\\b\\w{4,}\\b').findall(input_text)\n",
    "\n",
    "#The input string\n",
    "Text = \"The cat and lion are both running fast\"\n",
    "\n",
    "# call the function and display result\n",
    "print(find_char(Text))\n"
   ]
  },
  {
   "cell_type": "markdown",
   "id": "e0394a85",
   "metadata": {},
   "source": [
    "# Question 4.\n",
    "\n",
    "Create a function in python to find all three, four, and five character words in a string. The use of the re.compile() method is mandatory."
   ]
  },
  {
   "cell_type": "code",
   "execution_count": 34,
   "id": "6cd4d27a",
   "metadata": {},
   "outputs": [
    {
     "name": "stdout",
     "output_type": "stream",
     "text": [
      "['The', 'cat', 'runs', 'than', 'the', 'tiger', 'the', 'road']\n"
     ]
    }
   ],
   "source": [
    "# import the re library\n",
    "import re\n",
    "\n",
    "# create a function to find all three, four, and five character words in a string and return the results\n",
    "def find_char(input_text):\n",
    "    # return the result of characters with length three, four, and five\n",
    "    return re.compile(r'\\b\\w{3,5}\\b').findall(input_text)\n",
    "\n",
    "#The input string\n",
    "Text = \"The cat runs faster than the tiger on the road\"\n",
    "\n",
    "# call the function and display result\n",
    "print(find_char(Text))"
   ]
  },
  {
   "cell_type": "markdown",
   "id": "e651a53d",
   "metadata": {},
   "source": [
    "# Question 5. \n",
    "\n",
    "Create a function in Python to remove the parenthesis in a list of strings. The use of the re.compile() method is mandatory.\n",
    "\n",
    "Sample Text: [\"example (.com)\", \"hr@fliprobo (.com)\", \"github (.com)\", \"Hello (Data Science World)\", \"Data (Scientist)\"]\n",
    "\n",
    "Expected Output:\n",
    "example.com\n",
    "hr@fliprobo.com\n",
    "github.com\n",
    "Hello Data Science World\n",
    "Data Scientist\n"
   ]
  },
  {
   "cell_type": "code",
   "execution_count": 35,
   "id": "d8a2acf9",
   "metadata": {},
   "outputs": [
    {
     "name": "stdout",
     "output_type": "stream",
     "text": [
      "example .com hr@fliprobo .com github .com Hello Data Science World Data Scientist\n"
     ]
    }
   ],
   "source": [
    "# import the re library\n",
    "import re\n",
    "\n",
    "# create a function to remove the parenthesis in a list of strings and return the results\n",
    "def remove_par(text_input):\n",
    "    # return the result of characters without parenthesis\n",
    "    return re.compile(r'[()]').sub('', ' '.join(text_input))\n",
    "\n",
    "#The input string\n",
    "text_Sample = [\"example (.com)\", \"hr@fliprobo (.com)\", \"github (.com)\", \"Hello (Data Science World)\", \"Data (Scientist)\"]\n",
    "# call the function and display result\n",
    "print(remove_par(text_Sample))"
   ]
  },
  {
   "cell_type": "markdown",
   "id": "6627db65",
   "metadata": {},
   "source": [
    "# Question 6.\n",
    "\n",
    "Write a python program to remove the parenthesis area from the text stored in the text file using Regular Expression.\n",
    "\n",
    "Sample Text: [\"example (.com)\", \"hr@fliprobo (.com)\", \"github (.com)\", \"Hello (Data Science World)\", \"Data (Scientist)\"]\n",
    "\n",
    "Expected Output: [\"example\", \"hr@fliprobo\", \"github\", \"Hello\", \"Data\"]\n",
    "\n",
    "Note- Store given sample text in the text file and then to remove the parenthesis area from the text."
   ]
  },
  {
   "cell_type": "code",
   "execution_count": 36,
   "id": "d7aceb73",
   "metadata": {},
   "outputs": [
    {
     "name": "stdout",
     "output_type": "stream",
     "text": [
      "[\"example\", \"hr@fliprobo\", \"github\", \"Hello\", \"Data\"]\n"
     ]
    }
   ],
   "source": [
    "# import the re library\n",
    "import re\n",
    "\n",
    "#Read string stored in a text file\n",
    "with open(\"Sample Text 6.txt\") as text_file:\n",
    "    \n",
    "    #removes the parenthesis area from the text stored in the text file\n",
    "    removed = [re.sub(r\" ?\\([^)]+\\)\", \"\", item) for item in text_file]\n",
    "\n",
    "    #display result\n",
    "    print(removed[0])"
   ]
  },
  {
   "cell_type": "markdown",
   "id": "5136a696",
   "metadata": {},
   "source": [
    "# Question 7.\n",
    "\n",
    "Write a regular expression in Python to split a string into uppercase letters.\n",
    "\n",
    "Sample text: “ImportanceOfRegularExpressionsInPython”\n",
    "\n",
    "Expected Output: [‘Importance’, ‘Of’, ‘Regular’, ‘Expression’, ‘In’, ‘Python’]\n"
   ]
  },
  {
   "cell_type": "code",
   "execution_count": 37,
   "id": "1775d9a9",
   "metadata": {},
   "outputs": [
    {
     "name": "stdout",
     "output_type": "stream",
     "text": [
      "['Importance', 'Of', 'Regular', 'Expressions', 'In', 'Python']\n"
     ]
    }
   ],
   "source": [
    "# import the re library\n",
    "import re\n",
    "\n",
    "#The input string\n",
    "Sample_text = \"ImportanceOfRegularExpressionsInPython\"\n",
    "\n",
    "#splitting the string into uppercase letters\n",
    "split_result = re.findall('[A-Z][^A-Z]*', Sample_text)\n",
    "\n",
    "#display result\n",
    "print(split_result)"
   ]
  },
  {
   "cell_type": "markdown",
   "id": "fa29f03b",
   "metadata": {},
   "source": [
    "# Question 8.\n",
    "\n",
    "Create a function in python to insert spaces between words starting with numbers.\n",
    "\n",
    "Sample Text: “RegularExpression1IsAn2ImportantTopic3InPython\"\n",
    "\n",
    "Expected Output: RegularExpression 1IsAn 2ImportantTopic 3InPython\n"
   ]
  },
  {
   "cell_type": "code",
   "execution_count": 38,
   "id": "a04a0621",
   "metadata": {},
   "outputs": [
    {
     "name": "stdout",
     "output_type": "stream",
     "text": [
      "RegularExpression 1IsAn 2ImportantTopic 3InPython\n"
     ]
    }
   ],
   "source": [
    "# import the re library\n",
    "import re\n",
    "\n",
    "# create a function to insert spaces between words starting with numbers. and return the results\n",
    "def split_char(text_input):\n",
    "    \n",
    "    # returns the result showing spaces between words starting with numbers\n",
    "    return ' '.join(re.split('(?<=\\D)(?=\\d)', text_input))\n",
    "\n",
    "#The input string\n",
    "text_Sample =  \"RegularExpression1IsAn2ImportantTopic3InPython\"\n",
    "# call the function and display result\n",
    "print(split_char(text_Sample))"
   ]
  },
  {
   "cell_type": "markdown",
   "id": "32066ef7",
   "metadata": {},
   "source": [
    "# Question 9.\n",
    "\n",
    "Create a function in python to insert spaces between words starting with capital letters or with numbers.\n",
    "\n",
    "Sample Text: “RegularExpression1IsAn2ImportantTopic3InPython\"\n",
    "\n",
    "Expected Output:  RegularExpression 1 IsAn 2 ImportantTopic 3 InPython\n"
   ]
  },
  {
   "cell_type": "code",
   "execution_count": 39,
   "id": "f9ea083e",
   "metadata": {},
   "outputs": [
    {
     "name": "stdout",
     "output_type": "stream",
     "text": [
      "RegularExpression 1 IsAn 2 ImportantTopic 3 InPython\n"
     ]
    }
   ],
   "source": [
    "# import the re library\n",
    "import re\n",
    "\n",
    "# create a function to remove the parenthesis in a list of strings and return the results\n",
    "def split_char(text_input):\n",
    "    \n",
    "    # returns the result showing spaces between words starting with capital letters or with numbers.\n",
    "    return ' '.join(re.split(r'(\\d+)', text_input))\n",
    "\n",
    "#The input string\n",
    "text_Sample =  \"RegularExpression1IsAn2ImportantTopic3InPython\"\n",
    "# call the function and display result\n",
    "print(split_char(text_Sample))"
   ]
  },
  {
   "cell_type": "markdown",
   "id": "a444ae7f",
   "metadata": {},
   "source": [
    "# Question 10.\n",
    "\n",
    "Write a python program to extract email address from the text stored in the text file using Regular Expression.\n",
    "\n",
    "Sample Text- Hello my name is Data Science and my email address is xyz@domain.com and alternate email address is xyz.abc@sdomain.domain.com. \n",
    "Please contact us at hr@fliprobo.com for further information. \n",
    "\n",
    "Expected Output: \n",
    "['xyz@domain.com', 'xyz.abc@sdomain.domain.com']\n",
    "['hr@fliprobo.com']\n",
    "\n",
    "Note- Store given sample text in the text file and then extract email addresses.\n"
   ]
  },
  {
   "cell_type": "code",
   "execution_count": 40,
   "id": "fe8bc4cb",
   "metadata": {},
   "outputs": [
    {
     "name": "stdout",
     "output_type": "stream",
     "text": [
      "['xyz@domain.com', 'xyz.abc@sdomain.domain.com.']['hr@fliprobo.com']\n"
     ]
    }
   ],
   "source": [
    "# import the re library\n",
    "import re\n",
    "#Read string stored in a text file \n",
    "with open(\"Sample Text 10.txt\") as file:\n",
    "    #for each line in the text, remove white spaces and split the sentence\n",
    "    split_text = [line.strip().split() for line in file][0]\n",
    "    \n",
    "    #selects email address starting with xyz\n",
    "    xyz_emails = [word for word in split_text if re.findall(\"@+\", word) and re.findall(\"xyz+\", word)]\n",
    "    \n",
    "    #selects email address starting with hr\n",
    "    hr_emails = [word for word in split_text if re.findall(\"@+\", word) and re.findall(\"hr+\", word)]\n",
    "    \n",
    "    #prints emails address starting with xyz\n",
    "    print(xyz_emails, end = \"\")\n",
    "    \n",
    "    #prints emails address starting with hr\n",
    "    print(hr_emails)"
   ]
  },
  {
   "cell_type": "markdown",
   "id": "8ef9e2ae",
   "metadata": {},
   "source": [
    "# Question 11.\n",
    "\n",
    "Write a Python program to match a string that contains only upper and lowercase letters, numbers, and underscores."
   ]
  },
  {
   "cell_type": "code",
   "execution_count": 41,
   "id": "d1a467e3",
   "metadata": {},
   "outputs": [
    {
     "name": "stdout",
     "output_type": "stream",
     "text": [
      "Found match\n",
      "Match not found\n",
      "Match not found\n"
     ]
    }
   ],
   "source": [
    "# import the re library\n",
    "import re\n",
    "\n",
    "# create a function to match a string that contains only upper and lowercase letters, numbers, and underscores\n",
    "def match_string(string):\n",
    "    # return the result\n",
    "    return \"Found match\" if re.search('^[a-zA-Z0-9_]*$', string) else \"Match not found\"\n",
    "\n",
    "# call the function and display result\n",
    "print(match_string(\"Abc10_\")) \n",
    "print(match_string(\"Aghy?\"))\n",
    "print(match_string(\"sghA_@\"))\n"
   ]
  },
  {
   "cell_type": "markdown",
   "id": "21acc574",
   "metadata": {},
   "source": [
    "# Question 12.\n",
    "\n",
    "Write a Python program where a string will start with a specific number. "
   ]
  },
  {
   "cell_type": "code",
   "execution_count": 42,
   "id": "d19b645e",
   "metadata": {},
   "outputs": [
    {
     "name": "stdout",
     "output_type": "stream",
     "text": [
      "Enter a string: 4 years old\n",
      "Enter a number: 4\n",
      "String starts with the specific number\n"
     ]
    }
   ],
   "source": [
    "# import the re library\n",
    "import re\n",
    "# create a function where a string will start with a specific number.\n",
    "def check_string(str_value, num_value):\n",
    "    #Search if the string starts with a given number\n",
    "    if re.search(num_value, str_value):\n",
    "        return 'String starts with the specific number'\n",
    "    return 'String does not start with the specific number'\n",
    "\n",
    "#Input string starting with a number    \n",
    "entered_string = str(input('Enter a string: '))\n",
    "#Input a number\n",
    "entered_number = str(input('Enter a number: '))\n",
    "\n",
    "# call the function and display whether or not the string starts with the number inputted\n",
    "print(check_string(entered_string, entered_number))"
   ]
  },
  {
   "cell_type": "markdown",
   "id": "00032d79",
   "metadata": {},
   "source": [
    "# Question 13.\n",
    "\n",
    "Write a Python program to remove leading zeros from an IP address"
   ]
  },
  {
   "cell_type": "code",
   "execution_count": 43,
   "id": "aae14d6c",
   "metadata": {},
   "outputs": [
    {
     "name": "stdout",
     "output_type": "stream",
     "text": [
      "192.111.45.5\n"
     ]
    }
   ],
   "source": [
    "# import the re library\n",
    "import re\n",
    "#The input string(IP address)\n",
    "IP_address = \"192.111.045.005\"\n",
    "#removes the preceeding zero in the IP address.\n",
    "removed_zero = re.sub('\\.0*', '.', IP_address)\n",
    "#Display result\n",
    "print(removed_zero)"
   ]
  },
  {
   "cell_type": "markdown",
   "id": "b4bd1c82",
   "metadata": {},
   "source": [
    "# Question 14.\n",
    "\n",
    "Write a regular expression in python to match a date string in the form of Month name followed by day number and year stored in a text file.\n",
    "\n",
    "Sample text :  ' On August 15th 1947 that India was declared independent from British colonialism, and the reins of control were handed over to the leaders of the Country’.\n",
    "\n",
    "Expected Output- August 15th 1947\n",
    "\n",
    "Note- Store given sample text in the text file and then extract the date string asked format.\n"
   ]
  },
  {
   "cell_type": "code",
   "execution_count": 44,
   "id": "8bb7f54a",
   "metadata": {
    "scrolled": true
   },
   "outputs": [
    {
     "name": "stdout",
     "output_type": "stream",
     "text": [
      "August 15th 1947\n"
     ]
    }
   ],
   "source": [
    "# import the re library\n",
    "import re\n",
    "#Read string stored in a text file \n",
    "with open(\"Match date string.txt\") as text_file:\n",
    "    # matches a date string in the form of Month name followed by day number and year\n",
    "    month_name_pattern = re.compile(r\"(?:January|February|March|April|May|June|July|August|September|October|November|December) \\d{1,2}(?:th|st|nd|rd) \\d{4}\")\n",
    "    for new_string in text_file:\n",
    "        match_value = month_name_pattern.search(new_string)\n",
    "        if match_value:\n",
    "            #print result\n",
    "            print(match_value.group())\n",
    "            \n",
    "\n"
   ]
  },
  {
   "cell_type": "markdown",
   "id": "66acb185",
   "metadata": {},
   "source": [
    "# Question 15.\n",
    "\n",
    "Write a Python program to search some literals strings in a string. \n",
    "\n",
    "Sample text : 'The quick brown fox jumps over the lazy dog.'\n",
    "\n",
    "Searched words : 'fox', 'dog', 'horse'\n"
   ]
  },
  {
   "cell_type": "code",
   "execution_count": 45,
   "id": "d8cbb9fa",
   "metadata": {},
   "outputs": [
    {
     "name": "stdout",
     "output_type": "stream",
     "text": [
      "fox: word found!\n",
      "dog: word found!\n",
      "horse: word not found!\n"
     ]
    }
   ],
   "source": [
    "# import the re library\n",
    "import re\n",
    "#input string\n",
    "word_list = [ 'fox', 'dog', 'horse' ]\n",
    "#create a function to search some literals strings in a string.\n",
    "def search_word(sentence):\n",
    "    #loop through the word in the list of words\n",
    "    for word in word_list:\n",
    "        #do this if the word is found\n",
    "        if re.search(word, sentence):\n",
    "            print(f'{word}: word found!')\n",
    "         #do this if the word is not found\n",
    "        else:\n",
    "            print(f'{word}: word not found!')\n",
    "#input string        \n",
    "sentence = 'The quick brown fox jumps over the lazy dog.'\n",
    "#call the function\n",
    "search_word(sentence)"
   ]
  },
  {
   "cell_type": "markdown",
   "id": "721c02e4",
   "metadata": {},
   "source": [
    "# Question 16.\n",
    "\n",
    "Write a Python program to search a literals string in a string and also find the location within the original string where the pattern occurs\n",
    "\n",
    "Sample text : 'The quick brown fox jumps over the lazy dog.'\n",
    "\n",
    "Searched words : 'fox'\n"
   ]
  },
  {
   "cell_type": "code",
   "execution_count": 46,
   "id": "ffc10f08",
   "metadata": {},
   "outputs": [
    {
     "name": "stdout",
     "output_type": "stream",
     "text": [
      "Word was found, location is 16\n"
     ]
    }
   ],
   "source": [
    "# import the re library\n",
    "import re\n",
    "\n",
    "#The input string\n",
    "sentence = 'The quick brown fox jumps over the lazy dog.'\n",
    "\n",
    "# searches the word 'fox' with its index location\n",
    "Word_search = re.search(r'\\bfox\\b', sentence).start()\n",
    "\n",
    "# do this if word is found\n",
    "if Word_search:\n",
    "    # display the output\n",
    "    print('Word was found, location is', Word_search)\n",
    "# do this if word is not found\n",
    "else:\n",
    "    # display the output\n",
    "    print('Word not found')"
   ]
  },
  {
   "cell_type": "markdown",
   "id": "153d8e82",
   "metadata": {},
   "source": [
    "# Question 17.\n",
    "\n",
    "Write a Python program to find the substrings within a string.\n",
    "\n",
    "Sample text : 'Python exercises, PHP exercises, C# exercises'\n",
    "\n",
    "Pattern : 'exercises'.\n"
   ]
  },
  {
   "cell_type": "code",
   "execution_count": 47,
   "id": "d8a12e54",
   "metadata": {},
   "outputs": [
    {
     "name": "stdout",
     "output_type": "stream",
     "text": [
      "3 of the word found in the string\n"
     ]
    }
   ],
   "source": [
    "# import the re library\n",
    "import re\n",
    "\n",
    "#The input string\n",
    "Input_text = 'Python exercises, PHP exercises, C# exercises'\n",
    "\n",
    "#The search word\n",
    "substring_text = 'exercises'\n",
    "\n",
    "#searches for the word exercises in the string\n",
    "Word_search = re.findall(substring_text, Input_text)\n",
    "\n",
    "#Displays the result of the search\n",
    "if Word_search:\n",
    "    print(f'{len(Word_search)} of the word found in the string')\n",
    "else:\n",
    "    print('Word not found in the string')"
   ]
  },
  {
   "cell_type": "markdown",
   "id": "2ee9cd6d",
   "metadata": {},
   "source": [
    "# Question 18.\n",
    "\n",
    "Write a Python program to find the occurrence and position of the substrings within a string."
   ]
  },
  {
   "cell_type": "code",
   "execution_count": 48,
   "id": "654bfc53",
   "metadata": {},
   "outputs": [
    {
     "name": "stdout",
     "output_type": "stream",
     "text": [
      "String exercises was found at position (7, 16)\n",
      "String exercises was found at position (22, 31)\n",
      "String exercises was found at position (36, 45)\n"
     ]
    }
   ],
   "source": [
    "# import the re library\n",
    "import re\n",
    "\n",
    "#The input string\n",
    "string = 'Python exercises, PHP exercises, C# exercises'\n",
    "\n",
    "#The search word\n",
    "substring = 'exercises'\n",
    "\n",
    "# loop to find the substring\n",
    "for match in re.finditer(substring, string):\n",
    "    print(f'String {substring} was found at position {match.span()}')"
   ]
  },
  {
   "cell_type": "markdown",
   "id": "5de228e2",
   "metadata": {},
   "source": [
    "# Question 19.\n",
    "\n",
    "Write a Python program to convert a date of yyyy-mm-dd format to dd-mm-yyyy format."
   ]
  },
  {
   "cell_type": "code",
   "execution_count": 49,
   "id": "35a3bebf",
   "metadata": {},
   "outputs": [
    {
     "name": "stdout",
     "output_type": "stream",
     "text": [
      "05-08-2023\n"
     ]
    }
   ],
   "source": [
    "# import the re library\n",
    "import re\n",
    "\n",
    "#The input\n",
    "date = '2023-08-05'\n",
    "\n",
    "# splits the date value yyyy-mm-dd into a list [yyyy, mm, dd] using '-' regex\n",
    "split_date = re.split('-', date)\n",
    "\n",
    "# converts the list value to string and reversed the string value\n",
    "new_date = '-'.join(split_date[::-1])\n",
    "\n",
    "#Display the result\n",
    "print(new_date)\n"
   ]
  },
  {
   "cell_type": "markdown",
   "id": "050a4329",
   "metadata": {},
   "source": [
    "# Question 20.\n",
    "\n",
    "Create a function in python to find all decimal numbers with a precision of 1 or 2 in a string. The use of the re.compile() method is mandatory."
   ]
  },
  {
   "cell_type": "code",
   "execution_count": 50,
   "id": "4b8766cb",
   "metadata": {},
   "outputs": [
    {
     "name": "stdout",
     "output_type": "stream",
     "text": [
      "2 is a decimal number with 1 or 2 precision\n",
      "563.1 is a decimal number with 1 or 2 precision\n",
      "567. is not a decimal number with 1 or 2 precision\n",
      "32.3 is a decimal number with 1 or 2 precision\n",
      "123.54 is a decimal number with 1 or 2 precision\n",
      "887.449 is not a decimal number with 1 or 2 precision\n",
      "0.,1 is not a decimal number with 1 or 2 precision\n",
      "0.Asd is not a decimal number with 1 or 2 precision\n"
     ]
    }
   ],
   "source": [
    "# import the re library\n",
    "import re\n",
    "#compiles the pattern\n",
    "search_pattern = re.compile(r\"\"\"^[0-9]+(\\.[0-9]{1,2})?$\"\"\")\n",
    "\n",
    "#Created the function to find all decimal numbers with a precision of 1 or 2 in a string\n",
    "def check_decimal(input_list): \n",
    "    for num in input_list:\n",
    "        if search_pattern.match(num):\n",
    "            #displays the result of the search\n",
    "            print(f'{num} is a decimal number with 1 or 2 precision')\n",
    "        else:\n",
    "            print(f'{num} is not a decimal number with 1 or 2 precision')\n",
    "#List of items to search\n",
    "dec_nums = ['2', '563.1', '567.', '32.3','123.54', '887.449', '0.,1', '0.Asd']  \n",
    "#call the function\n",
    "check_decimal(dec_nums)"
   ]
  },
  {
   "cell_type": "markdown",
   "id": "05f5e26b",
   "metadata": {},
   "source": [
    "# Question 21.\n",
    "\n",
    "Write a Python program to separate and print the numbers and their position of a given string."
   ]
  },
  {
   "cell_type": "code",
   "execution_count": 51,
   "id": "972a851b",
   "metadata": {},
   "outputs": [
    {
     "name": "stdout",
     "output_type": "stream",
     "text": [
      "Found the number: 20 with position 10\n"
     ]
    }
   ],
   "source": [
    "import re\n",
    "#The input string\n",
    "text = \"I will be 20 years old by next year.\"\n",
    "#Loop through the string to find the decimal digit\n",
    "for item in re.finditer(\"\\d+\", text):\n",
    "    #Display the result\n",
    "    print(f'Found the number: {item.group(0)} with position {item.start()}')"
   ]
  },
  {
   "cell_type": "markdown",
   "id": "ce163d93",
   "metadata": {},
   "source": [
    "# Question 22.\n",
    "\n",
    "Write a regular expression in python program to extract maximum/largest numeric value from a string.\n",
    "\n",
    "Sample Text:  'My marks in each semester are: 947, 896, 926, 524, 734, 950, 642'\n",
    "\n",
    "Expected Output: 950\n"
   ]
  },
  {
   "cell_type": "code",
   "execution_count": 52,
   "id": "43936e9a",
   "metadata": {},
   "outputs": [
    {
     "name": "stdout",
     "output_type": "stream",
     "text": [
      "The Maximum_value is: 950\n"
     ]
    }
   ],
   "source": [
    "#import the re library\n",
    "import re\n",
    "#input string\n",
    "Sample_text='My marks in each semester are: 947, 896, 926, 524, 734, 950, 642'\n",
    "#extracts the numeric value from the string and converts it to an integer values\n",
    "number_list = map(int, re.findall('\\d+', Sample_text))\n",
    "#print the result\n",
    "print(f\"The Maximum_value is: {max(number_list)}\")"
   ]
  },
  {
   "cell_type": "markdown",
   "id": "5a0afcbf",
   "metadata": {},
   "source": [
    "# Question 23.\n",
    "\n",
    "Create a function in python to insert spaces between words starting with capital letters.\n",
    "\n",
    "Sample Text: “RegularExpressionIsAnImportantTopicInPython\"\n",
    "\n",
    "Expected Output: Regular Expression Is An Important Topic In Python\n"
   ]
  },
  {
   "cell_type": "code",
   "execution_count": 53,
   "id": "7a6c94a3",
   "metadata": {},
   "outputs": [
    {
     "name": "stdout",
     "output_type": "stream",
     "text": [
      "Regular Expression Is An Important Topic In Python\n"
     ]
    }
   ],
   "source": [
    "#import the re library\n",
    "import re\n",
    "# create a function to insert spaces between words starting with capital letters.\n",
    "def space_words(input_string):\n",
    "    #Regex function to returns the string with spaces inserted between words starting with capital letters.\n",
    "    return re.sub(r\"(\\w)([A-Z])\",r\"\\1 \\2\", input_string)\n",
    "#Display result\n",
    "print(space_words(\"RegularExpressionIsAnImportantTopicInPython\"))"
   ]
  },
  {
   "cell_type": "markdown",
   "id": "8b546fb3",
   "metadata": {},
   "source": [
    "# Question 24.\n",
    "\n",
    "Python regex to find sequences of one upper case letter followed by lower case letters"
   ]
  },
  {
   "cell_type": "code",
   "execution_count": 54,
   "id": "66646131",
   "metadata": {},
   "outputs": [
    {
     "name": "stdout",
     "output_type": "stream",
     "text": [
      "Found Characters\n",
      "Characters not found\n"
     ]
    }
   ],
   "source": [
    "# import the re library\n",
    "import re\n",
    "\n",
    "# create a function to find sequences of one upper case letter followed by lower case letters.\n",
    "def match_string(string):\n",
    "    # return the result\n",
    "    return \"Found Characters\" if re.search('[A-Z]+[a-z]+$', string) else \"Characters not found\"\n",
    "\n",
    "# call the function and display result\n",
    "print(match_string(\"Bag\")) \n",
    "print(match_string(\"cat\"))\n"
   ]
  },
  {
   "cell_type": "markdown",
   "id": "0e1d3c8b",
   "metadata": {},
   "source": [
    "# Question 25.\n",
    "\n",
    "Write a Python program to remove continuous duplicate words from Sentence using Regular Expression.\n",
    "\n",
    "Sample Text: \"Hello hello world world\"\n",
    "\n",
    "Expected Output: Hello hello world\n"
   ]
  },
  {
   "cell_type": "code",
   "execution_count": 55,
   "id": "c0afd111",
   "metadata": {},
   "outputs": [
    {
     "name": "stdout",
     "output_type": "stream",
     "text": [
      "Hello hello world\n"
     ]
    }
   ],
   "source": [
    "# import the re library\n",
    "import re\n",
    "# create a function to remove continuous duplicate words from Sentence using Regular Expression.\n",
    "def remove_duplicates(input_text):\n",
    "    # return the result\n",
    "    return re.sub(r'\\b(\\w+)(?:\\W+\\1\\b)+', r'\\1', input_text)\n",
    "#display result\n",
    "print(remove_duplicates(\"Hello hello world world\"))"
   ]
  },
  {
   "cell_type": "markdown",
   "id": "1f3b2ba4",
   "metadata": {},
   "source": [
    "# Question 26.\n",
    "\n",
    "Write a python program using RegEx to accept string ending with alphanumeric character."
   ]
  },
  {
   "cell_type": "code",
   "execution_count": 56,
   "id": "da42b2b7",
   "metadata": {},
   "outputs": [
    {
     "name": "stdout",
     "output_type": "stream",
     "text": [
      "String Accepted\n",
      "String not accepted\n"
     ]
    }
   ],
   "source": [
    "# import the re library\n",
    "import re\n",
    "\n",
    "# create a function to accept string ending with alphanumeric character.\n",
    "def match_string(string):\n",
    "    # return the result\n",
    "    return \"String Accepted\" if re.search('[a-zA-z0-9]$', string) else \"String not accepted\"\n",
    "\n",
    "# call the function and display result\n",
    "print(match_string(\"Jane876\")) \n",
    "print(match_string(\"Pully@\"))"
   ]
  },
  {
   "cell_type": "markdown",
   "id": "e20f6b88",
   "metadata": {},
   "source": [
    "# Question 27.\n",
    "\n",
    "Write a python program using RegEx to extract the hashtags.\n",
    "\n",
    "Sample Text:  \"\"\"RT @kapil_kausik: #Doltiwal I mean #xyzabc is \"hurt\" by #Demonetization as the same has rendered USELESS <ed><U+00A0><U+00BD><ed><U+00B1><U+0089> \"acquired funds\" No wo\"\"\"\n",
    "    \n",
    "Expected Output: ['#Doltiwal', '#xyzabc', '#Demonetization']\n"
   ]
  },
  {
   "cell_type": "code",
   "execution_count": 57,
   "id": "b519cb88",
   "metadata": {},
   "outputs": [
    {
     "name": "stdout",
     "output_type": "stream",
     "text": [
      "['#Doltiwal', '#xyzabc', '#Demonetization']\n"
     ]
    }
   ],
   "source": [
    "# import the re library\n",
    "import re\n",
    "#input string\n",
    "input_text = \"\"\"RT @kapil_kausik: #Doltiwal I mean #xyzabc is \"hurt\" by #Demonetization as the same has rendered USELESS <U+00A0><U+00BD><U+00B1><U+0089> \"acquired funds\" No wo\"\"\"\n",
    "# print result word list starting with # \n",
    "print(re.findall(r'[#]\\S*', input_text))"
   ]
  },
  {
   "cell_type": "markdown",
   "id": "c6fd3df0",
   "metadata": {},
   "source": [
    "# Question 28.\n",
    "\n",
    "Write a python program using RegEx to remove <U+..> like symbols\n",
    "Check the below sample text, there are strange symbols something of the sort <U+..> all over the place. You need to come up with a general Regex expression that will cover all such symbols.\n",
    "\n",
    "Sample Text: \"@Jags123456 Bharat band on 28??<ed><U+00A0><U+00BD><ed><U+00B8><U+0082>Those who  are protesting #demonetization  are all different party leaders\"\n",
    "    \n",
    "Expected Output: @Jags123456 Bharat band on 28??<ed><ed>Those who  are protesting #demonetization  are all different party leaders\n"
   ]
  },
  {
   "cell_type": "code",
   "execution_count": 58,
   "id": "c32a33c9",
   "metadata": {},
   "outputs": [
    {
     "name": "stdout",
     "output_type": "stream",
     "text": [
      "String after conversion:  @Jags123456 Bharat band on 28??Those who are protesting #demonetization are all different party leaders\n"
     ]
    }
   ],
   "source": [
    "# Import the re module\n",
    "import re\n",
    "# string with special characters \n",
    "special_string=\"@Jags123456 Bharat band on 28??<U+00A0><U+00BD><U+00B8><U+0082>Those who are protesting #demonetization are all different party leaders\"\n",
    "\n",
    "#removes <U+..> like symbols from string\n",
    "normal_string =re.sub(\"\\<U+.*?\\>\", \"\", special_string,0,re.IGNORECASE)\n",
    "#displays result\n",
    "print(\"String after conversion: \",normal_string)"
   ]
  },
  {
   "cell_type": "markdown",
   "id": "3a5c88b7",
   "metadata": {},
   "source": [
    "# Question 29.\n",
    "\n",
    "Write a python program to extract dates from the text stored in the text file.\n",
    "\n",
    "Sample Text: Ron was born on 12-09-1992 and he was admitted to school 15-12-1999.\n",
    "Note- Store this sample text in the file and then extract dates.\n"
   ]
  },
  {
   "cell_type": "code",
   "execution_count": 59,
   "id": "822176a7",
   "metadata": {},
   "outputs": [
    {
     "name": "stdout",
     "output_type": "stream",
     "text": [
      "['12-09-1992', '15-12-1999']\n"
     ]
    }
   ],
   "source": [
    "# import the re library\n",
    "import re\n",
    "#Read string stored in a text file\n",
    "with open(\"Date extract.txt\") as text_file:\n",
    "    #extracts dates from the text stored in the text file.\n",
    "    Date_extract = [re.findall(\"\\d{2}[/-]\\d{2}[/-]\\d{4}\", date) for date in text_file]\n",
    "\n",
    "    # display result\n",
    "    print(Date_extract[0])"
   ]
  },
  {
   "cell_type": "markdown",
   "id": "cf0358f7",
   "metadata": {},
   "source": [
    "# Question 30.\n",
    "\n",
    "Create a function in python to remove all words from a string of length between 2 and 4.\n",
    "The use of the re.compile() method is mandatory.\n",
    "\n",
    "Sample Text: \"The following example creates an ArrayList with a capacity of 50 elements. 4 elements are then added to the ArrayList and the ArrayList is trimmed accordingly.\"\n",
    "\n",
    "Expected Output:  following example creates ArrayList a capacity elements. 4 elements added ArrayList ArrayList trimmed accordingly.\n"
   ]
  },
  {
   "cell_type": "code",
   "execution_count": 60,
   "id": "6006527d",
   "metadata": {},
   "outputs": [
    {
     "name": "stdout",
     "output_type": "stream",
     "text": [
      " following example creates  ArrayList  a capacity   elements. 4 elements   added   ArrayList   ArrayList  trimmed accordingly.\n"
     ]
    }
   ],
   "source": [
    "# import the re library\n",
    "import re\n",
    "# create a function to remove all words from a string of length between 2 and 4.\n",
    "def remove_char(input_text):\n",
    "    # returns the result of removed words from a string of length between 2 and 4.\n",
    "    return re.compile(r'\\b\\w{2,4}\\b').sub(\"\",input_text)\n",
    "\n",
    "#The input string\n",
    "Sample_Text = \"The following example creates an ArrayList with a capacity of 50 elements. 4 elements are then added to the ArrayList and the ArrayList is trimmed accordingly.\"\n",
    "\n",
    "# call the function and display result\n",
    "print(remove_char(Sample_Text))"
   ]
  }
 ],
 "metadata": {
  "kernelspec": {
   "display_name": "Python 3 (ipykernel)",
   "language": "python",
   "name": "python3"
  },
  "language_info": {
   "codemirror_mode": {
    "name": "ipython",
    "version": 3
   },
   "file_extension": ".py",
   "mimetype": "text/x-python",
   "name": "python",
   "nbconvert_exporter": "python",
   "pygments_lexer": "ipython3",
   "version": "3.9.12"
  }
 },
 "nbformat": 4,
 "nbformat_minor": 5
}
