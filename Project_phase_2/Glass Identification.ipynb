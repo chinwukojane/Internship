{
 "cells": [
  {
   "cell_type": "markdown",
   "id": "c18d47ea",
   "metadata": {},
   "source": [
    "# Jane Chinwuko\n",
    "# Batch number: DS2307"
   ]
  },
  {
   "cell_type": "markdown",
   "id": "d93fb51c",
   "metadata": {},
   "source": [
    "#### Project Description\n",
    "The dataset describes the chemical properties of glass and involves classifying samples of glass using their chemical properties as one of six classes. The dataset was credited to Vina Spiehler in 1987. The study of classification of types of glass was motivated by criminological investigation. At the scene of the crime, the glass left can be used as evidence...if it is correctly identified!\n",
    "\n",
    "The chemical compositions are measured as the weight percent in corresponding oxide.\n",
    "\n",
    "#### Attribute Information-\n",
    "1.\t Id number: 1 to 214\n",
    "2.\t RI: refractive index\n",
    "3.\tNa: Sodium (unit measurement: weight percent in corresponding oxide, as are attributes 4-10)\n",
    "4.\tMg: Magnesium\n",
    "5.\tAl: Aluminum\n",
    "6.\tSi: Silicon\n",
    "7.\tK: Potassium\n",
    "8.\tCa: Calcium\n",
    "9.\tBa: Barium\n",
    "10.\tFe: Iron\n",
    "11.\tType of glass: \n",
    "#### (class attribute)\n",
    "•\t1- building_windows_float_processed\n",
    "•\t2- building_windows_non_float_processed\n",
    "•\t3- vehicle_windows_float_processed\n",
    "•\t4- vehicle_windows_non_float_processed (none in this database)\n",
    "•\t5- containers\n",
    "•\t6- tableware\n",
    "•\t7- headlamps\n",
    "\n",
    "There are 214 observations in the dataset. The dataset can be divided into window glass (classes 1-4) and non-window glass (classes 5-7). \n",
    "\n",
    "#### Predict : Type of glass\n"
   ]
  },
  {
   "cell_type": "code",
   "execution_count": 1,
   "id": "a6e649f8",
   "metadata": {},
   "outputs": [],
   "source": [
    "#Import the neccessary libraries\n",
    "import pandas as pd\n",
    "import numpy as np\n",
    "import matplotlib.pylab as plt\n",
    "import seaborn as sns\n",
    "from sklearn.preprocessing import StandardScaler\n",
    "from sklearn.ensemble import RandomForestClassifier\n",
    "from sklearn.tree import DecisionTreeClassifier\n",
    "from sklearn.linear_model import LogisticRegression\n",
    "from sklearn.ensemble import AdaBoostClassifier, BaggingClassifier, GradientBoostingClassifier, RandomForestClassifier\n",
    "from sklearn.metrics import accuracy_score, classification_report, roc_curve, roc_auc_score, auc\n",
    "from matplotlib import pyplot\n",
    "from sklearn.metrics import confusion_matrix, classification_report, accuracy_score, precision_score, recall_score, f1_score\n",
    "from sklearn.model_selection import train_test_split\n",
    "from sklearn.model_selection import cross_val_score\n",
    "from sklearn.model_selection import GridSearchCV\n",
    "from sklearn.preprocessing import LabelEncoder\n",
    "from sklearn.utils.multiclass import unique_labels\n",
    "from sklearn.model_selection import StratifiedShuffleSplit, cross_val_score"
   ]
  },
  {
   "cell_type": "code",
   "execution_count": 2,
   "id": "2cf08b16",
   "metadata": {},
   "outputs": [],
   "source": [
    "#Load the dataset from the system\n",
    "glass_predict = pd.read_csv('glass.csv')"
   ]
  },
  {
   "cell_type": "markdown",
   "id": "d06ecece",
   "metadata": {},
   "source": [
    "# Exploratory Data Analysis"
   ]
  },
  {
   "cell_type": "code",
   "execution_count": 3,
   "id": "be0662ac",
   "metadata": {},
   "outputs": [
    {
     "data": {
      "text/html": [
       "<div>\n",
       "<style scoped>\n",
       "    .dataframe tbody tr th:only-of-type {\n",
       "        vertical-align: middle;\n",
       "    }\n",
       "\n",
       "    .dataframe tbody tr th {\n",
       "        vertical-align: top;\n",
       "    }\n",
       "\n",
       "    .dataframe thead th {\n",
       "        text-align: right;\n",
       "    }\n",
       "</style>\n",
       "<table border=\"1\" class=\"dataframe\">\n",
       "  <thead>\n",
       "    <tr style=\"text-align: right;\">\n",
       "      <th></th>\n",
       "      <th>ID</th>\n",
       "      <th>RI</th>\n",
       "      <th>Na</th>\n",
       "      <th>Mg</th>\n",
       "      <th>Al</th>\n",
       "      <th>Si</th>\n",
       "      <th>K</th>\n",
       "      <th>Ca</th>\n",
       "      <th>Ba</th>\n",
       "      <th>Fe</th>\n",
       "      <th>Type of Glass</th>\n",
       "    </tr>\n",
       "  </thead>\n",
       "  <tbody>\n",
       "    <tr>\n",
       "      <th>0</th>\n",
       "      <td>1</td>\n",
       "      <td>1.52101</td>\n",
       "      <td>13.64</td>\n",
       "      <td>4.49</td>\n",
       "      <td>1.10</td>\n",
       "      <td>71.78</td>\n",
       "      <td>0.06</td>\n",
       "      <td>8.75</td>\n",
       "      <td>0.0</td>\n",
       "      <td>0.00</td>\n",
       "      <td>1</td>\n",
       "    </tr>\n",
       "    <tr>\n",
       "      <th>1</th>\n",
       "      <td>2</td>\n",
       "      <td>1.51761</td>\n",
       "      <td>13.89</td>\n",
       "      <td>3.60</td>\n",
       "      <td>1.36</td>\n",
       "      <td>72.73</td>\n",
       "      <td>0.48</td>\n",
       "      <td>7.83</td>\n",
       "      <td>0.0</td>\n",
       "      <td>0.00</td>\n",
       "      <td>1</td>\n",
       "    </tr>\n",
       "    <tr>\n",
       "      <th>2</th>\n",
       "      <td>3</td>\n",
       "      <td>1.51618</td>\n",
       "      <td>13.53</td>\n",
       "      <td>3.55</td>\n",
       "      <td>1.54</td>\n",
       "      <td>72.99</td>\n",
       "      <td>0.39</td>\n",
       "      <td>7.78</td>\n",
       "      <td>0.0</td>\n",
       "      <td>0.00</td>\n",
       "      <td>1</td>\n",
       "    </tr>\n",
       "    <tr>\n",
       "      <th>3</th>\n",
       "      <td>4</td>\n",
       "      <td>1.51766</td>\n",
       "      <td>13.21</td>\n",
       "      <td>3.69</td>\n",
       "      <td>1.29</td>\n",
       "      <td>72.61</td>\n",
       "      <td>0.57</td>\n",
       "      <td>8.22</td>\n",
       "      <td>0.0</td>\n",
       "      <td>0.00</td>\n",
       "      <td>1</td>\n",
       "    </tr>\n",
       "    <tr>\n",
       "      <th>4</th>\n",
       "      <td>5</td>\n",
       "      <td>1.51742</td>\n",
       "      <td>13.27</td>\n",
       "      <td>3.62</td>\n",
       "      <td>1.24</td>\n",
       "      <td>73.08</td>\n",
       "      <td>0.55</td>\n",
       "      <td>8.07</td>\n",
       "      <td>0.0</td>\n",
       "      <td>0.00</td>\n",
       "      <td>1</td>\n",
       "    </tr>\n",
       "    <tr>\n",
       "      <th>5</th>\n",
       "      <td>6</td>\n",
       "      <td>1.51596</td>\n",
       "      <td>12.79</td>\n",
       "      <td>3.61</td>\n",
       "      <td>1.62</td>\n",
       "      <td>72.97</td>\n",
       "      <td>0.64</td>\n",
       "      <td>8.07</td>\n",
       "      <td>0.0</td>\n",
       "      <td>0.26</td>\n",
       "      <td>1</td>\n",
       "    </tr>\n",
       "    <tr>\n",
       "      <th>6</th>\n",
       "      <td>7</td>\n",
       "      <td>1.51743</td>\n",
       "      <td>13.30</td>\n",
       "      <td>3.60</td>\n",
       "      <td>1.14</td>\n",
       "      <td>73.09</td>\n",
       "      <td>0.58</td>\n",
       "      <td>8.17</td>\n",
       "      <td>0.0</td>\n",
       "      <td>0.00</td>\n",
       "      <td>1</td>\n",
       "    </tr>\n",
       "    <tr>\n",
       "      <th>7</th>\n",
       "      <td>8</td>\n",
       "      <td>1.51756</td>\n",
       "      <td>13.15</td>\n",
       "      <td>3.61</td>\n",
       "      <td>1.05</td>\n",
       "      <td>73.24</td>\n",
       "      <td>0.57</td>\n",
       "      <td>8.24</td>\n",
       "      <td>0.0</td>\n",
       "      <td>0.00</td>\n",
       "      <td>1</td>\n",
       "    </tr>\n",
       "    <tr>\n",
       "      <th>8</th>\n",
       "      <td>9</td>\n",
       "      <td>1.51918</td>\n",
       "      <td>14.04</td>\n",
       "      <td>3.58</td>\n",
       "      <td>1.37</td>\n",
       "      <td>72.08</td>\n",
       "      <td>0.56</td>\n",
       "      <td>8.30</td>\n",
       "      <td>0.0</td>\n",
       "      <td>0.00</td>\n",
       "      <td>1</td>\n",
       "    </tr>\n",
       "    <tr>\n",
       "      <th>9</th>\n",
       "      <td>10</td>\n",
       "      <td>1.51755</td>\n",
       "      <td>13.00</td>\n",
       "      <td>3.60</td>\n",
       "      <td>1.36</td>\n",
       "      <td>72.99</td>\n",
       "      <td>0.57</td>\n",
       "      <td>8.40</td>\n",
       "      <td>0.0</td>\n",
       "      <td>0.11</td>\n",
       "      <td>1</td>\n",
       "    </tr>\n",
       "    <tr>\n",
       "      <th>10</th>\n",
       "      <td>11</td>\n",
       "      <td>1.51571</td>\n",
       "      <td>12.72</td>\n",
       "      <td>3.46</td>\n",
       "      <td>1.56</td>\n",
       "      <td>73.20</td>\n",
       "      <td>0.67</td>\n",
       "      <td>8.09</td>\n",
       "      <td>0.0</td>\n",
       "      <td>0.24</td>\n",
       "      <td>1</td>\n",
       "    </tr>\n",
       "    <tr>\n",
       "      <th>11</th>\n",
       "      <td>12</td>\n",
       "      <td>1.51763</td>\n",
       "      <td>12.80</td>\n",
       "      <td>3.66</td>\n",
       "      <td>1.27</td>\n",
       "      <td>73.01</td>\n",
       "      <td>0.60</td>\n",
       "      <td>8.56</td>\n",
       "      <td>0.0</td>\n",
       "      <td>0.00</td>\n",
       "      <td>1</td>\n",
       "    </tr>\n",
       "    <tr>\n",
       "      <th>12</th>\n",
       "      <td>13</td>\n",
       "      <td>1.51589</td>\n",
       "      <td>12.88</td>\n",
       "      <td>3.43</td>\n",
       "      <td>1.40</td>\n",
       "      <td>73.28</td>\n",
       "      <td>0.69</td>\n",
       "      <td>8.05</td>\n",
       "      <td>0.0</td>\n",
       "      <td>0.24</td>\n",
       "      <td>1</td>\n",
       "    </tr>\n",
       "    <tr>\n",
       "      <th>13</th>\n",
       "      <td>14</td>\n",
       "      <td>1.51748</td>\n",
       "      <td>12.86</td>\n",
       "      <td>3.56</td>\n",
       "      <td>1.27</td>\n",
       "      <td>73.21</td>\n",
       "      <td>0.54</td>\n",
       "      <td>8.38</td>\n",
       "      <td>0.0</td>\n",
       "      <td>0.17</td>\n",
       "      <td>1</td>\n",
       "    </tr>\n",
       "    <tr>\n",
       "      <th>14</th>\n",
       "      <td>15</td>\n",
       "      <td>1.51763</td>\n",
       "      <td>12.61</td>\n",
       "      <td>3.59</td>\n",
       "      <td>1.31</td>\n",
       "      <td>73.29</td>\n",
       "      <td>0.58</td>\n",
       "      <td>8.50</td>\n",
       "      <td>0.0</td>\n",
       "      <td>0.00</td>\n",
       "      <td>1</td>\n",
       "    </tr>\n",
       "  </tbody>\n",
       "</table>\n",
       "</div>"
      ],
      "text/plain": [
       "    ID       RI     Na    Mg    Al     Si     K    Ca   Ba    Fe  \\\n",
       "0    1  1.52101  13.64  4.49  1.10  71.78  0.06  8.75  0.0  0.00   \n",
       "1    2  1.51761  13.89  3.60  1.36  72.73  0.48  7.83  0.0  0.00   \n",
       "2    3  1.51618  13.53  3.55  1.54  72.99  0.39  7.78  0.0  0.00   \n",
       "3    4  1.51766  13.21  3.69  1.29  72.61  0.57  8.22  0.0  0.00   \n",
       "4    5  1.51742  13.27  3.62  1.24  73.08  0.55  8.07  0.0  0.00   \n",
       "5    6  1.51596  12.79  3.61  1.62  72.97  0.64  8.07  0.0  0.26   \n",
       "6    7  1.51743  13.30  3.60  1.14  73.09  0.58  8.17  0.0  0.00   \n",
       "7    8  1.51756  13.15  3.61  1.05  73.24  0.57  8.24  0.0  0.00   \n",
       "8    9  1.51918  14.04  3.58  1.37  72.08  0.56  8.30  0.0  0.00   \n",
       "9   10  1.51755  13.00  3.60  1.36  72.99  0.57  8.40  0.0  0.11   \n",
       "10  11  1.51571  12.72  3.46  1.56  73.20  0.67  8.09  0.0  0.24   \n",
       "11  12  1.51763  12.80  3.66  1.27  73.01  0.60  8.56  0.0  0.00   \n",
       "12  13  1.51589  12.88  3.43  1.40  73.28  0.69  8.05  0.0  0.24   \n",
       "13  14  1.51748  12.86  3.56  1.27  73.21  0.54  8.38  0.0  0.17   \n",
       "14  15  1.51763  12.61  3.59  1.31  73.29  0.58  8.50  0.0  0.00   \n",
       "\n",
       "    Type of Glass  \n",
       "0               1  \n",
       "1               1  \n",
       "2               1  \n",
       "3               1  \n",
       "4               1  \n",
       "5               1  \n",
       "6               1  \n",
       "7               1  \n",
       "8               1  \n",
       "9               1  \n",
       "10              1  \n",
       "11              1  \n",
       "12              1  \n",
       "13              1  \n",
       "14              1  "
      ]
     },
     "execution_count": 3,
     "metadata": {},
     "output_type": "execute_result"
    }
   ],
   "source": [
    "#Viewing the first 15 rows of the dataset\n",
    "glass_predict.head(15)"
   ]
  },
  {
   "cell_type": "markdown",
   "id": "79af453c",
   "metadata": {},
   "source": [
    "We have some columns having 0 value."
   ]
  },
  {
   "cell_type": "code",
   "execution_count": 4,
   "id": "241174f2",
   "metadata": {},
   "outputs": [
    {
     "data": {
      "text/html": [
       "<div>\n",
       "<style scoped>\n",
       "    .dataframe tbody tr th:only-of-type {\n",
       "        vertical-align: middle;\n",
       "    }\n",
       "\n",
       "    .dataframe tbody tr th {\n",
       "        vertical-align: top;\n",
       "    }\n",
       "\n",
       "    .dataframe thead th {\n",
       "        text-align: right;\n",
       "    }\n",
       "</style>\n",
       "<table border=\"1\" class=\"dataframe\">\n",
       "  <thead>\n",
       "    <tr style=\"text-align: right;\">\n",
       "      <th></th>\n",
       "      <th>ID</th>\n",
       "      <th>RI</th>\n",
       "      <th>Na</th>\n",
       "      <th>Mg</th>\n",
       "      <th>Al</th>\n",
       "      <th>Si</th>\n",
       "      <th>K</th>\n",
       "      <th>Ca</th>\n",
       "      <th>Ba</th>\n",
       "      <th>Fe</th>\n",
       "      <th>Type of Glass</th>\n",
       "    </tr>\n",
       "  </thead>\n",
       "  <tbody>\n",
       "    <tr>\n",
       "      <th>199</th>\n",
       "      <td>200</td>\n",
       "      <td>1.51609</td>\n",
       "      <td>15.01</td>\n",
       "      <td>0.0</td>\n",
       "      <td>2.51</td>\n",
       "      <td>73.05</td>\n",
       "      <td>0.05</td>\n",
       "      <td>8.83</td>\n",
       "      <td>0.53</td>\n",
       "      <td>0.0</td>\n",
       "      <td>7</td>\n",
       "    </tr>\n",
       "    <tr>\n",
       "      <th>200</th>\n",
       "      <td>201</td>\n",
       "      <td>1.51508</td>\n",
       "      <td>15.15</td>\n",
       "      <td>0.0</td>\n",
       "      <td>2.25</td>\n",
       "      <td>73.50</td>\n",
       "      <td>0.00</td>\n",
       "      <td>8.34</td>\n",
       "      <td>0.63</td>\n",
       "      <td>0.0</td>\n",
       "      <td>7</td>\n",
       "    </tr>\n",
       "    <tr>\n",
       "      <th>201</th>\n",
       "      <td>202</td>\n",
       "      <td>1.51653</td>\n",
       "      <td>11.95</td>\n",
       "      <td>0.0</td>\n",
       "      <td>1.19</td>\n",
       "      <td>75.18</td>\n",
       "      <td>2.70</td>\n",
       "      <td>8.93</td>\n",
       "      <td>0.00</td>\n",
       "      <td>0.0</td>\n",
       "      <td>7</td>\n",
       "    </tr>\n",
       "    <tr>\n",
       "      <th>202</th>\n",
       "      <td>203</td>\n",
       "      <td>1.51514</td>\n",
       "      <td>14.85</td>\n",
       "      <td>0.0</td>\n",
       "      <td>2.42</td>\n",
       "      <td>73.72</td>\n",
       "      <td>0.00</td>\n",
       "      <td>8.39</td>\n",
       "      <td>0.56</td>\n",
       "      <td>0.0</td>\n",
       "      <td>7</td>\n",
       "    </tr>\n",
       "    <tr>\n",
       "      <th>203</th>\n",
       "      <td>204</td>\n",
       "      <td>1.51658</td>\n",
       "      <td>14.80</td>\n",
       "      <td>0.0</td>\n",
       "      <td>1.99</td>\n",
       "      <td>73.11</td>\n",
       "      <td>0.00</td>\n",
       "      <td>8.28</td>\n",
       "      <td>1.71</td>\n",
       "      <td>0.0</td>\n",
       "      <td>7</td>\n",
       "    </tr>\n",
       "    <tr>\n",
       "      <th>204</th>\n",
       "      <td>205</td>\n",
       "      <td>1.51617</td>\n",
       "      <td>14.95</td>\n",
       "      <td>0.0</td>\n",
       "      <td>2.27</td>\n",
       "      <td>73.30</td>\n",
       "      <td>0.00</td>\n",
       "      <td>8.71</td>\n",
       "      <td>0.67</td>\n",
       "      <td>0.0</td>\n",
       "      <td>7</td>\n",
       "    </tr>\n",
       "    <tr>\n",
       "      <th>205</th>\n",
       "      <td>206</td>\n",
       "      <td>1.51732</td>\n",
       "      <td>14.95</td>\n",
       "      <td>0.0</td>\n",
       "      <td>1.80</td>\n",
       "      <td>72.99</td>\n",
       "      <td>0.00</td>\n",
       "      <td>8.61</td>\n",
       "      <td>1.55</td>\n",
       "      <td>0.0</td>\n",
       "      <td>7</td>\n",
       "    </tr>\n",
       "    <tr>\n",
       "      <th>206</th>\n",
       "      <td>207</td>\n",
       "      <td>1.51645</td>\n",
       "      <td>14.94</td>\n",
       "      <td>0.0</td>\n",
       "      <td>1.87</td>\n",
       "      <td>73.11</td>\n",
       "      <td>0.00</td>\n",
       "      <td>8.67</td>\n",
       "      <td>1.38</td>\n",
       "      <td>0.0</td>\n",
       "      <td>7</td>\n",
       "    </tr>\n",
       "    <tr>\n",
       "      <th>207</th>\n",
       "      <td>208</td>\n",
       "      <td>1.51831</td>\n",
       "      <td>14.39</td>\n",
       "      <td>0.0</td>\n",
       "      <td>1.82</td>\n",
       "      <td>72.86</td>\n",
       "      <td>1.41</td>\n",
       "      <td>6.47</td>\n",
       "      <td>2.88</td>\n",
       "      <td>0.0</td>\n",
       "      <td>7</td>\n",
       "    </tr>\n",
       "    <tr>\n",
       "      <th>208</th>\n",
       "      <td>209</td>\n",
       "      <td>1.51640</td>\n",
       "      <td>14.37</td>\n",
       "      <td>0.0</td>\n",
       "      <td>2.74</td>\n",
       "      <td>72.85</td>\n",
       "      <td>0.00</td>\n",
       "      <td>9.45</td>\n",
       "      <td>0.54</td>\n",
       "      <td>0.0</td>\n",
       "      <td>7</td>\n",
       "    </tr>\n",
       "    <tr>\n",
       "      <th>209</th>\n",
       "      <td>210</td>\n",
       "      <td>1.51623</td>\n",
       "      <td>14.14</td>\n",
       "      <td>0.0</td>\n",
       "      <td>2.88</td>\n",
       "      <td>72.61</td>\n",
       "      <td>0.08</td>\n",
       "      <td>9.18</td>\n",
       "      <td>1.06</td>\n",
       "      <td>0.0</td>\n",
       "      <td>7</td>\n",
       "    </tr>\n",
       "    <tr>\n",
       "      <th>210</th>\n",
       "      <td>211</td>\n",
       "      <td>1.51685</td>\n",
       "      <td>14.92</td>\n",
       "      <td>0.0</td>\n",
       "      <td>1.99</td>\n",
       "      <td>73.06</td>\n",
       "      <td>0.00</td>\n",
       "      <td>8.40</td>\n",
       "      <td>1.59</td>\n",
       "      <td>0.0</td>\n",
       "      <td>7</td>\n",
       "    </tr>\n",
       "    <tr>\n",
       "      <th>211</th>\n",
       "      <td>212</td>\n",
       "      <td>1.52065</td>\n",
       "      <td>14.36</td>\n",
       "      <td>0.0</td>\n",
       "      <td>2.02</td>\n",
       "      <td>73.42</td>\n",
       "      <td>0.00</td>\n",
       "      <td>8.44</td>\n",
       "      <td>1.64</td>\n",
       "      <td>0.0</td>\n",
       "      <td>7</td>\n",
       "    </tr>\n",
       "    <tr>\n",
       "      <th>212</th>\n",
       "      <td>213</td>\n",
       "      <td>1.51651</td>\n",
       "      <td>14.38</td>\n",
       "      <td>0.0</td>\n",
       "      <td>1.94</td>\n",
       "      <td>73.61</td>\n",
       "      <td>0.00</td>\n",
       "      <td>8.48</td>\n",
       "      <td>1.57</td>\n",
       "      <td>0.0</td>\n",
       "      <td>7</td>\n",
       "    </tr>\n",
       "    <tr>\n",
       "      <th>213</th>\n",
       "      <td>214</td>\n",
       "      <td>1.51711</td>\n",
       "      <td>14.23</td>\n",
       "      <td>0.0</td>\n",
       "      <td>2.08</td>\n",
       "      <td>73.36</td>\n",
       "      <td>0.00</td>\n",
       "      <td>8.62</td>\n",
       "      <td>1.67</td>\n",
       "      <td>0.0</td>\n",
       "      <td>7</td>\n",
       "    </tr>\n",
       "  </tbody>\n",
       "</table>\n",
       "</div>"
      ],
      "text/plain": [
       "      ID       RI     Na   Mg    Al     Si     K    Ca    Ba   Fe  \\\n",
       "199  200  1.51609  15.01  0.0  2.51  73.05  0.05  8.83  0.53  0.0   \n",
       "200  201  1.51508  15.15  0.0  2.25  73.50  0.00  8.34  0.63  0.0   \n",
       "201  202  1.51653  11.95  0.0  1.19  75.18  2.70  8.93  0.00  0.0   \n",
       "202  203  1.51514  14.85  0.0  2.42  73.72  0.00  8.39  0.56  0.0   \n",
       "203  204  1.51658  14.80  0.0  1.99  73.11  0.00  8.28  1.71  0.0   \n",
       "204  205  1.51617  14.95  0.0  2.27  73.30  0.00  8.71  0.67  0.0   \n",
       "205  206  1.51732  14.95  0.0  1.80  72.99  0.00  8.61  1.55  0.0   \n",
       "206  207  1.51645  14.94  0.0  1.87  73.11  0.00  8.67  1.38  0.0   \n",
       "207  208  1.51831  14.39  0.0  1.82  72.86  1.41  6.47  2.88  0.0   \n",
       "208  209  1.51640  14.37  0.0  2.74  72.85  0.00  9.45  0.54  0.0   \n",
       "209  210  1.51623  14.14  0.0  2.88  72.61  0.08  9.18  1.06  0.0   \n",
       "210  211  1.51685  14.92  0.0  1.99  73.06  0.00  8.40  1.59  0.0   \n",
       "211  212  1.52065  14.36  0.0  2.02  73.42  0.00  8.44  1.64  0.0   \n",
       "212  213  1.51651  14.38  0.0  1.94  73.61  0.00  8.48  1.57  0.0   \n",
       "213  214  1.51711  14.23  0.0  2.08  73.36  0.00  8.62  1.67  0.0   \n",
       "\n",
       "     Type of Glass  \n",
       "199              7  \n",
       "200              7  \n",
       "201              7  \n",
       "202              7  \n",
       "203              7  \n",
       "204              7  \n",
       "205              7  \n",
       "206              7  \n",
       "207              7  \n",
       "208              7  \n",
       "209              7  \n",
       "210              7  \n",
       "211              7  \n",
       "212              7  \n",
       "213              7  "
      ]
     },
     "execution_count": 4,
     "metadata": {},
     "output_type": "execute_result"
    }
   ],
   "source": [
    "#Viewing the last 15 rows of the dataset\n",
    "glass_predict.tail(15)"
   ]
  },
  {
   "cell_type": "markdown",
   "id": "46e88e7d",
   "metadata": {},
   "source": [
    "This dataset contains 214 rows and 11 columns (made up of the independent and target variables). Type of glass is our target variable."
   ]
  },
  {
   "cell_type": "code",
   "execution_count": 5,
   "id": "0d4fa569",
   "metadata": {},
   "outputs": [],
   "source": [
    "# Dropping the ID column\n",
    "glass_predict = glass_predict.drop(columns=['ID'])"
   ]
  },
  {
   "cell_type": "markdown",
   "id": "8870e6ab",
   "metadata": {},
   "source": [
    "Let us drop the ID column at this point because it is not required in this project."
   ]
  },
  {
   "cell_type": "code",
   "execution_count": 6,
   "id": "983cec86",
   "metadata": {},
   "outputs": [
    {
     "data": {
      "text/plain": [
       "Index(['RI', 'Na', 'Mg', 'Al', 'Si', 'K', 'Ca', 'Ba', 'Fe', 'Type of Glass'], dtype='object')"
      ]
     },
     "execution_count": 6,
     "metadata": {},
     "output_type": "execute_result"
    }
   ],
   "source": [
    "#Viewing the columns present in the dataset\n",
    "columns = glass_predict.columns\n",
    "columns"
   ]
  },
  {
   "cell_type": "markdown",
   "id": "5799862b",
   "metadata": {},
   "source": [
    "These are what each columns represent:\n",
    "\n",
    "#### RI: Refractive Index\n",
    "#### Na: Sodium (unit measurement: weight percent in corresponding oxide, as are attributes 4-10)\n",
    "#### Mg: Magnesium\n",
    "#### Al: Aluminum\n",
    "#### Si: Silicon\n",
    "#### K: Potassium\n",
    "#### Ca: Calcium\n",
    "#### Ba: Barium\n",
    "#### Fe: Iron"
   ]
  },
  {
   "cell_type": "code",
   "execution_count": 7,
   "id": "685c4f76",
   "metadata": {},
   "outputs": [
    {
     "name": "stdout",
     "output_type": "stream",
     "text": [
      "<class 'pandas.core.frame.DataFrame'>\n",
      "RangeIndex: 214 entries, 0 to 213\n",
      "Data columns (total 10 columns):\n",
      " #   Column         Non-Null Count  Dtype  \n",
      "---  ------         --------------  -----  \n",
      " 0   RI             214 non-null    float64\n",
      " 1   Na             214 non-null    float64\n",
      " 2   Mg             214 non-null    float64\n",
      " 3   Al             214 non-null    float64\n",
      " 4   Si             214 non-null    float64\n",
      " 5   K              214 non-null    float64\n",
      " 6   Ca             214 non-null    float64\n",
      " 7   Ba             214 non-null    float64\n",
      " 8   Fe             214 non-null    float64\n",
      " 9   Type of Glass  214 non-null    int64  \n",
      "dtypes: float64(9), int64(1)\n",
      "memory usage: 16.8 KB\n"
     ]
    }
   ],
   "source": [
    "#Displays the basic information about the columns in the dataset\n",
    "glass_predict.info()"
   ]
  },
  {
   "cell_type": "markdown",
   "id": "5a01f269",
   "metadata": {},
   "source": [
    "We have 214 entries in our dataset, 9 float64 and 2 int64 datatype"
   ]
  },
  {
   "cell_type": "code",
   "execution_count": 8,
   "id": "10152d80",
   "metadata": {},
   "outputs": [
    {
     "data": {
      "text/html": [
       "<div>\n",
       "<style scoped>\n",
       "    .dataframe tbody tr th:only-of-type {\n",
       "        vertical-align: middle;\n",
       "    }\n",
       "\n",
       "    .dataframe tbody tr th {\n",
       "        vertical-align: top;\n",
       "    }\n",
       "\n",
       "    .dataframe thead th {\n",
       "        text-align: right;\n",
       "    }\n",
       "</style>\n",
       "<table border=\"1\" class=\"dataframe\">\n",
       "  <thead>\n",
       "    <tr style=\"text-align: right;\">\n",
       "      <th></th>\n",
       "      <th>RI</th>\n",
       "      <th>Na</th>\n",
       "      <th>Mg</th>\n",
       "      <th>Al</th>\n",
       "      <th>Si</th>\n",
       "      <th>K</th>\n",
       "      <th>Ca</th>\n",
       "      <th>Ba</th>\n",
       "      <th>Fe</th>\n",
       "      <th>Type of Glass</th>\n",
       "    </tr>\n",
       "  </thead>\n",
       "  <tbody>\n",
       "    <tr>\n",
       "      <th>count</th>\n",
       "      <td>214.000000</td>\n",
       "      <td>214.000000</td>\n",
       "      <td>214.000000</td>\n",
       "      <td>214.000000</td>\n",
       "      <td>214.000000</td>\n",
       "      <td>214.000000</td>\n",
       "      <td>214.000000</td>\n",
       "      <td>214.000000</td>\n",
       "      <td>214.000000</td>\n",
       "      <td>214.000000</td>\n",
       "    </tr>\n",
       "    <tr>\n",
       "      <th>mean</th>\n",
       "      <td>1.518365</td>\n",
       "      <td>13.407850</td>\n",
       "      <td>2.684533</td>\n",
       "      <td>1.444907</td>\n",
       "      <td>72.650935</td>\n",
       "      <td>0.497056</td>\n",
       "      <td>8.956963</td>\n",
       "      <td>0.175047</td>\n",
       "      <td>0.057009</td>\n",
       "      <td>2.780374</td>\n",
       "    </tr>\n",
       "    <tr>\n",
       "      <th>std</th>\n",
       "      <td>0.003037</td>\n",
       "      <td>0.816604</td>\n",
       "      <td>1.442408</td>\n",
       "      <td>0.499270</td>\n",
       "      <td>0.774546</td>\n",
       "      <td>0.652192</td>\n",
       "      <td>1.423153</td>\n",
       "      <td>0.497219</td>\n",
       "      <td>0.097439</td>\n",
       "      <td>2.103739</td>\n",
       "    </tr>\n",
       "    <tr>\n",
       "      <th>min</th>\n",
       "      <td>1.511150</td>\n",
       "      <td>10.730000</td>\n",
       "      <td>0.000000</td>\n",
       "      <td>0.290000</td>\n",
       "      <td>69.810000</td>\n",
       "      <td>0.000000</td>\n",
       "      <td>5.430000</td>\n",
       "      <td>0.000000</td>\n",
       "      <td>0.000000</td>\n",
       "      <td>1.000000</td>\n",
       "    </tr>\n",
       "    <tr>\n",
       "      <th>25%</th>\n",
       "      <td>1.516522</td>\n",
       "      <td>12.907500</td>\n",
       "      <td>2.115000</td>\n",
       "      <td>1.190000</td>\n",
       "      <td>72.280000</td>\n",
       "      <td>0.122500</td>\n",
       "      <td>8.240000</td>\n",
       "      <td>0.000000</td>\n",
       "      <td>0.000000</td>\n",
       "      <td>1.000000</td>\n",
       "    </tr>\n",
       "    <tr>\n",
       "      <th>50%</th>\n",
       "      <td>1.517680</td>\n",
       "      <td>13.300000</td>\n",
       "      <td>3.480000</td>\n",
       "      <td>1.360000</td>\n",
       "      <td>72.790000</td>\n",
       "      <td>0.555000</td>\n",
       "      <td>8.600000</td>\n",
       "      <td>0.000000</td>\n",
       "      <td>0.000000</td>\n",
       "      <td>2.000000</td>\n",
       "    </tr>\n",
       "    <tr>\n",
       "      <th>75%</th>\n",
       "      <td>1.519157</td>\n",
       "      <td>13.825000</td>\n",
       "      <td>3.600000</td>\n",
       "      <td>1.630000</td>\n",
       "      <td>73.087500</td>\n",
       "      <td>0.610000</td>\n",
       "      <td>9.172500</td>\n",
       "      <td>0.000000</td>\n",
       "      <td>0.100000</td>\n",
       "      <td>3.000000</td>\n",
       "    </tr>\n",
       "    <tr>\n",
       "      <th>max</th>\n",
       "      <td>1.533930</td>\n",
       "      <td>17.380000</td>\n",
       "      <td>4.490000</td>\n",
       "      <td>3.500000</td>\n",
       "      <td>75.410000</td>\n",
       "      <td>6.210000</td>\n",
       "      <td>16.190000</td>\n",
       "      <td>3.150000</td>\n",
       "      <td>0.510000</td>\n",
       "      <td>7.000000</td>\n",
       "    </tr>\n",
       "  </tbody>\n",
       "</table>\n",
       "</div>"
      ],
      "text/plain": [
       "               RI          Na          Mg          Al          Si           K  \\\n",
       "count  214.000000  214.000000  214.000000  214.000000  214.000000  214.000000   \n",
       "mean     1.518365   13.407850    2.684533    1.444907   72.650935    0.497056   \n",
       "std      0.003037    0.816604    1.442408    0.499270    0.774546    0.652192   \n",
       "min      1.511150   10.730000    0.000000    0.290000   69.810000    0.000000   \n",
       "25%      1.516522   12.907500    2.115000    1.190000   72.280000    0.122500   \n",
       "50%      1.517680   13.300000    3.480000    1.360000   72.790000    0.555000   \n",
       "75%      1.519157   13.825000    3.600000    1.630000   73.087500    0.610000   \n",
       "max      1.533930   17.380000    4.490000    3.500000   75.410000    6.210000   \n",
       "\n",
       "               Ca          Ba          Fe  Type of Glass  \n",
       "count  214.000000  214.000000  214.000000     214.000000  \n",
       "mean     8.956963    0.175047    0.057009       2.780374  \n",
       "std      1.423153    0.497219    0.097439       2.103739  \n",
       "min      5.430000    0.000000    0.000000       1.000000  \n",
       "25%      8.240000    0.000000    0.000000       1.000000  \n",
       "50%      8.600000    0.000000    0.000000       2.000000  \n",
       "75%      9.172500    0.000000    0.100000       3.000000  \n",
       "max     16.190000    3.150000    0.510000       7.000000  "
      ]
     },
     "execution_count": 8,
     "metadata": {},
     "output_type": "execute_result"
    }
   ],
   "source": [
    "#displaying the descriptive statistics of all the features in the dataset\n",
    "glass_predict.describe()"
   ]
  },
  {
   "cell_type": "markdown",
   "id": "b672262c",
   "metadata": {},
   "source": [
    "From the above, we can see that the counts are same, so no null values present in our dataset."
   ]
  },
  {
   "cell_type": "code",
   "execution_count": 9,
   "id": "8b2ce3e4",
   "metadata": {},
   "outputs": [
    {
     "name": "stdout",
     "output_type": "stream",
     "text": [
      "1.52152    3\n",
      "1.51590    3\n",
      "1.51645    3\n",
      "1.51754    2\n",
      "1.51841    2\n",
      "          ..\n",
      "1.51625    1\n",
      "1.51569    1\n",
      "1.51605    1\n",
      "1.51588    1\n",
      "1.51651    1\n",
      "Name: RI, Length: 178, dtype: int64\n",
      "\n",
      "\n",
      "13.02    5\n",
      "13.21    5\n",
      "13.00    5\n",
      "13.64    4\n",
      "13.33    4\n",
      "        ..\n",
      "13.34    1\n",
      "13.31    1\n",
      "14.17    1\n",
      "13.51    1\n",
      "14.23    1\n",
      "Name: Na, Length: 142, dtype: int64\n",
      "\n",
      "\n",
      "0.00    42\n",
      "3.48     8\n",
      "3.58     8\n",
      "3.54     8\n",
      "3.52     7\n",
      "        ..\n",
      "2.76     1\n",
      "3.15     1\n",
      "2.90     1\n",
      "3.83     1\n",
      "1.78     1\n",
      "Name: Mg, Length: 94, dtype: int64\n",
      "\n",
      "\n",
      "1.54    8\n",
      "1.19    6\n",
      "1.43    5\n",
      "1.29    5\n",
      "1.23    5\n",
      "       ..\n",
      "1.08    1\n",
      "1.64    1\n",
      "1.61    1\n",
      "1.07    1\n",
      "1.94    1\n",
      "Name: Al, Length: 118, dtype: int64\n",
      "\n",
      "\n",
      "72.86    4\n",
      "72.99    4\n",
      "73.10    4\n",
      "73.28    4\n",
      "73.11    4\n",
      "        ..\n",
      "73.55    1\n",
      "72.34    1\n",
      "72.26    1\n",
      "73.26    1\n",
      "73.61    1\n",
      "Name: Si, Length: 133, dtype: int64\n",
      "\n",
      "\n",
      "0.00    30\n",
      "0.57    12\n",
      "0.56    11\n",
      "0.60    11\n",
      "0.58    10\n",
      "        ..\n",
      "0.44     1\n",
      "0.07     1\n",
      "0.73     1\n",
      "0.70     1\n",
      "1.41     1\n",
      "Name: K, Length: 65, dtype: int64\n",
      "\n",
      "\n",
      "8.03    5\n",
      "8.43    5\n",
      "9.57    4\n",
      "8.79    4\n",
      "8.44    4\n",
      "       ..\n",
      "9.23    1\n",
      "8.90    1\n",
      "9.13    1\n",
      "8.09    1\n",
      "8.62    1\n",
      "Name: Ca, Length: 143, dtype: int64\n",
      "\n",
      "\n",
      "0.00    176\n",
      "0.64      2\n",
      "1.57      2\n",
      "0.09      2\n",
      "1.59      2\n",
      "0.11      2\n",
      "3.15      1\n",
      "0.81      1\n",
      "1.64      1\n",
      "1.06      1\n",
      "0.54      1\n",
      "2.88      1\n",
      "1.38      1\n",
      "1.55      1\n",
      "0.67      1\n",
      "1.71      1\n",
      "0.56      1\n",
      "0.63      1\n",
      "0.53      1\n",
      "0.66      1\n",
      "0.61      1\n",
      "0.27      1\n",
      "0.69      1\n",
      "0.40      1\n",
      "0.14      1\n",
      "0.76      1\n",
      "1.68      1\n",
      "1.63      1\n",
      "1.19      1\n",
      "0.24      1\n",
      "2.20      1\n",
      "0.15      1\n",
      "0.06      1\n",
      "1.67      1\n",
      "Name: Ba, dtype: int64\n",
      "\n",
      "\n",
      "0.00    144\n",
      "0.24      7\n",
      "0.17      7\n",
      "0.09      6\n",
      "0.10      5\n",
      "0.11      4\n",
      "0.16      3\n",
      "0.28      3\n",
      "0.12      3\n",
      "0.22      3\n",
      "0.14      3\n",
      "0.07      3\n",
      "0.19      2\n",
      "0.15      2\n",
      "0.08      2\n",
      "0.06      1\n",
      "0.21      1\n",
      "0.05      1\n",
      "0.51      1\n",
      "0.37      1\n",
      "0.35      1\n",
      "0.25      1\n",
      "0.18      1\n",
      "0.34      1\n",
      "0.29      1\n",
      "0.30      1\n",
      "0.20      1\n",
      "0.32      1\n",
      "0.26      1\n",
      "0.03      1\n",
      "0.31      1\n",
      "0.01      1\n",
      "Name: Fe, dtype: int64\n",
      "\n",
      "\n",
      "2    76\n",
      "1    70\n",
      "7    29\n",
      "3    17\n",
      "5    13\n",
      "6     9\n",
      "Name: Type of Glass, dtype: int64\n",
      "\n",
      "\n"
     ]
    }
   ],
   "source": [
    "# viewing the counts of all columns in our dataset\n",
    "def columns_values(new_df):\n",
    "    for i in new_df.columns:\n",
    "        print(new_df[i].value_counts())\n",
    "        print('\\n')\n",
    "        \n",
    "columns_values(glass_predict)"
   ]
  },
  {
   "cell_type": "markdown",
   "id": "9de42f7c",
   "metadata": {},
   "source": [
    "Columns Mg, K, Ba and Fe have values 0. "
   ]
  },
  {
   "cell_type": "code",
   "execution_count": 10,
   "id": "566f6c2d",
   "metadata": {},
   "outputs": [
    {
     "data": {
      "text/plain": [
       "RI               178\n",
       "Na               142\n",
       "Mg                94\n",
       "Al               118\n",
       "Si               133\n",
       "K                 65\n",
       "Ca               143\n",
       "Ba                34\n",
       "Fe                32\n",
       "Type of Glass      6\n",
       "dtype: int64"
      ]
     },
     "execution_count": 10,
     "metadata": {},
     "output_type": "execute_result"
    }
   ],
   "source": [
    "#Displays the unique value for the features in the dataset\n",
    "glass_predict.nunique()"
   ]
  },
  {
   "cell_type": "code",
   "execution_count": 11,
   "id": "247ecfed",
   "metadata": {},
   "outputs": [
    {
     "data": {
      "text/plain": [
       "RI               0\n",
       "Na               0\n",
       "Mg               0\n",
       "Al               0\n",
       "Si               0\n",
       "K                0\n",
       "Ca               0\n",
       "Ba               0\n",
       "Fe               0\n",
       "Type of Glass    0\n",
       "dtype: int64"
      ]
     },
     "execution_count": 11,
     "metadata": {},
     "output_type": "execute_result"
    }
   ],
   "source": [
    "#checking for missing values\n",
    "glass_predict.isnull().sum()"
   ]
  },
  {
   "cell_type": "markdown",
   "id": "d12ff159",
   "metadata": {},
   "source": [
    "We do not have any missing value."
   ]
  },
  {
   "cell_type": "code",
   "execution_count": 12,
   "id": "31df9535",
   "metadata": {},
   "outputs": [
    {
     "data": {
      "text/plain": [
       "2    76\n",
       "1    70\n",
       "7    29\n",
       "3    17\n",
       "5    13\n",
       "6     9\n",
       "Name: Type of Glass, dtype: int64"
      ]
     },
     "execution_count": 12,
     "metadata": {},
     "output_type": "execute_result"
    }
   ],
   "source": [
    "#This returns the count of unique occurrences in the Type of Glass column.\n",
    "glass_predict['Type of Glass'].value_counts()"
   ]
  },
  {
   "cell_type": "markdown",
   "id": "54f4368c",
   "metadata": {},
   "source": [
    "The counts above represents the class attribute we have in the dataset.\n",
    "\n",
    "Most of the glasses have attribute 'building_windows_non_float_processed' followed by 'building_windows_float_processed'.\n",
    "\n",
    "#### Below are the different attributes for each type of glass represented in our dataset.\n",
    "\n",
    "#### • 1- building_windows_float_processed \n",
    "#### • 2- building_windows_non_float_processed \n",
    "#### • 3- vehicle_windows_float_processed\n",
    "#### • 4- vehicle_windows_non_float_processed (none in this database) \n",
    "#### • 5- containers \n",
    "#### • 6- tableware \n",
    "#### • 7- headlamps"
   ]
  },
  {
   "cell_type": "code",
   "execution_count": 13,
   "id": "891db8d2",
   "metadata": {},
   "outputs": [
    {
     "data": {
      "text/plain": [
       "<seaborn.axisgrid.FacetGrid at 0x2422fcaa6d0>"
      ]
     },
     "execution_count": 13,
     "metadata": {},
     "output_type": "execute_result"
    },
    {
     "data": {
      "image/png": "[encoded data removed]",
      "text/plain": [
       "<Figure size 360x360 with 1 Axes>"
      ]
     },
     "metadata": {
      "needs_background": "light"
     },
     "output_type": "display_data"
    }
   ],
   "source": [
    "# This catplot shows the distribution of Type of Glass.\n",
    "sns.catplot(x ='Type of Glass', data = glass_predict, kind = 'count')"
   ]
  },
  {
   "cell_type": "markdown",
   "id": "01f0d5fe",
   "metadata": {},
   "source": [
    "We have more glass type with attribute 2 (building_windows_non_float_processed)"
   ]
  },
  {
   "cell_type": "code",
   "execution_count": 14,
   "id": "9ccae370",
   "metadata": {},
   "outputs": [
    {
     "data": {
      "text/plain": [
       "<AxesSubplot:>"
      ]
     },
     "execution_count": 14,
     "metadata": {},
     "output_type": "execute_result"
    },
    {
     "data": {
      "image/png": "[encoded data removed]",
      "text/plain": [
       "<Figure size 1440x1440 with 1 Axes>"
      ]
     },
     "metadata": {
      "needs_background": "light"
     },
     "output_type": "display_data"
    }
   ],
   "source": [
    "# Boxplot containing all the columns\n",
    "glass_predict.boxplot(column=glass_predict.columns.tolist(), figsize=(20,20), grid=True, rot=45, fontsize=16)"
   ]
  },
  {
   "cell_type": "markdown",
   "id": "c9cda9e3",
   "metadata": {},
   "source": [
    " Most of the columns have some outliers"
   ]
  },
  {
   "cell_type": "code",
   "execution_count": 15,
   "id": "0230b99b",
   "metadata": {},
   "outputs": [
    {
     "name": "stdout",
     "output_type": "stream",
     "text": [
      "Outliers Table Summary\n"
     ]
    },
    {
     "data": {
      "text/html": [
       "<div>\n",
       "<style scoped>\n",
       "    .dataframe tbody tr th:only-of-type {\n",
       "        vertical-align: middle;\n",
       "    }\n",
       "\n",
       "    .dataframe tbody tr th {\n",
       "        vertical-align: top;\n",
       "    }\n",
       "\n",
       "    .dataframe thead th {\n",
       "        text-align: right;\n",
       "    }\n",
       "</style>\n",
       "<table border=\"1\" class=\"dataframe\">\n",
       "  <thead>\n",
       "    <tr style=\"text-align: right;\">\n",
       "      <th></th>\n",
       "      <th>Column Name</th>\n",
       "      <th>Number of Outliers</th>\n",
       "      <th>Least Value</th>\n",
       "      <th>Percentage Value</th>\n",
       "    </tr>\n",
       "  </thead>\n",
       "  <tbody>\n",
       "    <tr>\n",
       "      <th>0</th>\n",
       "      <td>RI</td>\n",
       "      <td>17</td>\n",
       "      <td>2</td>\n",
       "      <td>7.94</td>\n",
       "    </tr>\n",
       "    <tr>\n",
       "      <th>1</th>\n",
       "      <td>Na</td>\n",
       "      <td>7</td>\n",
       "      <td>11</td>\n",
       "      <td>3.27</td>\n",
       "    </tr>\n",
       "    <tr>\n",
       "      <th>2</th>\n",
       "      <td>Mg</td>\n",
       "      <td>0</td>\n",
       "      <td>0</td>\n",
       "      <td>0.00</td>\n",
       "    </tr>\n",
       "    <tr>\n",
       "      <th>3</th>\n",
       "      <td>Al</td>\n",
       "      <td>18</td>\n",
       "      <td>0</td>\n",
       "      <td>8.41</td>\n",
       "    </tr>\n",
       "    <tr>\n",
       "      <th>4</th>\n",
       "      <td>Si</td>\n",
       "      <td>12</td>\n",
       "      <td>70</td>\n",
       "      <td>5.61</td>\n",
       "    </tr>\n",
       "    <tr>\n",
       "      <th>5</th>\n",
       "      <td>K</td>\n",
       "      <td>7</td>\n",
       "      <td>1</td>\n",
       "      <td>3.27</td>\n",
       "    </tr>\n",
       "    <tr>\n",
       "      <th>6</th>\n",
       "      <td>Ca</td>\n",
       "      <td>26</td>\n",
       "      <td>5</td>\n",
       "      <td>12.15</td>\n",
       "    </tr>\n",
       "    <tr>\n",
       "      <th>7</th>\n",
       "      <td>Fe</td>\n",
       "      <td>13</td>\n",
       "      <td>0</td>\n",
       "      <td>6.07</td>\n",
       "    </tr>\n",
       "    <tr>\n",
       "      <th>8</th>\n",
       "      <td>Type of Glass</td>\n",
       "      <td>38</td>\n",
       "      <td>6</td>\n",
       "      <td>17.76</td>\n",
       "    </tr>\n",
       "  </tbody>\n",
       "</table>\n",
       "</div>"
      ],
      "text/plain": [
       "     Column Name  Number of Outliers  Least Value  Percentage Value\n",
       "0             RI                  17            2              7.94\n",
       "1             Na                   7           11              3.27\n",
       "2             Mg                   0            0              0.00\n",
       "3             Al                  18            0              8.41\n",
       "4             Si                  12           70              5.61\n",
       "5              K                   7            1              3.27\n",
       "6             Ca                  26            5             12.15\n",
       "7             Fe                  13            0              6.07\n",
       "8  Type of Glass                  38            6             17.76"
      ]
     },
     "execution_count": 15,
     "metadata": {},
     "output_type": "execute_result"
    }
   ],
   "source": [
    "# selected columns to check for outliers\n",
    "columns = ['RI', 'Na', 'Mg', 'Al', 'Si', 'K', 'Ca','Fe',\n",
    "       'Type of Glass']\n",
    "\n",
    "# create an empty list to store values\n",
    "column_names = []\n",
    "total_outliers = []\n",
    "percentage = []\n",
    "least_outlier = []\n",
    "\n",
    "outlierFilter=None\n",
    "\n",
    "# loop through all column list\n",
    "for column in columns:\n",
    "    # finding the 1st quartile\n",
    "    q1 = glass_predict[column].quantile(0.25)\n",
    "\n",
    "    # finding the 3rd quartile\n",
    "    q3 = glass_predict[column].quantile(0.75)\n",
    "\n",
    "    # get the column minimum and median values\n",
    "    min_value = glass_predict[column].min()\n",
    "    median_value = glass_predict[column].median()\n",
    "\n",
    "    # finding the iqr region\n",
    "    iqr = q3-q1\n",
    "\n",
    "    # finding upper and lower whiskers\n",
    "    upper_bound = q3+(1.5*iqr)\n",
    "    lower_bound = q1-(1.5*iqr)\n",
    "\n",
    "    # Get the array data for wine_red\n",
    "    arr1 = glass_predict[column]\n",
    "\n",
    "    # Get the outliers in the columns using the upper and lower whiskers\n",
    "    outliers = arr1[(arr1 <= lower_bound) | (arr1 >= upper_bound)]\n",
    "    \n",
    "    # get the min value of the outliers found\n",
    "    min_value = round(min(outliers.values)) if len(outliers.values) > 0 else 0\n",
    "    \n",
    "    # calculate the percentage of the outliers found\n",
    "    percentage_value = round((len(outliers.values) / len(arr1)) * 100, 2) if len(outliers.values) > 0 else 0\n",
    "    \n",
    "    # add values to the list\n",
    "    column_names.append(column)\n",
    "    total_outliers.append(len(outliers.values))\n",
    "    least_outlier.append(min_value)\n",
    "    percentage.append(percentage_value)\n",
    "    \n",
    "    # do this if outliers is less than or equal to 5%\n",
    "    if round(percentage_value) <= 5 and len(outliers.values) > 0:\n",
    "        # capping Outliers using IQR Ranges\n",
    "        glass_predict.loc[(glass_predict[column] <= lower_bound), column] = lower_bound\n",
    "        glass_predict.loc[(glass_predict[column] >= upper_bound), column] = upper_bound\n",
    "        \n",
    "    # do this if outliers is greater than 5%\n",
    "    elif round(percentage_value) > 5 and len(outliers.values) > 0:\n",
    "        # replacing outlier values with the median value\n",
    "        glass_predict.loc[(glass_predict[column] <= lower_bound), column] = median_value\n",
    "        glass_predict.loc[(glass_predict[column] >= upper_bound), column] = median_value\n",
    "\n",
    "\n",
    "print('Outliers Table Summary')\n",
    "\n",
    "# create a new dictionary\n",
    "new_dict = {'Column Name': column_names, 'Number of Outliers': total_outliers, 'Least Value': least_outlier, 'Percentage Value': percentage}\n",
    "# create a new dataframe table\n",
    "new_df = pd.DataFrame(new_dict)\n",
    "# display the new dataframe table\n",
    "new_df"
   ]
  },
  {
   "cell_type": "code",
   "execution_count": 16,
   "id": "2b36de38",
   "metadata": {},
   "outputs": [
    {
     "data": {
      "text/plain": [
       "<AxesSubplot:>"
      ]
     },
     "execution_count": 16,
     "metadata": {},
     "output_type": "execute_result"
    },
    {
     "data": {
      "image/png": "[encoded data removed]",
      "text/plain": [
       "<Figure size 1440x1440 with 1 Axes>"
      ]
     },
     "metadata": {
      "needs_background": "light"
     },
     "output_type": "display_data"
    }
   ],
   "source": [
    "# Boxplot containing all the columns\n",
    "glass_predict.boxplot(column=glass_predict.columns.tolist(), figsize=(20,20), grid=True, rot=45, fontsize=16)"
   ]
  },
  {
   "cell_type": "markdown",
   "id": "0a994115",
   "metadata": {},
   "source": [
    "From the above, we checked and displayed the number of outliers present in our dataset. If these outliers are removed, it will reduce the dimension of our dataset greatly. \n",
    "\n",
    "We treated them by:\n",
    "1) Replacing outlier values with the median value if the percentage value is greater than 5%. \n",
    "2) Capping the Outliers using IQR Ranges if the percentage value is less than 5%."
   ]
  },
  {
   "cell_type": "code",
   "execution_count": 17,
   "id": "9053fb04",
   "metadata": {},
   "outputs": [
    {
     "data": {
      "text/html": [
       "<div>\n",
       "<style scoped>\n",
       "    .dataframe tbody tr th:only-of-type {\n",
       "        vertical-align: middle;\n",
       "    }\n",
       "\n",
       "    .dataframe tbody tr th {\n",
       "        vertical-align: top;\n",
       "    }\n",
       "\n",
       "    .dataframe thead th {\n",
       "        text-align: right;\n",
       "    }\n",
       "</style>\n",
       "<table border=\"1\" class=\"dataframe\">\n",
       "  <thead>\n",
       "    <tr style=\"text-align: right;\">\n",
       "      <th></th>\n",
       "      <th>RI</th>\n",
       "      <th>Na</th>\n",
       "      <th>Mg</th>\n",
       "      <th>Al</th>\n",
       "      <th>Si</th>\n",
       "      <th>K</th>\n",
       "      <th>Ca</th>\n",
       "      <th>Ba</th>\n",
       "      <th>Fe</th>\n",
       "      <th>Type of Glass</th>\n",
       "    </tr>\n",
       "  </thead>\n",
       "  <tbody>\n",
       "    <tr>\n",
       "      <th>0</th>\n",
       "      <td>1.52101</td>\n",
       "      <td>13.64</td>\n",
       "      <td>4.49</td>\n",
       "      <td>1.10</td>\n",
       "      <td>71.78</td>\n",
       "      <td>0.06</td>\n",
       "      <td>8.75</td>\n",
       "      <td>0.00</td>\n",
       "      <td>0.0</td>\n",
       "      <td>0</td>\n",
       "    </tr>\n",
       "    <tr>\n",
       "      <th>1</th>\n",
       "      <td>1.51761</td>\n",
       "      <td>13.89</td>\n",
       "      <td>3.60</td>\n",
       "      <td>1.36</td>\n",
       "      <td>72.73</td>\n",
       "      <td>0.48</td>\n",
       "      <td>7.83</td>\n",
       "      <td>0.00</td>\n",
       "      <td>0.0</td>\n",
       "      <td>0</td>\n",
       "    </tr>\n",
       "    <tr>\n",
       "      <th>2</th>\n",
       "      <td>1.51618</td>\n",
       "      <td>13.53</td>\n",
       "      <td>3.55</td>\n",
       "      <td>1.54</td>\n",
       "      <td>72.99</td>\n",
       "      <td>0.39</td>\n",
       "      <td>7.78</td>\n",
       "      <td>0.00</td>\n",
       "      <td>0.0</td>\n",
       "      <td>0</td>\n",
       "    </tr>\n",
       "    <tr>\n",
       "      <th>3</th>\n",
       "      <td>1.51766</td>\n",
       "      <td>13.21</td>\n",
       "      <td>3.69</td>\n",
       "      <td>1.29</td>\n",
       "      <td>72.61</td>\n",
       "      <td>0.57</td>\n",
       "      <td>8.22</td>\n",
       "      <td>0.00</td>\n",
       "      <td>0.0</td>\n",
       "      <td>0</td>\n",
       "    </tr>\n",
       "    <tr>\n",
       "      <th>4</th>\n",
       "      <td>1.51742</td>\n",
       "      <td>13.27</td>\n",
       "      <td>3.62</td>\n",
       "      <td>1.24</td>\n",
       "      <td>73.08</td>\n",
       "      <td>0.55</td>\n",
       "      <td>8.07</td>\n",
       "      <td>0.00</td>\n",
       "      <td>0.0</td>\n",
       "      <td>0</td>\n",
       "    </tr>\n",
       "    <tr>\n",
       "      <th>...</th>\n",
       "      <td>...</td>\n",
       "      <td>...</td>\n",
       "      <td>...</td>\n",
       "      <td>...</td>\n",
       "      <td>...</td>\n",
       "      <td>...</td>\n",
       "      <td>...</td>\n",
       "      <td>...</td>\n",
       "      <td>...</td>\n",
       "      <td>...</td>\n",
       "    </tr>\n",
       "    <tr>\n",
       "      <th>209</th>\n",
       "      <td>1.51623</td>\n",
       "      <td>14.14</td>\n",
       "      <td>0.00</td>\n",
       "      <td>1.36</td>\n",
       "      <td>72.61</td>\n",
       "      <td>0.08</td>\n",
       "      <td>9.18</td>\n",
       "      <td>1.06</td>\n",
       "      <td>0.0</td>\n",
       "      <td>0</td>\n",
       "    </tr>\n",
       "    <tr>\n",
       "      <th>210</th>\n",
       "      <td>1.51685</td>\n",
       "      <td>14.92</td>\n",
       "      <td>0.00</td>\n",
       "      <td>1.99</td>\n",
       "      <td>73.06</td>\n",
       "      <td>0.00</td>\n",
       "      <td>8.40</td>\n",
       "      <td>1.59</td>\n",
       "      <td>0.0</td>\n",
       "      <td>0</td>\n",
       "    </tr>\n",
       "    <tr>\n",
       "      <th>211</th>\n",
       "      <td>1.52065</td>\n",
       "      <td>14.36</td>\n",
       "      <td>0.00</td>\n",
       "      <td>2.02</td>\n",
       "      <td>73.42</td>\n",
       "      <td>0.00</td>\n",
       "      <td>8.44</td>\n",
       "      <td>1.64</td>\n",
       "      <td>0.0</td>\n",
       "      <td>0</td>\n",
       "    </tr>\n",
       "    <tr>\n",
       "      <th>212</th>\n",
       "      <td>1.51651</td>\n",
       "      <td>14.38</td>\n",
       "      <td>0.00</td>\n",
       "      <td>1.94</td>\n",
       "      <td>73.61</td>\n",
       "      <td>0.00</td>\n",
       "      <td>8.48</td>\n",
       "      <td>1.57</td>\n",
       "      <td>0.0</td>\n",
       "      <td>0</td>\n",
       "    </tr>\n",
       "    <tr>\n",
       "      <th>213</th>\n",
       "      <td>1.51711</td>\n",
       "      <td>14.23</td>\n",
       "      <td>0.00</td>\n",
       "      <td>2.08</td>\n",
       "      <td>73.36</td>\n",
       "      <td>0.00</td>\n",
       "      <td>8.62</td>\n",
       "      <td>1.67</td>\n",
       "      <td>0.0</td>\n",
       "      <td>0</td>\n",
       "    </tr>\n",
       "  </tbody>\n",
       "</table>\n",
       "<p>214 rows × 10 columns</p>\n",
       "</div>"
      ],
      "text/plain": [
       "          RI     Na    Mg    Al     Si     K    Ca    Ba   Fe  Type of Glass\n",
       "0    1.52101  13.64  4.49  1.10  71.78  0.06  8.75  0.00  0.0              0\n",
       "1    1.51761  13.89  3.60  1.36  72.73  0.48  7.83  0.00  0.0              0\n",
       "2    1.51618  13.53  3.55  1.54  72.99  0.39  7.78  0.00  0.0              0\n",
       "3    1.51766  13.21  3.69  1.29  72.61  0.57  8.22  0.00  0.0              0\n",
       "4    1.51742  13.27  3.62  1.24  73.08  0.55  8.07  0.00  0.0              0\n",
       "..       ...    ...   ...   ...    ...   ...   ...   ...  ...            ...\n",
       "209  1.51623  14.14  0.00  1.36  72.61  0.08  9.18  1.06  0.0              0\n",
       "210  1.51685  14.92  0.00  1.99  73.06  0.00  8.40  1.59  0.0              0\n",
       "211  1.52065  14.36  0.00  2.02  73.42  0.00  8.44  1.64  0.0              0\n",
       "212  1.51651  14.38  0.00  1.94  73.61  0.00  8.48  1.57  0.0              0\n",
       "213  1.51711  14.23  0.00  2.08  73.36  0.00  8.62  1.67  0.0              0\n",
       "\n",
       "[214 rows x 10 columns]"
      ]
     },
     "execution_count": 17,
     "metadata": {},
     "output_type": "execute_result"
    }
   ],
   "source": [
    "#Categorizing the Type of glass variable into binary classification\n",
    "glass_predict['Type of Glass'] = glass_predict['Type of Glass'].apply(lambda x: 0 if x<= 4 else 1)\n",
    "glass_predict\n"
   ]
  },
  {
   "cell_type": "markdown",
   "id": "864bff4d",
   "metadata": {},
   "source": [
    "#### We scaled our type of glass column into 2 (window glass (classes 1-4) and non-window glass (classes 5-7)\n",
    "\n",
    "#### 0  is for window glass  and 1 is for non-window glass"
   ]
  },
  {
   "cell_type": "code",
   "execution_count": 18,
   "id": "ebd89574",
   "metadata": {},
   "outputs": [
    {
     "data": {
      "text/html": [
       "<div>\n",
       "<style scoped>\n",
       "    .dataframe tbody tr th:only-of-type {\n",
       "        vertical-align: middle;\n",
       "    }\n",
       "\n",
       "    .dataframe tbody tr th {\n",
       "        vertical-align: top;\n",
       "    }\n",
       "\n",
       "    .dataframe thead th {\n",
       "        text-align: right;\n",
       "    }\n",
       "</style>\n",
       "<table border=\"1\" class=\"dataframe\">\n",
       "  <thead>\n",
       "    <tr style=\"text-align: right;\">\n",
       "      <th></th>\n",
       "      <th>Variables</th>\n",
       "      <th>VIF Value</th>\n",
       "    </tr>\n",
       "  </thead>\n",
       "  <tbody>\n",
       "    <tr>\n",
       "      <th>0</th>\n",
       "      <td>RI</td>\n",
       "      <td>29414.166718</td>\n",
       "    </tr>\n",
       "    <tr>\n",
       "      <th>1</th>\n",
       "      <td>Na</td>\n",
       "      <td>595.780001</td>\n",
       "    </tr>\n",
       "    <tr>\n",
       "      <th>2</th>\n",
       "      <td>Mg</td>\n",
       "      <td>7.868904</td>\n",
       "    </tr>\n",
       "    <tr>\n",
       "      <th>3</th>\n",
       "      <td>Al</td>\n",
       "      <td>26.694540</td>\n",
       "    </tr>\n",
       "    <tr>\n",
       "      <th>4</th>\n",
       "      <td>Si</td>\n",
       "      <td>23652.471064</td>\n",
       "    </tr>\n",
       "    <tr>\n",
       "      <th>5</th>\n",
       "      <td>K</td>\n",
       "      <td>5.746885</td>\n",
       "    </tr>\n",
       "    <tr>\n",
       "      <th>6</th>\n",
       "      <td>Ca</td>\n",
       "      <td>334.103651</td>\n",
       "    </tr>\n",
       "    <tr>\n",
       "      <th>7</th>\n",
       "      <td>Ba</td>\n",
       "      <td>1.859379</td>\n",
       "    </tr>\n",
       "    <tr>\n",
       "      <th>8</th>\n",
       "      <td>Fe</td>\n",
       "      <td>1.393902</td>\n",
       "    </tr>\n",
       "  </tbody>\n",
       "</table>\n",
       "</div>"
      ],
      "text/plain": [
       "  Variables     VIF Value\n",
       "0        RI  29414.166718\n",
       "1        Na    595.780001\n",
       "2        Mg      7.868904\n",
       "3        Al     26.694540\n",
       "4        Si  23652.471064\n",
       "5         K      5.746885\n",
       "6        Ca    334.103651\n",
       "7        Ba      1.859379\n",
       "8        Fe      1.393902"
      ]
     },
     "execution_count": 18,
     "metadata": {},
     "output_type": "execute_result"
    }
   ],
   "source": [
    "#checking the VIF value for multicollinearity between our variables\n",
    "from statsmodels.stats.outliers_influence import variance_inflation_factor\n",
    "def calc_vif(X_input):\n",
    "# Calculating VIF\n",
    "    vif_df = pd.DataFrame()\n",
    "    vif_df[\"Variables\"] = X_input.columns\n",
    "    vif_df[\"VIF Value\"] = [variance_inflation_factor(X_input.values, i) for i in range(X_input.shape[1])]\n",
    "\n",
    "    return(vif_df)\n",
    "X = glass_predict.iloc[:,:-1]\n",
    "calc_vif(X)"
   ]
  },
  {
   "cell_type": "code",
   "execution_count": 19,
   "id": "002d6493",
   "metadata": {},
   "outputs": [
    {
     "data": {
      "text/html": [
       "<div>\n",
       "<style scoped>\n",
       "    .dataframe tbody tr th:only-of-type {\n",
       "        vertical-align: middle;\n",
       "    }\n",
       "\n",
       "    .dataframe tbody tr th {\n",
       "        vertical-align: top;\n",
       "    }\n",
       "\n",
       "    .dataframe thead th {\n",
       "        text-align: right;\n",
       "    }\n",
       "</style>\n",
       "<table border=\"1\" class=\"dataframe\">\n",
       "  <thead>\n",
       "    <tr style=\"text-align: right;\">\n",
       "      <th></th>\n",
       "      <th>Variables</th>\n",
       "      <th>VIF Value</th>\n",
       "    </tr>\n",
       "  </thead>\n",
       "  <tbody>\n",
       "    <tr>\n",
       "      <th>0</th>\n",
       "      <td>Na</td>\n",
       "      <td>486.932605</td>\n",
       "    </tr>\n",
       "    <tr>\n",
       "      <th>1</th>\n",
       "      <td>Mg</td>\n",
       "      <td>7.078670</td>\n",
       "    </tr>\n",
       "    <tr>\n",
       "      <th>2</th>\n",
       "      <td>Al</td>\n",
       "      <td>26.582779</td>\n",
       "    </tr>\n",
       "    <tr>\n",
       "      <th>3</th>\n",
       "      <td>Si</td>\n",
       "      <td>725.248018</td>\n",
       "    </tr>\n",
       "    <tr>\n",
       "      <th>4</th>\n",
       "      <td>K</td>\n",
       "      <td>5.586236</td>\n",
       "    </tr>\n",
       "    <tr>\n",
       "      <th>5</th>\n",
       "      <td>Ca</td>\n",
       "      <td>252.709049</td>\n",
       "    </tr>\n",
       "    <tr>\n",
       "      <th>6</th>\n",
       "      <td>Ba</td>\n",
       "      <td>1.819885</td>\n",
       "    </tr>\n",
       "    <tr>\n",
       "      <th>7</th>\n",
       "      <td>Fe</td>\n",
       "      <td>1.381240</td>\n",
       "    </tr>\n",
       "  </tbody>\n",
       "</table>\n",
       "</div>"
      ],
      "text/plain": [
       "  Variables   VIF Value\n",
       "0        Na  486.932605\n",
       "1        Mg    7.078670\n",
       "2        Al   26.582779\n",
       "3        Si  725.248018\n",
       "4         K    5.586236\n",
       "5        Ca  252.709049\n",
       "6        Ba    1.819885\n",
       "7        Fe    1.381240"
      ]
     },
     "execution_count": 19,
     "metadata": {},
     "output_type": "execute_result"
    }
   ],
   "source": [
    "#Dropping RI (has highest vif value)\n",
    "X = glass_predict.drop(['RI','Type of Glass'],axis=1)\n",
    "\n",
    "calc_vif(X)"
   ]
  },
  {
   "cell_type": "markdown",
   "id": "4492a700",
   "metadata": {},
   "source": [
    "We dropped the RI column because it  had a higher VIF value. We still have high value. We shall drop Si next."
   ]
  },
  {
   "cell_type": "code",
   "execution_count": 20,
   "id": "d54c69e7",
   "metadata": {},
   "outputs": [
    {
     "data": {
      "text/html": [
       "<div>\n",
       "<style scoped>\n",
       "    .dataframe tbody tr th:only-of-type {\n",
       "        vertical-align: middle;\n",
       "    }\n",
       "\n",
       "    .dataframe tbody tr th {\n",
       "        vertical-align: top;\n",
       "    }\n",
       "\n",
       "    .dataframe thead th {\n",
       "        text-align: right;\n",
       "    }\n",
       "</style>\n",
       "<table border=\"1\" class=\"dataframe\">\n",
       "  <thead>\n",
       "    <tr style=\"text-align: right;\">\n",
       "      <th></th>\n",
       "      <th>Variables</th>\n",
       "      <th>VIF Value</th>\n",
       "    </tr>\n",
       "  </thead>\n",
       "  <tbody>\n",
       "    <tr>\n",
       "      <th>0</th>\n",
       "      <td>Mg</td>\n",
       "      <td>5.031085</td>\n",
       "    </tr>\n",
       "    <tr>\n",
       "      <th>1</th>\n",
       "      <td>Al</td>\n",
       "      <td>6.128802</td>\n",
       "    </tr>\n",
       "    <tr>\n",
       "      <th>2</th>\n",
       "      <td>K</td>\n",
       "      <td>3.810297</td>\n",
       "    </tr>\n",
       "    <tr>\n",
       "      <th>3</th>\n",
       "      <td>Ba</td>\n",
       "      <td>1.663404</td>\n",
       "    </tr>\n",
       "    <tr>\n",
       "      <th>4</th>\n",
       "      <td>Fe</td>\n",
       "      <td>1.298956</td>\n",
       "    </tr>\n",
       "  </tbody>\n",
       "</table>\n",
       "</div>"
      ],
      "text/plain": [
       "  Variables  VIF Value\n",
       "0        Mg   5.031085\n",
       "1        Al   6.128802\n",
       "2         K   3.810297\n",
       "3        Ba   1.663404\n",
       "4        Fe   1.298956"
      ]
     },
     "execution_count": 20,
     "metadata": {},
     "output_type": "execute_result"
    }
   ],
   "source": [
    "#Dropping columns having highest vif value\n",
    "X = glass_predict.drop(['RI','Si','Na','Ca','Type of Glass'],axis=1)\n",
    "y = glass_predict['Type of Glass']\n",
    "calc_vif(X)"
   ]
  },
  {
   "cell_type": "markdown",
   "id": "b15e7728",
   "metadata": {},
   "source": [
    "After dropping Si, we still had high vif values. So, we had to drop Na and Ca also before we were able to get vif value less than 10."
   ]
  },
  {
   "cell_type": "code",
   "execution_count": 21,
   "id": "54bb868b",
   "metadata": {},
   "outputs": [
    {
     "data": {
      "text/html": [
       "<div>\n",
       "<style scoped>\n",
       "    .dataframe tbody tr th:only-of-type {\n",
       "        vertical-align: middle;\n",
       "    }\n",
       "\n",
       "    .dataframe tbody tr th {\n",
       "        vertical-align: top;\n",
       "    }\n",
       "\n",
       "    .dataframe thead th {\n",
       "        text-align: right;\n",
       "    }\n",
       "</style>\n",
       "<table border=\"1\" class=\"dataframe\">\n",
       "  <thead>\n",
       "    <tr style=\"text-align: right;\">\n",
       "      <th></th>\n",
       "      <th>Mg</th>\n",
       "      <th>Al</th>\n",
       "      <th>K</th>\n",
       "      <th>Ba</th>\n",
       "      <th>Fe</th>\n",
       "    </tr>\n",
       "  </thead>\n",
       "  <tbody>\n",
       "    <tr>\n",
       "      <th>0</th>\n",
       "      <td>1.254639</td>\n",
       "      <td>-0.841254</td>\n",
       "      <td>-1.244720</td>\n",
       "      <td>-0.352877</td>\n",
       "      <td>-0.539951</td>\n",
       "    </tr>\n",
       "    <tr>\n",
       "      <th>1</th>\n",
       "      <td>0.636168</td>\n",
       "      <td>-0.070255</td>\n",
       "      <td>0.128174</td>\n",
       "      <td>-0.352877</td>\n",
       "      <td>-0.539951</td>\n",
       "    </tr>\n",
       "    <tr>\n",
       "      <th>2</th>\n",
       "      <td>0.601422</td>\n",
       "      <td>0.463514</td>\n",
       "      <td>-0.166017</td>\n",
       "      <td>-0.352877</td>\n",
       "      <td>-0.539951</td>\n",
       "    </tr>\n",
       "    <tr>\n",
       "      <th>3</th>\n",
       "      <td>0.698710</td>\n",
       "      <td>-0.277831</td>\n",
       "      <td>0.422366</td>\n",
       "      <td>-0.352877</td>\n",
       "      <td>-0.539951</td>\n",
       "    </tr>\n",
       "    <tr>\n",
       "      <th>4</th>\n",
       "      <td>0.650066</td>\n",
       "      <td>-0.426100</td>\n",
       "      <td>0.356990</td>\n",
       "      <td>-0.352877</td>\n",
       "      <td>-0.539951</td>\n",
       "    </tr>\n",
       "    <tr>\n",
       "      <th>...</th>\n",
       "      <td>...</td>\n",
       "      <td>...</td>\n",
       "      <td>...</td>\n",
       "      <td>...</td>\n",
       "      <td>...</td>\n",
       "    </tr>\n",
       "    <tr>\n",
       "      <th>209</th>\n",
       "      <td>-1.865511</td>\n",
       "      <td>-0.070255</td>\n",
       "      <td>-1.179344</td>\n",
       "      <td>1.783978</td>\n",
       "      <td>-0.539951</td>\n",
       "    </tr>\n",
       "    <tr>\n",
       "      <th>210</th>\n",
       "      <td>-1.865511</td>\n",
       "      <td>1.797936</td>\n",
       "      <td>-1.440848</td>\n",
       "      <td>2.852405</td>\n",
       "      <td>-0.539951</td>\n",
       "    </tr>\n",
       "    <tr>\n",
       "      <th>211</th>\n",
       "      <td>-1.865511</td>\n",
       "      <td>1.886898</td>\n",
       "      <td>-1.440848</td>\n",
       "      <td>2.953200</td>\n",
       "      <td>-0.539951</td>\n",
       "    </tr>\n",
       "    <tr>\n",
       "      <th>212</th>\n",
       "      <td>-1.865511</td>\n",
       "      <td>1.649667</td>\n",
       "      <td>-1.440848</td>\n",
       "      <td>2.812087</td>\n",
       "      <td>-0.539951</td>\n",
       "    </tr>\n",
       "    <tr>\n",
       "      <th>213</th>\n",
       "      <td>-1.865511</td>\n",
       "      <td>2.064820</td>\n",
       "      <td>-1.440848</td>\n",
       "      <td>3.013677</td>\n",
       "      <td>-0.539951</td>\n",
       "    </tr>\n",
       "  </tbody>\n",
       "</table>\n",
       "<p>214 rows × 5 columns</p>\n",
       "</div>"
      ],
      "text/plain": [
       "           Mg        Al         K        Ba        Fe\n",
       "0    1.254639 -0.841254 -1.244720 -0.352877 -0.539951\n",
       "1    0.636168 -0.070255  0.128174 -0.352877 -0.539951\n",
       "2    0.601422  0.463514 -0.166017 -0.352877 -0.539951\n",
       "3    0.698710 -0.277831  0.422366 -0.352877 -0.539951\n",
       "4    0.650066 -0.426100  0.356990 -0.352877 -0.539951\n",
       "..        ...       ...       ...       ...       ...\n",
       "209 -1.865511 -0.070255 -1.179344  1.783978 -0.539951\n",
       "210 -1.865511  1.797936 -1.440848  2.852405 -0.539951\n",
       "211 -1.865511  1.886898 -1.440848  2.953200 -0.539951\n",
       "212 -1.865511  1.649667 -1.440848  2.812087 -0.539951\n",
       "213 -1.865511  2.064820 -1.440848  3.013677 -0.539951\n",
       "\n",
       "[214 rows x 5 columns]"
      ]
     },
     "execution_count": 21,
     "metadata": {},
     "output_type": "execute_result"
    }
   ],
   "source": [
    "#Standardization of a dataset\n",
    "from sklearn.preprocessing import StandardScaler\n",
    "sc=StandardScaler()\n",
    "X_train=sc.fit_transform(X)\n",
    "X_test=sc.transform(X)\n",
    "tabel_col = X.columns\n",
    "x = pd.DataFrame(X_train, columns = tabel_col)\n",
    "x"
   ]
  },
  {
   "cell_type": "code",
   "execution_count": 22,
   "id": "c3a2d2ed",
   "metadata": {},
   "outputs": [
    {
     "data": {
      "text/plain": [
       "<seaborn.axisgrid.FacetGrid at 0x242313f83a0>"
      ]
     },
     "execution_count": 22,
     "metadata": {},
     "output_type": "execute_result"
    },
    {
     "data": {
      "image/png": "[encoded data removed]",
      "text/plain": [
       "<Figure size 360x360 with 1 Axes>"
      ]
     },
     "metadata": {
      "needs_background": "light"
     },
     "output_type": "display_data"
    }
   ],
   "source": [
    "# This catplot shows the distribution of type of glass.\n",
    "sns.catplot(x ='Type of Glass', data = glass_predict, kind = 'count')"
   ]
  },
  {
   "cell_type": "markdown",
   "id": "fd528b58",
   "metadata": {},
   "source": [
    "We can see that there is a great difference between the two classes. We shall use the SMOTE algorithm to balance the count"
   ]
  },
  {
   "cell_type": "code",
   "execution_count": 23,
   "id": "08be4785",
   "metadata": {},
   "outputs": [
    {
     "data": {
      "text/plain": [
       "0    201\n",
       "1    201\n",
       "Name: Type of Glass, dtype: int64"
      ]
     },
     "execution_count": 23,
     "metadata": {},
     "output_type": "execute_result"
    }
   ],
   "source": [
    "from imblearn.over_sampling import SMOTE\n",
    "#Used oversampling to handling imbalance in the Type of Glass column\n",
    "glass_sm = SMOTE()\n",
    "X_res, y_res = glass_sm.fit_resample(x, y)\n",
    "y_res.value_counts()"
   ]
  },
  {
   "cell_type": "code",
   "execution_count": 24,
   "id": "ee682f81",
   "metadata": {},
   "outputs": [
    {
     "data": {
      "text/plain": [
       "<AxesSubplot:xlabel='Type of Glass', ylabel='count'>"
      ]
     },
     "execution_count": 24,
     "metadata": {},
     "output_type": "execute_result"
    },
    {
     "data": {
      "image/png": "[encoded data removed]",
      "text/plain": [
       "<Figure size 432x288 with 1 Axes>"
      ]
     },
     "metadata": {
      "needs_background": "light"
     },
     "output_type": "display_data"
    }
   ],
   "source": [
    "#Display of the Type of Glass count after balancing.\n",
    "sns.countplot(x=y_res)"
   ]
  },
  {
   "cell_type": "markdown",
   "id": "297decf9",
   "metadata": {},
   "source": [
    "We can see that the counts of Type of Glass are now balanced."
   ]
  },
  {
   "cell_type": "code",
   "execution_count": 25,
   "id": "e66208cb",
   "metadata": {},
   "outputs": [
    {
     "data": {
      "text/plain": [
       "((321, 5), (81, 5), (321,), (81,))"
      ]
     },
     "execution_count": 25,
     "metadata": {},
     "output_type": "execute_result"
    }
   ],
   "source": [
    "# splitting the features into train and test\n",
    "X_train, X_test, y_train, y_test = train_test_split(X_res, y_res, test_size = 0.20, random_state = 42)\n",
    "X_train.shape, X_test.shape, y_train.shape, y_test.shape"
   ]
  },
  {
   "cell_type": "markdown",
   "id": "53ed7140",
   "metadata": {},
   "source": [
    "We splitted our dataset into train and test. We used 80% of our data to train the models and use 20% to validate the performance of our model. We have 321 data in our training. 81 data will be used validation. We are left with 5 variables after data cleansing"
   ]
  },
  {
   "cell_type": "code",
   "execution_count": 26,
   "id": "9c224282",
   "metadata": {},
   "outputs": [
    {
     "name": "stdout",
     "output_type": "stream",
     "text": [
      "DecisionTreeClassifier(criterion='entropy')\n",
      "Feature: 0, Score: 0.52335\n",
      "Feature: 1, Score: 0.05426\n",
      "Feature: 2, Score: 0.29644\n",
      "Feature: 3, Score: 0.06025\n",
      "Feature: 4, Score: 0.06571\n"
     ]
    },
    {
     "data": {
      "image/png": "[encoded data removed]",
      "text/plain": [
       "<Figure size 432x288 with 1 Axes>"
      ]
     },
     "metadata": {
      "needs_background": "light"
     },
     "output_type": "display_data"
    }
   ],
   "source": [
    "# feature importance using decision tree classifier\n",
    "decisionTree = DecisionTreeClassifier(criterion='entropy')\n",
    "\n",
    "print(decisionTree)\n",
    "\n",
    "dtc_model = decisionTree.fit(X_train, y_train)\n",
    "\n",
    "importance = dtc_model.feature_importances_\n",
    "for i,v in enumerate(importance):\n",
    "    print('Feature: %0d, Score: %.5f' % (i,v))\n",
    "\n",
    "# Barchat for feature importance\n",
    "pyplot.bar([x for x in range(len(importance))], importance)\n",
    "\n",
    "pyplot.show()"
   ]
  },
  {
   "cell_type": "markdown",
   "id": "aa528f25",
   "metadata": {},
   "source": [
    "features/columns: [0:'Mg', 1: 'Al', 2: 'K', 3:'Ba', 4:'Fe']\n",
    "\n",
    "From the feature importance barplot displayed above, we can see that Mg is returned as the most important feature. We shall be training our model with all 5 features so we have more data to train with."
   ]
  },
  {
   "cell_type": "markdown",
   "id": "379476e3",
   "metadata": {},
   "source": [
    "# Building of Model"
   ]
  },
  {
   "cell_type": "markdown",
   "id": "1ba7fdfa",
   "metadata": {},
   "source": [
    "## 1. Decision Tree"
   ]
  },
  {
   "cell_type": "code",
   "execution_count": 27,
   "id": "afd9d478",
   "metadata": {},
   "outputs": [
    {
     "name": "stdout",
     "output_type": "stream",
     "text": [
      "The Accuracy for Decision Tree: 0.99\n",
      "\n",
      "\n",
      "[[44  1]\n",
      " [ 0 36]]\n",
      "\n",
      "\n",
      "Classification Report:\n",
      "              precision    recall  f1-score   support\n",
      "\n",
      "           0       1.00      0.98      0.99        45\n",
      "           1       0.97      1.00      0.99        36\n",
      "\n",
      "    accuracy                           0.99        81\n",
      "   macro avg       0.99      0.99      0.99        81\n",
      "weighted avg       0.99      0.99      0.99        81\n",
      "\n"
     ]
    }
   ],
   "source": [
    "# Create a Decision Tree classifier\n",
    "dt = DecisionTreeClassifier()\n",
    "dt.fit(X_train, y_train)\n",
    "y_pred = dt.predict(X_test)\n",
    "\n",
    "# Evaluate the model's accuracy\n",
    "accuracy = accuracy_score(y_test, y_pred)\n",
    "print(f\"The Accuracy for Decision Tree: {accuracy:.2f}\")\n",
    "print('\\n')\n",
    "# Display a classification report for more detailed metrics\n",
    "report = classification_report(y_test, y_pred)\n",
    "print(confusion_matrix(y_test, y_pred))\n",
    "print('\\n')\n",
    "print(\"Classification Report:\")\n",
    "print(report)"
   ]
  },
  {
   "cell_type": "markdown",
   "id": "ec5fe7a0",
   "metadata": {},
   "source": [
    "### Cross Validation Score for Decision Tree"
   ]
  },
  {
   "cell_type": "code",
   "execution_count": 28,
   "id": "26b81754",
   "metadata": {},
   "outputs": [
    {
     "name": "stdout",
     "output_type": "stream",
     "text": [
      "Cross-validation scores: [0.98461538 0.984375   1.         0.984375   0.953125  ]\n",
      "Mean accuracy: 0.98\n",
      "\n",
      "\n",
      "The difference between the accuracy score and the cross validation score is: 0.006356244064577354\n"
     ]
    }
   ],
   "source": [
    "# Specify the cross-validation strategy\n",
    "results = []\n",
    "\n",
    "scores = cross_val_score(dt, X_train, y_train,cv=5)\n",
    "print(\"Cross-validation scores:\", scores)\n",
    "\n",
    "# Calculate and print the mean of the scores\n",
    "mean_score = scores.mean()\n",
    "\n",
    "print(f\"Mean accuracy: {mean_score:.2f}\")\n",
    "print('\\n')\n",
    "print(f'The difference between the accuracy score and the cross validation score is: {accuracy- mean_score}')\n",
    "\n",
    "\n",
    "diff = accuracy - mean_score\n",
    "results.append(['Decision Tree',accuracy, mean_score, diff])"
   ]
  },
  {
   "cell_type": "markdown",
   "id": "de640405",
   "metadata": {},
   "source": [
    "## 2. Random Forest"
   ]
  },
  {
   "cell_type": "code",
   "execution_count": 29,
   "id": "43e87f51",
   "metadata": {},
   "outputs": [
    {
     "name": "stdout",
     "output_type": "stream",
     "text": [
      "The Accuracy for Random Forest is: 1.00\n",
      "\n",
      "\n",
      "[[45  0]\n",
      " [ 0 36]]\n",
      "\n",
      "\n",
      "Classification Report:\n",
      "              precision    recall  f1-score   support\n",
      "\n",
      "           0       1.00      1.00      1.00        45\n",
      "           1       1.00      1.00      1.00        36\n",
      "\n",
      "    accuracy                           1.00        81\n",
      "   macro avg       1.00      1.00      1.00        81\n",
      "weighted avg       1.00      1.00      1.00        81\n",
      "\n"
     ]
    }
   ],
   "source": [
    "# Create a Random Forest classifier\n",
    "rf = RandomForestClassifier()\n",
    "rf.fit(X_train, y_train)\n",
    "y_pred = rf.predict(X_test)\n",
    "\n",
    "# Evaluate the model's accuracy\n",
    "accuracy = accuracy_score(y_test, y_pred)\n",
    "print(f\"The Accuracy for Random Forest is: {accuracy:.2f}\")\n",
    "print('\\n')\n",
    "# Display a classification report for more detailed metrics\n",
    "report = classification_report(y_test, y_pred)\n",
    "print(confusion_matrix(y_test, y_pred))\n",
    "print('\\n')\n",
    "print(\"Classification Report:\")\n",
    "print(report)"
   ]
  },
  {
   "cell_type": "markdown",
   "id": "75a4e480",
   "metadata": {},
   "source": [
    "#### Cross Validation Score for Random Forest"
   ]
  },
  {
   "cell_type": "code",
   "execution_count": 30,
   "id": "34c76297",
   "metadata": {},
   "outputs": [
    {
     "name": "stdout",
     "output_type": "stream",
     "text": [
      "Cross-validation scores: [1.       1.       1.       0.953125 0.96875 ]\n",
      "Mean accuracy: 0.98\n",
      "\n",
      "\n",
      "The difference between the accuracy score and the cross validation score is: 0.015625\n"
     ]
    }
   ],
   "source": [
    "\n",
    "scores = cross_val_score(rf, X_train, y_train,cv=5)  # You can choose a different scoring metric\n",
    "print(\"Cross-validation scores:\", scores)\n",
    "\n",
    "# Calculate and print the mean of the scores\n",
    "mean_score = scores.mean()\n",
    "\n",
    "print(f\"Mean accuracy: {mean_score:.2f}\")\n",
    "print('\\n')\n",
    "print(f'The difference between the accuracy score and the cross validation score is: {accuracy- mean_score}')\n",
    "\n",
    "\n",
    "diff = accuracy - mean_score\n",
    "results.append(['Random Forest',accuracy, mean_score, diff])"
   ]
  },
  {
   "cell_type": "markdown",
   "id": "a7529034",
   "metadata": {},
   "source": [
    "## 3. Logistic Regression"
   ]
  },
  {
   "cell_type": "code",
   "execution_count": 31,
   "id": "e84878b5",
   "metadata": {},
   "outputs": [
    {
     "name": "stdout",
     "output_type": "stream",
     "text": [
      "The Accuracy for Logistic Regression is: 0.98\n",
      "\n",
      "\n",
      "[[43  2]\n",
      " [ 0 36]]\n",
      "\n",
      "\n",
      "Classification Report:\n",
      "              precision    recall  f1-score   support\n",
      "\n",
      "           0       1.00      0.96      0.98        45\n",
      "           1       0.95      1.00      0.97        36\n",
      "\n",
      "    accuracy                           0.98        81\n",
      "   macro avg       0.97      0.98      0.98        81\n",
      "weighted avg       0.98      0.98      0.98        81\n",
      "\n"
     ]
    }
   ],
   "source": [
    "# Create a Logistic Regression classifier\n",
    "lr = LogisticRegression()\n",
    "lr.fit(X_train, y_train)\n",
    "lr_pred = lr.predict(X_test)\n",
    "\n",
    "# Evaluate the model's accuracy\n",
    "accuracy = accuracy_score(y_test, lr_pred)\n",
    "print(f\"The Accuracy for Logistic Regression is: {accuracy:.2f}\")\n",
    "print('\\n')\n",
    "# Display a classification report for more detailed metrics\n",
    "report = classification_report(y_test, lr_pred)\n",
    "print(confusion_matrix(y_test, lr_pred))\n",
    "print('\\n')\n",
    "print(\"Classification Report:\")\n",
    "print(report)"
   ]
  },
  {
   "cell_type": "markdown",
   "id": "6b2b5d8f",
   "metadata": {},
   "source": [
    "#### Cross Validation Score for Logistic Regression"
   ]
  },
  {
   "cell_type": "code",
   "execution_count": 32,
   "id": "46531da3",
   "metadata": {},
   "outputs": [
    {
     "name": "stdout",
     "output_type": "stream",
     "text": [
      "Cross-validation scores: [0.96923077 0.96875    0.921875   0.9375     0.96875   ]\n",
      "Mean accuracy: 0.95\n",
      "\n",
      "\n",
      "The difference between the accuracy score and the cross validation score is: 0.02208748812915473\n"
     ]
    }
   ],
   "source": [
    "\n",
    "scores = cross_val_score(lr, X_train, y_train,cv=5)  # You can choose a different scoring metric\n",
    "print(\"Cross-validation scores:\", scores)\n",
    "\n",
    "# Calculate and print the mean of the scores\n",
    "mean_score = scores.mean()\n",
    "\n",
    "print(f\"Mean accuracy: {mean_score:.2f}\")\n",
    "\n",
    "print('\\n')\n",
    "print(f'The difference between the accuracy score and the cross validation score is: {accuracy- mean_score}')\n",
    "\n",
    "\n",
    "diff = accuracy - mean_score\n",
    "results.append(['Logistic Regression',accuracy, mean_score, diff])"
   ]
  },
  {
   "cell_type": "markdown",
   "id": "27852613",
   "metadata": {},
   "source": [
    "## 4. Adaboost classifier"
   ]
  },
  {
   "cell_type": "code",
   "execution_count": 33,
   "id": "a39e053e",
   "metadata": {},
   "outputs": [
    {
     "name": "stdout",
     "output_type": "stream",
     "text": [
      "The Accuracy for Adaboost classifier is:  0.9753086419753086\n",
      "\n",
      "\n",
      "[[44  1]\n",
      " [ 1 35]]\n",
      "\n",
      "\n",
      "Classification Report:\n",
      "              precision    recall  f1-score   support\n",
      "\n",
      "           0       0.98      0.98      0.98        45\n",
      "           1       0.97      0.97      0.97        36\n",
      "\n",
      "    accuracy                           0.98        81\n",
      "   macro avg       0.97      0.97      0.97        81\n",
      "weighted avg       0.98      0.98      0.98        81\n",
      "\n"
     ]
    }
   ],
   "source": [
    "# Create a Adaboost Classifier\n",
    "ab = AdaBoostClassifier()\n",
    "ab.fit(X_train, y_train)\n",
    "\n",
    "y_pred_ab = ab.predict(X_test)\n",
    "# Evaluate the model's accuracy\n",
    "accuracy = accuracy_score(y_test, y_pred_ab)\n",
    "print(f\"The Accuracy for Adaboost classifier is: \",accuracy)\n",
    "print('\\n')\n",
    "\n",
    "# Display a classification report for more detailed metrics\n",
    "report = classification_report(y_test, y_pred_ab)\n",
    "print(confusion_matrix(y_test, y_pred_ab))\n",
    "print('\\n')\n",
    "print(\"Classification Report:\")\n",
    "print(report)"
   ]
  },
  {
   "cell_type": "markdown",
   "id": "44b0e481",
   "metadata": {},
   "source": [
    "#### Cross Validation Score for Adaboost classifier"
   ]
  },
  {
   "cell_type": "code",
   "execution_count": 34,
   "id": "75c06fca",
   "metadata": {},
   "outputs": [
    {
     "name": "stdout",
     "output_type": "stream",
     "text": [
      "Cross-validation scores: [0.98461538 0.96875    1.         0.96875    0.96875   ]\n",
      "Mean accuracy: 0.98\n",
      "\n",
      "\n",
      "The difference between the accuracy score and the cross validation score is: -0.002864434947768335\n"
     ]
    }
   ],
   "source": [
    "\n",
    "scores = cross_val_score(ab, X_train, y_train,cv=5) \n",
    "print(\"Cross-validation scores:\", scores)\n",
    "\n",
    "# Calculate and print the mean of the scores\n",
    "mean_score = scores.mean()\n",
    "\n",
    "print(f\"Mean accuracy: {mean_score:.2f}\")\n",
    "\n",
    "print('\\n')\n",
    "print(f'The difference between the accuracy score and the cross validation score is: {accuracy- mean_score}')\n",
    "\n",
    "\n",
    "diff = accuracy - mean_score\n",
    "results.append(['Adaboost classifier',accuracy, mean_score, diff])"
   ]
  },
  {
   "cell_type": "markdown",
   "id": "3ebeabd6",
   "metadata": {},
   "source": [
    "## 5. Gradient Boosting Classifier"
   ]
  },
  {
   "cell_type": "code",
   "execution_count": 35,
   "id": "66b7fa0c",
   "metadata": {},
   "outputs": [
    {
     "name": "stdout",
     "output_type": "stream",
     "text": [
      "The Accuracy for Gradient Boosting Classifier is:  0.9876543209876543\n",
      "\n",
      "\n",
      "[[45  0]\n",
      " [ 1 35]]\n",
      "\n",
      "\n",
      "Classification Report:\n",
      "              precision    recall  f1-score   support\n",
      "\n",
      "           0       0.98      1.00      0.99        45\n",
      "           1       1.00      0.97      0.99        36\n",
      "\n",
      "    accuracy                           0.99        81\n",
      "   macro avg       0.99      0.99      0.99        81\n",
      "weighted avg       0.99      0.99      0.99        81\n",
      "\n"
     ]
    }
   ],
   "source": [
    "# Create a Gradient Boosting Classifier\n",
    "gb = GradientBoostingClassifier()\n",
    "gb.fit(X_train, y_train)\n",
    "\n",
    "y_pred_gb = gb.predict(X_test)\n",
    "# Evaluate the model's accuracy\n",
    "accuracy = accuracy_score(y_test, y_pred_gb)\n",
    "print(f\"The Accuracy for Gradient Boosting Classifier is: \",accuracy)\n",
    "print('\\n')\n",
    "\n",
    "# Display a classification report for more detailed metrics\n",
    "report = classification_report(y_test, y_pred_gb)\n",
    "print(confusion_matrix(y_test, y_pred_gb))\n",
    "print('\\n')\n",
    "print(\"Classification Report:\")\n",
    "print(report)"
   ]
  },
  {
   "cell_type": "markdown",
   "id": "edf61472",
   "metadata": {},
   "source": [
    "#### Cross Validation Score for Gradient Boosting Classifier"
   ]
  },
  {
   "cell_type": "code",
   "execution_count": 36,
   "id": "5634686d",
   "metadata": {},
   "outputs": [
    {
     "name": "stdout",
     "output_type": "stream",
     "text": [
      "Cross-validation scores: [0.98461538 0.984375   0.984375   0.96875    0.953125  ]\n",
      "Mean accuracy: 0.98\n",
      "\n",
      "\n",
      "The difference between the accuracy score and the cross validation score is: 0.012606244064577332\n"
     ]
    }
   ],
   "source": [
    "\n",
    "scores = cross_val_score(gb, X_train, y_train, cv=5) \n",
    "print(\"Cross-validation scores:\", scores)\n",
    "\n",
    "# Calculate and print the mean of the scores\n",
    "mean_score = scores.mean()\n",
    "\n",
    "print(f\"Mean accuracy: {mean_score:.2f}\")\n",
    "\n",
    "print('\\n')\n",
    "print(f'The difference between the accuracy score and the cross validation score is: {accuracy- mean_score}')\n",
    "\n",
    "\n",
    "diff = accuracy - mean_score\n",
    "results.append(['Gradient Boosting Classifier', accuracy, mean_score, diff])"
   ]
  },
  {
   "cell_type": "markdown",
   "id": "066bef7c",
   "metadata": {},
   "source": [
    "#### Difference between accuracy and Cross Validtion Score"
   ]
  },
  {
   "cell_type": "code",
   "execution_count": 37,
   "id": "d0a2d97b",
   "metadata": {},
   "outputs": [
    {
     "data": {
      "text/html": [
       "<div>\n",
       "<style scoped>\n",
       "    .dataframe tbody tr th:only-of-type {\n",
       "        vertical-align: middle;\n",
       "    }\n",
       "\n",
       "    .dataframe tbody tr th {\n",
       "        vertical-align: top;\n",
       "    }\n",
       "\n",
       "    .dataframe thead th {\n",
       "        text-align: right;\n",
       "    }\n",
       "</style>\n",
       "<table border=\"1\" class=\"dataframe\">\n",
       "  <thead>\n",
       "    <tr style=\"text-align: right;\">\n",
       "      <th></th>\n",
       "      <th>Algorithm</th>\n",
       "      <th>Accuracy Score</th>\n",
       "      <th>Cross Validation Score</th>\n",
       "      <th>Difference btw accuracy and Cross Validtion Score</th>\n",
       "    </tr>\n",
       "  </thead>\n",
       "  <tbody>\n",
       "    <tr>\n",
       "      <th>0</th>\n",
       "      <td>Decision Tree</td>\n",
       "      <td>0.987654</td>\n",
       "      <td>0.981298</td>\n",
       "      <td>0.006356</td>\n",
       "    </tr>\n",
       "    <tr>\n",
       "      <th>1</th>\n",
       "      <td>Random Forest</td>\n",
       "      <td>1.000000</td>\n",
       "      <td>0.984375</td>\n",
       "      <td>0.015625</td>\n",
       "    </tr>\n",
       "    <tr>\n",
       "      <th>2</th>\n",
       "      <td>Logistic Regression</td>\n",
       "      <td>0.975309</td>\n",
       "      <td>0.953221</td>\n",
       "      <td>0.022087</td>\n",
       "    </tr>\n",
       "    <tr>\n",
       "      <th>3</th>\n",
       "      <td>Adaboost classifier</td>\n",
       "      <td>0.975309</td>\n",
       "      <td>0.978173</td>\n",
       "      <td>-0.002864</td>\n",
       "    </tr>\n",
       "    <tr>\n",
       "      <th>4</th>\n",
       "      <td>Gradient Boosting Classifier</td>\n",
       "      <td>0.987654</td>\n",
       "      <td>0.975048</td>\n",
       "      <td>0.012606</td>\n",
       "    </tr>\n",
       "  </tbody>\n",
       "</table>\n",
       "</div>"
      ],
      "text/plain": [
       "                      Algorithm  Accuracy Score  Cross Validation Score  \\\n",
       "0                 Decision Tree        0.987654                0.981298   \n",
       "1                 Random Forest        1.000000                0.984375   \n",
       "2           Logistic Regression        0.975309                0.953221   \n",
       "3           Adaboost classifier        0.975309                0.978173   \n",
       "4  Gradient Boosting Classifier        0.987654                0.975048   \n",
       "\n",
       "   Difference btw accuracy and Cross Validtion Score  \n",
       "0                                           0.006356  \n",
       "1                                           0.015625  \n",
       "2                                           0.022087  \n",
       "3                                          -0.002864  \n",
       "4                                           0.012606  "
      ]
     },
     "execution_count": 37,
     "metadata": {},
     "output_type": "execute_result"
    }
   ],
   "source": [
    "# create dataframe for all the accuracy scores and cross validation score for the models used\n",
    "df = pd.DataFrame(results, columns=['Algorithm', 'Accuracy Score','Cross Validation Score', 'Difference btw accuracy and Cross Validtion Score'])\n",
    "df"
   ]
  },
  {
   "cell_type": "markdown",
   "id": "6dbc374d",
   "metadata": {},
   "source": [
    "#### Selection of the best model"
   ]
  },
  {
   "cell_type": "code",
   "execution_count": 38,
   "id": "1bb6f744",
   "metadata": {},
   "outputs": [
    {
     "name": "stdout",
     "output_type": "stream",
     "text": [
      "From the table above, my best model is the Adaboost classifier\n"
     ]
    }
   ],
   "source": [
    "#Selection of the best model based on the difference between the accuracy and cross validation score\n",
    "least_value = min(df['Difference btw accuracy and Cross Validtion Score'].tolist())\n",
    "best_model = df.loc[(df['Difference btw accuracy and Cross Validtion Score']) == least_value, 'Algorithm']\n",
    "best_model = ' '.join(str(best_model).split()[1:-4])\n",
    "print('From the table above, my best model is the', best_model)"
   ]
  },
  {
   "cell_type": "markdown",
   "id": "241a4924",
   "metadata": {},
   "source": [
    "#### ROC curve  and AUC of the best model"
   ]
  },
  {
   "cell_type": "code",
   "execution_count": 39,
   "id": "dd26e460",
   "metadata": {},
   "outputs": [
    {
     "data": {
      "image/png": "[encoded data removed]",
      "text/plain": [
       "<Figure size 432x288 with 1 Axes>"
      ]
     },
     "metadata": {
      "needs_background": "light"
     },
     "output_type": "display_data"
    }
   ],
   "source": [
    "#ROC plot of the best model\n",
    "import sklearn.metrics as metrics\n",
    "#define metrics\n",
    "y_pred_proba = ab.predict_proba(X_test)[::,1]\n",
    "fpr, tpr, _ = metrics.roc_curve(y_test,  y_pred_proba)\n",
    "auc = metrics.roc_auc_score(y_test, y_pred_proba)\n",
    "\n",
    "#create ROC curve\n",
    "plt.plot(fpr,tpr,label=\"AUC=\"+str(auc))\n",
    "plt.ylabel('True Positive Rate')\n",
    "plt.xlabel('False Positive Rate')\n",
    "plt.legend(loc=4)\n",
    "plt.show()"
   ]
  },
  {
   "cell_type": "markdown",
   "id": "e65cca02",
   "metadata": {},
   "source": [
    "From the ROC curve above, we can see that the AUC value for our best model is 99.87%"
   ]
  },
  {
   "cell_type": "code",
   "execution_count": 40,
   "id": "3380a90e",
   "metadata": {},
   "outputs": [],
   "source": [
    "from sklearn.model_selection import GridSearchCV\n",
    "\n",
    "model_best = AdaBoostClassifier()\n",
    "\n",
    "model_param = {\"base_estimator\":[None],\n",
    "    \"random_state\":[0],\n",
    "    \"learning_rate\":[0.01,0.001, 0.1, 1.0],\n",
    "    \"n_estimators\":[10, 50, 100, 500]\n",
    "    }"
   ]
  },
  {
   "cell_type": "code",
   "execution_count": 41,
   "id": "573b7e91",
   "metadata": {},
   "outputs": [
    {
     "data": {
      "text/plain": [
       "GridSearchCV(cv=5, estimator=AdaBoostClassifier(),\n",
       "             param_grid={'base_estimator': [None],\n",
       "                         'learning_rate': [0.01, 0.001, 0.1, 1.0],\n",
       "                         'n_estimators': [10, 50, 100, 500],\n",
       "                         'random_state': [0]})"
      ]
     },
     "execution_count": 41,
     "metadata": {},
     "output_type": "execute_result"
    }
   ],
   "source": [
    "gd_search = GridSearchCV(model_best, model_param, cv = 5)\n",
    "\n",
    "gd_search.fit(X_train, y_train)"
   ]
  },
  {
   "cell_type": "code",
   "execution_count": 42,
   "id": "f7113268",
   "metadata": {},
   "outputs": [
    {
     "name": "stdout",
     "output_type": "stream",
     "text": [
      "The best learning_rate is : 0.01 \n",
      "The best base_estimator: None \n",
      "The best random_state: 0 \n",
      "The best n_estimators: 100\n"
     ]
    }
   ],
   "source": [
    "#display the best parameters from the search\n",
    "\n",
    "print(\"The best learning_rate is : \" + str(gd_search.best_params_[\"learning_rate\"]),\n",
    "     \"\\nThe best base_estimator: \" + str(gd_search.best_params_[\"base_estimator\"]),\n",
    "     \"\\nThe best random_state: \" + str(gd_search.best_params_[\"random_state\"]),\n",
    "     \"\\nThe best n_estimators: \" + str(gd_search.best_params_[\"n_estimators\"]))"
   ]
  },
  {
   "cell_type": "code",
   "execution_count": 47,
   "id": "fd96c026",
   "metadata": {},
   "outputs": [
    {
     "data": {
      "text/plain": [
       "0.9876543209876543"
      ]
     },
     "execution_count": 47,
     "metadata": {},
     "output_type": "execute_result"
    }
   ],
   "source": [
    "# train the model with the selected parameters\n",
    "wine_model = AdaBoostClassifier(n_estimators  = 100, base_estimator = None , learning_rate = 0.01  , random_state = 0)\n",
    "wine_model.fit(X_train, y_train)\n",
    "y_pred = wine_model.predict(X_test)\n",
    "\n",
    "accuracy = accuracy_score(y_test, y_pred)\n",
    "accuracy"
   ]
  },
  {
   "cell_type": "code",
   "execution_count": 48,
   "id": "1e75d654",
   "metadata": {},
   "outputs": [],
   "source": [
    "import pickle\n",
    "# save the model to disk\n",
    "filename = 'glass_predict.sav'\n",
    "pickle.dump(wine_model, open(filename, 'wb'))"
   ]
  },
  {
   "cell_type": "code",
   "execution_count": 49,
   "id": "5dc0df91",
   "metadata": {},
   "outputs": [
    {
     "data": {
      "text/html": [
       "<div>\n",
       "<style scoped>\n",
       "    .dataframe tbody tr th:only-of-type {\n",
       "        vertical-align: middle;\n",
       "    }\n",
       "\n",
       "    .dataframe tbody tr th {\n",
       "        vertical-align: top;\n",
       "    }\n",
       "\n",
       "    .dataframe thead th {\n",
       "        text-align: right;\n",
       "    }\n",
       "</style>\n",
       "<table border=\"1\" class=\"dataframe\">\n",
       "  <thead>\n",
       "    <tr style=\"text-align: right;\">\n",
       "      <th></th>\n",
       "      <th>Actual</th>\n",
       "      <th>Predicted</th>\n",
       "    </tr>\n",
       "  </thead>\n",
       "  <tbody>\n",
       "    <tr>\n",
       "      <th>285</th>\n",
       "      <td>1</td>\n",
       "      <td>1</td>\n",
       "    </tr>\n",
       "    <tr>\n",
       "      <th>281</th>\n",
       "      <td>1</td>\n",
       "      <td>1</td>\n",
       "    </tr>\n",
       "    <tr>\n",
       "      <th>33</th>\n",
       "      <td>0</td>\n",
       "      <td>0</td>\n",
       "    </tr>\n",
       "    <tr>\n",
       "      <th>211</th>\n",
       "      <td>0</td>\n",
       "      <td>0</td>\n",
       "    </tr>\n",
       "    <tr>\n",
       "      <th>93</th>\n",
       "      <td>0</td>\n",
       "      <td>0</td>\n",
       "    </tr>\n",
       "    <tr>\n",
       "      <th>...</th>\n",
       "      <td>...</td>\n",
       "      <td>...</td>\n",
       "    </tr>\n",
       "    <tr>\n",
       "      <th>228</th>\n",
       "      <td>1</td>\n",
       "      <td>1</td>\n",
       "    </tr>\n",
       "    <tr>\n",
       "      <th>371</th>\n",
       "      <td>1</td>\n",
       "      <td>1</td>\n",
       "    </tr>\n",
       "    <tr>\n",
       "      <th>176</th>\n",
       "      <td>0</td>\n",
       "      <td>0</td>\n",
       "    </tr>\n",
       "    <tr>\n",
       "      <th>272</th>\n",
       "      <td>1</td>\n",
       "      <td>1</td>\n",
       "    </tr>\n",
       "    <tr>\n",
       "      <th>3</th>\n",
       "      <td>0</td>\n",
       "      <td>0</td>\n",
       "    </tr>\n",
       "  </tbody>\n",
       "</table>\n",
       "<p>81 rows × 2 columns</p>\n",
       "</div>"
      ],
      "text/plain": [
       "     Actual  Predicted\n",
       "285       1          1\n",
       "281       1          1\n",
       "33        0          0\n",
       "211       0          0\n",
       "93        0          0\n",
       "..      ...        ...\n",
       "228       1          1\n",
       "371       1          1\n",
       "176       0          0\n",
       "272       1          1\n",
       "3         0          0\n",
       "\n",
       "[81 rows x 2 columns]"
      ]
     },
     "execution_count": 49,
     "metadata": {},
     "output_type": "execute_result"
    }
   ],
   "source": [
    "#prediction using our saved model\n",
    "load_model = pickle.load(open(filename, 'rb'))\n",
    "accuracy_dataframe = pd.DataFrame({\"Actual\": y_test, \"Predicted\": y_pred})\n",
    "accuracy_dataframe"
   ]
  },
  {
   "cell_type": "markdown",
   "id": "b47f8ba7",
   "metadata": {},
   "source": [
    "we can see that from the 10 predictions made, the model was able to predict all correctly. "
   ]
  },
  {
   "cell_type": "code",
   "execution_count": 50,
   "id": "ba80963a",
   "metadata": {},
   "outputs": [
    {
     "data": {
      "image/png": "[encoded data removed]",
      "text/plain": [
       "<Figure size 432x288 with 2 Axes>"
      ]
     },
     "metadata": {
      "needs_background": "light"
     },
     "output_type": "display_data"
    }
   ],
   "source": [
    "from sklearn.metrics import confusion_matrix\n",
    "matrix = confusion_matrix(y_test, y_pred)\n",
    "label=['window glass', 'non-window glass']\n",
    "sns.heatmap(matrix, annot=True, fmt='d', xticklabels=label, yticklabels=label,)\n",
    "plt.xlabel(\"Predicted\")\n",
    "plt.ylabel(\"Actual\")\n",
    "plt.show()\n"
   ]
  },
  {
   "cell_type": "markdown",
   "id": "4cedc4de",
   "metadata": {},
   "source": [
    "### Conclusion"
   ]
  },
  {
   "cell_type": "markdown",
   "id": "7a3d90d7",
   "metadata": {},
   "source": [
    "Adaboost classifier is our best model because it had a lower difference between accuracy and cross validation score. The accuracy score before tuning was 0.975309 and after tuning with set parameters, the model's accuracy increased to 0.987654. There was an improvement in the accuracy after tuning. \n",
    "Testing the performance of the model, we can see that predictions made were correct. We can also see in the confusion matrix that the model predicted 44 window glass and it was actually window glass(True positive). It predicted 36 were non-window glass(True negative) and it was actually non-window glass. For a better model performance, we will need to train with more data."
   ]
  },
  {
   "cell_type": "code",
   "execution_count": null,
   "id": "1524232f",
   "metadata": {},
   "outputs": [],
   "source": []
  }
 ],
 "metadata": {
  "kernelspec": {
   "display_name": "Python 3 (ipykernel)",
   "language": "python",
   "name": "python3"
  },
  "language_info": {
   "codemirror_mode": {
    "name": "ipython",
    "version": 3
   },
   "file_extension": ".py",
   "mimetype": "text/x-python",
   "name": "python",
   "nbconvert_exporter": "python",
   "pygments_lexer": "ipython3",
   "version": "3.9.12"
  }
 },
 "nbformat": 4,
 "nbformat_minor": 5
}
